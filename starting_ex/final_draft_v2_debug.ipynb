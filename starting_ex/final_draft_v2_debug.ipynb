{
 "cells": [
  {
   "cell_type": "code",
   "execution_count": 2,
   "source": [
    "import os\n",
    "from sys import stderr, stdout\n",
    "import tempfile\n",
    "import subprocess\n",
    "from warnings import catch_warnings\n",
    "import pandas as pd\n",
    "import numpy as np\n",
    "from Bio import SeqIO, SeqRecord, Seq, SearchIO, AlignIO, Phylo\n",
    "from Bio.Blast import NCBIWWW, NCBIXML\n",
    "import Bio.Entrez\n",
    "from Bio.Phylo.TreeConstruction import DistanceCalculator,DistanceTreeConstructor\n",
    "from pandas.core import construction\n",
    "from pandas.core.frame import DataFrame\n",
    "\n",
    "import re\n",
    "import time\n"
   ],
   "outputs": [],
   "metadata": {}
  },
  {
   "cell_type": "code",
   "execution_count": 3,
   "source": [
    "#Function to open fasta file of imput\n",
    "def open_fasta(filename) -> SeqRecord:\n",
    "    with open(filename) as handle:\n",
    "        sequence_record = SeqIO.read(handle, 'fasta')\n",
    "    return sequence_record"
   ],
   "outputs": [],
   "metadata": {}
  },
  {
   "cell_type": "code",
   "execution_count": null,
   "source": [
    "#Retrieve sequence from protein id \n"
   ],
   "outputs": [],
   "metadata": {}
  },
  {
   "cell_type": "code",
   "execution_count": 3,
   "source": [
    "#Translation to aa\n",
    "#   debugging prot\n",
    "#Download prot from accession "
   ],
   "outputs": [],
   "metadata": {}
  },
  {
   "cell_type": "code",
   "execution_count": 5,
   "source": [
    "#Function to run BLAST with taxid list\n",
    "def blastp_with_list(sequence, list_taxid = [], query_size = 200, blast_type = 'blastn'):\n",
    "    result_handler, result_storer = None, None\n",
    "    #If list is empty run query without specific taxid\n",
    "    if len(list_taxid) <1:\n",
    "        result_handler = NCBIWWW.qblast('blastp', 'nr', sequence, hitlist_size=query_size) \n",
    "        result_storer = result_handler.read()\n",
    "    #Prepare string of Entrez and parse it to qblast\n",
    "    else:\n",
    "        entrez_query = ''\n",
    "        for taxid in list_taxid:\n",
    "            entrez_query += f'txid{taxid}[ORGN]'\n",
    "            if taxid != list_taxid[-1]:\n",
    "                entrez_query += ' OR '\n",
    "        result_handler = NCBIWWW.qblast('blastp', 'nr', sequence, entrez_query= entrez_query, hitlist_size=query_size)\n",
    "        result_storer = result_handler.read()\n",
    "    return result_storer"
   ],
   "outputs": [],
   "metadata": {}
  },
  {
   "cell_type": "code",
   "execution_count": 6,
   "source": [
    "#Single blast query for threading\n",
    "def blastp_single_taxid(sequence, taxid, query_size = 20):\n",
    "    entrez_query = f'txid{taxid}[ORGN]'\n",
    "    result_handler = NCBIWWW.qblast('blastp', 'nr', sequence, entrez_query= entrez_query, hitlist_size=query_size)    \n",
    "    result_storer = result_handler.read()\n",
    "    return result_storer"
   ],
   "outputs": [],
   "metadata": {}
  },
  {
   "cell_type": "code",
   "execution_count": 7,
   "source": [
    "#Function to create a temporary file from string and read it with SearchIO.read\n",
    "def xml_string_to_handler(string):\n",
    "    #make temporary file\n",
    "    tmp = tempfile.NamedTemporaryFile(mode='a+')\n",
    "    #write string\n",
    "    tmp.write(string)\n",
    "    handler = SearchIO.read(tmp.name, 'blast-xml')\n",
    "    tmp.close()\n",
    "    return handler"
   ],
   "outputs": [],
   "metadata": {}
  },
  {
   "cell_type": "code",
   "execution_count": 8,
   "source": [
    "#Creation of a dictionary with all HSPS\n",
    "#Bitscore, Bitscore raw and Evalue appear twice given that are difficult to average. For later QC only the values of the first hsp are considered\n",
    "def blast_to_dictionary(blastresult):\n",
    "    blast_dictionary = {'ID' : [], 'Description' : [], 'Seq_length' : [], 'Accession' : [], 'Bitscore' : [], 'Bitscore_raw' : [], \n",
    "    'Evalue' : [], 'Bitscore_combined':[], 'Bitscore_raw_combined' : [], 'Evalue_combined':[],'Hit_start' : [], 'Hit_end' : [], 'Query_frame' : [], 'Gap_num' : [], 'Aln_span' : [], 'Tot_aln_span':[], 'Identity' :[]}\n",
    "    #Loop through results \n",
    "    for result in blastresult:\n",
    "        blast_dictionary['ID'].append(result.id)\n",
    "        blast_dictionary['Description'].append(result.description)\n",
    "        blast_dictionary['Seq_length'].append(result.seq_len)\n",
    "        blast_dictionary['Accession'].append(result.accession)\n",
    "        #Store results of first HSP\n",
    "        first_hsp = result.hsps[0]\n",
    "        blast_dictionary['Bitscore'].append(first_hsp.bitscore)\n",
    "        blast_dictionary['Bitscore_raw'].append(first_hsp.bitscore_raw)\n",
    "        blast_dictionary['Evalue'].append(first_hsp.evalue)\n",
    "        #Create variables to store results of multiple hsps\n",
    "        bitscore, bitscore_raw, evalue, hitstart, hitend, queryframe, gapnum, alnspan = '','','','','','','',''\n",
    "        all_alnspan, all_gapnum = [],[] \n",
    "        #Collect data of all hsps for each hit\n",
    "        for hsp in result.hsps:\n",
    "            bitscore += str(hsp.bitscore)\n",
    "            bitscore_raw += str(hsp.bitscore_raw)\n",
    "            evalue += str(hsp.evalue)\n",
    "            hitstart += str(hsp.hit_start)\n",
    "            hitend += str(hsp.hit_end)\n",
    "            queryframe += str(hsp.query_frame)\n",
    "            gapnum += str(hsp.gap_num)\n",
    "            alnspan += str(hsp.aln_span)\n",
    "            if hsp != result.hsps[-1]:\n",
    "                bitscore += '/'\n",
    "                bitscore_raw += '/' \n",
    "                evalue += '/'\n",
    "                hitstart += '/'\n",
    "                hitend += '/'\n",
    "                queryframe += '/'\n",
    "                gapnum += '/' \n",
    "                alnspan += '/' #I know it's not neat but it would give an error otherwise :(\n",
    "            all_alnspan.append(int(hsp.aln_span))\n",
    "            all_gapnum.append(int(hsp.gap_num))\n",
    "        blast_dictionary['Bitscore_combined'].append(bitscore)\n",
    "        blast_dictionary['Bitscore_raw_combined'].append(bitscore_raw)\n",
    "        blast_dictionary['Evalue_combined'].append(evalue)\n",
    "        blast_dictionary['Hit_start'].append(hitstart)\n",
    "        blast_dictionary['Hit_end'].append(hitend)\n",
    "        blast_dictionary['Query_frame'].append(queryframe)\n",
    "        blast_dictionary['Gap_num'].append(gapnum)\n",
    "        blast_dictionary['Aln_span'].append(alnspan)\n",
    "        #Calculate total alignment span and gaps to calculate identity\n",
    "        tot_alnspan, tot_gapnum = int(), int()\n",
    "        seq_len = int(result.seq_len)\n",
    "        for span in all_alnspan:\n",
    "            tot_alnspan += span\n",
    "        for gap in all_gapnum:\n",
    "            tot_gapnum += gap\n",
    "        identity = (tot_alnspan - tot_gapnum)/seq_len*100\n",
    "        blast_dictionary['Tot_aln_span'].append(tot_alnspan)\n",
    "        blast_dictionary['Identity'].append(round(identity, 3))\n",
    "    return blast_dictionary"
   ],
   "outputs": [],
   "metadata": {}
  },
  {
   "cell_type": "code",
   "execution_count": 11,
   "source": [
    "#Filter DF based on Evalue, sequence length and identity\n",
    "def filter_df_blast(df:DataFrame, query:SeqRecord, evalue = 10**-10, difference_from_query = 50, identity_threshold=50) -> DataFrame:\n",
    "    remove_index = []\n",
    "    #Check if main HSP is significant for threshold, store indexes of non-significant hits\n",
    "    for i in range(len(df.index)):\n",
    "        eval = df.iloc[i]['Evalue']\n",
    "        if float(eval) > evalue:\n",
    "            remove_index.append(str(i))\n",
    "        \n",
    "    #Copy DF\n",
    "    df_to_return = df    \n",
    "    #Remove indexes if list is not empty\n",
    "    if len(remove_index)>0:\n",
    "        df_to_return = df_to_return.drop(df.index[int(remove_index)])\n",
    "        df_to_return = df_to_return.reset_index(drop=True)\n",
    "    \n",
    "    #Filter by +/- % of query length\n",
    "    #Obtain query length\n",
    "    query_length = len(query.seq)\n",
    "    #Determine upper/lower threshold of acceptance for sequences \n",
    "    lower, upper = query_length*(difference_from_query/100), query_length*((difference_from_query + 100)/100)\n",
    "    #Filter DF\n",
    "    df_to_return = df_to_return[df_to_return['Seq_length'] > lower]\n",
    "    df_to_return = df_to_return.reset_index(drop=True)\n",
    "    df_to_return = df_to_return[df_to_return['Seq_length'] < upper]\n",
    "    df_to_return = df_to_return.reset_index(drop=True)\n",
    "\n",
    "    #Filter by identity\n",
    "    df_to_return = df_to_return[df_to_return['Identity'] > identity_threshold]\n",
    "    df_to_return = df_to_return.reset_index(drop=True)\n",
    "    \n",
    "    return df_to_return"
   ],
   "outputs": [],
   "metadata": {}
  },
  {
   "cell_type": "code",
   "execution_count": 20,
   "source": [
    "#Retrieve all result's entries from efetch\n",
    "def retrieve_all_efetch(list_of_entries, email):\n",
    "    Bio.Entrez.email = email\n",
    "    list_of_sequences = []\n",
    "    for entry in list_of_entries:\n",
    "        handler = Bio.Entrez.efetch(db='protein', id=entry, rettype = 'fasta',retmode = 'xml', retmax=1) #Returns JSON regardless\n",
    "        gb_info = Bio.Entrez.read(handler, 'text')#Returns nested lists and dictionaries \n",
    "        list_of_sequences.append(gb_info)\n",
    "    return list_of_sequences"
   ],
   "outputs": [],
   "metadata": {}
  },
  {
   "cell_type": "code",
   "execution_count": 26,
   "source": [
    "#Efetch to dictionary parser\n",
    "def efetch_protein_to_dictionary(list_of_efetch):\n",
    "    #Declare new dictionary\n",
    "    dictionary = {'Accession':[],'Protein_ID':[], 'Taxid':[], 'Organism_name':[], 'Description':[], 'Seq_length':[], 'Prot_sequence':[]}\n",
    "    for wrapper in list_of_efetch:\n",
    "        #Cast into dictionary to avoid random exception\n",
    "        result = dict(wrapper[0])\n",
    "        \n",
    "        acc_ver = result['TSeq_accver']\n",
    "        accession = acc_ver.split('.')\n",
    "\n",
    "        dictionary['Accession'].append(accession[0])\n",
    "        dictionary['Protein_ID'].append(result['TSeq_accver'])\n",
    "        dictionary['Taxid'].append(result['TSeq_taxid'])\n",
    "        dictionary['Organism_name'].append(result['TSeq_orgname'])\n",
    "        dictionary['Description'].append(result['TSeq_defline'])\n",
    "        dictionary['Seq_length'].append(result['TSeq_length'])\n",
    "        dictionary['Prot_sequence'].append(result['TSeq_sequence'])\n",
    "        \n",
    "    \n",
    "    return dictionary\n"
   ],
   "outputs": [],
   "metadata": {}
  },
  {
   "cell_type": "code",
   "execution_count": 33,
   "source": [
    "def filter_df_taxon(df:DataFrame, n_of_sequences = 1) -> DataFrame:\n",
    "    #Make a list of all retrieved taxons\n",
    "    retrieved_taxids = df['Taxid'].tolist() \n",
    "    #Make list from dictionary to eliminate duplicates \n",
    "    retrieved_taxids = list(dict.fromkeys(retrieved_taxids))\n",
    "        \n",
    "    #Declare empty DF\n",
    "    df_toreturn = pd.DataFrame()\n",
    "\n",
    "    #For each taxon create a DF, sort and get best result to append to df_toreturn\n",
    "    for taxid in retrieved_taxids:\n",
    "        #Create temporary DF exclusive to taxon\n",
    "        temp_df = df[df['Taxid'] == taxid]\n",
    "        temp_df = temp_df.sort_values(['Evalue', 'Identity', 'Bitscore'], ascending=[True, False, False]) #('Identity', ascending=False)\n",
    "        if len(temp_df) > 0:\n",
    "            if len(temp_df) > n_of_sequences:\n",
    "                df_toreturn = df_toreturn.append(temp_df[:n_of_sequences])\n",
    "            else:\n",
    "                df_toreturn = df_toreturn.append(temp_df)\n",
    "\n",
    "    #Refactor indexes\n",
    "    df_toreturn = df_toreturn.reset_index(drop=True)\n",
    "\n",
    "    return df_toreturn"
   ],
   "outputs": [],
   "metadata": {}
  },
  {
   "cell_type": "code",
   "execution_count": 56,
   "source": [
    "#Prepare string for alingment file\n",
    "def fasta_for_alignment(query:SeqRecord, df:DataFrame) -> str:\n",
    "    #Initialise string and add \n",
    "    string = ''\n",
    "    string += f\">Query:{query.id}\\n\"\n",
    "    string += f\"{query.seq}\\n\"\n",
    "    #Add all sequence IDs and aa sequence\n",
    "    for i in range(len(df['Accession'])):\n",
    "        #Check if protein is missing ------------------------------------------------Add to report?\n",
    "        if len(df['Prot_sequence'][i]) <1:\n",
    "            continue\n",
    "        string += f\">{df['Protein_ID'][i]} {df['Organism_name'][i]} {df['Description'][i]}\\n\"\n",
    "        string += f\"{df['Prot_sequence'][i]}\"\n",
    "        #Check if is not the last element in the list \n",
    "        if i != len(df['Accession']):\n",
    "            string += '\\n'\n",
    "    \n",
    "    return string"
   ],
   "outputs": [],
   "metadata": {}
  },
  {
   "cell_type": "code",
   "execution_count": 37,
   "source": [
    "#Run mafft by saving the fasta sequences for alignment in a file and passing it to mafft \n",
    "def run_mafft_saving_file(fasta:str, mafft_directory:str, filename:str) -> str:\n",
    "    file = f'{filename}.fasta'\n",
    "    with open(file, 'w') as handle:\n",
    "        handle.write(fasta)\n",
    "    \n",
    "    command_list = [mafft_directory, '--distout', f'{file}']\n",
    "    process = subprocess.Popen(command_list, universal_newlines= True, stdout = subprocess.PIPE, stderr = subprocess.PIPE)\n",
    "    stdout, stderr = process.communicate()\n",
    "\n",
    "    #Save standard error of mafft\n",
    "    with open('aligned_mafft_v1.stderr', 'w') as handle:\n",
    "        handle.write(stderr)\n",
    "\n",
    "    #Retrun alignment \n",
    "    return stdout\n"
   ],
   "outputs": [],
   "metadata": {}
  },
  {
   "cell_type": "code",
   "execution_count": null,
   "source": [
    "#Function to get protein sequence and save fasta file given an accession number\n",
    "#The function recycles functions used with lists \n",
    "def get_fasta_from_accession(accession, output_name):\n",
    "    #Cast into list to recycle code \n",
    "    accession_query_list = [accession]\n",
    "    #Get the efetch handler \n",
    "    query_protein_efetch = retrieve_all_efetch(accession_query_list, 'A.N.Other@example.com')\n",
    "    #Make a dictionary\n",
    "    dictionary_query = efetch_protein_to_dictionary(query_protein_efetch)\n",
    "\n",
    "    #Make and save fasta file \n",
    "    fasta_string_query = f\">{dictionary_query['Accession'][0]} \\n {dictionary_query['Prot_sequence'][0]}\"\n",
    "\n",
    "    fasta_file_name = output_name + '_sequence.fasta'\n",
    "    with open(fasta_file_name, 'w') as handle:\n",
    "        handle.write(fasta_string_query)\n",
    "\n",
    "    fasta_record_q = open_fasta(fasta_file_name)\n",
    "    return fasta_record_q\n"
   ],
   "outputs": [],
   "metadata": {}
  },
  {
   "cell_type": "code",
   "execution_count": 38,
   "source": [
    "\n",
    "def tree_from_alignment(alignment):\n",
    "    calculator = DistanceCalculator('identity')\n",
    "    distance_matrix = calculator.get_distance(alignment)\n",
    "\n",
    "    constructor = DistanceTreeConstructor(calculator, 'nj')\n",
    "    tree = constructor.build_tree(alignment)\n",
    "    return tree"
   ],
   "outputs": [],
   "metadata": {}
  },
  {
   "cell_type": "code",
   "execution_count": null,
   "source": [],
   "outputs": [],
   "metadata": {}
  },
  {
   "cell_type": "code",
   "execution_count": null,
   "source": [],
   "outputs": [],
   "metadata": {}
  },
  {
   "cell_type": "code",
   "execution_count": 71,
   "source": [
    "#USER INPUTS\n",
    "filename = 'sry_protein.fasta' \n",
    "taxid_list = [] #['9592']\n",
    "mafft_directory = r'/Users/Gioele/miniconda3/bin/mafft'\n",
    "email = 'A.N.Other@example.com'\n",
    "output_name = 'draft_v2_debug'\n",
    "\n",
    "\n",
    "#OPTIONAL USER INPUTS\n",
    "type_of_query = ['nucleotide', 'amino_acid', 'accession'] #Default amino_acid\n",
    "\n",
    "accession = 'QBA69874'\n",
    "\n",
    "\n",
    "\n",
    "\n",
    "local_query = False\n",
    "threading = False\n",
    "query_size = 100\n",
    "server, database = '',''#FOR BLAST\n",
    "\n",
    "evalue_threshold = 10**-10\n",
    "len_threshold = 50\n",
    "identity_threshold = 50\n",
    "\n",
    "sequences_per_taxon = 3"
   ],
   "outputs": [],
   "metadata": {}
  },
  {
   "cell_type": "code",
   "execution_count": 44,
   "source": [
    "#Implemented\n",
    "output_df = f'{output_name}_df.csv'\n",
    "output_alignment = f'{output_name}_alignment.fasta'\n",
    "output_xml_tree = f'{output_name}_xml_tree.xml'\n",
    "#To add\n",
    "output_tree_newick = f'{output_name}_newick_tree.newick'\n",
    "output_tree_jpg = f'{output_name}_tree_image.jpg'\n",
    "    "
   ],
   "outputs": [],
   "metadata": {}
  },
  {
   "cell_type": "code",
   "execution_count": 13,
   "source": [
    "#Open protein fasta record \n",
    "fasta_record = open_fasta(filename)"
   ],
   "outputs": [],
   "metadata": {}
  },
  {
   "cell_type": "code",
   "execution_count": 72,
   "source": [
    "#Get fasta record from accession \n",
    "fasta_record = get_fasta_from_accession(accession, output_name)\n",
    "fasta_record"
   ],
   "outputs": [
    {
     "output_type": "execute_result",
     "data": {
      "text/plain": [
       "SeqRecord(seq=Seq('MQSYASAMLSVFNSDDYSPAVQENIPALRRSSSFLCTESCNSKYQCETGENSKG...TKL'), id='QBA69874', name='QBA69874', description='QBA69874', dbxrefs=[])"
      ]
     },
     "metadata": {},
     "execution_count": 72
    }
   ],
   "metadata": {}
  },
  {
   "cell_type": "code",
   "execution_count": 75,
   "source": [
    "#Get protein from nucleotide \n",
    "fasta_nucleotide = open_fasta('sry_gene.fasta') #filename \n",
    "#Further QC? \n",
    "fasta_record = fasta_nucleotide.translate(to_stop=True)"
   ],
   "outputs": [
    {
     "output_type": "stream",
     "name": "stdout",
     "text": [
      "0\n"
     ]
    }
   ],
   "metadata": {}
  },
  {
   "cell_type": "code",
   "execution_count": 14,
   "source": [
    "#Taxid with list\n",
    "blast_results = blastp_with_list(fasta_record.seq, query_size=query_size, list_taxid=taxid_list)\n",
    "blast_results"
   ],
   "outputs": [
    {
     "output_type": "execute_result",
     "data": {
      "text/plain": [
       "'<?xml version=\"1.0\"?>\\n<!DOCTYPE BlastOutput PUBLIC \"-//NCBI//NCBI BlastOutput/EN\" \"http://www.ncbi.nlm.nih.gov/dtd/NCBI_BlastOutput.dtd\">\\n<BlastOutput>\\n  <BlastOutput_program>blastp</BlastOutput_program>\\n  <BlastOutput_version>BLASTP 2.12.0+</BlastOutput_version>\\n  <BlastOutput_reference>Stephen F. Altschul, Thomas L. Madden, Alejandro A. Sch&amp;auml;ffer, Jinghui Zhang, Zheng Zhang, Webb Miller, and David J. Lipman (1997), &quot;Gapped BLAST and PSI-BLAST: a new generation of protein database search programs&quot;, Nucleic Acids Res. 25:3389-3402.</BlastOutput_reference>\\n  <BlastOutput_db>nr</BlastOutput_db>\\n  <BlastOutput_query-ID>Query_251067</BlastOutput_query-ID>\\n  <BlastOutput_query-def>unnamed protein product</BlastOutput_query-def>\\n  <BlastOutput_query-len>204</BlastOutput_query-len>\\n  <BlastOutput_param>\\n    <Parameters>\\n      <Parameters_matrix>BLOSUM62</Parameters_matrix>\\n      <Parameters_expect>10</Parameters_expect>\\n      <Parameters_gap-open>11</Parameters_gap-open>\\n      <Parameters_gap-extend>1</Parameters_gap-extend>\\n      <Parameters_filter>F</Parameters_filter>\\n    </Parameters>\\n  </BlastOutput_param>\\n<BlastOutput_iterations>\\n<Iteration>\\n  <Iteration_iter-num>1</Iteration_iter-num>\\n  <Iteration_query-ID>Query_251067</Iteration_query-ID>\\n  <Iteration_query-def>unnamed protein product</Iteration_query-def>\\n  <Iteration_query-len>204</Iteration_query-len>\\n<Iteration_hits>\\n<Hit>\\n  <Hit_num>1</Hit_num>\\n  <Hit_id>ref|NP_003131.1|</Hit_id>\\n  <Hit_def>sex-determining region Y protein [Homo sapiens] &gt;sp|Q05066.1| RecName: Full=Sex-determining region Y protein; AltName: Full=Testis-determining factor [Homo sapiens] &gt;gb|ABZ92392.1| sex determining region Y, partial [synthetic construct] &gt;gb|AAA16878.1| sex determination protein [Homo sapiens] &gt;gb|AAA60590.1| sex-determining region Y [Homo sapiens] &gt;gb|AAA60591.1| sex-determining region Y [Homo sapiens] &gt;gb|AAH74923.1| Sex determining region Y [Homo sapiens]</Hit_def>\\n  <Hit_accession>NP_003131</Hit_accession>\\n  <Hit_len>204</Hit_len>\\n  <Hit_hsps>\\n    <Hsp>\\n      <Hsp_num>1</Hsp_num>\\n      <Hsp_bit-score>428.713</Hsp_bit-score>\\n      <Hsp_score>1101</Hsp_score>\\n      <Hsp_evalue>1.2455e-151</Hsp_evalue>\\n      <Hsp_query-from>1</Hsp_query-from>\\n      <Hsp_query-to>204</Hsp_query-to>\\n      <Hsp_hit-from>1</Hsp_hit-from>\\n      <Hsp_hit-to>204</Hsp_hit-to>\\n      <Hsp_query-frame>0</Hsp_query-frame>\\n      <Hsp_hit-frame>0</Hsp_hit-frame>\\n      <Hsp_identity>204</Hsp_identity>\\n      <Hsp_positive>204</Hsp_positive>\\n      <Hsp_gaps>0</Hsp_gaps>\\n      <Hsp_align-len>204</Hsp_align-len>\\n      <Hsp_qseq>MQSYASAMLSVFNSDDYSPAVQENIPALRRSSSFLCTESCNSKYQCETGENSKGNVQDRVKRPMNAFIVWSRDQRRKMALENPRMRNSEISKQLGYQWKMLTEAEKWPFFQEAQKLQAMHREKYPNYKYRPRRKAKMLPKNCSLLPADPASVLCSEVQLDNRLYRDDCTKATHSRMEHQLGHLPPINAASSPQQRDRYSHWTKL</Hsp_qseq>\\n      <Hsp_hseq>MQSYASAMLSVFNSDDYSPAVQENIPALRRSSSFLCTESCNSKYQCETGENSKGNVQDRVKRPMNAFIVWSRDQRRKMALENPRMRNSEISKQLGYQWKMLTEAEKWPFFQEAQKLQAMHREKYPNYKYRPRRKAKMLPKNCSLLPADPASVLCSEVQLDNRLYRDDCTKATHSRMEHQLGHLPPINAASSPQQRDRYSHWTKL</Hsp_hseq>\\n      <Hsp_midline>MQSYASAMLSVFNSDDYSPAVQENIPALRRSSSFLCTESCNSKYQCETGENSKGNVQDRVKRPMNAFIVWSRDQRRKMALENPRMRNSEISKQLGYQWKMLTEAEKWPFFQEAQKLQAMHREKYPNYKYRPRRKAKMLPKNCSLLPADPASVLCSEVQLDNRLYRDDCTKATHSRMEHQLGHLPPINAASSPQQRDRYSHWTKL</Hsp_midline>\\n    </Hsp>\\n  </Hit_hsps>\\n</Hit>\\n<Hit>\\n  <Hit_num>2</Hit_num>\\n  <Hit_id>gb|QBA69874.1|</Hit_id>\\n  <Hit_def>sex-determining region Y protein, partial [Homo sapiens]</Hit_def>\\n  <Hit_accession>QBA69874</Hit_accession>\\n  <Hit_len>204</Hit_len>\\n  <Hit_hsps>\\n    <Hsp>\\n      <Hsp_num>1</Hsp_num>\\n      <Hsp_bit-score>427.557</Hsp_bit-score>\\n      <Hsp_score>1098</Hsp_score>\\n      <Hsp_evalue>4.35192e-151</Hsp_evalue>\\n      <Hsp_query-from>1</Hsp_query-from>\\n      <Hsp_query-to>204</Hsp_query-to>\\n      <Hsp_hit-from>1</Hsp_hit-from>\\n      <Hsp_hit-to>204</Hsp_hit-to>\\n      <Hsp_query-frame>0</Hsp_query-frame>\\n      <Hsp_hit-frame>0</Hsp_hit-frame>\\n      <Hsp_identity>203</Hsp_identity>\\n      <Hsp_positive>204</Hsp_positive>\\n      <Hsp_gaps>0</Hsp_gaps>\\n      <Hsp_align-len>204</Hsp_align-len>\\n      <Hsp_qseq>MQSYASAMLSVFNSDDYSPAVQENIPALRRSSSFLCTESCNSKYQCETGENSKGNVQDRVKRPMNAFIVWSRDQRRKMALENPRMRNSEISKQLGYQWKMLTEAEKWPFFQEAQKLQAMHREKYPNYKYRPRRKAKMLPKNCSLLPADPASVLCSEVQLDNRLYRDDCTKATHSRMEHQLGHLPPINAASSPQQRDRYSHWTKL</Hsp_qseq>\\n      <Hsp_hseq>MQSYASAMLSVFNSDDYSPAVQENIPALRRSSSFLCTESCNSKYQCETGENSKGNVQDRVKRPMNAFIVWSRDQRRKMALENPRMRNSEISKQLGYQWKMLTEAEKWPFFQEAQKLQAMHREKYPNYRYRPRRKAKMLPKNCSLLPADPASVLCSEVQLDNRLYRDDCTKATHSRMEHQLGHLPPINAASSPQQRDRYSHWTKL</Hsp_hseq>\\n      <Hsp_midline>MQSYASAMLSVFNSDDYSPAVQENIPALRRSSSFLCTESCNSKYQCETGENSKGNVQDRVKRPMNAFIVWSRDQRRKMALENPRMRNSEISKQLGYQWKMLTEAEKWPFFQEAQKLQAMHREKYPNY+YRPRRKAKMLPKNCSLLPADPASVLCSEVQLDNRLYRDDCTKATHSRMEHQLGHLPPINAASSPQQRDRYSHWTKL</Hsp_midline>\\n    </Hsp>\\n  </Hit_hsps>\\n</Hit>\\n<Hit>\\n  <Hit_num>3</Hit_num>\\n  <Hit_id>emb|CAP05197.1|</Hit_id>\\n  <Hit_def>sex determining region Y [Homo sapiens]</Hit_def>\\n  <Hit_accession>CAP05197</Hit_accession>\\n  <Hit_len>204</Hit_len>\\n  <Hit_hsps>\\n    <Hsp>\\n      <Hsp_num>1</Hsp_num>\\n      <Hsp_bit-score>427.172</Hsp_bit-score>\\n      <Hsp_score>1097</Hsp_score>\\n      <Hsp_evalue>5.60145e-151</Hsp_evalue>\\n      <Hsp_query-from>1</Hsp_query-from>\\n      <Hsp_query-to>204</Hsp_query-to>\\n      <Hsp_hit-from>1</Hsp_hit-from>\\n      <Hsp_hit-to>204</Hsp_hit-to>\\n      <Hsp_query-frame>0</Hsp_query-frame>\\n      <Hsp_hit-frame>0</Hsp_hit-frame>\\n      <Hsp_identity>203</Hsp_identity>\\n      <Hsp_positive>203</Hsp_positive>\\n      <Hsp_gaps>0</Hsp_gaps>\\n      <Hsp_align-len>204</Hsp_align-len>\\n      <Hsp_qseq>MQSYASAMLSVFNSDDYSPAVQENIPALRRSSSFLCTESCNSKYQCETGENSKGNVQDRVKRPMNAFIVWSRDQRRKMALENPRMRNSEISKQLGYQWKMLTEAEKWPFFQEAQKLQAMHREKYPNYKYRPRRKAKMLPKNCSLLPADPASVLCSEVQLDNRLYRDDCTKATHSRMEHQLGHLPPINAASSPQQRDRYSHWTKL</Hsp_qseq>\\n      <Hsp_hseq>MQSYASAMLSVFNSDDYSPAVQENIPALRRSSSFLCTESCNSKYQCETGENSKGNVQDRVKRPMNAFIVWSRDQRRKMVLENPRMRNSEISKQLGYQWKMLTEAEKWPFFQEAQKLQAMHREKYPNYKYRPRRKAKMLPKNCSLLPADPASVLCSEVQLDNRLYRDDCTKATHSRMEHQLGHLPPINAASSPQQRDRYSHWTKL</Hsp_hseq>\\n      <Hsp_midline>MQSYASAMLSVFNSDDYSPAVQENIPALRRSSSFLCTESCNSKYQCETGENSKGNVQDRVKRPMNAFIVWSRDQRRKM LENPRMRNSEISKQLGYQWKMLTEAEKWPFFQEAQKLQAMHREKYPNYKYRPRRKAKMLPKNCSLLPADPASVLCSEVQLDNRLYRDDCTKATHSRMEHQLGHLPPINAASSPQQRDRYSHWTKL</Hsp_midline>\\n    </Hsp>\\n  </Hit_hsps>\\n</Hit>\\n<Hit>\\n  <Hit_num>4</Hit_num>\\n  <Hit_id>emb|CAP05199.1|</Hit_id>\\n  <Hit_def>sex determining region Y [Homo sapiens]</Hit_def>\\n  <Hit_accession>CAP05199</Hit_accession>\\n  <Hit_len>204</Hit_len>\\n  <Hit_hsps>\\n    <Hsp>\\n      <Hsp_num>1</Hsp_num>\\n      <Hsp_bit-score>427.172</Hsp_bit-score>\\n      <Hsp_score>1097</Hsp_score>\\n      <Hsp_evalue>5.9174e-151</Hsp_evalue>\\n      <Hsp_query-from>1</Hsp_query-from>\\n      <Hsp_query-to>204</Hsp_query-to>\\n      <Hsp_hit-from>1</Hsp_hit-from>\\n      <Hsp_hit-to>204</Hsp_hit-to>\\n      <Hsp_query-frame>0</Hsp_query-frame>\\n      <Hsp_hit-frame>0</Hsp_hit-frame>\\n      <Hsp_identity>203</Hsp_identity>\\n      <Hsp_positive>204</Hsp_positive>\\n      <Hsp_gaps>0</Hsp_gaps>\\n      <Hsp_align-len>204</Hsp_align-len>\\n      <Hsp_qseq>MQSYASAMLSVFNSDDYSPAVQENIPALRRSSSFLCTESCNSKYQCETGENSKGNVQDRVKRPMNAFIVWSRDQRRKMALENPRMRNSEISKQLGYQWKMLTEAEKWPFFQEAQKLQAMHREKYPNYKYRPRRKAKMLPKNCSLLPADPASVLCSEVQLDNRLYRDDCTKATHSRMEHQLGHLPPINAASSPQQRDRYSHWTKL</Hsp_qseq>\\n      <Hsp_hseq>MQSYASAMLSVFNSDDYSPAVQENIPALRRSSSFLCTESCNSKYQCETGENSKGNVQDRVKRPMNAFIVWSRDQRRKMALENPRMQNSEISKQLGYQWKMLTEAEKWPFFQEAQKLQAMHREKYPNYKYRPRRKAKMLPKNCSLLPADPASVLCSEVQLDNRLYRDDCTKATHSRMEHQLGHLPPINAASSPQQRDRYSHWTKL</Hsp_hseq>\\n      <Hsp_midline>MQSYASAMLSVFNSDDYSPAVQENIPALRRSSSFLCTESCNSKYQCETGENSKGNVQDRVKRPMNAFIVWSRDQRRKMALENPRM+NSEISKQLGYQWKMLTEAEKWPFFQEAQKLQAMHREKYPNYKYRPRRKAKMLPKNCSLLPADPASVLCSEVQLDNRLYRDDCTKATHSRMEHQLGHLPPINAASSPQQRDRYSHWTKL</Hsp_midline>\\n    </Hsp>\\n  </Hit_hsps>\\n</Hit>\\n<Hit>\\n  <Hit_num>5</Hit_num>\\n  <Hit_id>gb|QBA69866.1|</Hit_id>\\n  <Hit_def>sex-determining region Y protein [Homo sapiens]</Hit_def>\\n  <Hit_accession>QBA69866</Hit_accession>\\n  <Hit_len>204</Hit_len>\\n  <Hit_hsps>\\n    <Hsp>\\n      <Hsp_num>1</Hsp_num>\\n      <Hsp_bit-score>427.172</Hsp_bit-score>\\n      <Hsp_score>1097</Hsp_score>\\n      <Hsp_evalue>6.11546e-151</Hsp_evalue>\\n      <Hsp_query-from>1</Hsp_query-from>\\n      <Hsp_query-to>204</Hsp_query-to>\\n      <Hsp_hit-from>1</Hsp_hit-from>\\n      <Hsp_hit-to>204</Hsp_hit-to>\\n      <Hsp_query-frame>0</Hsp_query-frame>\\n      <Hsp_hit-frame>0</Hsp_hit-frame>\\n      <Hsp_identity>203</Hsp_identity>\\n      <Hsp_positive>204</Hsp_positive>\\n      <Hsp_gaps>0</Hsp_gaps>\\n      <Hsp_align-len>204</Hsp_align-len>\\n      <Hsp_qseq>MQSYASAMLSVFNSDDYSPAVQENIPALRRSSSFLCTESCNSKYQCETGENSKGNVQDRVKRPMNAFIVWSRDQRRKMALENPRMRNSEISKQLGYQWKMLTEAEKWPFFQEAQKLQAMHREKYPNYKYRPRRKAKMLPKNCSLLPADPASVLCSEVQLDNRLYRDDCTKATHSRMEHQLGHLPPINAASSPQQRDRYSHWTKL</Hsp_qseq>\\n      <Hsp_hseq>MQSYASAMLSVFNSDDYSPAVQENIPALRRSSSFLCTKSCNSKYQCETGENSKGNVQDRVKRPMNAFIVWSRDQRRKMALENPRMRNSEISKQLGYQWKMLTEAEKWPFFQEAQKLQAMHREKYPNYKYRPRRKAKMLPKNCSLLPADPASVLCSEVQLDNRLYRDDCTKATHSRMEHQLGHLPPINAASSPQQRDRYSHWTKL</Hsp_hseq>\\n      <Hsp_midline>MQSYASAMLSVFNSDDYSPAVQENIPALRRSSSFLCT+SCNSKYQCETGENSKGNVQDRVKRPMNAFIVWSRDQRRKMALENPRMRNSEISKQLGYQWKMLTEAEKWPFFQEAQKLQAMHREKYPNYKYRPRRKAKMLPKNCSLLPADPASVLCSEVQLDNRLYRDDCTKATHSRMEHQLGHLPPINAASSPQQRDRYSHWTKL</Hsp_midline>\\n    </Hsp>\\n  </Hit_hsps>\\n</Hit>\\n<Hit>\\n  <Hit_num>6</Hit_num>\\n  <Hit_id>gb|QBA69871.1|</Hit_id>\\n  <Hit_def>sex-determining region Y protein [Homo sapiens]</Hit_def>\\n  <Hit_accession>QBA69871</Hit_accession>\\n  <Hit_len>204</Hit_len>\\n  <Hit_hsps>\\n    <Hsp>\\n      <Hsp_num>1</Hsp_num>\\n      <Hsp_bit-score>426.787</Hsp_bit-score>\\n      <Hsp_score>1096</Hsp_score>\\n      <Hsp_evalue>6.4604e-151</Hsp_evalue>\\n      <Hsp_query-from>1</Hsp_query-from>\\n      <Hsp_query-to>204</Hsp_query-to>\\n      <Hsp_hit-from>1</Hsp_hit-from>\\n      <Hsp_hit-to>204</Hsp_hit-to>\\n      <Hsp_query-frame>0</Hsp_query-frame>\\n      <Hsp_hit-frame>0</Hsp_hit-frame>\\n      <Hsp_identity>203</Hsp_identity>\\n      <Hsp_positive>204</Hsp_positive>\\n      <Hsp_gaps>0</Hsp_gaps>\\n      <Hsp_align-len>204</Hsp_align-len>\\n      <Hsp_qseq>MQSYASAMLSVFNSDDYSPAVQENIPALRRSSSFLCTESCNSKYQCETGENSKGNVQDRVKRPMNAFIVWSRDQRRKMALENPRMRNSEISKQLGYQWKMLTEAEKWPFFQEAQKLQAMHREKYPNYKYRPRRKAKMLPKNCSLLPADPASVLCSEVQLDNRLYRDDCTKATHSRMEHQLGHLPPINAASSPQQRDRYSHWTKL</Hsp_qseq>\\n      <Hsp_hseq>MQSYASAMLSVFNSDDYSPAVQENIPALRRSSSFLCTESCNSKYQCETGENSKGNVQDRVKRPMNAFIVWSRDQRRKMALENPRMRNSEISKQLGYQWKMLTEAEKWPFFQEARKLQAMHREKYPNYKYRPRRKAKMLPKNCSLLPADPASVLCSEVQLDNRLYRDDCTKATHSRMEHQLGHLPPINAASSPQQRDRYSHWTKL</Hsp_hseq>\\n      <Hsp_midline>MQSYASAMLSVFNSDDYSPAVQENIPALRRSSSFLCTESCNSKYQCETGENSKGNVQDRVKRPMNAFIVWSRDQRRKMALENPRMRNSEISKQLGYQWKMLTEAEKWPFFQEA+KLQAMHREKYPNYKYRPRRKAKMLPKNCSLLPADPASVLCSEVQLDNRLYRDDCTKATHSRMEHQLGHLPPINAASSPQQRDRYSHWTKL</Hsp_midline>\\n    </Hsp>\\n  </Hit_hsps>\\n</Hit>\\n<Hit>\\n  <Hit_num>7</Hit_num>\\n  <Hit_id>gb|AFG33941.1|</Hit_id>\\n  <Hit_def>SRY [Homo sapiens]</Hit_def>\\n  <Hit_accession>AFG33941</Hit_accession>\\n  <Hit_len>204</Hit_len>\\n  <Hit_hsps>\\n    <Hsp>\\n      <Hsp_num>1</Hsp_num>\\n      <Hsp_bit-score>426.787</Hsp_bit-score>\\n      <Hsp_score>1096</Hsp_score>\\n      <Hsp_evalue>6.4604e-151</Hsp_evalue>\\n      <Hsp_query-from>1</Hsp_query-from>\\n      <Hsp_query-to>204</Hsp_query-to>\\n      <Hsp_hit-from>1</Hsp_hit-from>\\n      <Hsp_hit-to>204</Hsp_hit-to>\\n      <Hsp_query-frame>0</Hsp_query-frame>\\n      <Hsp_hit-frame>0</Hsp_hit-frame>\\n      <Hsp_identity>203</Hsp_identity>\\n      <Hsp_positive>204</Hsp_positive>\\n      <Hsp_gaps>0</Hsp_gaps>\\n      <Hsp_align-len>204</Hsp_align-len>\\n      <Hsp_qseq>MQSYASAMLSVFNSDDYSPAVQENIPALRRSSSFLCTESCNSKYQCETGENSKGNVQDRVKRPMNAFIVWSRDQRRKMALENPRMRNSEISKQLGYQWKMLTEAEKWPFFQEAQKLQAMHREKYPNYKYRPRRKAKMLPKNCSLLPADPASVLCSEVQLDNRLYRDDCTKATHSRMEHQLGHLPPINAASSPQQRDRYSHWTKL</Hsp_qseq>\\n      <Hsp_hseq>MQSYASAMLSVFNSDDYSPAVQENIPALRRSSSFLCTESCNSKYQCETGENSKGNVQDRVKRPMNAFIVWSRDQRRKMALENPRMRNSEISKQLGYQWKMLTEAEKWPFFQEAQKLQAMHREKYPNYKYRPRRKAKMLPKNCSLLPADPASVLCSEVQLDNRLYRDDCTKATHSRMEHQLGHLPPINAASSPQRRDRYSHWTKL</Hsp_hseq>\\n      <Hsp_midline>MQSYASAMLSVFNSDDYSPAVQENIPALRRSSSFLCTESCNSKYQCETGENSKGNVQDRVKRPMNAFIVWSRDQRRKMALENPRMRNSEISKQLGYQWKMLTEAEKWPFFQEAQKLQAMHREKYPNYKYRPRRKAKMLPKNCSLLPADPASVLCSEVQLDNRLYRDDCTKATHSRMEHQLGHLPPINAASSPQ+RDRYSHWTKL</Hsp_midline>\\n    </Hsp>\\n  </Hit_hsps>\\n</Hit>\\n<Hit>\\n  <Hit_num>8</Hit_num>\\n  <Hit_id>gb|QBA69864.1|</Hit_id>\\n  <Hit_def>sex-determining region Y protein [Homo sapiens]</Hit_def>\\n  <Hit_accession>QBA69864</Hit_accession>\\n  <Hit_len>204</Hit_len>\\n  <Hit_hsps>\\n    <Hsp>\\n      <Hsp_num>1</Hsp_num>\\n      <Hsp_bit-score>426.787</Hsp_bit-score>\\n      <Hsp_score>1096</Hsp_score>\\n      <Hsp_evalue>6.75031e-151</Hsp_evalue>\\n      <Hsp_query-from>1</Hsp_query-from>\\n      <Hsp_query-to>204</Hsp_query-to>\\n      <Hsp_hit-from>1</Hsp_hit-from>\\n      <Hsp_hit-to>204</Hsp_hit-to>\\n      <Hsp_query-frame>0</Hsp_query-frame>\\n      <Hsp_hit-frame>0</Hsp_hit-frame>\\n      <Hsp_identity>203</Hsp_identity>\\n      <Hsp_positive>204</Hsp_positive>\\n      <Hsp_gaps>0</Hsp_gaps>\\n      <Hsp_align-len>204</Hsp_align-len>\\n      <Hsp_qseq>MQSYASAMLSVFNSDDYSPAVQENIPALRRSSSFLCTESCNSKYQCETGENSKGNVQDRVKRPMNAFIVWSRDQRRKMALENPRMRNSEISKQLGYQWKMLTEAEKWPFFQEAQKLQAMHREKYPNYKYRPRRKAKMLPKNCSLLPADPASVLCSEVQLDNRLYRDDCTKATHSRMEHQLGHLPPINAASSPQQRDRYSHWTKL</Hsp_qseq>\\n      <Hsp_hseq>MQSYASAMLSVFNSDDYSPAVQENIPALRRSSSFLCTESCNSKYQCETGENSKGNVQDRVKRPMDAFIVWSRDQRRKMALENPRMRNSEISKQLGYQWKMLTEAEKWPFFQEAQKLQAMHREKYPNYKYRPRRKAKMLPKNCSLLPADPASVLCSEVQLDNRLYRDDCTKATHSRMEHQLGHLPPINAASSPQQRDRYSHWTKL</Hsp_hseq>\\n      <Hsp_midline>MQSYASAMLSVFNSDDYSPAVQENIPALRRSSSFLCTESCNSKYQCETGENSKGNVQDRVKRPM+AFIVWSRDQRRKMALENPRMRNSEISKQLGYQWKMLTEAEKWPFFQEAQKLQAMHREKYPNYKYRPRRKAKMLPKNCSLLPADPASVLCSEVQLDNRLYRDDCTKATHSRMEHQLGHLPPINAASSPQQRDRYSHWTKL</Hsp_midline>\\n    </Hsp>\\n  </Hit_hsps>\\n</Hit>\\n<Hit>\\n  <Hit_num>9</Hit_num>\\n  <Hit_id>gb|AGZ62977.1|</Hit_id>\\n  <Hit_def>sex determining region Y protein [Homo sapiens]</Hit_def>\\n  <Hit_accession>AGZ62977</Hit_accession>\\n  <Hit_len>204</Hit_len>\\n  <Hit_hsps>\\n    <Hsp>\\n      <Hsp_num>1</Hsp_num>\\n      <Hsp_bit-score>426.787</Hsp_bit-score>\\n      <Hsp_score>1096</Hsp_score>\\n      <Hsp_evalue>7.13106e-151</Hsp_evalue>\\n      <Hsp_query-from>1</Hsp_query-from>\\n      <Hsp_query-to>204</Hsp_query-to>\\n      <Hsp_hit-from>1</Hsp_hit-from>\\n      <Hsp_hit-to>204</Hsp_hit-to>\\n      <Hsp_query-frame>0</Hsp_query-frame>\\n      <Hsp_hit-frame>0</Hsp_hit-frame>\\n      <Hsp_identity>203</Hsp_identity>\\n      <Hsp_positive>203</Hsp_positive>\\n      <Hsp_gaps>0</Hsp_gaps>\\n      <Hsp_align-len>204</Hsp_align-len>\\n      <Hsp_qseq>MQSYASAMLSVFNSDDYSPAVQENIPALRRSSSFLCTESCNSKYQCETGENSKGNVQDRVKRPMNAFIVWSRDQRRKMALENPRMRNSEISKQLGYQWKMLTEAEKWPFFQEAQKLQAMHREKYPNYKYRPRRKAKMLPKNCSLLPADPASVLCSEVQLDNRLYRDDCTKATHSRMEHQLGHLPPINAASSPQQRDRYSHWTKL</Hsp_qseq>\\n      <Hsp_hseq>MQSYASAMLSVFNSDDYSPAVQENIPALRRSSSFLCTESCNSKYQCETGENSKGNVQDRAKRPMNAFIVWSRDQRRKMALENPRMRNSEISKQLGYQWKMLTEAEKWPFFQEAQKLQAMHREKYPNYKYRPRRKAKMLPKNCSLLPADPASVLCSEVQLDNRLYRDDCTKATHSRMEHQLGHLPPINAASSPQQRDRYSHWTKL</Hsp_hseq>\\n      <Hsp_midline>MQSYASAMLSVFNSDDYSPAVQENIPALRRSSSFLCTESCNSKYQCETGENSKGNVQDR KRPMNAFIVWSRDQRRKMALENPRMRNSEISKQLGYQWKMLTEAEKWPFFQEAQKLQAMHREKYPNYKYRPRRKAKMLPKNCSLLPADPASVLCSEVQLDNRLYRDDCTKATHSRMEHQLGHLPPINAASSPQQRDRYSHWTKL</Hsp_midline>\\n    </Hsp>\\n  </Hit_hsps>\\n</Hit>\\n<Hit>\\n  <Hit_num>10</Hit_num>\\n  <Hit_id>emb|CAP05202.1|</Hit_id>\\n  <Hit_def>sex determining region Y [Homo sapiens]</Hit_def>\\n  <Hit_accession>CAP05202</Hit_accession>\\n  <Hit_len>204</Hit_len>\\n  <Hit_hsps>\\n    <Hsp>\\n      <Hsp_num>1</Hsp_num>\\n      <Hsp_bit-score>426.402</Hsp_bit-score>\\n      <Hsp_score>1095</Hsp_score>\\n      <Hsp_evalue>9.59041e-151</Hsp_evalue>\\n      <Hsp_query-from>1</Hsp_query-from>\\n      <Hsp_query-to>204</Hsp_query-to>\\n      <Hsp_hit-from>1</Hsp_hit-from>\\n      <Hsp_hit-to>204</Hsp_hit-to>\\n      <Hsp_query-frame>0</Hsp_query-frame>\\n      <Hsp_hit-frame>0</Hsp_hit-frame>\\n      <Hsp_identity>203</Hsp_identity>\\n      <Hsp_positive>203</Hsp_positive>\\n      <Hsp_gaps>0</Hsp_gaps>\\n      <Hsp_align-len>204</Hsp_align-len>\\n      <Hsp_qseq>MQSYASAMLSVFNSDDYSPAVQENIPALRRSSSFLCTESCNSKYQCETGENSKGNVQDRVKRPMNAFIVWSRDQRRKMALENPRMRNSEISKQLGYQWKMLTEAEKWPFFQEAQKLQAMHREKYPNYKYRPRRKAKMLPKNCSLLPADPASVLCSEVQLDNRLYRDDCTKATHSRMEHQLGHLPPINAASSPQQRDRYSHWTKL</Hsp_qseq>\\n      <Hsp_hseq>MQSYASAMLSVLNSDDYSPAVQENIPALRRSSSFLCTESCNSKYQCETGENSKGNVQDRVKRPMNAFIVWSRDQRRKMALENPRMRNSEISKQLGYQWKMLTEAEKWPFFQEAQKLQAMHREKYPNYKYRPRRKAKMLPKNCSLLPADPASVLCSEVQLDNRLYRDDCTKATHSRMEHQLGHLPPINAASSPQQRDRYSHWTKL</Hsp_hseq>\\n      <Hsp_midline>MQSYASAMLSV NSDDYSPAVQENIPALRRSSSFLCTESCNSKYQCETGENSKGNVQDRVKRPMNAFIVWSRDQRRKMALENPRMRNSEISKQLGYQWKMLTEAEKWPFFQEAQKLQAMHREKYPNYKYRPRRKAKMLPKNCSLLPADPASVLCSEVQLDNRLYRDDCTKATHSRMEHQLGHLPPINAASSPQQRDRYSHWTKL</Hsp_midline>\\n    </Hsp>\\n  </Hit_hsps>\\n</Hit>\\n<Hit>\\n  <Hit_num>11</Hit_num>\\n  <Hit_id>gb|QBA69863.1|</Hit_id>\\n  <Hit_def>sex-determining region Y protein [Homo sapiens]</Hit_def>\\n  <Hit_accession>QBA69863</Hit_accession>\\n  <Hit_len>204</Hit_len>\\n  <Hit_hsps>\\n    <Hsp>\\n      <Hsp_num>1</Hsp_num>\\n      <Hsp_bit-score>426.402</Hsp_bit-score>\\n      <Hsp_score>1095</Hsp_score>\\n      <Hsp_evalue>1.13065e-150</Hsp_evalue>\\n      <Hsp_query-from>1</Hsp_query-from>\\n      <Hsp_query-to>204</Hsp_query-to>\\n      <Hsp_hit-from>1</Hsp_hit-from>\\n      <Hsp_hit-to>204</Hsp_hit-to>\\n      <Hsp_query-frame>0</Hsp_query-frame>\\n      <Hsp_hit-frame>0</Hsp_hit-frame>\\n      <Hsp_identity>203</Hsp_identity>\\n      <Hsp_positive>203</Hsp_positive>\\n      <Hsp_gaps>0</Hsp_gaps>\\n      <Hsp_align-len>204</Hsp_align-len>\\n      <Hsp_qseq>MQSYASAMLSVFNSDDYSPAVQENIPALRRSSSFLCTESCNSKYQCETGENSKGNVQDRVKRPMNAFIVWSRDQRRKMALENPRMRNSEISKQLGYQWKMLTEAEKWPFFQEAQKLQAMHREKYPNYKYRPRRKAKMLPKNCSLLPADPASVLCSEVQLDNRLYRDDCTKATHSRMEHQLGHLPPINAASSPQQRDRYSHWTKL</Hsp_qseq>\\n      <Hsp_hseq>MQSYASAMLSVFNSDDYSPAVQENIPALRRSSSFLCTESCNSKYQCETGENSKGNVQDRVKRPTNAFIVWSRDQRRKMALENPRMRNSEISKQLGYQWKMLTEAEKWPFFQEAQKLQAMHREKYPNYKYRPRRKAKMLPKNCSLLPADPASVLCSEVQLDNRLYRDDCTKATHSRMEHQLGHLPPINAASSPQQRDRYSHWTKL</Hsp_hseq>\\n      <Hsp_midline>MQSYASAMLSVFNSDDYSPAVQENIPALRRSSSFLCTESCNSKYQCETGENSKGNVQDRVKRP NAFIVWSRDQRRKMALENPRMRNSEISKQLGYQWKMLTEAEKWPFFQEAQKLQAMHREKYPNYKYRPRRKAKMLPKNCSLLPADPASVLCSEVQLDNRLYRDDCTKATHSRMEHQLGHLPPINAASSPQQRDRYSHWTKL</Hsp_midline>\\n    </Hsp>\\n  </Hit_hsps>\\n</Hit>\\n<Hit>\\n  <Hit_num>12</Hit_num>\\n  <Hit_id>gb|AFG33943.1|</Hit_id>\\n  <Hit_def>SRY [Homo sapiens]</Hit_def>\\n  <Hit_accession>AFG33943</Hit_accession>\\n  <Hit_len>204</Hit_len>\\n  <Hit_hsps>\\n    <Hsp>\\n      <Hsp_num>1</Hsp_num>\\n      <Hsp_bit-score>426.017</Hsp_bit-score>\\n      <Hsp_score>1094</Hsp_score>\\n      <Hsp_evalue>1.30403e-150</Hsp_evalue>\\n      <Hsp_query-from>1</Hsp_query-from>\\n      <Hsp_query-to>204</Hsp_query-to>\\n      <Hsp_hit-from>1</Hsp_hit-from>\\n      <Hsp_hit-to>204</Hsp_hit-to>\\n      <Hsp_query-frame>0</Hsp_query-frame>\\n      <Hsp_hit-frame>0</Hsp_hit-frame>\\n      <Hsp_identity>203</Hsp_identity>\\n      <Hsp_positive>204</Hsp_positive>\\n      <Hsp_gaps>0</Hsp_gaps>\\n      <Hsp_align-len>204</Hsp_align-len>\\n      <Hsp_qseq>MQSYASAMLSVFNSDDYSPAVQENIPALRRSSSFLCTESCNSKYQCETGENSKGNVQDRVKRPMNAFIVWSRDQRRKMALENPRMRNSEISKQLGYQWKMLTEAEKWPFFQEAQKLQAMHREKYPNYKYRPRRKAKMLPKNCSLLPADPASVLCSEVQLDNRLYRDDCTKATHSRMEHQLGHLPPINAASSPQQRDRYSHWTKL</Hsp_qseq>\\n      <Hsp_hseq>MQSYASAMLSVFNSDDYSPAVQENIPALRRSSSFLCTESCNSKYQCETGENSKGNVQDRVKRPMNAFIVWSRDQRRKMALENPRMRNSEISKQLGYQWKMLTEAEKWPFFQEAQKLQAMYREKYPNYKYRPRRKAKMLPKNCSLLPADPASVLCSEVQLDNRLYRDDCTKATHSRMEHQLGHLPPINAASSPQQRDRYSHWTKL</Hsp_hseq>\\n      <Hsp_midline>MQSYASAMLSVFNSDDYSPAVQENIPALRRSSSFLCTESCNSKYQCETGENSKGNVQDRVKRPMNAFIVWSRDQRRKMALENPRMRNSEISKQLGYQWKMLTEAEKWPFFQEAQKLQAM+REKYPNYKYRPRRKAKMLPKNCSLLPADPASVLCSEVQLDNRLYRDDCTKATHSRMEHQLGHLPPINAASSPQQRDRYSHWTKL</Hsp_midline>\\n    </Hsp>\\n  </Hit_hsps>\\n</Hit>\\n<Hit>\\n  <Hit_num>13</Hit_num>\\n  <Hit_id>gb|AEK31548.1|</Hit_id>\\n  <Hit_def>sex determining region Y [Homo sapiens]</Hit_def>\\n  <Hit_accession>AEK31548</Hit_accession>\\n  <Hit_len>204</Hit_len>\\n  <Hit_hsps>\\n    <Hsp>\\n      <Hsp_num>1</Hsp_num>\\n      <Hsp_bit-score>426.017</Hsp_bit-score>\\n      <Hsp_score>1094</Hsp_score>\\n      <Hsp_evalue>1.30403e-150</Hsp_evalue>\\n      <Hsp_query-from>1</Hsp_query-from>\\n      <Hsp_query-to>204</Hsp_query-to>\\n      <Hsp_hit-from>1</Hsp_hit-from>\\n      <Hsp_hit-to>204</Hsp_hit-to>\\n      <Hsp_query-frame>0</Hsp_query-frame>\\n      <Hsp_hit-frame>0</Hsp_hit-frame>\\n      <Hsp_identity>203</Hsp_identity>\\n      <Hsp_positive>203</Hsp_positive>\\n      <Hsp_gaps>0</Hsp_gaps>\\n      <Hsp_align-len>204</Hsp_align-len>\\n      <Hsp_qseq>MQSYASAMLSVFNSDDYSPAVQENIPALRRSSSFLCTESCNSKYQCETGENSKGNVQDRVKRPMNAFIVWSRDQRRKMALENPRMRNSEISKQLGYQWKMLTEAEKWPFFQEAQKLQAMHREKYPNYKYRPRRKAKMLPKNCSLLPADPASVLCSEVQLDNRLYRDDCTKATHSRMEHQLGHLPPINAASSPQQRDRYSHWTKL</Hsp_qseq>\\n      <Hsp_hseq>MQSYASAMLSVFNSDDYSPAVQENIPALRRSSSFLCTESCNSKYQCETGENSKGNVQDRVKRPMNAFIVWSRDQRRKMALENPRMRNSEISKQLGYQWKMLTEAXKWPFFQEAQKLQAMHREKYPNYKYRPRRKAKMLPKNCSLLPADPASVLCSEVQLDNRLYRDDCTKATHSRMEHQLGHLPPINAASSPQQRDRYSHWTKL</Hsp_hseq>\\n      <Hsp_midline>MQSYASAMLSVFNSDDYSPAVQENIPALRRSSSFLCTESCNSKYQCETGENSKGNVQDRVKRPMNAFIVWSRDQRRKMALENPRMRNSEISKQLGYQWKMLTEA KWPFFQEAQKLQAMHREKYPNYKYRPRRKAKMLPKNCSLLPADPASVLCSEVQLDNRLYRDDCTKATHSRMEHQLGHLPPINAASSPQQRDRYSHWTKL</Hsp_midline>\\n    </Hsp>\\n  </Hit_hsps>\\n</Hit>\\n<Hit>\\n  <Hit_num>14</Hit_num>\\n  <Hit_id>gb|QBA69868.1|</Hit_id>\\n  <Hit_def>sex-determining region Y protein [Homo sapiens]</Hit_def>\\n  <Hit_accession>QBA69868</Hit_accession>\\n  <Hit_len>204</Hit_len>\\n  <Hit_hsps>\\n    <Hsp>\\n      <Hsp_num>1</Hsp_num>\\n      <Hsp_bit-score>426.017</Hsp_bit-score>\\n      <Hsp_score>1094</Hsp_score>\\n      <Hsp_evalue>1.34767e-150</Hsp_evalue>\\n      <Hsp_query-from>1</Hsp_query-from>\\n      <Hsp_query-to>204</Hsp_query-to>\\n      <Hsp_hit-from>1</Hsp_hit-from>\\n      <Hsp_hit-to>204</Hsp_hit-to>\\n      <Hsp_query-frame>0</Hsp_query-frame>\\n      <Hsp_hit-frame>0</Hsp_hit-frame>\\n      <Hsp_identity>203</Hsp_identity>\\n      <Hsp_positive>203</Hsp_positive>\\n      <Hsp_gaps>0</Hsp_gaps>\\n      <Hsp_align-len>204</Hsp_align-len>\\n      <Hsp_qseq>MQSYASAMLSVFNSDDYSPAVQENIPALRRSSSFLCTESCNSKYQCETGENSKGNVQDRVKRPMNAFIVWSRDQRRKMALENPRMRNSEISKQLGYQWKMLTEAEKWPFFQEAQKLQAMHREKYPNYKYRPRRKAKMLPKNCSLLPADPASVLCSEVQLDNRLYRDDCTKATHSRMEHQLGHLPPINAASSPQQRDRYSHWTKL</Hsp_qseq>\\n      <Hsp_hseq>MQSYASAMLSVFNSDDYSSAVQENIPALRRSSSFLCTESCNSKYQCETGENSKGNVQDRVKRPMNAFIVWSRDQRRKMALENPRMRNSEISKQLGYQWKMLTEAEKWPFFQEAQKLQAMHREKYPNYKYRPRRKAKMLPKNCSLLPADPASVLCSEVQLDNRLYRDDCTKATHSRMEHQLGHLPPINAASSPQQRDRYSHWTKL</Hsp_hseq>\\n      <Hsp_midline>MQSYASAMLSVFNSDDYS AVQENIPALRRSSSFLCTESCNSKYQCETGENSKGNVQDRVKRPMNAFIVWSRDQRRKMALENPRMRNSEISKQLGYQWKMLTEAEKWPFFQEAQKLQAMHREKYPNYKYRPRRKAKMLPKNCSLLPADPASVLCSEVQLDNRLYRDDCTKATHSRMEHQLGHLPPINAASSPQQRDRYSHWTKL</Hsp_midline>\\n    </Hsp>\\n  </Hit_hsps>\\n</Hit>\\n<Hit>\\n  <Hit_num>15</Hit_num>\\n  <Hit_id>gb|AEK31551.1|</Hit_id>\\n  <Hit_def>sex determining region Y [Homo sapiens]</Hit_def>\\n  <Hit_accession>AEK31551</Hit_accession>\\n  <Hit_len>204</Hit_len>\\n  <Hit_hsps>\\n    <Hsp>\\n      <Hsp_num>1</Hsp_num>\\n      <Hsp_bit-score>426.017</Hsp_bit-score>\\n      <Hsp_score>1094</Hsp_score>\\n      <Hsp_evalue>1.39278e-150</Hsp_evalue>\\n      <Hsp_query-from>1</Hsp_query-from>\\n      <Hsp_query-to>204</Hsp_query-to>\\n      <Hsp_hit-from>1</Hsp_hit-from>\\n      <Hsp_hit-to>204</Hsp_hit-to>\\n      <Hsp_query-frame>0</Hsp_query-frame>\\n      <Hsp_hit-frame>0</Hsp_hit-frame>\\n      <Hsp_identity>203</Hsp_identity>\\n      <Hsp_positive>203</Hsp_positive>\\n      <Hsp_gaps>0</Hsp_gaps>\\n      <Hsp_align-len>204</Hsp_align-len>\\n      <Hsp_qseq>MQSYASAMLSVFNSDDYSPAVQENIPALRRSSSFLCTESCNSKYQCETGENSKGNVQDRVKRPMNAFIVWSRDQRRKMALENPRMRNSEISKQLGYQWKMLTEAEKWPFFQEAQKLQAMHREKYPNYKYRPRRKAKMLPKNCSLLPADPASVLCSEVQLDNRLYRDDCTKATHSRMEHQLGHLPPINAASSPQQRDRYSHWTKL</Hsp_qseq>\\n      <Hsp_hseq>MQSYASAMLSVFNSDDYSPAVQENIPALRRSSSFLCTESCNSKYQCETGENSKGNVQDRVKRPMNAFIVWSRDQRRKMALENPRMRNSEISKQLGYQWKMLTEAEKWPFFQEAQKLQAMHREKYPNYKYRPRRKAKXLPKNCSLLPADPASVLCSEVQLDNRLYRDDCTKATHSRMEHQLGHLPPINAASSPQQRDRYSHWTKL</Hsp_hseq>\\n      <Hsp_midline>MQSYASAMLSVFNSDDYSPAVQENIPALRRSSSFLCTESCNSKYQCETGENSKGNVQDRVKRPMNAFIVWSRDQRRKMALENPRMRNSEISKQLGYQWKMLTEAEKWPFFQEAQKLQAMHREKYPNYKYRPRRKAK LPKNCSLLPADPASVLCSEVQLDNRLYRDDCTKATHSRMEHQLGHLPPINAASSPQQRDRYSHWTKL</Hsp_midline>\\n    </Hsp>\\n  </Hit_hsps>\\n</Hit>\\n<Hit>\\n  <Hit_num>16</Hit_num>\\n  <Hit_id>gb|QBA69867.1|</Hit_id>\\n  <Hit_def>sex-determining region Y protein [Homo sapiens]</Hit_def>\\n  <Hit_accession>QBA69867</Hit_accession>\\n  <Hit_len>204</Hit_len>\\n  <Hit_hsps>\\n    <Hsp>\\n      <Hsp_num>1</Hsp_num>\\n      <Hsp_bit-score>426.017</Hsp_bit-score>\\n      <Hsp_score>1094</Hsp_score>\\n      <Hsp_evalue>1.4394e-150</Hsp_evalue>\\n      <Hsp_query-from>1</Hsp_query-from>\\n      <Hsp_query-to>204</Hsp_query-to>\\n      <Hsp_hit-from>1</Hsp_hit-from>\\n      <Hsp_hit-to>204</Hsp_hit-to>\\n      <Hsp_query-frame>0</Hsp_query-frame>\\n      <Hsp_hit-frame>0</Hsp_hit-frame>\\n      <Hsp_identity>203</Hsp_identity>\\n      <Hsp_positive>203</Hsp_positive>\\n      <Hsp_gaps>0</Hsp_gaps>\\n      <Hsp_align-len>204</Hsp_align-len>\\n      <Hsp_qseq>MQSYASAMLSVFNSDDYSPAVQENIPALRRSSSFLCTESCNSKYQCETGENSKGNVQDRVKRPMNAFIVWSRDQRRKMALENPRMRNSEISKQLGYQWKMLTEAEKWPFFQEAQKLQAMHREKYPNYKYRPRRKAKMLPKNCSLLPADPASVLCSEVQLDNRLYRDDCTKATHSRMEHQLGHLPPINAASSPQQRDRYSHWTKL</Hsp_qseq>\\n      <Hsp_hseq>MQSYASAMLSVFNSDDYSPAVQENIPALRRSSSFLCTESCNSKYQCETGENSKGNVQDRVKRPMNAFIVWSRDQRRKMALENPRMRNPEISKQLGYQWKMLTEAEKWPFFQEAQKLQAMHREKYPNYKYRPRRKAKMLPKNCSLLPADPASVLCSEVQLDNRLYRDDCTKATHSRMEHQLGHLPPINAASSPQQRDRYSHWTKL</Hsp_hseq>\\n      <Hsp_midline>MQSYASAMLSVFNSDDYSPAVQENIPALRRSSSFLCTESCNSKYQCETGENSKGNVQDRVKRPMNAFIVWSRDQRRKMALENPRMRN EISKQLGYQWKMLTEAEKWPFFQEAQKLQAMHREKYPNYKYRPRRKAKMLPKNCSLLPADPASVLCSEVQLDNRLYRDDCTKATHSRMEHQLGHLPPINAASSPQQRDRYSHWTKL</Hsp_midline>\\n    </Hsp>\\n  </Hit_hsps>\\n</Hit>\\n<Hit>\\n  <Hit_num>17</Hit_num>\\n  <Hit_id>emb|CAP05200.1|</Hit_id>\\n  <Hit_def>sex determining region Y [Homo sapiens]</Hit_def>\\n  <Hit_accession>CAP05200</Hit_accession>\\n  <Hit_len>204</Hit_len>\\n  <Hit_hsps>\\n    <Hsp>\\n      <Hsp_num>1</Hsp_num>\\n      <Hsp_bit-score>426.017</Hsp_bit-score>\\n      <Hsp_score>1094</Hsp_score>\\n      <Hsp_evalue>1.4394e-150</Hsp_evalue>\\n      <Hsp_query-from>1</Hsp_query-from>\\n      <Hsp_query-to>204</Hsp_query-to>\\n      <Hsp_hit-from>1</Hsp_hit-from>\\n      <Hsp_hit-to>204</Hsp_hit-to>\\n      <Hsp_query-frame>0</Hsp_query-frame>\\n      <Hsp_hit-frame>0</Hsp_hit-frame>\\n      <Hsp_identity>203</Hsp_identity>\\n      <Hsp_positive>203</Hsp_positive>\\n      <Hsp_gaps>0</Hsp_gaps>\\n      <Hsp_align-len>204</Hsp_align-len>\\n      <Hsp_qseq>MQSYASAMLSVFNSDDYSPAVQENIPALRRSSSFLCTESCNSKYQCETGENSKGNVQDRVKRPMNAFIVWSRDQRRKMALENPRMRNSEISKQLGYQWKMLTEAEKWPFFQEAQKLQAMHREKYPNYKYRPRRKAKMLPKNCSLLPADPASVLCSEVQLDNRLYRDDCTKATHSRMEHQLGHLPPINAASSPQQRDRYSHWTKL</Hsp_qseq>\\n      <Hsp_hseq>MQSYASAMLSVFNSDDYSPAVQENIPALRRSSSFLCTESCNSKYQCETGENSKGNVQDRVKRPMNAFIVWSRDQRRKMALENPRMRNSEISKQLGYQWKMLTEAEKWPFFQEAQKLQAMHREKYPNYKYRPRRKAKMLPKNCSLLPADPAPVLCSEVQLDNRLYRDDCTKATHSRMEHQLGHLPPINAASSPQQRDRYSHWTKL</Hsp_hseq>\\n      <Hsp_midline>MQSYASAMLSVFNSDDYSPAVQENIPALRRSSSFLCTESCNSKYQCETGENSKGNVQDRVKRPMNAFIVWSRDQRRKMALENPRMRNSEISKQLGYQWKMLTEAEKWPFFQEAQKLQAMHREKYPNYKYRPRRKAKMLPKNCSLLPADPA VLCSEVQLDNRLYRDDCTKATHSRMEHQLGHLPPINAASSPQQRDRYSHWTKL</Hsp_midline>\\n    </Hsp>\\n  </Hit_hsps>\\n</Hit>\\n<Hit>\\n  <Hit_num>18</Hit_num>\\n  <Hit_id>gb|AGZ62970.1|</Hit_id>\\n  <Hit_def>sex determining region Y protein [Homo sapiens]</Hit_def>\\n  <Hit_accession>AGZ62970</Hit_accession>\\n  <Hit_len>204</Hit_len>\\n  <Hit_hsps>\\n    <Hsp>\\n      <Hsp_num>1</Hsp_num>\\n      <Hsp_bit-score>425.631</Hsp_bit-score>\\n      <Hsp_score>1093</Hsp_score>\\n      <Hsp_evalue>2.30739e-150</Hsp_evalue>\\n      <Hsp_query-from>1</Hsp_query-from>\\n      <Hsp_query-to>204</Hsp_query-to>\\n      <Hsp_hit-from>1</Hsp_hit-from>\\n      <Hsp_hit-to>204</Hsp_hit-to>\\n      <Hsp_query-frame>0</Hsp_query-frame>\\n      <Hsp_hit-frame>0</Hsp_hit-frame>\\n      <Hsp_identity>203</Hsp_identity>\\n      <Hsp_positive>203</Hsp_positive>\\n      <Hsp_gaps>0</Hsp_gaps>\\n      <Hsp_align-len>204</Hsp_align-len>\\n      <Hsp_qseq>MQSYASAMLSVFNSDDYSPAVQENIPALRRSSSFLCTESCNSKYQCETGENSKGNVQDRVKRPMNAFIVWSRDQRRKMALENPRMRNSEISKQLGYQWKMLTEAEKWPFFQEAQKLQAMHREKYPNYKYRPRRKAKMLPKNCSLLPADPASVLCSEVQLDNRLYRDDCTKATHSRMEHQLGHLPPINAASSPQQRDRYSHWTKL</Hsp_qseq>\\n      <Hsp_hseq>MQSYASAMLSVFNSDDYSPAVQENIPALRRSSSFLCTESCNSKYQCETGENSKGNVQDRVKRPMNAFIVWSRDQRRKMALENPRMRNSEISKQLGYQWKMLTEAEKWPFFQEAQKLQAMRREKYPNYKYRPRRKAKMLPKNCSLLPADPASVLCSEVQLDNRLYRDDCTKATHSRMEHQLGHLPPINAASSPQQRDRYSHWTKL</Hsp_hseq>\\n      <Hsp_midline>MQSYASAMLSVFNSDDYSPAVQENIPALRRSSSFLCTESCNSKYQCETGENSKGNVQDRVKRPMNAFIVWSRDQRRKMALENPRMRNSEISKQLGYQWKMLTEAEKWPFFQEAQKLQAM REKYPNYKYRPRRKAKMLPKNCSLLPADPASVLCSEVQLDNRLYRDDCTKATHSRMEHQLGHLPPINAASSPQQRDRYSHWTKL</Hsp_midline>\\n    </Hsp>\\n  </Hit_hsps>\\n</Hit>\\n<Hit>\\n  <Hit_num>19</Hit_num>\\n  <Hit_id>gb|QBA69865.1|</Hit_id>\\n  <Hit_def>sex-determining region Y protein [Homo sapiens]</Hit_def>\\n  <Hit_accession>QBA69865</Hit_accession>\\n  <Hit_len>204</Hit_len>\\n  <Hit_hsps>\\n    <Hsp>\\n      <Hsp_num>1</Hsp_num>\\n      <Hsp_bit-score>425.631</Hsp_bit-score>\\n      <Hsp_score>1093</Hsp_score>\\n      <Hsp_evalue>2.41093e-150</Hsp_evalue>\\n      <Hsp_query-from>1</Hsp_query-from>\\n      <Hsp_query-to>204</Hsp_query-to>\\n      <Hsp_hit-from>1</Hsp_hit-from>\\n      <Hsp_hit-to>204</Hsp_hit-to>\\n      <Hsp_query-frame>0</Hsp_query-frame>\\n      <Hsp_hit-frame>0</Hsp_hit-frame>\\n      <Hsp_identity>203</Hsp_identity>\\n      <Hsp_positive>203</Hsp_positive>\\n      <Hsp_gaps>0</Hsp_gaps>\\n      <Hsp_align-len>204</Hsp_align-len>\\n      <Hsp_qseq>MQSYASAMLSVFNSDDYSPAVQENIPALRRSSSFLCTESCNSKYQCETGENSKGNVQDRVKRPMNAFIVWSRDQRRKMALENPRMRNSEISKQLGYQWKMLTEAEKWPFFQEAQKLQAMHREKYPNYKYRPRRKAKMLPKNCSLLPADPASVLCSEVQLDNRLYRDDCTKATHSRMEHQLGHLPPINAASSPQQRDRYSHWTKL</Hsp_qseq>\\n      <Hsp_hseq>MQSYASAMLSVFNSDDYSPAVQENIPALRRSSSFLCTESCNSKYQCETGENSKGNDQDRVKRPMNAFIVWSRDQRRKMALENPRMRNSEISKQLGYQWKMLTEAEKWPFFQEAQKLQAMHREKYPNYKYRPRRKAKMLPKNCSLLPADPASVLCSEVQLDNRLYRDDCTKATHSRMEHQLGHLPPINAASSPQQRDRYSHWTKL</Hsp_hseq>\\n      <Hsp_midline>MQSYASAMLSVFNSDDYSPAVQENIPALRRSSSFLCTESCNSKYQCETGENSKGN QDRVKRPMNAFIVWSRDQRRKMALENPRMRNSEISKQLGYQWKMLTEAEKWPFFQEAQKLQAMHREKYPNYKYRPRRKAKMLPKNCSLLPADPASVLCSEVQLDNRLYRDDCTKATHSRMEHQLGHLPPINAASSPQQRDRYSHWTKL</Hsp_midline>\\n    </Hsp>\\n  </Hit_hsps>\\n</Hit>\\n<Hit>\\n  <Hit_num>20</Hit_num>\\n  <Hit_id>emb|CBH40193.1|</Hit_id>\\n  <Hit_def>sex determining region Y [Homo sapiens]</Hit_def>\\n  <Hit_accession>CBH40193</Hit_accession>\\n  <Hit_len>204</Hit_len>\\n  <Hit_hsps>\\n    <Hsp>\\n      <Hsp_num>1</Hsp_num>\\n      <Hsp_bit-score>425.631</Hsp_bit-score>\\n      <Hsp_score>1093</Hsp_score>\\n      <Hsp_evalue>2.43753e-150</Hsp_evalue>\\n      <Hsp_query-from>1</Hsp_query-from>\\n      <Hsp_query-to>204</Hsp_query-to>\\n      <Hsp_hit-from>1</Hsp_hit-from>\\n      <Hsp_hit-to>204</Hsp_hit-to>\\n      <Hsp_query-frame>0</Hsp_query-frame>\\n      <Hsp_hit-frame>0</Hsp_hit-frame>\\n      <Hsp_identity>203</Hsp_identity>\\n      <Hsp_positive>203</Hsp_positive>\\n      <Hsp_gaps>0</Hsp_gaps>\\n      <Hsp_align-len>204</Hsp_align-len>\\n      <Hsp_qseq>MQSYASAMLSVFNSDDYSPAVQENIPALRRSSSFLCTESCNSKYQCETGENSKGNVQDRVKRPMNAFIVWSRDQRRKMALENPRMRNSEISKQLGYQWKMLTEAEKWPFFQEAQKLQAMHREKYPNYKYRPRRKAKMLPKNCSLLPADPASVLCSEVQLDNRLYRDDCTKATHSRMEHQLGHLPPINAASSPQQRDRYSHWTKL</Hsp_qseq>\\n      <Hsp_hseq>MQSYASAMLSVFNSDDYSPAVQEIIPALRRSSSFLCTESCNSKYQCETGENSKGNVQDRVKRPMNAFIVWSRDQRRKMALENPRMRNSEISKQLGYQWKMLTEAEKWPFFQEAQKLQAMHREKYPNYKYRPRRKAKMLPKNCSLLPADPASVLCSEVQLDNRLYRDDCTKATHSRMEHQLGHLPPINAASSPQQRDRYSHWTKL</Hsp_hseq>\\n      <Hsp_midline>MQSYASAMLSVFNSDDYSPAVQE IPALRRSSSFLCTESCNSKYQCETGENSKGNVQDRVKRPMNAFIVWSRDQRRKMALENPRMRNSEISKQLGYQWKMLTEAEKWPFFQEAQKLQAMHREKYPNYKYRPRRKAKMLPKNCSLLPADPASVLCSEVQLDNRLYRDDCTKATHSRMEHQLGHLPPINAASSPQQRDRYSHWTKL</Hsp_midline>\\n    </Hsp>\\n  </Hit_hsps>\\n</Hit>\\n<Hit>\\n  <Hit_num>21</Hit_num>\\n  <Hit_id>gb|AEK31549.1|</Hit_id>\\n  <Hit_def>sex determining region Y [Homo sapiens]</Hit_def>\\n  <Hit_accession>AEK31549</Hit_accession>\\n  <Hit_len>204</Hit_len>\\n  <Hit_hsps>\\n    <Hsp>\\n      <Hsp_num>1</Hsp_num>\\n      <Hsp_bit-score>425.631</Hsp_bit-score>\\n      <Hsp_score>1093</Hsp_score>\\n      <Hsp_evalue>2.54691e-150</Hsp_evalue>\\n      <Hsp_query-from>1</Hsp_query-from>\\n      <Hsp_query-to>204</Hsp_query-to>\\n      <Hsp_hit-from>1</Hsp_hit-from>\\n      <Hsp_hit-to>204</Hsp_hit-to>\\n      <Hsp_query-frame>0</Hsp_query-frame>\\n      <Hsp_hit-frame>0</Hsp_hit-frame>\\n      <Hsp_identity>202</Hsp_identity>\\n      <Hsp_positive>203</Hsp_positive>\\n      <Hsp_gaps>0</Hsp_gaps>\\n      <Hsp_align-len>204</Hsp_align-len>\\n      <Hsp_qseq>MQSYASAMLSVFNSDDYSPAVQENIPALRRSSSFLCTESCNSKYQCETGENSKGNVQDRVKRPMNAFIVWSRDQRRKMALENPRMRNSEISKQLGYQWKMLTEAEKWPFFQEAQKLQAMHREKYPNYKYRPRRKAKMLPKNCSLLPADPASVLCSEVQLDNRLYRDDCTKATHSRMEHQLGHLPPINAASSPQQRDRYSHWTKL</Hsp_qseq>\\n      <Hsp_hseq>MQSYATAMLSVFNSDDYSPAVQENIPALRRSSSFLCTESCNSKYQCETGENSKGNVQDRVKRPMNAFIVWSRDQRRKMALENPRMRNSEISKQLGYQWKMLTEAXKWPFFQEAQKLQAMHREKYPNYKYRPRRKAKMLPKNCSLLPADPASVLCSEVQLDNRLYRDDCTKATHSRMEHQLGHLPPINAASSPQQRDRYSHWTKL</Hsp_hseq>\\n      <Hsp_midline>MQSYA+AMLSVFNSDDYSPAVQENIPALRRSSSFLCTESCNSKYQCETGENSKGNVQDRVKRPMNAFIVWSRDQRRKMALENPRMRNSEISKQLGYQWKMLTEA KWPFFQEAQKLQAMHREKYPNYKYRPRRKAKMLPKNCSLLPADPASVLCSEVQLDNRLYRDDCTKATHSRMEHQLGHLPPINAASSPQQRDRYSHWTKL</Hsp_midline>\\n    </Hsp>\\n  </Hit_hsps>\\n</Hit>\\n<Hit>\\n  <Hit_num>22</Hit_num>\\n  <Hit_id>gb|QBA69872.1|</Hit_id>\\n  <Hit_def>sex-determining region Y protein [Homo sapiens]</Hit_def>\\n  <Hit_accession>QBA69872</Hit_accession>\\n  <Hit_len>204</Hit_len>\\n  <Hit_hsps>\\n    <Hsp>\\n      <Hsp_num>1</Hsp_num>\\n      <Hsp_bit-score>425.246</Hsp_bit-score>\\n      <Hsp_score>1092</Hsp_score>\\n      <Hsp_evalue>2.60343e-150</Hsp_evalue>\\n      <Hsp_query-from>1</Hsp_query-from>\\n      <Hsp_query-to>204</Hsp_query-to>\\n      <Hsp_hit-from>1</Hsp_hit-from>\\n      <Hsp_hit-to>204</Hsp_hit-to>\\n      <Hsp_query-frame>0</Hsp_query-frame>\\n      <Hsp_hit-frame>0</Hsp_hit-frame>\\n      <Hsp_identity>203</Hsp_identity>\\n      <Hsp_positive>203</Hsp_positive>\\n      <Hsp_gaps>0</Hsp_gaps>\\n      <Hsp_align-len>204</Hsp_align-len>\\n      <Hsp_qseq>MQSYASAMLSVFNSDDYSPAVQENIPALRRSSSFLCTESCNSKYQCETGENSKGNVQDRVKRPMNAFIVWSRDQRRKMALENPRMRNSEISKQLGYQWKMLTEAEKWPFFQEAQKLQAMHREKYPNYKYRPRRKAKMLPKNCSLLPADPASVLCSEVQLDNRLYRDDCTKATHSRMEHQLGHLPPINAASSPQQRDRYSHWTKL</Hsp_qseq>\\n      <Hsp_hseq>MQSYASAMLSVFNSDDYSPAVQENIPALRRSSSFLCTESCNSKYQCETGENSKGNVQDRVKRPMNAFIVWSRDQRRKMALENPRMRNSEISKQLGYQWKMLTEAEKWPFFQEAQKLQAMHREKYPNYKYRPRRKAKMPPKNCSLLPADPASVLCSEVQLDNRLYRDDCTKATHSRMEHQLGHLPPINAASSPQQRDRYSHWTKL</Hsp_hseq>\\n      <Hsp_midline>MQSYASAMLSVFNSDDYSPAVQENIPALRRSSSFLCTESCNSKYQCETGENSKGNVQDRVKRPMNAFIVWSRDQRRKMALENPRMRNSEISKQLGYQWKMLTEAEKWPFFQEAQKLQAMHREKYPNYKYRPRRKAKM PKNCSLLPADPASVLCSEVQLDNRLYRDDCTKATHSRMEHQLGHLPPINAASSPQQRDRYSHWTKL</Hsp_midline>\\n    </Hsp>\\n  </Hit_hsps>\\n</Hit>\\n<Hit>\\n  <Hit_num>23</Hit_num>\\n  <Hit_id>gb|QBA69876.1|</Hit_id>\\n  <Hit_def>sex-determining region Y protein [Homo sapiens]</Hit_def>\\n  <Hit_accession>QBA69876</Hit_accession>\\n  <Hit_len>204</Hit_len>\\n  <Hit_hsps>\\n    <Hsp>\\n      <Hsp_num>1</Hsp_num>\\n      <Hsp_bit-score>425.246</Hsp_bit-score>\\n      <Hsp_score>1092</Hsp_score>\\n      <Hsp_evalue>2.60343e-150</Hsp_evalue>\\n      <Hsp_query-from>1</Hsp_query-from>\\n      <Hsp_query-to>204</Hsp_query-to>\\n      <Hsp_hit-from>1</Hsp_hit-from>\\n      <Hsp_hit-to>204</Hsp_hit-to>\\n      <Hsp_query-frame>0</Hsp_query-frame>\\n      <Hsp_hit-frame>0</Hsp_hit-frame>\\n      <Hsp_identity>203</Hsp_identity>\\n      <Hsp_positive>203</Hsp_positive>\\n      <Hsp_gaps>0</Hsp_gaps>\\n      <Hsp_align-len>204</Hsp_align-len>\\n      <Hsp_qseq>MQSYASAMLSVFNSDDYSPAVQENIPALRRSSSFLCTESCNSKYQCETGENSKGNVQDRVKRPMNAFIVWSRDQRRKMALENPRMRNSEISKQLGYQWKMLTEAEKWPFFQEAQKLQAMHREKYPNYKYRPRRKAKMLPKNCSLLPADPASVLCSEVQLDNRLYRDDCTKATHSRMEHQLGHLPPINAASSPQQRDRYSHWTKL</Hsp_qseq>\\n      <Hsp_hseq>MQSYASAMLSVFNSDDYSPAVQENIPALRRSSSFLCTESCNSKYQCETGENSKGNVQDRVKRPMNAFIVWSRDQRRKMALENPRMRNSEISKQPGYQWKMLTEAEKWPFFQEAQKLQAMHREKYPNYKYRPRRKAKMLPKNCSLLPADPASVLCSEVQLDNRLYRDDCTKATHSRMEHQLGHLPPINAASSPQQRDRYSHWTKL</Hsp_hseq>\\n      <Hsp_midline>MQSYASAMLSVFNSDDYSPAVQENIPALRRSSSFLCTESCNSKYQCETGENSKGNVQDRVKRPMNAFIVWSRDQRRKMALENPRMRNSEISKQ GYQWKMLTEAEKWPFFQEAQKLQAMHREKYPNYKYRPRRKAKMLPKNCSLLPADPASVLCSEVQLDNRLYRDDCTKATHSRMEHQLGHLPPINAASSPQQRDRYSHWTKL</Hsp_midline>\\n    </Hsp>\\n  </Hit_hsps>\\n</Hit>\\n<Hit>\\n  <Hit_num>24</Hit_num>\\n  <Hit_id>gb|AFG33953.1|</Hit_id>\\n  <Hit_def>SRY [Homo sapiens]</Hit_def>\\n  <Hit_accession>AFG33953</Hit_accession>\\n  <Hit_len>204</Hit_len>\\n  <Hit_hsps>\\n    <Hsp>\\n      <Hsp_num>1</Hsp_num>\\n      <Hsp_bit-score>424.861</Hsp_bit-score>\\n      <Hsp_score>1091</Hsp_score>\\n      <Hsp_evalue>5.14089e-150</Hsp_evalue>\\n      <Hsp_query-from>1</Hsp_query-from>\\n      <Hsp_query-to>204</Hsp_query-to>\\n      <Hsp_hit-from>1</Hsp_hit-from>\\n      <Hsp_hit-to>204</Hsp_hit-to>\\n      <Hsp_query-frame>0</Hsp_query-frame>\\n      <Hsp_hit-frame>0</Hsp_hit-frame>\\n      <Hsp_identity>202</Hsp_identity>\\n      <Hsp_positive>203</Hsp_positive>\\n      <Hsp_gaps>0</Hsp_gaps>\\n      <Hsp_align-len>204</Hsp_align-len>\\n      <Hsp_qseq>MQSYASAMLSVFNSDDYSPAVQENIPALRRSSSFLCTESCNSKYQCETGENSKGNVQDRVKRPMNAFIVWSRDQRRKMALENPRMRNSEISKQLGYQWKMLTEAEKWPFFQEAQKLQAMHREKYPNYKYRPRRKAKMLPKNCSLLPADPASVLCSEVQLDNRLYRDDCTKATHSRMEHQLGHLPPINAASSPQQRDRYSHWTKL</Hsp_qseq>\\n      <Hsp_hseq>MQSYASAMLSVFNSDDYSPAVQENIPALRRSSSFLCTESCNSKYQCETGENSKGNVQDRVKRPMNAFIVWFRDQRRKMALENPRMRNSEISKQLGYQWKMLTEAEKWPFFQEAQKLQAIHREKYPNYKYRPRRKAKMLPKNCSLLPADPASVLCSEVQLDNRLYRDDCTKATHSRMEHQLGHLPPINAASSPQQRDRYSHWTKL</Hsp_hseq>\\n      <Hsp_midline>MQSYASAMLSVFNSDDYSPAVQENIPALRRSSSFLCTESCNSKYQCETGENSKGNVQDRVKRPMNAFIVW RDQRRKMALENPRMRNSEISKQLGYQWKMLTEAEKWPFFQEAQKLQA+HREKYPNYKYRPRRKAKMLPKNCSLLPADPASVLCSEVQLDNRLYRDDCTKATHSRMEHQLGHLPPINAASSPQQRDRYSHWTKL</Hsp_midline>\\n    </Hsp>\\n  </Hit_hsps>\\n</Hit>\\n<Hit>\\n  <Hit_num>25</Hit_num>\\n  <Hit_id>gb|QBA69875.1|</Hit_id>\\n  <Hit_def>sex-determining region Y protein, partial [Homo sapiens]</Hit_def>\\n  <Hit_accession>QBA69875</Hit_accession>\\n  <Hit_len>204</Hit_len>\\n  <Hit_hsps>\\n    <Hsp>\\n      <Hsp_num>1</Hsp_num>\\n      <Hsp_bit-score>424.476</Hsp_bit-score>\\n      <Hsp_score>1090</Hsp_score>\\n      <Hsp_evalue>6.33274e-150</Hsp_evalue>\\n      <Hsp_query-from>1</Hsp_query-from>\\n      <Hsp_query-to>204</Hsp_query-to>\\n      <Hsp_hit-from>1</Hsp_hit-from>\\n      <Hsp_hit-to>204</Hsp_hit-to>\\n      <Hsp_query-frame>0</Hsp_query-frame>\\n      <Hsp_hit-frame>0</Hsp_hit-frame>\\n      <Hsp_identity>203</Hsp_identity>\\n      <Hsp_positive>203</Hsp_positive>\\n      <Hsp_gaps>0</Hsp_gaps>\\n      <Hsp_align-len>204</Hsp_align-len>\\n      <Hsp_qseq>MQSYASAMLSVFNSDDYSPAVQENIPALRRSSSFLCTESCNSKYQCETGENSKGNVQDRVKRPMNAFIVWSRDQRRKMALENPRMRNSEISKQLGYQWKMLTEAEKWPFFQEAQKLQAMHREKYPNYKYRPRRKAKMLPKNCSLLPADPASVLCSEVQLDNRLYRDDCTKATHSRMEHQLGHLPPINAASSPQQRDRYSHWTKL</Hsp_qseq>\\n      <Hsp_hseq>MQSYASAMLSVFNSDDYSPAVQENIPALRRSSSFLCTESCNSKYQCETGENSKGNVQDRVKRPMNAFIVWSRDQRRKMALENPRMRNSEISKQLGYQWKMLTEAEKWPFFQEAQKLQAMHREKYPNYKYRPRRKAKMLPKNCSLLPADPASVLRSEVQLDNRLYRDDCTKATHSRMEHQLGHLPPINAASSPQQRDRYSHWTKL</Hsp_hseq>\\n      <Hsp_midline>MQSYASAMLSVFNSDDYSPAVQENIPALRRSSSFLCTESCNSKYQCETGENSKGNVQDRVKRPMNAFIVWSRDQRRKMALENPRMRNSEISKQLGYQWKMLTEAEKWPFFQEAQKLQAMHREKYPNYKYRPRRKAKMLPKNCSLLPADPASVL SEVQLDNRLYRDDCTKATHSRMEHQLGHLPPINAASSPQQRDRYSHWTKL</Hsp_midline>\\n    </Hsp>\\n  </Hit_hsps>\\n</Hit>\\n<Hit>\\n  <Hit_num>26</Hit_num>\\n  <Hit_id>gb|AGZ62971.1|</Hit_id>\\n  <Hit_def>sex determining region Y protein [Homo sapiens]</Hit_def>\\n  <Hit_accession>AGZ62971</Hit_accession>\\n  <Hit_len>204</Hit_len>\\n  <Hit_hsps>\\n    <Hsp>\\n      <Hsp_num>1</Hsp_num>\\n      <Hsp_bit-score>423.705</Hsp_bit-score>\\n      <Hsp_score>1088</Hsp_score>\\n      <Hsp_evalue>1.47425e-149</Hsp_evalue>\\n      <Hsp_query-from>1</Hsp_query-from>\\n      <Hsp_query-to>204</Hsp_query-to>\\n      <Hsp_hit-from>1</Hsp_hit-from>\\n      <Hsp_hit-to>204</Hsp_hit-to>\\n      <Hsp_query-frame>0</Hsp_query-frame>\\n      <Hsp_hit-frame>0</Hsp_hit-frame>\\n      <Hsp_identity>202</Hsp_identity>\\n      <Hsp_positive>203</Hsp_positive>\\n      <Hsp_gaps>0</Hsp_gaps>\\n      <Hsp_align-len>204</Hsp_align-len>\\n      <Hsp_qseq>MQSYASAMLSVFNSDDYSPAVQENIPALRRSSSFLCTESCNSKYQCETGENSKGNVQDRVKRPMNAFIVWSRDQRRKMALENPRMRNSEISKQLGYQWKMLTEAEKWPFFQEAQKLQAMHREKYPNYKYRPRRKAKMLPKNCSLLPADPASVLCSEVQLDNRLYRDDCTKATHSRMEHQLGHLPPINAASSPQQRDRYSHWTKL</Hsp_qseq>\\n      <Hsp_hseq>MQSNASAMLSVFNSDDYSPAVQENIPALRRSSSFLCTESCNSKYQCETGENSKGNVQDRVKRPMNAFIVWSRDQRRKMALENPRMRNSEISKQLGYQWKMLTEAEKWPFFQEAQKLQAMHREKYPNYKYRPRRKAKMLPKNCSLLPADPASVLCSEVQLDNRLYRDDCTEATHSRMEHQLGHLPPINAASSPQQRDRYSHWTKL</Hsp_hseq>\\n      <Hsp_midline>MQS ASAMLSVFNSDDYSPAVQENIPALRRSSSFLCTESCNSKYQCETGENSKGNVQDRVKRPMNAFIVWSRDQRRKMALENPRMRNSEISKQLGYQWKMLTEAEKWPFFQEAQKLQAMHREKYPNYKYRPRRKAKMLPKNCSLLPADPASVLCSEVQLDNRLYRDDCT+ATHSRMEHQLGHLPPINAASSPQQRDRYSHWTKL</Hsp_midline>\\n    </Hsp>\\n  </Hit_hsps>\\n</Hit>\\n<Hit>\\n  <Hit_num>27</Hit_num>\\n  <Hit_id>gb|AEK31550.1|</Hit_id>\\n  <Hit_def>sex determining region Y [Homo sapiens]</Hit_def>\\n  <Hit_accession>AEK31550</Hit_accession>\\n  <Hit_len>204</Hit_len>\\n  <Hit_hsps>\\n    <Hsp>\\n      <Hsp_num>1</Hsp_num>\\n      <Hsp_bit-score>422.935</Hsp_bit-score>\\n      <Hsp_score>1086</Hsp_score>\\n      <Hsp_evalue>2.78609e-149</Hsp_evalue>\\n      <Hsp_query-from>1</Hsp_query-from>\\n      <Hsp_query-to>204</Hsp_query-to>\\n      <Hsp_hit-from>1</Hsp_hit-from>\\n      <Hsp_hit-to>204</Hsp_hit-to>\\n      <Hsp_query-frame>0</Hsp_query-frame>\\n      <Hsp_hit-frame>0</Hsp_hit-frame>\\n      <Hsp_identity>201</Hsp_identity>\\n      <Hsp_positive>201</Hsp_positive>\\n      <Hsp_gaps>0</Hsp_gaps>\\n      <Hsp_align-len>204</Hsp_align-len>\\n      <Hsp_qseq>MQSYASAMLSVFNSDDYSPAVQENIPALRRSSSFLCTESCNSKYQCETGENSKGNVQDRVKRPMNAFIVWSRDQRRKMALENPRMRNSEISKQLGYQWKMLTEAEKWPFFQEAQKLQAMHREKYPNYKYRPRRKAKMLPKNCSLLPADPASVLCSEVQLDNRLYRDDCTKATHSRMEHQLGHLPPINAASSPQQRDRYSHWTKL</Hsp_qseq>\\n      <Hsp_hseq>MQSYVSAMLSVFNSDDYSPAVQENIPALRRSSSFLCTESCNSKYQCETGENSKGNVQDRVKRPMNAFIVWSRDQRRKMALENPRMXNSEISKQLGYQWKMLTEAXKWPFFQEAQKLQAMHREKYPNYKYRPRRKAKMLPKNCSLLPADPASVLCSEVQLDNRLYRDDCTKATHSRMEHQLGHLPPINAASSPQQRDRYSHWTKL</Hsp_hseq>\\n      <Hsp_midline>MQSY SAMLSVFNSDDYSPAVQENIPALRRSSSFLCTESCNSKYQCETGENSKGNVQDRVKRPMNAFIVWSRDQRRKMALENPRM NSEISKQLGYQWKMLTEA KWPFFQEAQKLQAMHREKYPNYKYRPRRKAKMLPKNCSLLPADPASVLCSEVQLDNRLYRDDCTKATHSRMEHQLGHLPPINAASSPQQRDRYSHWTKL</Hsp_midline>\\n    </Hsp>\\n  </Hit_hsps>\\n</Hit>\\n<Hit>\\n  <Hit_num>28</Hit_num>\\n  <Hit_id>gb|QBA69869.1|</Hit_id>\\n  <Hit_def>sex-determining region Y protein [Homo sapiens]</Hit_def>\\n  <Hit_accession>QBA69869</Hit_accession>\\n  <Hit_len>204</Hit_len>\\n  <Hit_hsps>\\n    <Hsp>\\n      <Hsp_num>1</Hsp_num>\\n      <Hsp_bit-score>422.55</Hsp_bit-score>\\n      <Hsp_score>1085</Hsp_score>\\n      <Hsp_evalue>3.39454e-149</Hsp_evalue>\\n      <Hsp_query-from>1</Hsp_query-from>\\n      <Hsp_query-to>204</Hsp_query-to>\\n      <Hsp_hit-from>1</Hsp_hit-from>\\n      <Hsp_hit-to>204</Hsp_hit-to>\\n      <Hsp_query-frame>0</Hsp_query-frame>\\n      <Hsp_hit-frame>0</Hsp_hit-frame>\\n      <Hsp_identity>201</Hsp_identity>\\n      <Hsp_positive>203</Hsp_positive>\\n      <Hsp_gaps>0</Hsp_gaps>\\n      <Hsp_align-len>204</Hsp_align-len>\\n      <Hsp_qseq>MQSYASAMLSVFNSDDYSPAVQENIPALRRSSSFLCTESCNSKYQCETGENSKGNVQDRVKRPMNAFIVWSRDQRRKMALENPRMRNSEISKQLGYQWKMLTEAEKWPFFQEAQKLQAMHREKYPNYKYRPRRKAKMLPKNCSLLPADPASVLCSEVQLDNRLYRDDCTKATHSRMEHQLGHLPPINAASSPQQRDRYSHWTKL</Hsp_qseq>\\n      <Hsp_hseq>MQSYASAMLSVFNSDDYSPAVQENILALRRSSSFLCTESCNSKYQCETGENSKGNVQDRVKRPMNAFIVWSRDQRRKMALENPRVRNSEISKQLGYQWKMLTEAERWPFFQEAQKLQAMHREKYPNYKYRPRRKAKMLPKNCSLLPADPASVLCSEVQLDNRLYRDDCTKATHSRMEHQLGHLPPINAASSPQQRDRYSHWTKL</Hsp_hseq>\\n      <Hsp_midline>MQSYASAMLSVFNSDDYSPAVQENI ALRRSSSFLCTESCNSKYQCETGENSKGNVQDRVKRPMNAFIVWSRDQRRKMALENPR+RNSEISKQLGYQWKMLTEAE+WPFFQEAQKLQAMHREKYPNYKYRPRRKAKMLPKNCSLLPADPASVLCSEVQLDNRLYRDDCTKATHSRMEHQLGHLPPINAASSPQQRDRYSHWTKL</Hsp_midline>\\n    </Hsp>\\n  </Hit_hsps>\\n</Hit>\\n<Hit>\\n  <Hit_num>29</Hit_num>\\n  <Hit_id>gb|AGZ62975.1|</Hit_id>\\n  <Hit_def>sex determining region Y protein [Homo sapiens]</Hit_def>\\n  <Hit_accession>AGZ62975</Hit_accession>\\n  <Hit_len>223</Hit_len>\\n  <Hit_hsps>\\n    <Hsp>\\n      <Hsp_num>1</Hsp_num>\\n      <Hsp_bit-score>422.935</Hsp_bit-score>\\n      <Hsp_score>1086</Hsp_score>\\n      <Hsp_evalue>4.43745e-149</Hsp_evalue>\\n      <Hsp_query-from>1</Hsp_query-from>\\n      <Hsp_query-to>202</Hsp_query-to>\\n      <Hsp_hit-from>1</Hsp_hit-from>\\n      <Hsp_hit-to>202</Hsp_hit-to>\\n      <Hsp_query-frame>0</Hsp_query-frame>\\n      <Hsp_hit-frame>0</Hsp_hit-frame>\\n      <Hsp_identity>201</Hsp_identity>\\n      <Hsp_positive>202</Hsp_positive>\\n      <Hsp_gaps>0</Hsp_gaps>\\n      <Hsp_align-len>202</Hsp_align-len>\\n      <Hsp_qseq>MQSYASAMLSVFNSDDYSPAVQENIPALRRSSSFLCTESCNSKYQCETGENSKGNVQDRVKRPMNAFIVWSRDQRRKMALENPRMRNSEISKQLGYQWKMLTEAEKWPFFQEAQKLQAMHREKYPNYKYRPRRKAKMLPKNCSLLPADPASVLCSEVQLDNRLYRDDCTKATHSRMEHQLGHLPPINAASSPQQRDRYSHWT</Hsp_qseq>\\n      <Hsp_hseq>MQSYASAMLSVFNSDDYSPAVQENIPALRRSSSFLCTESCNSKYQCETGENSKGNVQDRVKRPMNAFIVWSRDQRRKMALENPRMRNSEISKQLGYQWKMLTEAEKWPFFQEAQKLQAMHREKYPNYKYRPRREAKMLPKNCSLLPADPASVLCSEVQLDNRLYRDDCTKATHSRMEHQLGHLPPINAASSPQQRDRYSHWT</Hsp_hseq>\\n      <Hsp_midline>MQSYASAMLSVFNSDDYSPAVQENIPALRRSSSFLCTESCNSKYQCETGENSKGNVQDRVKRPMNAFIVWSRDQRRKMALENPRMRNSEISKQLGYQWKMLTEAEKWPFFQEAQKLQAMHREKYPNYKYRPRR+AKMLPKNCSLLPADPASVLCSEVQLDNRLYRDDCTKATHSRMEHQLGHLPPINAASSPQQRDRYSHWT</Hsp_midline>\\n    </Hsp>\\n  </Hit_hsps>\\n</Hit>\\n<Hit>\\n  <Hit_num>30</Hit_num>\\n  <Hit_id>gb|AGZ62974.1|</Hit_id>\\n  <Hit_def>sex determining region Y protein [Homo sapiens]</Hit_def>\\n  <Hit_accession>AGZ62974</Hit_accession>\\n  <Hit_len>204</Hit_len>\\n  <Hit_hsps>\\n    <Hsp>\\n      <Hsp_num>1</Hsp_num>\\n      <Hsp_bit-score>421.009</Hsp_bit-score>\\n      <Hsp_score>1081</Hsp_score>\\n      <Hsp_evalue>1.32358e-148</Hsp_evalue>\\n      <Hsp_query-from>1</Hsp_query-from>\\n      <Hsp_query-to>204</Hsp_query-to>\\n      <Hsp_hit-from>1</Hsp_hit-from>\\n      <Hsp_hit-to>204</Hsp_hit-to>\\n      <Hsp_query-frame>0</Hsp_query-frame>\\n      <Hsp_hit-frame>0</Hsp_hit-frame>\\n      <Hsp_identity>201</Hsp_identity>\\n      <Hsp_positive>201</Hsp_positive>\\n      <Hsp_gaps>0</Hsp_gaps>\\n      <Hsp_align-len>204</Hsp_align-len>\\n      <Hsp_qseq>MQSYASAMLSVFNSDDYSPAVQENIPALRRSSSFLCTESCNSKYQCETGENSKGNVQDRVKRPMNAFIVWSRDQRRKMALENPRMRNSEISKQLGYQWKMLTEAEKWPFFQEAQKLQAMHREKYPNYKYRPRRKAKMLPKNCSLLPADPASVLCSEVQLDNRLYRDDCTKATHSRMEHQLGHLPPINAASSPQQRDRYSHWTKL</Hsp_qseq>\\n      <Hsp_hseq>MQSYASAMLSVFNSDDYSPAVQENIPALRRSSSFLCTESCNSKYQCETGENSKGNVQDRVKRPMNAFIVWSRDQRRKMALENPRMRNSEISKQLGYQWKMLTEAEKWPFFQEAQKFQAMHREKYPNYKYRPCRKAMMLPKNCSLLPADPASVLCSEVQLDNRLYRDDCTKATHSRMEHQLGHLPPINAASSPQQRDRYSHWTKL</Hsp_hseq>\\n      <Hsp_midline>MQSYASAMLSVFNSDDYSPAVQENIPALRRSSSFLCTESCNSKYQCETGENSKGNVQDRVKRPMNAFIVWSRDQRRKMALENPRMRNSEISKQLGYQWKMLTEAEKWPFFQEAQK QAMHREKYPNYKYRP RKA MLPKNCSLLPADPASVLCSEVQLDNRLYRDDCTKATHSRMEHQLGHLPPINAASSPQQRDRYSHWTKL</Hsp_midline>\\n    </Hsp>\\n  </Hit_hsps>\\n</Hit>\\n<Hit>\\n  <Hit_num>31</Hit_num>\\n  <Hit_id>sp|P48046.1|</Hit_id>\\n  <Hit_def>RecName: Full=Sex-determining region Y protein; AltName: Full=Testis-determining factor [Gorilla gorilla gorilla] &gt;emb|CAA60142.1| SRY [Gorilla gorilla]</Hit_def>\\n  <Hit_accession>P48046</Hit_accession>\\n  <Hit_len>204</Hit_len>\\n  <Hit_hsps>\\n    <Hsp>\\n      <Hsp_num>1</Hsp_num>\\n      <Hsp_bit-score>420.624</Hsp_bit-score>\\n      <Hsp_score>1080</Hsp_score>\\n      <Hsp_evalue>2.05297e-148</Hsp_evalue>\\n      <Hsp_query-from>1</Hsp_query-from>\\n      <Hsp_query-to>204</Hsp_query-to>\\n      <Hsp_hit-from>1</Hsp_hit-from>\\n      <Hsp_hit-to>204</Hsp_hit-to>\\n      <Hsp_query-frame>0</Hsp_query-frame>\\n      <Hsp_hit-frame>0</Hsp_hit-frame>\\n      <Hsp_identity>200</Hsp_identity>\\n      <Hsp_positive>202</Hsp_positive>\\n      <Hsp_gaps>0</Hsp_gaps>\\n      <Hsp_align-len>204</Hsp_align-len>\\n      <Hsp_qseq>MQSYASAMLSVFNSDDYSPAVQENIPALRRSSSFLCTESCNSKYQCETGENSKGNVQDRVKRPMNAFIVWSRDQRRKMALENPRMRNSEISKQLGYQWKMLTEAEKWPFFQEAQKLQAMHREKYPNYKYRPRRKAKMLPKNCSLLPADPASVLCSEVQLDNRLYRDDCTKATHSRMEHQLGHLPPINAASSPQQRDRYSHWTKL</Hsp_qseq>\\n      <Hsp_hseq>MQSYASAMLSVFNSDDYSPAVQQTIPAHRRSSSFLCTESCNSKYQCETGENSKGSVQDRVKRPMNAFIVWSRDQRRKMALENPRMRNSEISKQLGYQWKMLTEAEKWPFFQEAQKLQAMHREKYPNYKYRPRRKAKMLPKNCSLLPADPASVLCSEVQLDNRLYRDDCTKATHSRMEHQLGHLPPINAASSPQQRDRYSHWTKL</Hsp_hseq>\\n      <Hsp_midline>MQSYASAMLSVFNSDDYSPAVQ+ IPA RRSSSFLCTESCNSKYQCETGENSKG+VQDRVKRPMNAFIVWSRDQRRKMALENPRMRNSEISKQLGYQWKMLTEAEKWPFFQEAQKLQAMHREKYPNYKYRPRRKAKMLPKNCSLLPADPASVLCSEVQLDNRLYRDDCTKATHSRMEHQLGHLPPINAASSPQQRDRYSHWTKL</Hsp_midline>\\n    </Hsp>\\n  </Hit_hsps>\\n</Hit>\\n<Hit>\\n  <Hit_num>32</Hit_num>\\n  <Hit_id>gb|AEK31547.1|</Hit_id>\\n  <Hit_def>sex determining region Y [Homo sapiens]</Hit_def>\\n  <Hit_accession>AEK31547</Hit_accession>\\n  <Hit_len>204</Hit_len>\\n  <Hit_hsps>\\n    <Hsp>\\n      <Hsp_num>1</Hsp_num>\\n      <Hsp_bit-score>417.927</Hsp_bit-score>\\n      <Hsp_score>1073</Hsp_score>\\n      <Hsp_evalue>2.67655e-147</Hsp_evalue>\\n      <Hsp_query-from>1</Hsp_query-from>\\n      <Hsp_query-to>204</Hsp_query-to>\\n      <Hsp_hit-from>1</Hsp_hit-from>\\n      <Hsp_hit-to>204</Hsp_hit-to>\\n      <Hsp_query-frame>0</Hsp_query-frame>\\n      <Hsp_hit-frame>0</Hsp_hit-frame>\\n      <Hsp_identity>200</Hsp_identity>\\n      <Hsp_positive>200</Hsp_positive>\\n      <Hsp_gaps>0</Hsp_gaps>\\n      <Hsp_align-len>204</Hsp_align-len>\\n      <Hsp_qseq>MQSYASAMLSVFNSDDYSPAVQENIPALRRSSSFLCTESCNSKYQCETGENSKGNVQDRVKRPMNAFIVWSRDQRRKMALENPRMRNSEISKQLGYQWKMLTEAEKWPFFQEAQKLQAMHREKYPNYKYRPRRKAKMLPKNCSLLPADPASVLCSEVQLDNRLYRDDCTKATHSRMEHQLGHLPPINAASSPQQRDRYSHWTKL</Hsp_qseq>\\n      <Hsp_hseq>MQSYASAMLSVFNSDDYSPAVQENIPALRRSSSFLCTESCNSKYQCETGENSKGNVQDRVKRPMNAFIVWSRDQRRKMALENPRMXNSEISKQLGYQXKMLTEAXKWPFFQEAQKLQAMHREKYPNYKYRPRRKAKMLPKNCSLLPADPASVLCSEVQLDNRLYRDDCTKATHSRMEHQLSHLPPINAASSPQQRDRYSHWTKL</Hsp_hseq>\\n      <Hsp_midline>MQSYASAMLSVFNSDDYSPAVQENIPALRRSSSFLCTESCNSKYQCETGENSKGNVQDRVKRPMNAFIVWSRDQRRKMALENPRM NSEISKQLGYQ KMLTEA KWPFFQEAQKLQAMHREKYPNYKYRPRRKAKMLPKNCSLLPADPASVLCSEVQLDNRLYRDDCTKATHSRMEHQL HLPPINAASSPQQRDRYSHWTKL</Hsp_midline>\\n    </Hsp>\\n  </Hit_hsps>\\n</Hit>\\n<Hit>\\n  <Hit_num>33</Hit_num>\\n  <Hit_id>gb|AAB58342.1|</Hit_id>\\n  <Hit_def>sex-determining region Y protein, partial [Carica papaya] &gt;gb|AAT39011.1| sex-determining region on Y, partial [Homo sapiens] &gt;gb|AAT39012.1| sex-determining region on Y, partial [Homo sapiens] &gt;gb|AAT39013.1| sex-determining region on Y, partial [Homo sapiens] &gt;gb|AAT39014.1| sex-determining region on Y, partial [Homo sapiens]</Hit_def>\\n  <Hit_accession>AAB58342</Hit_accession>\\n  <Hit_len>198</Hit_len>\\n  <Hit_hsps>\\n    <Hsp>\\n      <Hsp_num>1</Hsp_num>\\n      <Hsp_bit-score>415.231</Hsp_bit-score>\\n      <Hsp_score>1066</Hsp_score>\\n      <Hsp_evalue>2.28289e-146</Hsp_evalue>\\n      <Hsp_query-from>1</Hsp_query-from>\\n      <Hsp_query-to>198</Hsp_query-to>\\n      <Hsp_hit-from>1</Hsp_hit-from>\\n      <Hsp_hit-to>198</Hsp_hit-to>\\n      <Hsp_query-frame>0</Hsp_query-frame>\\n      <Hsp_hit-frame>0</Hsp_hit-frame>\\n      <Hsp_identity>198</Hsp_identity>\\n      <Hsp_positive>198</Hsp_positive>\\n      <Hsp_gaps>0</Hsp_gaps>\\n      <Hsp_align-len>198</Hsp_align-len>\\n      <Hsp_qseq>MQSYASAMLSVFNSDDYSPAVQENIPALRRSSSFLCTESCNSKYQCETGENSKGNVQDRVKRPMNAFIVWSRDQRRKMALENPRMRNSEISKQLGYQWKMLTEAEKWPFFQEAQKLQAMHREKYPNYKYRPRRKAKMLPKNCSLLPADPASVLCSEVQLDNRLYRDDCTKATHSRMEHQLGHLPPINAASSPQQRDRY</Hsp_qseq>\\n      <Hsp_hseq>MQSYASAMLSVFNSDDYSPAVQENIPALRRSSSFLCTESCNSKYQCETGENSKGNVQDRVKRPMNAFIVWSRDQRRKMALENPRMRNSEISKQLGYQWKMLTEAEKWPFFQEAQKLQAMHREKYPNYKYRPRRKAKMLPKNCSLLPADPASVLCSEVQLDNRLYRDDCTKATHSRMEHQLGHLPPINAASSPQQRDRY</Hsp_hseq>\\n      <Hsp_midline>MQSYASAMLSVFNSDDYSPAVQENIPALRRSSSFLCTESCNSKYQCETGENSKGNVQDRVKRPMNAFIVWSRDQRRKMALENPRMRNSEISKQLGYQWKMLTEAEKWPFFQEAQKLQAMHREKYPNYKYRPRRKAKMLPKNCSLLPADPASVLCSEVQLDNRLYRDDCTKATHSRMEHQLGHLPPINAASSPQQRDRY</Hsp_midline>\\n    </Hsp>\\n  </Hit_hsps>\\n</Hit>\\n<Hit>\\n  <Hit_num>34</Hit_num>\\n  <Hit_id>gb|ADJ00508.1|</Hit_id>\\n  <Hit_def>SRY protein, partial [Homo sapiens]</Hit_def>\\n  <Hit_accession>ADJ00508</Hit_accession>\\n  <Hit_len>198</Hit_len>\\n  <Hit_hsps>\\n    <Hsp>\\n      <Hsp_num>1</Hsp_num>\\n      <Hsp_bit-score>414.075</Hsp_bit-score>\\n      <Hsp_score>1063</Hsp_score>\\n      <Hsp_evalue>6.54652e-146</Hsp_evalue>\\n      <Hsp_query-from>1</Hsp_query-from>\\n      <Hsp_query-to>198</Hsp_query-to>\\n      <Hsp_hit-from>1</Hsp_hit-from>\\n      <Hsp_hit-to>198</Hsp_hit-to>\\n      <Hsp_query-frame>0</Hsp_query-frame>\\n      <Hsp_hit-frame>0</Hsp_hit-frame>\\n      <Hsp_identity>197</Hsp_identity>\\n      <Hsp_positive>198</Hsp_positive>\\n      <Hsp_gaps>0</Hsp_gaps>\\n      <Hsp_align-len>198</Hsp_align-len>\\n      <Hsp_qseq>MQSYASAMLSVFNSDDYSPAVQENIPALRRSSSFLCTESCNSKYQCETGENSKGNVQDRVKRPMNAFIVWSRDQRRKMALENPRMRNSEISKQLGYQWKMLTEAEKWPFFQEAQKLQAMHREKYPNYKYRPRRKAKMLPKNCSLLPADPASVLCSEVQLDNRLYRDDCTKATHSRMEHQLGHLPPINAASSPQQRDRY</Hsp_qseq>\\n      <Hsp_hseq>MQSYASAMLSVFNSDDYSPAVQENIPALRRSSSFLCTESCNSKYQCETGENSKGNVQDRVKRPMNAFIVWSRDQKRKMALENPRMRNSEISKQLGYQWKMLTEAEKWPFFQEAQKLQAMHREKYPNYKYRPRRKAKMLPKNCSLLPADPASVLCSEVQLDNRLYRDDCTKATHSRMEHQLGHLPPINAASSPQQRDRY</Hsp_hseq>\\n      <Hsp_midline>MQSYASAMLSVFNSDDYSPAVQENIPALRRSSSFLCTESCNSKYQCETGENSKGNVQDRVKRPMNAFIVWSRDQ+RKMALENPRMRNSEISKQLGYQWKMLTEAEKWPFFQEAQKLQAMHREKYPNYKYRPRRKAKMLPKNCSLLPADPASVLCSEVQLDNRLYRDDCTKATHSRMEHQLGHLPPINAASSPQQRDRY</Hsp_midline>\\n    </Hsp>\\n  </Hit_hsps>\\n</Hit>\\n<Hit>\\n  <Hit_num>35</Hit_num>\\n  <Hit_id>gb|AAS79428.1|</Hit_id>\\n  <Hit_def>SRY protein, partial [Homo sapiens]</Hit_def>\\n  <Hit_accession>AAS79428</Hit_accession>\\n  <Hit_len>198</Hit_len>\\n  <Hit_hsps>\\n    <Hsp>\\n      <Hsp_num>1</Hsp_num>\\n      <Hsp_bit-score>413.69</Hsp_bit-score>\\n      <Hsp_score>1062</Hsp_score>\\n      <Hsp_evalue>8.15319e-146</Hsp_evalue>\\n      <Hsp_query-from>1</Hsp_query-from>\\n      <Hsp_query-to>198</Hsp_query-to>\\n      <Hsp_hit-from>1</Hsp_hit-from>\\n      <Hsp_hit-to>198</Hsp_hit-to>\\n      <Hsp_query-frame>0</Hsp_query-frame>\\n      <Hsp_hit-frame>0</Hsp_hit-frame>\\n      <Hsp_identity>197</Hsp_identity>\\n      <Hsp_positive>197</Hsp_positive>\\n      <Hsp_gaps>0</Hsp_gaps>\\n      <Hsp_align-len>198</Hsp_align-len>\\n      <Hsp_qseq>MQSYASAMLSVFNSDDYSPAVQENIPALRRSSSFLCTESCNSKYQCETGENSKGNVQDRVKRPMNAFIVWSRDQRRKMALENPRMRNSEISKQLGYQWKMLTEAEKWPFFQEAQKLQAMHREKYPNYKYRPRRKAKMLPKNCSLLPADPASVLCSEVQLDNRLYRDDCTKATHSRMEHQLGHLPPINAASSPQQRDRY</Hsp_qseq>\\n      <Hsp_hseq>MQSYASAMLGVFNSDDYSPAVQENIPALRRSSSFLCTESCNSKYQCETGENSKGNVQDRVKRPMNAFIVWSRDQRRKMALENPRMRNSEISKQLGYQWKMLTEAEKWPFFQEAQKLQAMHREKYPNYKYRPRRKAKMLPKNCSLLPADPASVLCSEVQLDNRLYRDDCTKATHSRMEHQLGHLPPINAASSPQQRDRY</Hsp_hseq>\\n      <Hsp_midline>MQSYASAML VFNSDDYSPAVQENIPALRRSSSFLCTESCNSKYQCETGENSKGNVQDRVKRPMNAFIVWSRDQRRKMALENPRMRNSEISKQLGYQWKMLTEAEKWPFFQEAQKLQAMHREKYPNYKYRPRRKAKMLPKNCSLLPADPASVLCSEVQLDNRLYRDDCTKATHSRMEHQLGHLPPINAASSPQQRDRY</Hsp_midline>\\n    </Hsp>\\n  </Hit_hsps>\\n</Hit>\\n<Hit>\\n  <Hit_num>36</Hit_num>\\n  <Hit_id>gb|AAX93513.1|</Hit_id>\\n  <Hit_def>SRY protein, partial [Homo sapiens]</Hit_def>\\n  <Hit_accession>AAX93513</Hit_accession>\\n  <Hit_len>198</Hit_len>\\n  <Hit_hsps>\\n    <Hsp>\\n      <Hsp_num>1</Hsp_num>\\n      <Hsp_bit-score>413.69</Hsp_bit-score>\\n      <Hsp_score>1062</Hsp_score>\\n      <Hsp_evalue>9.30074e-146</Hsp_evalue>\\n      <Hsp_query-from>1</Hsp_query-from>\\n      <Hsp_query-to>198</Hsp_query-to>\\n      <Hsp_hit-from>1</Hsp_hit-from>\\n      <Hsp_hit-to>198</Hsp_hit-to>\\n      <Hsp_query-frame>0</Hsp_query-frame>\\n      <Hsp_hit-frame>0</Hsp_hit-frame>\\n      <Hsp_identity>197</Hsp_identity>\\n      <Hsp_positive>198</Hsp_positive>\\n      <Hsp_gaps>0</Hsp_gaps>\\n      <Hsp_align-len>198</Hsp_align-len>\\n      <Hsp_qseq>MQSYASAMLSVFNSDDYSPAVQENIPALRRSSSFLCTESCNSKYQCETGENSKGNVQDRVKRPMNAFIVWSRDQRRKMALENPRMRNSEISKQLGYQWKMLTEAEKWPFFQEAQKLQAMHREKYPNYKYRPRRKAKMLPKNCSLLPADPASVLCSEVQLDNRLYRDDCTKATHSRMEHQLGHLPPINAASSPQQRDRY</Hsp_qseq>\\n      <Hsp_hseq>MQSYASAMLSVFNSDDYSPAVQENIPALRRSSSFLCTESCNSKYQCETGENSKGNVQDRVKRPMNAFIVWSRDQRRKMALENPRMRNSEISKQLGYQWKMLTEAEKWPFFQEAQKLQAMHREKYPNYKYRPRRKAKMLPKNCSLLPADPASVLCSEVQLDNRLYRDDCTEATHSRMEHQLGHLPPINAASSPQQRDRY</Hsp_hseq>\\n      <Hsp_midline>MQSYASAMLSVFNSDDYSPAVQENIPALRRSSSFLCTESCNSKYQCETGENSKGNVQDRVKRPMNAFIVWSRDQRRKMALENPRMRNSEISKQLGYQWKMLTEAEKWPFFQEAQKLQAMHREKYPNYKYRPRRKAKMLPKNCSLLPADPASVLCSEVQLDNRLYRDDCT+ATHSRMEHQLGHLPPINAASSPQQRDRY</Hsp_midline>\\n    </Hsp>\\n  </Hit_hsps>\\n</Hit>\\n<Hit>\\n  <Hit_num>37</Hit_num>\\n  <Hit_id>gb|AAT37461.1|</Hit_id>\\n  <Hit_def>SRY, partial [Homo sapiens]</Hit_def>\\n  <Hit_accession>AAT37461</Hit_accession>\\n  <Hit_len>198</Hit_len>\\n  <Hit_hsps>\\n    <Hsp>\\n      <Hsp_num>1</Hsp_num>\\n      <Hsp_bit-score>413.69</Hsp_bit-score>\\n      <Hsp_score>1062</Hsp_score>\\n      <Hsp_evalue>9.50713e-146</Hsp_evalue>\\n      <Hsp_query-from>1</Hsp_query-from>\\n      <Hsp_query-to>198</Hsp_query-to>\\n      <Hsp_hit-from>1</Hsp_hit-from>\\n      <Hsp_hit-to>198</Hsp_hit-to>\\n      <Hsp_query-frame>0</Hsp_query-frame>\\n      <Hsp_hit-frame>0</Hsp_hit-frame>\\n      <Hsp_identity>197</Hsp_identity>\\n      <Hsp_positive>197</Hsp_positive>\\n      <Hsp_gaps>0</Hsp_gaps>\\n      <Hsp_align-len>198</Hsp_align-len>\\n      <Hsp_qseq>MQSYASAMLSVFNSDDYSPAVQENIPALRRSSSFLCTESCNSKYQCETGENSKGNVQDRVKRPMNAFIVWSRDQRRKMALENPRMRNSEISKQLGYQWKMLTEAEKWPFFQEAQKLQAMHREKYPNYKYRPRRKAKMLPKNCSLLPADPASVLCSEVQLDNRLYRDDCTKATHSRMEHQLGHLPPINAASSPQQRDRY</Hsp_qseq>\\n      <Hsp_hseq>MQSYASAMLSVFNSDDYSPVVQENIPALRRSSSFLCTESCNSKYQCETGENSKGNVQDRVKRPMNAFIVWSRDQRRKMALENPRMRNSEISKQLGYQWKMLTEAEKWPFFQEAQKLQAMHREKYPNYKYRPRRKAKMLPKNCSLLPADPASVLCSEVQLDNRLYRDDCTKATHSRMEHQLGHLPPINAASSPQQRDRY</Hsp_hseq>\\n      <Hsp_midline>MQSYASAMLSVFNSDDYSP VQENIPALRRSSSFLCTESCNSKYQCETGENSKGNVQDRVKRPMNAFIVWSRDQRRKMALENPRMRNSEISKQLGYQWKMLTEAEKWPFFQEAQKLQAMHREKYPNYKYRPRRKAKMLPKNCSLLPADPASVLCSEVQLDNRLYRDDCTKATHSRMEHQLGHLPPINAASSPQQRDRY</Hsp_midline>\\n    </Hsp>\\n  </Hit_hsps>\\n</Hit>\\n<Hit>\\n  <Hit_num>38</Hit_num>\\n  <Hit_id>gb|ADJ37113.1|</Hit_id>\\n  <Hit_def>testis-determining factor, partial [Homo sapiens]</Hit_def>\\n  <Hit_accession>ADJ37113</Hit_accession>\\n  <Hit_len>198</Hit_len>\\n  <Hit_hsps>\\n    <Hsp>\\n      <Hsp_num>1</Hsp_num>\\n      <Hsp_bit-score>413.305</Hsp_bit-score>\\n      <Hsp_score>1061</Hsp_score>\\n      <Hsp_evalue>1.38066e-145</Hsp_evalue>\\n      <Hsp_query-from>1</Hsp_query-from>\\n      <Hsp_query-to>198</Hsp_query-to>\\n      <Hsp_hit-from>1</Hsp_hit-from>\\n      <Hsp_hit-to>198</Hsp_hit-to>\\n      <Hsp_query-frame>0</Hsp_query-frame>\\n      <Hsp_hit-frame>0</Hsp_hit-frame>\\n      <Hsp_identity>197</Hsp_identity>\\n      <Hsp_positive>197</Hsp_positive>\\n      <Hsp_gaps>0</Hsp_gaps>\\n      <Hsp_align-len>198</Hsp_align-len>\\n      <Hsp_qseq>MQSYASAMLSVFNSDDYSPAVQENIPALRRSSSFLCTESCNSKYQCETGENSKGNVQDRVKRPMNAFIVWSRDQRRKMALENPRMRNSEISKQLGYQWKMLTEAEKWPFFQEAQKLQAMHREKYPNYKYRPRRKAKMLPKNCSLLPADPASVLCSEVQLDNRLYRDDCTKATHSRMEHQLGHLPPINAASSPQQRDRY</Hsp_qseq>\\n      <Hsp_hseq>MQSYASAMLSVFNSDDYSPAVQENIPALRRSSSILCTESCNSKYQCETGENSKGNVQDRVKRPMNAFIVWSRDQRRKMALENPRMRNSEISKQLGYQWKMLTEAEKWPFFQEAQKLQAMHREKYPNYKYRPRRKAKMLPKNCSLLPADPASVLCSEVQLDNRLYRDDCTKATHSRMEHQLGHLPPINAASSPQQRDRY</Hsp_hseq>\\n      <Hsp_midline>MQSYASAMLSVFNSDDYSPAVQENIPALRRSSS LCTESCNSKYQCETGENSKGNVQDRVKRPMNAFIVWSRDQRRKMALENPRMRNSEISKQLGYQWKMLTEAEKWPFFQEAQKLQAMHREKYPNYKYRPRRKAKMLPKNCSLLPADPASVLCSEVQLDNRLYRDDCTKATHSRMEHQLGHLPPINAASSPQQRDRY</Hsp_midline>\\n    </Hsp>\\n  </Hit_hsps>\\n</Hit>\\n<Hit>\\n  <Hit_num>39</Hit_num>\\n  <Hit_id>gb|ADJ37117.1|</Hit_id>\\n  <Hit_def>testis-determining factor, partial [Homo sapiens]</Hit_def>\\n  <Hit_accession>ADJ37117</Hit_accession>\\n  <Hit_len>198</Hit_len>\\n  <Hit_hsps>\\n    <Hsp>\\n      <Hsp_num>1</Hsp_num>\\n      <Hsp_bit-score>413.305</Hsp_bit-score>\\n      <Hsp_score>1061</Hsp_score>\\n      <Hsp_evalue>1.5578e-145</Hsp_evalue>\\n      <Hsp_query-from>1</Hsp_query-from>\\n      <Hsp_query-to>198</Hsp_query-to>\\n      <Hsp_hit-from>1</Hsp_hit-from>\\n      <Hsp_hit-to>198</Hsp_hit-to>\\n      <Hsp_query-frame>0</Hsp_query-frame>\\n      <Hsp_hit-frame>0</Hsp_hit-frame>\\n      <Hsp_identity>197</Hsp_identity>\\n      <Hsp_positive>197</Hsp_positive>\\n      <Hsp_gaps>0</Hsp_gaps>\\n      <Hsp_align-len>198</Hsp_align-len>\\n      <Hsp_qseq>MQSYASAMLSVFNSDDYSPAVQENIPALRRSSSFLCTESCNSKYQCETGENSKGNVQDRVKRPMNAFIVWSRDQRRKMALENPRMRNSEISKQLGYQWKMLTEAEKWPFFQEAQKLQAMHREKYPNYKYRPRRKAKMLPKNCSLLPADPASVLCSEVQLDNRLYRDDCTKATHSRMEHQLGHLPPINAASSPQQRDRY</Hsp_qseq>\\n      <Hsp_hseq>MQSYASAMLSVFNSDDYSPAVQENIPALRRSSSFLCTESCNSKYQCETGENSKGNVQDRVKRPMNAFIVWSRDQRRKMAQENPRMRNSEISKQLGYQWKMLTEAEKWPFFQEAQKLQAMHREKYPNYKYRPRRKAKMLPKNCSLLPADPASVLCSEVQLDNRLYRDDCTKATHSRMEHQLGHLPPINAASSPQQRDRY</Hsp_hseq>\\n      <Hsp_midline>MQSYASAMLSVFNSDDYSPAVQENIPALRRSSSFLCTESCNSKYQCETGENSKGNVQDRVKRPMNAFIVWSRDQRRKMA ENPRMRNSEISKQLGYQWKMLTEAEKWPFFQEAQKLQAMHREKYPNYKYRPRRKAKMLPKNCSLLPADPASVLCSEVQLDNRLYRDDCTKATHSRMEHQLGHLPPINAASSPQQRDRY</Hsp_midline>\\n    </Hsp>\\n  </Hit_hsps>\\n</Hit>\\n<Hit>\\n  <Hit_num>40</Hit_num>\\n  <Hit_id>gb|ADJ37116.1|</Hit_id>\\n  <Hit_def>testis-determining factor, partial [Homo sapiens]</Hit_def>\\n  <Hit_accession>ADJ37116</Hit_accession>\\n  <Hit_len>198</Hit_len>\\n  <Hit_hsps>\\n    <Hsp>\\n      <Hsp_num>1</Hsp_num>\\n      <Hsp_bit-score>412.92</Hsp_bit-score>\\n      <Hsp_score>1060</Hsp_score>\\n      <Hsp_evalue>1.68218e-145</Hsp_evalue>\\n      <Hsp_query-from>1</Hsp_query-from>\\n      <Hsp_query-to>198</Hsp_query-to>\\n      <Hsp_hit-from>1</Hsp_hit-from>\\n      <Hsp_hit-to>198</Hsp_hit-to>\\n      <Hsp_query-frame>0</Hsp_query-frame>\\n      <Hsp_hit-frame>0</Hsp_hit-frame>\\n      <Hsp_identity>197</Hsp_identity>\\n      <Hsp_positive>197</Hsp_positive>\\n      <Hsp_gaps>0</Hsp_gaps>\\n      <Hsp_align-len>198</Hsp_align-len>\\n      <Hsp_qseq>MQSYASAMLSVFNSDDYSPAVQENIPALRRSSSFLCTESCNSKYQCETGENSKGNVQDRVKRPMNAFIVWSRDQRRKMALENPRMRNSEISKQLGYQWKMLTEAEKWPFFQEAQKLQAMHREKYPNYKYRPRRKAKMLPKNCSLLPADPASVLCSEVQLDNRLYRDDCTKATHSRMEHQLGHLPPINAASSPQQRDRY</Hsp_qseq>\\n      <Hsp_hseq>MQSYASAMLSVFNSDDYSPAVQENIPALRRSSSFLCTESCNSKYQCETGENSKGNVQDRVKRPMNAFIVWSRDQRRKMALENPRMRNSEISKQLGYQWKMLTEAEKWPFFQEAQKLQAMHREKYPNYKYRPRRKAKMLPKKCSLLPADPASVLCSEVQLDNRLYRDDCTKATHSRMEHQLGHLPPINAASSPQQRDRY</Hsp_hseq>\\n      <Hsp_midline>MQSYASAMLSVFNSDDYSPAVQENIPALRRSSSFLCTESCNSKYQCETGENSKGNVQDRVKRPMNAFIVWSRDQRRKMALENPRMRNSEISKQLGYQWKMLTEAEKWPFFQEAQKLQAMHREKYPNYKYRPRRKAKMLPK CSLLPADPASVLCSEVQLDNRLYRDDCTKATHSRMEHQLGHLPPINAASSPQQRDRY</Hsp_midline>\\n    </Hsp>\\n  </Hit_hsps>\\n</Hit>\\n<Hit>\\n  <Hit_num>41</Hit_num>\\n  <Hit_id>gb|ADJ00518.1|</Hit_id>\\n  <Hit_def>SRY protein, partial [Homo sapiens]</Hit_def>\\n  <Hit_accession>ADJ00518</Hit_accession>\\n  <Hit_len>198</Hit_len>\\n  <Hit_hsps>\\n    <Hsp>\\n      <Hsp_num>1</Hsp_num>\\n      <Hsp_bit-score>412.92</Hsp_bit-score>\\n      <Hsp_score>1060</Hsp_score>\\n      <Hsp_evalue>1.73848e-145</Hsp_evalue>\\n      <Hsp_query-from>1</Hsp_query-from>\\n      <Hsp_query-to>198</Hsp_query-to>\\n      <Hsp_hit-from>1</Hsp_hit-from>\\n      <Hsp_hit-to>198</Hsp_hit-to>\\n      <Hsp_query-frame>0</Hsp_query-frame>\\n      <Hsp_hit-frame>0</Hsp_hit-frame>\\n      <Hsp_identity>197</Hsp_identity>\\n      <Hsp_positive>197</Hsp_positive>\\n      <Hsp_gaps>0</Hsp_gaps>\\n      <Hsp_align-len>198</Hsp_align-len>\\n      <Hsp_qseq>MQSYASAMLSVFNSDDYSPAVQENIPALRRSSSFLCTESCNSKYQCETGENSKGNVQDRVKRPMNAFIVWSRDQRRKMALENPRMRNSEISKQLGYQWKMLTEAEKWPFFQEAQKLQAMHREKYPNYKYRPRRKAKMLPKNCSLLPADPASVLCSEVQLDNRLYRDDCTKATHSRMEHQLGHLPPINAASSPQQRDRY</Hsp_qseq>\\n      <Hsp_hseq>MQSYASAMLSVFNSDDYSPAVQENIPALRRSSSFLCTESCNSKYHCETGENSKGNVQDRVKRPMNAFIVWSRDQRRKMALENPRMRNSEISKQLGYQWKMLTEAEKWPFFQEAQKLQAMHREKYPNYKYRPRRKAKMLPKNCSLLPADPASVLCSEVQLDNRLYRDDCTKATHSRMEHQLGHLPPINAASSPQQRDRY</Hsp_hseq>\\n      <Hsp_midline>MQSYASAMLSVFNSDDYSPAVQENIPALRRSSSFLCTESCNSKY CETGENSKGNVQDRVKRPMNAFIVWSRDQRRKMALENPRMRNSEISKQLGYQWKMLTEAEKWPFFQEAQKLQAMHREKYPNYKYRPRRKAKMLPKNCSLLPADPASVLCSEVQLDNRLYRDDCTKATHSRMEHQLGHLPPINAASSPQQRDRY</Hsp_midline>\\n    </Hsp>\\n  </Hit_hsps>\\n</Hit>\\n<Hit>\\n  <Hit_num>42</Hit_num>\\n  <Hit_id>gb|ADJ37115.1|</Hit_id>\\n  <Hit_def>testis-determining factor, partial [Homo sapiens]</Hit_def>\\n  <Hit_accession>ADJ37115</Hit_accession>\\n  <Hit_len>198</Hit_len>\\n  <Hit_hsps>\\n    <Hsp>\\n      <Hsp_num>1</Hsp_num>\\n      <Hsp_bit-score>412.92</Hsp_bit-score>\\n      <Hsp_score>1060</Hsp_score>\\n      <Hsp_evalue>1.73848e-145</Hsp_evalue>\\n      <Hsp_query-from>1</Hsp_query-from>\\n      <Hsp_query-to>198</Hsp_query-to>\\n      <Hsp_hit-from>1</Hsp_hit-from>\\n      <Hsp_hit-to>198</Hsp_hit-to>\\n      <Hsp_query-frame>0</Hsp_query-frame>\\n      <Hsp_hit-frame>0</Hsp_hit-frame>\\n      <Hsp_identity>197</Hsp_identity>\\n      <Hsp_positive>197</Hsp_positive>\\n      <Hsp_gaps>0</Hsp_gaps>\\n      <Hsp_align-len>198</Hsp_align-len>\\n      <Hsp_qseq>MQSYASAMLSVFNSDDYSPAVQENIPALRRSSSFLCTESCNSKYQCETGENSKGNVQDRVKRPMNAFIVWSRDQRRKMALENPRMRNSEISKQLGYQWKMLTEAEKWPFFQEAQKLQAMHREKYPNYKYRPRRKAKMLPKNCSLLPADPASVLCSEVQLDNRLYRDDCTKATHSRMEHQLGHLPPINAASSPQQRDRY</Hsp_qseq>\\n      <Hsp_hseq>MQSYASAMLSVFNSDDYSPAVQENIPALRRSSSFLCTESCNSKYQCETGENSKGNVQDRVKRPMNAFIVWSRDQRRKMALENPRMRNSEISKQLGYQWKMLTEAEKWPFFQEAHKLQAMHREKYPNYKYRPRRKAKMLPKNCSLLPADPASVLCSEVQLDNRLYRDDCTKATHSRMEHQLGHLPPINAASSPQQRDRY</Hsp_hseq>\\n      <Hsp_midline>MQSYASAMLSVFNSDDYSPAVQENIPALRRSSSFLCTESCNSKYQCETGENSKGNVQDRVKRPMNAFIVWSRDQRRKMALENPRMRNSEISKQLGYQWKMLTEAEKWPFFQEA KLQAMHREKYPNYKYRPRRKAKMLPKNCSLLPADPASVLCSEVQLDNRLYRDDCTKATHSRMEHQLGHLPPINAASSPQQRDRY</Hsp_midline>\\n    </Hsp>\\n  </Hit_hsps>\\n</Hit>\\n<Hit>\\n  <Hit_num>43</Hit_num>\\n  <Hit_id>gb|ADJ00517.1|</Hit_id>\\n  <Hit_def>SRY protein, partial [Homo sapiens]</Hit_def>\\n  <Hit_accession>ADJ00517</Hit_accession>\\n  <Hit_len>198</Hit_len>\\n  <Hit_hsps>\\n    <Hsp>\\n      <Hsp_num>1</Hsp_num>\\n      <Hsp_bit-score>412.535</Hsp_bit-score>\\n      <Hsp_score>1059</Hsp_score>\\n      <Hsp_evalue>2.33801e-145</Hsp_evalue>\\n      <Hsp_query-from>1</Hsp_query-from>\\n      <Hsp_query-to>198</Hsp_query-to>\\n      <Hsp_hit-from>1</Hsp_hit-from>\\n      <Hsp_hit-to>198</Hsp_hit-to>\\n      <Hsp_query-frame>0</Hsp_query-frame>\\n      <Hsp_hit-frame>0</Hsp_hit-frame>\\n      <Hsp_identity>197</Hsp_identity>\\n      <Hsp_positive>197</Hsp_positive>\\n      <Hsp_gaps>0</Hsp_gaps>\\n      <Hsp_align-len>198</Hsp_align-len>\\n      <Hsp_qseq>MQSYASAMLSVFNSDDYSPAVQENIPALRRSSSFLCTESCNSKYQCETGENSKGNVQDRVKRPMNAFIVWSRDQRRKMALENPRMRNSEISKQLGYQWKMLTEAEKWPFFQEAQKLQAMHREKYPNYKYRPRRKAKMLPKNCSLLPADPASVLCSEVQLDNRLYRDDCTKATHSRMEHQLGHLPPINAASSPQQRDRY</Hsp_qseq>\\n      <Hsp_hseq>MQSYASAMLSVFNSDDYSPAVQENIPALRRSSSFLCTESCNSKYQCETGENSKGNVQDRVKRPMNAFIVWSRDQRRKMALENPRMRNSEISKQLGYQWKMLTEAEKWPFFQEAQILQAMHREKYPNYKYRPRRKAKMLPKNCSLLPADPASVLCSEVQLDNRLYRDDCTKATHSRMEHQLGHLPPINAASSPQQRDRY</Hsp_hseq>\\n      <Hsp_midline>MQSYASAMLSVFNSDDYSPAVQENIPALRRSSSFLCTESCNSKYQCETGENSKGNVQDRVKRPMNAFIVWSRDQRRKMALENPRMRNSEISKQLGYQWKMLTEAEKWPFFQEAQ LQAMHREKYPNYKYRPRRKAKMLPKNCSLLPADPASVLCSEVQLDNRLYRDDCTKATHSRMEHQLGHLPPINAASSPQQRDRY</Hsp_midline>\\n    </Hsp>\\n  </Hit_hsps>\\n</Hit>\\n<Hit>\\n  <Hit_num>44</Hit_num>\\n  <Hit_id>emb|CAD13147.1|</Hit_id>\\n  <Hit_def>sex determining region Y, partial [Homo sapiens]</Hit_def>\\n  <Hit_accession>CAD13147</Hit_accession>\\n  <Hit_len>198</Hit_len>\\n  <Hit_hsps>\\n    <Hsp>\\n      <Hsp_num>1</Hsp_num>\\n      <Hsp_bit-score>412.535</Hsp_bit-score>\\n      <Hsp_score>1059</Hsp_score>\\n      <Hsp_evalue>2.63798e-145</Hsp_evalue>\\n      <Hsp_query-from>1</Hsp_query-from>\\n      <Hsp_query-to>198</Hsp_query-to>\\n      <Hsp_hit-from>1</Hsp_hit-from>\\n      <Hsp_hit-to>198</Hsp_hit-to>\\n      <Hsp_query-frame>0</Hsp_query-frame>\\n      <Hsp_hit-frame>0</Hsp_hit-frame>\\n      <Hsp_identity>197</Hsp_identity>\\n      <Hsp_positive>197</Hsp_positive>\\n      <Hsp_gaps>0</Hsp_gaps>\\n      <Hsp_align-len>198</Hsp_align-len>\\n      <Hsp_qseq>MQSYASAMLSVFNSDDYSPAVQENIPALRRSSSFLCTESCNSKYQCETGENSKGNVQDRVKRPMNAFIVWSRDQRRKMALENPRMRNSEISKQLGYQWKMLTEAEKWPFFQEAQKLQAMHREKYPNYKYRPRRKAKMLPKNCSLLPADPASVLCSEVQLDNRLYRDDCTKATHSRMEHQLGHLPPINAASSPQQRDRY</Hsp_qseq>\\n      <Hsp_hseq>MQSYASAMLSVFNSDDYSPAVQENIPALRRSSSFLCTESCNSKYQCETGENSKGNVQDGVKRPMNAFIVWSRDQRRKMALENPRMRNSEISKQLGYQWKMLTEAEKWPFFQEAQKLQAMHREKYPNYKYRPRRKAKMLPKNCSLLPADPASVLCSEVQLDNRLYRDDCTKATHSRMEHQLGHLPPINAASSPQQRDRY</Hsp_hseq>\\n      <Hsp_midline>MQSYASAMLSVFNSDDYSPAVQENIPALRRSSSFLCTESCNSKYQCETGENSKGNVQD VKRPMNAFIVWSRDQRRKMALENPRMRNSEISKQLGYQWKMLTEAEKWPFFQEAQKLQAMHREKYPNYKYRPRRKAKMLPKNCSLLPADPASVLCSEVQLDNRLYRDDCTKATHSRMEHQLGHLPPINAASSPQQRDRY</Hsp_midline>\\n    </Hsp>\\n  </Hit_hsps>\\n</Hit>\\n<Hit>\\n  <Hit_num>45</Hit_num>\\n  <Hit_id>gb|ADJ00513.1|</Hit_id>\\n  <Hit_def>SRY protein, partial [Homo sapiens]</Hit_def>\\n  <Hit_accession>ADJ00513</Hit_accession>\\n  <Hit_len>198</Hit_len>\\n  <Hit_hsps>\\n    <Hsp>\\n      <Hsp_num>1</Hsp_num>\\n      <Hsp_bit-score>412.535</Hsp_bit-score>\\n      <Hsp_score>1059</Hsp_score>\\n      <Hsp_evalue>2.63798e-145</Hsp_evalue>\\n      <Hsp_query-from>1</Hsp_query-from>\\n      <Hsp_query-to>198</Hsp_query-to>\\n      <Hsp_hit-from>1</Hsp_hit-from>\\n      <Hsp_hit-to>198</Hsp_hit-to>\\n      <Hsp_query-frame>0</Hsp_query-frame>\\n      <Hsp_hit-frame>0</Hsp_hit-frame>\\n      <Hsp_identity>197</Hsp_identity>\\n      <Hsp_positive>197</Hsp_positive>\\n      <Hsp_gaps>0</Hsp_gaps>\\n      <Hsp_align-len>198</Hsp_align-len>\\n      <Hsp_qseq>MQSYASAMLSVFNSDDYSPAVQENIPALRRSSSFLCTESCNSKYQCETGENSKGNVQDRVKRPMNAFIVWSRDQRRKMALENPRMRNSEISKQLGYQWKMLTEAEKWPFFQEAQKLQAMHREKYPNYKYRPRRKAKMLPKNCSLLPADPASVLCSEVQLDNRLYRDDCTKATHSRMEHQLGHLPPINAASSPQQRDRY</Hsp_qseq>\\n      <Hsp_hseq>MQSYASAMLSVFNSDDYSPAVQENIPALRGSSSFLCTESCNSKYQCETGENSKGNVQDRVKRPMNAFIVWSRDQRRKMALENPRMRNSEISKQLGYQWKMLTEAEKWPFFQEAQKLQAMHREKYPNYKYRPRRKAKMLPKNCSLLPADPASVLCSEVQLDNRLYRDDCTKATHSRMEHQLGHLPPINAASSPQQRDRY</Hsp_hseq>\\n      <Hsp_midline>MQSYASAMLSVFNSDDYSPAVQENIPALR SSSFLCTESCNSKYQCETGENSKGNVQDRVKRPMNAFIVWSRDQRRKMALENPRMRNSEISKQLGYQWKMLTEAEKWPFFQEAQKLQAMHREKYPNYKYRPRRKAKMLPKNCSLLPADPASVLCSEVQLDNRLYRDDCTKATHSRMEHQLGHLPPINAASSPQQRDRY</Hsp_midline>\\n    </Hsp>\\n  </Hit_hsps>\\n</Hit>\\n<Hit>\\n  <Hit_num>46</Hit_num>\\n  <Hit_id>gb|AAY88211.1|</Hit_id>\\n  <Hit_def>SRY, partial [Homo sapiens]</Hit_def>\\n  <Hit_accession>AAY88211</Hit_accession>\\n  <Hit_len>198</Hit_len>\\n  <Hit_hsps>\\n    <Hsp>\\n      <Hsp_num>1</Hsp_num>\\n      <Hsp_bit-score>412.149</Hsp_bit-score>\\n      <Hsp_score>1058</Hsp_score>\\n      <Hsp_evalue>3.66644e-145</Hsp_evalue>\\n      <Hsp_query-from>1</Hsp_query-from>\\n      <Hsp_query-to>198</Hsp_query-to>\\n      <Hsp_hit-from>1</Hsp_hit-from>\\n      <Hsp_hit-to>198</Hsp_hit-to>\\n      <Hsp_query-frame>0</Hsp_query-frame>\\n      <Hsp_hit-frame>0</Hsp_hit-frame>\\n      <Hsp_identity>197</Hsp_identity>\\n      <Hsp_positive>197</Hsp_positive>\\n      <Hsp_gaps>0</Hsp_gaps>\\n      <Hsp_align-len>198</Hsp_align-len>\\n      <Hsp_qseq>MQSYASAMLSVFNSDDYSPAVQENIPALRRSSSFLCTESCNSKYQCETGENSKGNVQDRVKRPMNAFIVWSRDQRRKMALENPRMRNSEISKQLGYQWKMLTEAEKWPFFQEAQKLQAMHREKYPNYKYRPRRKAKMLPKNCSLLPADPASVLCSEVQLDNRLYRDDCTKATHSRMEHQLGHLPPINAASSPQQRDRY</Hsp_qseq>\\n      <Hsp_hseq>MQSYASAMLSVFNSDDYSPAVQENIPALRRSSSFLCTESCNSKYQCETGENSKGNVQDRVKRPMNAFIVWSRDQRRKMALENPRMRNSEISKQLGYQWKMLTEAEKWPFFQEAQKLQAMHREKYPNYKYRPRRKAKMLPKICSLLPADPASVLCSEVQLDNRLYRDDCTKATHSRMEHQLGHLPPINAASSPQQRDRY</Hsp_hseq>\\n      <Hsp_midline>MQSYASAMLSVFNSDDYSPAVQENIPALRRSSSFLCTESCNSKYQCETGENSKGNVQDRVKRPMNAFIVWSRDQRRKMALENPRMRNSEISKQLGYQWKMLTEAEKWPFFQEAQKLQAMHREKYPNYKYRPRRKAKMLPK CSLLPADPASVLCSEVQLDNRLYRDDCTKATHSRMEHQLGHLPPINAASSPQQRDRY</Hsp_midline>\\n    </Hsp>\\n  </Hit_hsps>\\n</Hit>\\n<Hit>\\n  <Hit_num>47</Hit_num>\\n  <Hit_id>gb|ADJ00514.1|</Hit_id>\\n  <Hit_def>SRY protein, partial [Homo sapiens]</Hit_def>\\n  <Hit_accession>ADJ00514</Hit_accession>\\n  <Hit_len>198</Hit_len>\\n  <Hit_hsps>\\n    <Hsp>\\n      <Hsp_num>1</Hsp_num>\\n      <Hsp_bit-score>412.149</Hsp_bit-score>\\n      <Hsp_score>1058</Hsp_score>\\n      <Hsp_evalue>3.7478e-145</Hsp_evalue>\\n      <Hsp_query-from>1</Hsp_query-from>\\n      <Hsp_query-to>198</Hsp_query-to>\\n      <Hsp_hit-from>1</Hsp_hit-from>\\n      <Hsp_hit-to>198</Hsp_hit-to>\\n      <Hsp_query-frame>0</Hsp_query-frame>\\n      <Hsp_hit-frame>0</Hsp_hit-frame>\\n      <Hsp_identity>197</Hsp_identity>\\n      <Hsp_positive>197</Hsp_positive>\\n      <Hsp_gaps>0</Hsp_gaps>\\n      <Hsp_align-len>198</Hsp_align-len>\\n      <Hsp_qseq>MQSYASAMLSVFNSDDYSPAVQENIPALRRSSSFLCTESCNSKYQCETGENSKGNVQDRVKRPMNAFIVWSRDQRRKMALENPRMRNSEISKQLGYQWKMLTEAEKWPFFQEAQKLQAMHREKYPNYKYRPRRKAKMLPKNCSLLPADPASVLCSEVQLDNRLYRDDCTKATHSRMEHQLGHLPPINAASSPQQRDRY</Hsp_qseq>\\n      <Hsp_hseq>MQSYASAMLSVFNSDDYSPAVQENIPAHRRSSSFLCTESCNSKYQCETGENSKGNVQDRVKRPMNAFIVWSRDQRRKMALENPRMRNSEISKQLGYQWKMLTEAEKWPFFQEAQKLQAMHREKYPNYKYRPRRKAKMLPKNCSLLPADPASVLCSEVQLDNRLYRDDCTKATHSRMEHQLGHLPPINAASSPQQRDRY</Hsp_hseq>\\n      <Hsp_midline>MQSYASAMLSVFNSDDYSPAVQENIPA RRSSSFLCTESCNSKYQCETGENSKGNVQDRVKRPMNAFIVWSRDQRRKMALENPRMRNSEISKQLGYQWKMLTEAEKWPFFQEAQKLQAMHREKYPNYKYRPRRKAKMLPKNCSLLPADPASVLCSEVQLDNRLYRDDCTKATHSRMEHQLGHLPPINAASSPQQRDRY</Hsp_midline>\\n    </Hsp>\\n  </Hit_hsps>\\n</Hit>\\n<Hit>\\n  <Hit_num>48</Hit_num>\\n  <Hit_id>gb|ADJ00515.1|</Hit_id>\\n  <Hit_def>SRY protein, partial [Homo sapiens]</Hit_def>\\n  <Hit_accession>ADJ00515</Hit_accession>\\n  <Hit_len>198</Hit_len>\\n  <Hit_hsps>\\n    <Hsp>\\n      <Hsp_num>1</Hsp_num>\\n      <Hsp_bit-score>412.149</Hsp_bit-score>\\n      <Hsp_score>1058</Hsp_score>\\n      <Hsp_evalue>4.09169e-145</Hsp_evalue>\\n      <Hsp_query-from>1</Hsp_query-from>\\n      <Hsp_query-to>198</Hsp_query-to>\\n      <Hsp_hit-from>1</Hsp_hit-from>\\n      <Hsp_hit-to>198</Hsp_hit-to>\\n      <Hsp_query-frame>0</Hsp_query-frame>\\n      <Hsp_hit-frame>0</Hsp_hit-frame>\\n      <Hsp_identity>197</Hsp_identity>\\n      <Hsp_positive>197</Hsp_positive>\\n      <Hsp_gaps>0</Hsp_gaps>\\n      <Hsp_align-len>198</Hsp_align-len>\\n      <Hsp_qseq>MQSYASAMLSVFNSDDYSPAVQENIPALRRSSSFLCTESCNSKYQCETGENSKGNVQDRVKRPMNAFIVWSRDQRRKMALENPRMRNSEISKQLGYQWKMLTEAEKWPFFQEAQKLQAMHREKYPNYKYRPRRKAKMLPKNCSLLPADPASVLCSEVQLDNRLYRDDCTKATHSRMEHQLGHLPPINAASSPQQRDRY</Hsp_qseq>\\n      <Hsp_hseq>MQSYASAMLSVFNSDDYSPAVQENIPALRRSSSFLCTESCNSKYQCERGENSKGNVQDRVKRPMNAFIVWSRDQRRKMALENPRMRNSEISKQLGYQWKMLTEAEKWPFFQEAQKLQAMHREKYPNYKYRPRRKAKMLPKNCSLLPADPASVLCSEVQLDNRLYRDDCTKATHSRMEHQLGHLPPINAASSPQQRDRY</Hsp_hseq>\\n      <Hsp_midline>MQSYASAMLSVFNSDDYSPAVQENIPALRRSSSFLCTESCNSKYQCE GENSKGNVQDRVKRPMNAFIVWSRDQRRKMALENPRMRNSEISKQLGYQWKMLTEAEKWPFFQEAQKLQAMHREKYPNYKYRPRRKAKMLPKNCSLLPADPASVLCSEVQLDNRLYRDDCTKATHSRMEHQLGHLPPINAASSPQQRDRY</Hsp_midline>\\n    </Hsp>\\n  </Hit_hsps>\\n</Hit>\\n<Hit>\\n  <Hit_num>49</Hit_num>\\n  <Hit_id>gb|AAT37462.1|</Hit_id>\\n  <Hit_def>SRY, partial [Homo sapiens]</Hit_def>\\n  <Hit_accession>AAT37462</Hit_accession>\\n  <Hit_len>198</Hit_len>\\n  <Hit_hsps>\\n    <Hsp>\\n      <Hsp_num>1</Hsp_num>\\n      <Hsp_bit-score>412.149</Hsp_bit-score>\\n      <Hsp_score>1058</Hsp_score>\\n      <Hsp_evalue>4.46713e-145</Hsp_evalue>\\n      <Hsp_query-from>1</Hsp_query-from>\\n      <Hsp_query-to>198</Hsp_query-to>\\n      <Hsp_hit-from>1</Hsp_hit-from>\\n      <Hsp_hit-to>198</Hsp_hit-to>\\n      <Hsp_query-frame>0</Hsp_query-frame>\\n      <Hsp_hit-frame>0</Hsp_hit-frame>\\n      <Hsp_identity>197</Hsp_identity>\\n      <Hsp_positive>197</Hsp_positive>\\n      <Hsp_gaps>0</Hsp_gaps>\\n      <Hsp_align-len>198</Hsp_align-len>\\n      <Hsp_qseq>MQSYASAMLSVFNSDDYSPAVQENIPALRRSSSFLCTESCNSKYQCETGENSKGNVQDRVKRPMNAFIVWSRDQRRKMALENPRMRNSEISKQLGYQWKMLTEAEKWPFFQEAQKLQAMHREKYPNYKYRPRRKAKMLPKNCSLLPADPASVLCSEVQLDNRLYRDDCTKATHSRMEHQLGHLPPINAASSPQQRDRY</Hsp_qseq>\\n      <Hsp_hseq>MQSYASAMLSVFNSDDYSPAVQENIPALRRSSSFLCTESCNSKYQCETGENSKGNVQDRVKRLMNAFIVWSRDQRRKMALENPRMRNSEISKQLGYQWKMLTEAEKWPFFQEAQKLQAMHREKYPNYKYRPRRKAKMLPKNCSLLPADPASVLCSEVQLDNRLYRDDCTKATHSRMEHQLGHLPPINAASSPQQRDRY</Hsp_hseq>\\n      <Hsp_midline>MQSYASAMLSVFNSDDYSPAVQENIPALRRSSSFLCTESCNSKYQCETGENSKGNVQDRVKR MNAFIVWSRDQRRKMALENPRMRNSEISKQLGYQWKMLTEAEKWPFFQEAQKLQAMHREKYPNYKYRPRRKAKMLPKNCSLLPADPASVLCSEVQLDNRLYRDDCTKATHSRMEHQLGHLPPINAASSPQQRDRY</Hsp_midline>\\n    </Hsp>\\n  </Hit_hsps>\\n</Hit>\\n<Hit>\\n  <Hit_num>50</Hit_num>\\n  <Hit_id>gb|ADJ00511.1|</Hit_id>\\n  <Hit_def>SRY protein, partial [Homo sapiens]</Hit_def>\\n  <Hit_accession>ADJ00511</Hit_accession>\\n  <Hit_len>198</Hit_len>\\n  <Hit_hsps>\\n    <Hsp>\\n      <Hsp_num>1</Hsp_num>\\n      <Hsp_bit-score>411.764</Hsp_bit-score>\\n      <Hsp_score>1057</Hsp_score>\\n      <Hsp_evalue>5.8131e-145</Hsp_evalue>\\n      <Hsp_query-from>1</Hsp_query-from>\\n      <Hsp_query-to>198</Hsp_query-to>\\n      <Hsp_hit-from>1</Hsp_hit-from>\\n      <Hsp_hit-to>198</Hsp_hit-to>\\n      <Hsp_query-frame>0</Hsp_query-frame>\\n      <Hsp_hit-frame>0</Hsp_hit-frame>\\n      <Hsp_identity>196</Hsp_identity>\\n      <Hsp_positive>196</Hsp_positive>\\n      <Hsp_gaps>0</Hsp_gaps>\\n      <Hsp_align-len>198</Hsp_align-len>\\n      <Hsp_qseq>MQSYASAMLSVFNSDDYSPAVQENIPALRRSSSFLCTESCNSKYQCETGENSKGNVQDRVKRPMNAFIVWSRDQRRKMALENPRMRNSEISKQLGYQWKMLTEAEKWPFFQEAQKLQAMHREKYPNYKYRPRRKAKMLPKNCSLLPADPASVLCSEVQLDNRLYRDDCTKATHSRMEHQLGHLPPINAASSPQQRDRY</Hsp_qseq>\\n      <Hsp_hseq>MQSYASAMLSVFNSDDYSPAVQENIPALRRSSSFLCTESCNSKYQCETGENSKGNVQDRVKRPMNAFIVWSRDQRRKMAQENPRMRNSEISKQLGYQWKMLTEAEKWPFFQEAQKLQAMHREKYPNYKYRPRRKTKMLPKNCSLLPADPASVLCSEVQLDNRLYRDDCTKATHSRMEHQLGHLPPINAASSPQQRDRY</Hsp_hseq>\\n      <Hsp_midline>MQSYASAMLSVFNSDDYSPAVQENIPALRRSSSFLCTESCNSKYQCETGENSKGNVQDRVKRPMNAFIVWSRDQRRKMA ENPRMRNSEISKQLGYQWKMLTEAEKWPFFQEAQKLQAMHREKYPNYKYRPRRK KMLPKNCSLLPADPASVLCSEVQLDNRLYRDDCTKATHSRMEHQLGHLPPINAASSPQQRDRY</Hsp_midline>\\n    </Hsp>\\n  </Hit_hsps>\\n</Hit>\\n<Hit>\\n  <Hit_num>51</Hit_num>\\n  <Hit_id>gb|ADJ00509.1|</Hit_id>\\n  <Hit_def>SRY protein, partial [Homo sapiens]</Hit_def>\\n  <Hit_accession>ADJ00509</Hit_accession>\\n  <Hit_len>198</Hit_len>\\n  <Hit_hsps>\\n    <Hsp>\\n      <Hsp_num>1</Hsp_num>\\n      <Hsp_bit-score>411.379</Hsp_bit-score>\\n      <Hsp_score>1056</Hsp_score>\\n      <Hsp_evalue>7.99125e-145</Hsp_evalue>\\n      <Hsp_query-from>1</Hsp_query-from>\\n      <Hsp_query-to>198</Hsp_query-to>\\n      <Hsp_hit-from>1</Hsp_hit-from>\\n      <Hsp_hit-to>198</Hsp_hit-to>\\n      <Hsp_query-frame>0</Hsp_query-frame>\\n      <Hsp_hit-frame>0</Hsp_hit-frame>\\n      <Hsp_identity>197</Hsp_identity>\\n      <Hsp_positive>197</Hsp_positive>\\n      <Hsp_gaps>0</Hsp_gaps>\\n      <Hsp_align-len>198</Hsp_align-len>\\n      <Hsp_qseq>MQSYASAMLSVFNSDDYSPAVQENIPALRRSSSFLCTESCNSKYQCETGENSKGNVQDRVKRPMNAFIVWSRDQRRKMALENPRMRNSEISKQLGYQWKMLTEAEKWPFFQEAQKLQAMHREKYPNYKYRPRRKAKMLPKNCSLLPADPASVLCSEVQLDNRLYRDDCTKATHSRMEHQLGHLPPINAASSPQQRDRY</Hsp_qseq>\\n      <Hsp_hseq>MQSYASAMLSVFNSDDYSPAVQENIPALRRSSSFLCTESCNSKYQCETGENSKGNVQDRVKRPMNAFIVWSRDQRRKMALENPRMRNSEISKQLRYQWKMLTEAEKWPFFQEAQKLQAMHREKYPNYKYRPRRKAKMLPKNCSLLPADPASVLCSEVQLDNRLYRDDCTKATHSRMEHQLGHLPPINAASSPQQRDRY</Hsp_hseq>\\n      <Hsp_midline>MQSYASAMLSVFNSDDYSPAVQENIPALRRSSSFLCTESCNSKYQCETGENSKGNVQDRVKRPMNAFIVWSRDQRRKMALENPRMRNSEISKQL YQWKMLTEAEKWPFFQEAQKLQAMHREKYPNYKYRPRRKAKMLPKNCSLLPADPASVLCSEVQLDNRLYRDDCTKATHSRMEHQLGHLPPINAASSPQQRDRY</Hsp_midline>\\n    </Hsp>\\n  </Hit_hsps>\\n</Hit>\\n<Hit>\\n  <Hit_num>52</Hit_num>\\n  <Hit_id>gb|ADJ00512.1|</Hit_id>\\n  <Hit_def>SRY protein, partial [Homo sapiens]</Hit_def>\\n  <Hit_accession>ADJ00512</Hit_accession>\\n  <Hit_len>198</Hit_len>\\n  <Hit_hsps>\\n    <Hsp>\\n      <Hsp_num>1</Hsp_num>\\n      <Hsp_bit-score>410.609</Hsp_bit-score>\\n      <Hsp_score>1054</Hsp_score>\\n      <Hsp_evalue>1.4937e-144</Hsp_evalue>\\n      <Hsp_query-from>1</Hsp_query-from>\\n      <Hsp_query-to>198</Hsp_query-to>\\n      <Hsp_hit-from>1</Hsp_hit-from>\\n      <Hsp_hit-to>198</Hsp_hit-to>\\n      <Hsp_query-frame>0</Hsp_query-frame>\\n      <Hsp_hit-frame>0</Hsp_hit-frame>\\n      <Hsp_identity>196</Hsp_identity>\\n      <Hsp_positive>196</Hsp_positive>\\n      <Hsp_gaps>0</Hsp_gaps>\\n      <Hsp_align-len>198</Hsp_align-len>\\n      <Hsp_qseq>MQSYASAMLSVFNSDDYSPAVQENIPALRRSSSFLCTESCNSKYQCETGENSKGNVQDRVKRPMNAFIVWSRDQRRKMALENPRMRNSEISKQLGYQWKMLTEAEKWPFFQEAQKLQAMHREKYPNYKYRPRRKAKMLPKNCSLLPADPASVLCSEVQLDNRLYRDDCTKATHSRMEHQLGHLPPINAASSPQQRDRY</Hsp_qseq>\\n      <Hsp_hseq>MQSYASAMLSVFNSDDYSPAVQENIPALRRSSSLLCTESCNSKYQCETGENRKGNVQDRVKRPMNAFIVWSRDQRRKMALENPRMRNSEISKQLGYQWKMLTEAEKWPFFQEAQKLQAMHREKYPNYKYRPRRKAKMLPKNCSLLPADPASVLCSEVQLDNRLYRDDCTKATHSRMEHQLGHLPPINAASSPQQRDRY</Hsp_hseq>\\n      <Hsp_midline>MQSYASAMLSVFNSDDYSPAVQENIPALRRSSS LCTESCNSKYQCETGEN KGNVQDRVKRPMNAFIVWSRDQRRKMALENPRMRNSEISKQLGYQWKMLTEAEKWPFFQEAQKLQAMHREKYPNYKYRPRRKAKMLPKNCSLLPADPASVLCSEVQLDNRLYRDDCTKATHSRMEHQLGHLPPINAASSPQQRDRY</Hsp_midline>\\n    </Hsp>\\n  </Hit_hsps>\\n</Hit>\\n<Hit>\\n  <Hit_num>53</Hit_num>\\n  <Hit_id>gb|AAY15123.1|</Hit_id>\\n  <Hit_def>mutant SRY protein [Homo sapiens]</Hit_def>\\n  <Hit_accession>AAY15123</Hit_accession>\\n  <Hit_len>197</Hit_len>\\n  <Hit_hsps>\\n    <Hsp>\\n      <Hsp_num>1</Hsp_num>\\n      <Hsp_bit-score>410.609</Hsp_bit-score>\\n      <Hsp_score>1054</Hsp_score>\\n      <Hsp_evalue>1.7557e-144</Hsp_evalue>\\n      <Hsp_query-from>1</Hsp_query-from>\\n      <Hsp_query-to>197</Hsp_query-to>\\n      <Hsp_hit-from>1</Hsp_hit-from>\\n      <Hsp_hit-to>197</Hsp_hit-to>\\n      <Hsp_query-frame>0</Hsp_query-frame>\\n      <Hsp_hit-frame>0</Hsp_hit-frame>\\n      <Hsp_identity>196</Hsp_identity>\\n      <Hsp_positive>196</Hsp_positive>\\n      <Hsp_gaps>0</Hsp_gaps>\\n      <Hsp_align-len>197</Hsp_align-len>\\n      <Hsp_qseq>MQSYASAMLSVFNSDDYSPAVQENIPALRRSSSFLCTESCNSKYQCETGENSKGNVQDRVKRPMNAFIVWSRDQRRKMALENPRMRNSEISKQLGYQWKMLTEAEKWPFFQEAQKLQAMHREKYPNYKYRPRRKAKMLPKNCSLLPADPASVLCSEVQLDNRLYRDDCTKATHSRMEHQLGHLPPINAASSPQQRDR</Hsp_qseq>\\n      <Hsp_hseq>MQSYASAMLSVFNSDDYSPAVQENIPALRRSSSFLCTESCNSKYQCETGENSKGNVQDSVKRPMNAFIVWSRDQRRKMALENPRMRNSEISKQLGYQWKMLTEAEKWPFFQEAQKLQAMHREKYPNYKYRPRRKAKMLPKNCSLLPADPASVLCSEVQLDNRLYRDDCTKATHSRMEHQLGHLPPINAASSPQQRDR</Hsp_hseq>\\n      <Hsp_midline>MQSYASAMLSVFNSDDYSPAVQENIPALRRSSSFLCTESCNSKYQCETGENSKGNVQD VKRPMNAFIVWSRDQRRKMALENPRMRNSEISKQLGYQWKMLTEAEKWPFFQEAQKLQAMHREKYPNYKYRPRRKAKMLPKNCSLLPADPASVLCSEVQLDNRLYRDDCTKATHSRMEHQLGHLPPINAASSPQQRDR</Hsp_midline>\\n    </Hsp>\\n  </Hit_hsps>\\n</Hit>\\n<Hit>\\n  <Hit_num>54</Hit_num>\\n  <Hit_id>gb|ADJ37114.1|</Hit_id>\\n  <Hit_def>testis-determining factor, partial [Homo sapiens]</Hit_def>\\n  <Hit_accession>ADJ37114</Hit_accession>\\n  <Hit_len>198</Hit_len>\\n  <Hit_hsps>\\n    <Hsp>\\n      <Hsp_num>1</Hsp_num>\\n      <Hsp_bit-score>410.609</Hsp_bit-score>\\n      <Hsp_score>1054</Hsp_score>\\n      <Hsp_evalue>1.78038e-144</Hsp_evalue>\\n      <Hsp_query-from>1</Hsp_query-from>\\n      <Hsp_query-to>198</Hsp_query-to>\\n      <Hsp_hit-from>1</Hsp_hit-from>\\n      <Hsp_hit-to>198</Hsp_hit-to>\\n      <Hsp_query-frame>0</Hsp_query-frame>\\n      <Hsp_hit-frame>0</Hsp_hit-frame>\\n      <Hsp_identity>196</Hsp_identity>\\n      <Hsp_positive>196</Hsp_positive>\\n      <Hsp_gaps>0</Hsp_gaps>\\n      <Hsp_align-len>198</Hsp_align-len>\\n      <Hsp_qseq>MQSYASAMLSVFNSDDYSPAVQENIPALRRSSSFLCTESCNSKYQCETGENSKGNVQDRVKRPMNAFIVWSRDQRRKMALENPRMRNSEISKQLGYQWKMLTEAEKWPFFQEAQKLQAMHREKYPNYKYRPRRKAKMLPKNCSLLPADPASVLCSEVQLDNRLYRDDCTKATHSRMEHQLGHLPPINAASSPQQRDRY</Hsp_qseq>\\n      <Hsp_hseq>MQSYASAMLSVFNSDDYSPAVQENIPALRRSSSFLCTEGCNSKYQCETGENSKGNVQDRVKRPMNAFIVWSRDQRRKMALENPRMRNSEISKQLGYQWKMPTEAEKWPFFQEAQKLQAMHREKYPNYKYRPRRKAKMLPKNCSLLPADPASVLCSEVQLDNRLYRDDCTKATHSRMEHQLGHLPPINAASSPQQRDRY</Hsp_hseq>\\n      <Hsp_midline>MQSYASAMLSVFNSDDYSPAVQENIPALRRSSSFLCTE CNSKYQCETGENSKGNVQDRVKRPMNAFIVWSRDQRRKMALENPRMRNSEISKQLGYQWKM TEAEKWPFFQEAQKLQAMHREKYPNYKYRPRRKAKMLPKNCSLLPADPASVLCSEVQLDNRLYRDDCTKATHSRMEHQLGHLPPINAASSPQQRDRY</Hsp_midline>\\n    </Hsp>\\n  </Hit_hsps>\\n</Hit>\\n<Hit>\\n  <Hit_num>55</Hit_num>\\n  <Hit_id>ref|NP_001008988.1|</Hit_id>\\n  <Hit_def>sex-determining region Y protein [Pan troglodytes] &gt;ref|XP_024209825.1| sex-determining region Y protein [Pan troglodytes] &gt;sp|Q28798.1| RecName: Full=Sex-determining region Y protein; AltName: Full=Testis-determining factor [Pan troglodytes] &gt;gb|AAT84368.1| SRY [Pan troglodytes] &gt;gb|ABM91955.1| SRY [Pan troglodytes] &gt;gb|ADX95828.1| sex-determining region Y protein, partial [Pan troglodytes] &gt;gb|PNI14127.1| SRY isoform 1 [Pan troglodytes] &gt;emb|CAA60140.1| SRY [Pan troglodytes]</Hit_def>\\n  <Hit_accession>NP_001008988</Hit_accession>\\n  <Hit_len>204</Hit_len>\\n  <Hit_hsps>\\n    <Hsp>\\n      <Hsp_num>1</Hsp_num>\\n      <Hsp_bit-score>410.609</Hsp_bit-score>\\n      <Hsp_score>1054</Hsp_score>\\n      <Hsp_evalue>2.11373e-144</Hsp_evalue>\\n      <Hsp_query-from>1</Hsp_query-from>\\n      <Hsp_query-to>204</Hsp_query-to>\\n      <Hsp_hit-from>1</Hsp_hit-from>\\n      <Hsp_hit-to>204</Hsp_hit-to>\\n      <Hsp_query-frame>0</Hsp_query-frame>\\n      <Hsp_hit-frame>0</Hsp_hit-frame>\\n      <Hsp_identity>197</Hsp_identity>\\n      <Hsp_positive>199</Hsp_positive>\\n      <Hsp_gaps>0</Hsp_gaps>\\n      <Hsp_align-len>204</Hsp_align-len>\\n      <Hsp_qseq>MQSYASAMLSVFNSDDYSPAVQENIPALRRSSSFLCTESCNSKYQCETGENSKGNVQDRVKRPMNAFIVWSRDQRRKMALENPRMRNSEISKQLGYQWKMLTEAEKWPFFQEAQKLQAMHREKYPNYKYRPRRKAKMLPKNCSLLPADPASVLCSEVQLDNRLYRDDCTKATHSRMEHQLGHLPPINAASSPQQRDRYSHWTKL</Hsp_qseq>\\n      <Hsp_hseq>MQSYASAMLSVFNSDDYSPAVQQNIPALRRSSSFLCTESYNSKYQRETGENSKDSVQDRVKRPMNAFFVWSRDQRRKMALENPRMRNSEISKQLGYQWKMLTEAEKWPFFQEAQKLQAMHREKYPNYKYRPRRKANMLPKNCSLLPADPASVLCSEVQLDNRLYRDDCTKATHSRMEHQLGHLPPINAASSPQQRDRYSHWTKL</Hsp_hseq>\\n      <Hsp_midline>MQSYASAMLSVFNSDDYSPAVQ+NIPALRRSSSFLCTES NSKYQ ETGENSK +VQDRVKRPMNAF VWSRDQRRKMALENPRMRNSEISKQLGYQWKMLTEAEKWPFFQEAQKLQAMHREKYPNYKYRPRRKA MLPKNCSLLPADPASVLCSEVQLDNRLYRDDCTKATHSRMEHQLGHLPPINAASSPQQRDRYSHWTKL</Hsp_midline>\\n    </Hsp>\\n  </Hit_hsps>\\n</Hit>\\n<Hit>\\n  <Hit_num>56</Hit_num>\\n  <Hit_id>gb|AAX93511.1|</Hit_id>\\n  <Hit_def>SRY protein, partial [Homo sapiens]</Hit_def>\\n  <Hit_accession>AAX93511</Hit_accession>\\n  <Hit_len>198</Hit_len>\\n  <Hit_hsps>\\n    <Hsp>\\n      <Hsp_num>1</Hsp_num>\\n      <Hsp_bit-score>407.142</Hsp_bit-score>\\n      <Hsp_score>1045</Hsp_score>\\n      <Hsp_evalue>3.60001e-143</Hsp_evalue>\\n      <Hsp_query-from>1</Hsp_query-from>\\n      <Hsp_query-to>198</Hsp_query-to>\\n      <Hsp_hit-from>1</Hsp_hit-from>\\n      <Hsp_hit-to>198</Hsp_hit-to>\\n      <Hsp_query-frame>0</Hsp_query-frame>\\n      <Hsp_hit-frame>0</Hsp_hit-frame>\\n      <Hsp_identity>195</Hsp_identity>\\n      <Hsp_positive>196</Hsp_positive>\\n      <Hsp_gaps>0</Hsp_gaps>\\n      <Hsp_align-len>198</Hsp_align-len>\\n      <Hsp_qseq>MQSYASAMLSVFNSDDYSPAVQENIPALRRSSSFLCTESCNSKYQCETGENSKGNVQDRVKRPMNAFIVWSRDQRRKMALENPRMRNSEISKQLGYQWKMLTEAEKWPFFQEAQKLQAMHREKYPNYKYRPRRKAKMLPKNCSLLPADPASVLCSEVQLDNRLYRDDCTKATHSRMEHQLGHLPPINAASSPQQRDRY</Hsp_qseq>\\n      <Hsp_hseq>MQSYASAMLSVFNSDDYSPAVQENIPALRRSSSFLCTESCNSKYQCETGENSKGNVQDRVKRPMNAFIVWSRDQRRKMALENPRMRNSEISKQLGYQWKMLTEAEKWPFSQEAQKLQAMHREKYPNYKYRPRRKAKMLPKNCSLLPADPASVLCSEVQLDNRLFRDDCTKATHSRMEHQLGHLPPINAASSPQQPDRY</Hsp_hseq>\\n      <Hsp_midline>MQSYASAMLSVFNSDDYSPAVQENIPALRRSSSFLCTESCNSKYQCETGENSKGNVQDRVKRPMNAFIVWSRDQRRKMALENPRMRNSEISKQLGYQWKMLTEAEKWPF QEAQKLQAMHREKYPNYKYRPRRKAKMLPKNCSLLPADPASVLCSEVQLDNRL+RDDCTKATHSRMEHQLGHLPPINAASSPQQ DRY</Hsp_midline>\\n    </Hsp>\\n  </Hit_hsps>\\n</Hit>\\n<Hit>\\n  <Hit_num>57</Hit_num>\\n  <Hit_id>gb|AAX93512.1|</Hit_id>\\n  <Hit_def>SRY protein, partial [Homo sapiens]</Hit_def>\\n  <Hit_accession>AAX93512</Hit_accession>\\n  <Hit_len>198</Hit_len>\\n  <Hit_hsps>\\n    <Hsp>\\n      <Hsp_num>1</Hsp_num>\\n      <Hsp_bit-score>402.134</Hsp_bit-score>\\n      <Hsp_score>1032</Hsp_score>\\n      <Hsp_evalue>3.20176e-141</Hsp_evalue>\\n      <Hsp_query-from>1</Hsp_query-from>\\n      <Hsp_query-to>197</Hsp_query-to>\\n      <Hsp_hit-from>1</Hsp_hit-from>\\n      <Hsp_hit-to>197</Hsp_hit-to>\\n      <Hsp_query-frame>0</Hsp_query-frame>\\n      <Hsp_hit-frame>0</Hsp_hit-frame>\\n      <Hsp_identity>192</Hsp_identity>\\n      <Hsp_positive>193</Hsp_positive>\\n      <Hsp_gaps>0</Hsp_gaps>\\n      <Hsp_align-len>197</Hsp_align-len>\\n      <Hsp_qseq>MQSYASAMLSVFNSDDYSPAVQENIPALRRSSSFLCTESCNSKYQCETGENSKGNVQDRVKRPMNAFIVWSRDQRRKMALENPRMRNSEISKQLGYQWKMLTEAEKWPFFQEAQKLQAMHREKYPNYKYRPRRKAKMLPKNCSLLPADPASVLCSEVQLDNRLYRDDCTKATHSRMEHQLGHLPPINAASSPQQRDR</Hsp_qseq>\\n      <Hsp_hseq>MQSYASVMLSVFNSDDYSPAVQENIPALRRGSSSLCTESCNSKYQCETGENSKGNVQERVKRPMNAFIVWSRDQRRKMALENPRMRNSEISKQLGYQWKMLTEAEKWAFFQEAQKLQAMHREKYPNYKYRPRRKAKMLPKNCSLLPADPASVLCSEVQLDNRLYRDDCTKATHSRMEHQLGHLPPINAASSPQQRDR</Hsp_hseq>\\n      <Hsp_midline>MQSYAS MLSVFNSDDYSPAVQENIPALRR SS LCTESCNSKYQCETGENSKGNVQ+RVKRPMNAFIVWSRDQRRKMALENPRMRNSEISKQLGYQWKMLTEAEKW FFQEAQKLQAMHREKYPNYKYRPRRKAKMLPKNCSLLPADPASVLCSEVQLDNRLYRDDCTKATHSRMEHQLGHLPPINAASSPQQRDR</Hsp_midline>\\n    </Hsp>\\n  </Hit_hsps>\\n</Hit>\\n<Hit>\\n  <Hit_num>58</Hit_num>\\n  <Hit_id>sp|Q28778.1|</Hit_id>\\n  <Hit_def>RecName: Full=Sex-determining region Y protein; AltName: Full=Testis-determining factor [Pan paniscus] &gt;gb|ABM54238.1| SRY [Pan paniscus] &gt;emb|CAA60141.1| SRY [Pan paniscus]</Hit_def>\\n  <Hit_accession>Q28778</Hit_accession>\\n  <Hit_len>204</Hit_len>\\n  <Hit_hsps>\\n    <Hsp>\\n      <Hsp_num>1</Hsp_num>\\n      <Hsp_bit-score>400.208</Hsp_bit-score>\\n      <Hsp_score>1027</Hsp_score>\\n      <Hsp_evalue>2.53558e-140</Hsp_evalue>\\n      <Hsp_query-from>1</Hsp_query-from>\\n      <Hsp_query-to>204</Hsp_query-to>\\n      <Hsp_hit-from>1</Hsp_hit-from>\\n      <Hsp_hit-to>204</Hsp_hit-to>\\n      <Hsp_query-frame>0</Hsp_query-frame>\\n      <Hsp_hit-frame>0</Hsp_hit-frame>\\n      <Hsp_identity>193</Hsp_identity>\\n      <Hsp_positive>195</Hsp_positive>\\n      <Hsp_gaps>0</Hsp_gaps>\\n      <Hsp_align-len>204</Hsp_align-len>\\n      <Hsp_qseq>MQSYASAMLSVFNSDDYSPAVQENIPALRRSSSFLCTESCNSKYQCETGENSKGNVQDRVKRPMNAFIVWSRDQRRKMALENPRMRNSEISKQLGYQWKMLTEAEKWPFFQEAQKLQAMHREKYPNYKYRPRRKAKMLPKNCSLLPADPASVLCSEVQLDNRLYRDDCTKATHSRMEHQLGHLPPINAASSPQQRDRYSHWTKL</Hsp_qseq>\\n      <Hsp_hseq>MQSYASAMLSVFNSDDYSPGVQQNIPALRRSSSFLCTESYNSKYQRETGENSKDSVQDRVKRPMNAFFVWSRDQRRKMALENPRMRNSEISKQLGYQWKMLTAAEKWPFFQEAQKLQAMHREKYPNYKYRPRRKANMLPKNCSLLPADPASVLCSEVQLDNRLYRDDCTKATHSTMEHQLGHLPPINAASSPQQRDRCSHWTKL</Hsp_hseq>\\n      <Hsp_midline>MQSYASAMLSVFNSDDYSP VQ+NIPALRRSSSFLCTES NSKYQ ETGENSK +VQDRVKRPMNAF VWSRDQRRKMALENPRMRNSEISKQLGYQWKMLT AEKWPFFQEAQKLQAMHREKYPNYKYRPRRKA MLPKNCSLLPADPASVLCSEVQLDNRLYRDDCTKATHS MEHQLGHLPPINAASSPQQRDR SHWTKL</Hsp_midline>\\n    </Hsp>\\n  </Hit_hsps>\\n</Hit>\\n<Hit>\\n  <Hit_num>59</Hit_num>\\n  <Hit_id>sp|Q28783.1|</Hit_id>\\n  <Hit_def>RecName: Full=Sex-determining region Y protein; AltName: Full=Testis-determining factor [Pongo pygmaeus] &gt;emb|CAA60143.1| SRY [Pongo pygmaeus]</Hit_def>\\n  <Hit_accession>Q28783</Hit_accession>\\n  <Hit_len>233</Hit_len>\\n  <Hit_hsps>\\n    <Hsp>\\n      <Hsp_num>1</Hsp_num>\\n      <Hsp_bit-score>400.979</Hsp_bit-score>\\n      <Hsp_score>1029</Hsp_score>\\n      <Hsp_evalue>4.04964e-140</Hsp_evalue>\\n      <Hsp_query-from>1</Hsp_query-from>\\n      <Hsp_query-to>204</Hsp_query-to>\\n      <Hsp_hit-from>1</Hsp_hit-from>\\n      <Hsp_hit-to>205</Hsp_hit-to>\\n      <Hsp_query-frame>0</Hsp_query-frame>\\n      <Hsp_hit-frame>0</Hsp_hit-frame>\\n      <Hsp_identity>192</Hsp_identity>\\n      <Hsp_positive>199</Hsp_positive>\\n      <Hsp_gaps>1</Hsp_gaps>\\n      <Hsp_align-len>205</Hsp_align-len>\\n      <Hsp_qseq>MQSYASAMLSVFNSDDYSPAVQENIPALRRSSSFLCTESCNSKYQCETGENSKGNVQDRVKRPMNAFIVWSRDQRRKMALENPRMRNSEISKQLGYQWKMLTEAEKWPFFQEAQKLQAMHREKYPNYKYRPRRKAKMLPKNCSLLPADPASVLCSEV-QLDNRLYRDDCTKATHSRMEHQLGHLPPINAASSPQQRDRYSHWTKL</Hsp_qseq>\\n      <Hsp_hseq>MQSYASAMLSVFNSDDYSPAVQQNIPALRRSSSFICTESYNSKYQCETGENSKGSVQDRVKRPMNAFIVWSRDQRRKMALENPKMRNSEISKQLGYQWKMLTEAEKWPFFQEAQKLQAMHREKYPNYKYRPRRKAKMLQKSCSSLPADPASVLCSEVLQLDNRLYRDDCTKATHSRLEHQLGHLPPINTASSPQQRDRYSHSTEL</Hsp_hseq>\\n      <Hsp_midline>MQSYASAMLSVFNSDDYSPAVQ+NIPALRRSSSF+CTES NSKYQCETGENSKG+VQDRVKRPMNAFIVWSRDQRRKMALENP+MRNSEISKQLGYQWKMLTEAEKWPFFQEAQKLQAMHREKYPNYKYRPRRKAKML K+CS LPADPASVLCSEV QLDNRLYRDDCTKATHSR+EHQLGHLPPIN ASSPQQRDRYSH T+L</Hsp_midline>\\n    </Hsp>\\n  </Hit_hsps>\\n</Hit>\\n<Hit>\\n  <Hit_num>60</Hit_num>\\n  <Hit_id>gb|ADX95829.1|</Hit_id>\\n  <Hit_def>sex-determining region Y protein, partial [Pongo abelii]</Hit_def>\\n  <Hit_accession>ADX95829</Hit_accession>\\n  <Hit_len>205</Hit_len>\\n  <Hit_hsps>\\n    <Hsp>\\n      <Hsp_num>1</Hsp_num>\\n      <Hsp_bit-score>399.438</Hsp_bit-score>\\n      <Hsp_score>1025</Hsp_score>\\n      <Hsp_evalue>4.85817e-140</Hsp_evalue>\\n      <Hsp_query-from>1</Hsp_query-from>\\n      <Hsp_query-to>204</Hsp_query-to>\\n      <Hsp_hit-from>1</Hsp_hit-from>\\n      <Hsp_hit-to>205</Hsp_hit-to>\\n      <Hsp_query-frame>0</Hsp_query-frame>\\n      <Hsp_hit-frame>0</Hsp_hit-frame>\\n      <Hsp_identity>192</Hsp_identity>\\n      <Hsp_positive>199</Hsp_positive>\\n      <Hsp_gaps>1</Hsp_gaps>\\n      <Hsp_align-len>205</Hsp_align-len>\\n      <Hsp_qseq>MQSYASAMLSVFNSDDYSPAVQENIPALRRSSSFLCTESCNSKYQCETGENSKGNVQDRVKRPMNAFIVWSRDQRRKMALENPRMRNSEISKQLGYQWKMLTEAEKWPFFQEAQKLQAMHREKYPNYKYRPRRKAKMLPKNCSLLPADPASVLCSEV-QLDNRLYRDDCTKATHSRMEHQLGHLPPINAASSPQQRDRYSHWTKL</Hsp_qseq>\\n      <Hsp_hseq>MQSYASAMLSVFNSDDYSPAVQQNIPALRRSSSFICTESYNSKYQCETGENSKGSVQDRVKRPMNAFIVWSRDQRRKMALENPKMRNSEISKQLGYQWKMLTEAEKWPFFQEAQKLQAMHREKYPNYKYRPRRKAKMLQKSCSSLPADPASVLCSEVLQLDNRLYRDDCTKATHSRLEHQLGHLPPINTASSPQQRDRYSHSTEL</Hsp_hseq>\\n      <Hsp_midline>MQSYASAMLSVFNSDDYSPAVQ+NIPALRRSSSF+CTES NSKYQCETGENSKG+VQDRVKRPMNAFIVWSRDQRRKMALENP+MRNSEISKQLGYQWKMLTEAEKWPFFQEAQKLQAMHREKYPNYKYRPRRKAKML K+CS LPADPASVLCSEV QLDNRLYRDDCTKATHSR+EHQLGHLPPIN ASSPQQRDRYSH T+L</Hsp_midline>\\n    </Hsp>\\n  </Hit_hsps>\\n</Hit>\\n<Hit>\\n  <Hit_num>61</Hit_num>\\n  <Hit_id>gb|AAL09290.1|</Hit_id>\\n  <Hit_def>SRY, partial [Miopithecus talapoin] &gt;gb|AAL09291.1| SRY, partial [Miopithecus talapoin] &gt;gb|ABS82757.1| sex-determining factor, partial [Miopithecus talapoin]</Hit_def>\\n  <Hit_accession>AAL09290</Hit_accession>\\n  <Hit_len>204</Hit_len>\\n  <Hit_hsps>\\n    <Hsp>\\n      <Hsp_num>1</Hsp_num>\\n      <Hsp_bit-score>392.119</Hsp_bit-score>\\n      <Hsp_score>1006</Hsp_score>\\n      <Hsp_evalue>4.75885e-137</Hsp_evalue>\\n      <Hsp_query-from>1</Hsp_query-from>\\n      <Hsp_query-to>204</Hsp_query-to>\\n      <Hsp_hit-from>1</Hsp_hit-from>\\n      <Hsp_hit-to>204</Hsp_hit-to>\\n      <Hsp_query-frame>0</Hsp_query-frame>\\n      <Hsp_hit-frame>0</Hsp_hit-frame>\\n      <Hsp_identity>184</Hsp_identity>\\n      <Hsp_positive>195</Hsp_positive>\\n      <Hsp_gaps>0</Hsp_gaps>\\n      <Hsp_align-len>204</Hsp_align-len>\\n      <Hsp_qseq>MQSYASAMLSVFNSDDYSPAVQENIPALRRSSSFLCTESCNSKYQCETGENSKGNVQDRVKRPMNAFIVWSRDQRRKMALENPRMRNSEISKQLGYQWKMLTEAEKWPFFQEAQKLQAMHREKYPNYKYRPRRKAKMLPKNCSLLPADPASVLCSEVQLDNRLYRDDCTKATHSRMEHQLGHLPPINAASSPQQRDRYSHWTKL</Hsp_qseq>\\n      <Hsp_hseq>MQSYASAMLSVFNTDGYSPAAQQNIPALRRSSSFICTESCSSKYQCEAGENSKGSVQDRVKRPMNAFIVWSRDQRRKMALENPKMRNSEISKQLGYQWKMLTEADKWPFFQEAQKLQAMHREKYPNYKYRPRRKAKMLQNSCSLLPADPSSVPCREVELDNRLYRDDCTKATHSRMQHQLGHLPPINTASSPQQRDRYSHSTKL</Hsp_hseq>\\n      <Hsp_midline>MQSYASAMLSVFN+D YSPA Q+NIPALRRSSSF+CTESC+SKYQCE GENSKG+VQDRVKRPMNAFIVWSRDQRRKMALENP+MRNSEISKQLGYQWKMLTEA+KWPFFQEAQKLQAMHREKYPNYKYRPRRKAKML  +CSLLPADP+SV C EV+LDNRLYRDDCTKATHSRM+HQLGHLPPIN ASSPQQRDRYSH TKL</Hsp_midline>\\n    </Hsp>\\n  </Hit_hsps>\\n</Hit>\\n<Hit>\\n  <Hit_num>62</Hit_num>\\n  <Hit_id>gb|AAT39017.1|</Hit_id>\\n  <Hit_def>sex-determining region on Y, partial [Homo sapiens]</Hit_def>\\n  <Hit_accession>AAT39017</Hit_accession>\\n  <Hit_len>198</Hit_len>\\n  <Hit_hsps>\\n    <Hsp>\\n      <Hsp_num>1</Hsp_num>\\n      <Hsp_bit-score>391.349</Hsp_bit-score>\\n      <Hsp_score>1004</Hsp_score>\\n      <Hsp_evalue>7.41762e-137</Hsp_evalue>\\n      <Hsp_query-from>1</Hsp_query-from>\\n      <Hsp_query-to>190</Hsp_query-to>\\n      <Hsp_hit-from>1</Hsp_hit-from>\\n      <Hsp_hit-to>190</Hsp_hit-to>\\n      <Hsp_query-frame>0</Hsp_query-frame>\\n      <Hsp_hit-frame>0</Hsp_hit-frame>\\n      <Hsp_identity>187</Hsp_identity>\\n      <Hsp_positive>188</Hsp_positive>\\n      <Hsp_gaps>0</Hsp_gaps>\\n      <Hsp_align-len>190</Hsp_align-len>\\n      <Hsp_qseq>MQSYASAMLSVFNSDDYSPAVQENIPALRRSSSFLCTESCNSKYQCETGENSKGNVQDRVKRPMNAFIVWSRDQRRKMALENPRMRNSEISKQLGYQWKMLTEAEKWPFFQEAQKLQAMHREKYPNYKYRPRRKAKMLPKNCSLLPADPASVLCSEVQLDNRLYRDDCTKATHSRMEHQLGHLPPINAAS</Hsp_qseq>\\n      <Hsp_hseq>MQSYASAMLSVFNSDYYSPAPQENIPALRRSSSFLCTESCNSKYQCETGENSKGNVQDRVKRPMNAFIVWSRDQRRKMALENPRMRNSEISKQLGYQWKMLTEAEKWPFFQEAQKLQAMHREKYPNYKYRPRRKAKMLPKNCSLLPADPASVLCSEVQLDNRLYRDDCTKATHSRMEHQLGHLPPINAAA</Hsp_hseq>\\n      <Hsp_midline>MQSYASAMLSVFNSD YSPA QENIPALRRSSSFLCTESCNSKYQCETGENSKGNVQDRVKRPMNAFIVWSRDQRRKMALENPRMRNSEISKQLGYQWKMLTEAEKWPFFQEAQKLQAMHREKYPNYKYRPRRKAKMLPKNCSLLPADPASVLCSEVQLDNRLYRDDCTKATHSRMEHQLGHLPPINAA+</Hsp_midline>\\n    </Hsp>\\n  </Hit_hsps>\\n</Hit>\\n<Hit>\\n  <Hit_num>63</Hit_num>\\n  <Hit_id>gb|AGZ62972.1|</Hit_id>\\n  <Hit_def>sex determining region Y protein [Homo sapiens]</Hit_def>\\n  <Hit_accession>AGZ62972</Hit_accession>\\n  <Hit_len>223</Hit_len>\\n  <Hit_hsps>\\n    <Hsp>\\n      <Hsp_num>1</Hsp_num>\\n      <Hsp_bit-score>392.119</Hsp_bit-score>\\n      <Hsp_score>1006</Hsp_score>\\n      <Hsp_evalue>7.70255e-137</Hsp_evalue>\\n      <Hsp_query-from>1</Hsp_query-from>\\n      <Hsp_query-to>194</Hsp_query-to>\\n      <Hsp_hit-from>1</Hsp_hit-from>\\n      <Hsp_hit-to>199</Hsp_hit-to>\\n      <Hsp_query-frame>0</Hsp_query-frame>\\n      <Hsp_hit-frame>0</Hsp_hit-frame>\\n      <Hsp_identity>189</Hsp_identity>\\n      <Hsp_positive>191</Hsp_positive>\\n      <Hsp_gaps>5</Hsp_gaps>\\n      <Hsp_align-len>199</Hsp_align-len>\\n      <Hsp_qseq>MQSYASAMLSVFNSDDYSPAVQENIPALRRSSSFLCTESCNSKYQCETGENSKGNVQDRVKRPMNAFIVWSRDQRRKMALENPRMRNSEISKQLGYQWKMLTEAEKWPFFQEAQKLQAMHREKYPNYKYRPRRKAKMLPKNCSLLPADPASVLCSEVQLDNRLYRDDCTKATHSRMEHQLGHLPP-----INAASSPQQ</Hsp_qseq>\\n      <Hsp_hseq>MQSYASAMLSVFNSDDYSPAVQENIPALRRSSSFLCTESCNSKYQCETGENSKGNVQDRVKRPMNAFIVWSRDQRRKMALENPRMRNSEISKQLGYQWKMLTEAEKWPFFQEAQKLQAMHREKYPNYKYRPRRKAKMLPKNCSLLPADPASVLCSEVQLDNRLYRDDCTKATHSRMEHQLGHLPPHQRSQLTAATGPLQ</Hsp_hseq>\\n      <Hsp_midline>MQSYASAMLSVFNSDDYSPAVQENIPALRRSSSFLCTESCNSKYQCETGENSKGNVQDRVKRPMNAFIVWSRDQRRKMALENPRMRNSEISKQLGYQWKMLTEAEKWPFFQEAQKLQAMHREKYPNYKYRPRRKAKMLPKNCSLLPADPASVLCSEVQLDNRLYRDDCTKATHSRMEHQLGHLPP     + AA+ P Q</Hsp_midline>\\n    </Hsp>\\n  </Hit_hsps>\\n</Hit>\\n<Hit>\\n  <Hit_num>64</Hit_num>\\n  <Hit_id>sp|Q28447.1|</Hit_id>\\n  <Hit_def>RecName: Full=Sex-determining region Y protein; AltName: Full=Testis-determining factor [Hylobates lar] &gt;emb|CAA60144.1| SRY [Hylobates lar]</Hit_def>\\n  <Hit_accession>Q28447</Hit_accession>\\n  <Hit_len>204</Hit_len>\\n  <Hit_hsps>\\n    <Hsp>\\n      <Hsp_num>1</Hsp_num>\\n      <Hsp_bit-score>390.963</Hsp_bit-score>\\n      <Hsp_score>1003</Hsp_score>\\n      <Hsp_evalue>1.1198e-136</Hsp_evalue>\\n      <Hsp_query-from>1</Hsp_query-from>\\n      <Hsp_query-to>204</Hsp_query-to>\\n      <Hsp_hit-from>1</Hsp_hit-from>\\n      <Hsp_hit-to>204</Hsp_hit-to>\\n      <Hsp_query-frame>0</Hsp_query-frame>\\n      <Hsp_hit-frame>0</Hsp_hit-frame>\\n      <Hsp_identity>187</Hsp_identity>\\n      <Hsp_positive>195</Hsp_positive>\\n      <Hsp_gaps>0</Hsp_gaps>\\n      <Hsp_align-len>204</Hsp_align-len>\\n      <Hsp_qseq>MQSYASAMLSVFNSDDYSPAVQENIPALRRSSSFLCTESCNSKYQCETGENSKGNVQDRVKRPMNAFIVWSRDQRRKMALENPRMRNSEISKQLGYQWKMLTEAEKWPFFQEAQKLQAMHREKYPNYKYRPRRKAKMLPKNCSLLPADPASVLCSEVQLDNRLYRDDCTKATHSRMEHQLGHLPPINAASSPQQRDRYSHWTKL</Hsp_qseq>\\n      <Hsp_hseq>MQSYASAMLSVFNSDYYSPAVQQNTPALRRSSSFICTESCNSKYPCETGENSKVSVQDRVKRPMNAFIVWSRDQRRKMALENPKMRNSEISKQLGYRWKMLTEAEKWPFFQEAQKLQAMHREKYPNYKYRPRRKAKMLQKSCSLLPADSASVLCSKVQLDNRLYRDDCTKATHSRMEHQLGHLPPINTASSPQQQDHYSHSTKL</Hsp_hseq>\\n      <Hsp_midline>MQSYASAMLSVFNSD YSPAVQ+N PALRRSSSF+CTESCNSKY CETGENSK +VQDRVKRPMNAFIVWSRDQRRKMALENP+MRNSEISKQLGY+WKMLTEAEKWPFFQEAQKLQAMHREKYPNYKYRPRRKAKML K+CSLLPAD ASVLCS+VQLDNRLYRDDCTKATHSRMEHQLGHLPPIN ASSPQQ+D YSH TKL</Hsp_midline>\\n    </Hsp>\\n  </Hit_hsps>\\n</Hit>\\n<Hit>\\n  <Hit_num>65</Hit_num>\\n  <Hit_id>ref|NP_001028008.1|</Hit_id>\\n  <Hit_def>sex-determining region Y protein [Macaca mulatta] &gt;sp|Q9BG90.1| RecName: Full=Sex-determining region Y protein; AltName: Full=Testis-determining factor [Macaca mulatta] &gt;gb|AAK01652.1| SRY [Macaca mulatta]</Hit_def>\\n  <Hit_accession>NP_001028008</Hit_accession>\\n  <Hit_len>204</Hit_len>\\n  <Hit_hsps>\\n    <Hsp>\\n      <Hsp_num>1</Hsp_num>\\n      <Hsp_bit-score>390.963</Hsp_bit-score>\\n      <Hsp_score>1003</Hsp_score>\\n      <Hsp_evalue>1.33467e-136</Hsp_evalue>\\n      <Hsp_query-from>1</Hsp_query-from>\\n      <Hsp_query-to>204</Hsp_query-to>\\n      <Hsp_hit-from>1</Hsp_hit-from>\\n      <Hsp_hit-to>204</Hsp_hit-to>\\n      <Hsp_query-frame>0</Hsp_query-frame>\\n      <Hsp_hit-frame>0</Hsp_hit-frame>\\n      <Hsp_identity>183</Hsp_identity>\\n      <Hsp_positive>195</Hsp_positive>\\n      <Hsp_gaps>0</Hsp_gaps>\\n      <Hsp_align-len>204</Hsp_align-len>\\n      <Hsp_qseq>MQSYASAMLSVFNSDDYSPAVQENIPALRRSSSFLCTESCNSKYQCETGENSKGNVQDRVKRPMNAFIVWSRDQRRKMALENPRMRNSEISKQLGYQWKMLTEAEKWPFFQEAQKLQAMHREKYPNYKYRPRRKAKMLPKNCSLLPADPASVLCSEVQLDNRLYRDDCTKATHSRMEHQLGHLPPINAASSPQQRDRYSHWTKL</Hsp_qseq>\\n      <Hsp_hseq>MQSYASAMLSVFNTDGYSPAAQQNIPALRRSSSFICTESCSSKYQCEAGENSKGSVQDKVKRPMNAFIVWSRDQKRKMALENPKMRNSEISKQLGYQWKMLTEADKWPFFQEAQKLQAMHREKYPNYKYRPRRKAKMLQNSCSLLPADPSSVPCREVQLDNRLYRDDCTKATHSRMQHQLGHLPPINTASSPQQRDRYSHSTKL</Hsp_hseq>\\n      <Hsp_midline>MQSYASAMLSVFN+D YSPA Q+NIPALRRSSSF+CTESC+SKYQCE GENSKG+VQD+VKRPMNAFIVWSRDQ+RKMALENP+MRNSEISKQLGYQWKMLTEA+KWPFFQEAQKLQAMHREKYPNYKYRPRRKAKML  +CSLLPADP+SV C EVQLDNRLYRDDCTKATHSRM+HQLGHLPPIN ASSPQQRDRYSH TKL</Hsp_midline>\\n    </Hsp>\\n  </Hit_hsps>\\n</Hit>\\n<Hit>\\n  <Hit_num>66</Hit_num>\\n  <Hit_id>ref|XP_032612415.1|</Hit_id>\\n  <Hit_def>sex-determining region Y protein [Hylobates moloch]</Hit_def>\\n  <Hit_accession>XP_032612415</Hit_accession>\\n  <Hit_len>204</Hit_len>\\n  <Hit_hsps>\\n    <Hsp>\\n      <Hsp_num>1</Hsp_num>\\n      <Hsp_bit-score>390.963</Hsp_bit-score>\\n      <Hsp_score>1003</Hsp_score>\\n      <Hsp_evalue>1.36428e-136</Hsp_evalue>\\n      <Hsp_query-from>1</Hsp_query-from>\\n      <Hsp_query-to>204</Hsp_query-to>\\n      <Hsp_hit-from>1</Hsp_hit-from>\\n      <Hsp_hit-to>204</Hsp_hit-to>\\n      <Hsp_query-frame>0</Hsp_query-frame>\\n      <Hsp_hit-frame>0</Hsp_hit-frame>\\n      <Hsp_identity>187</Hsp_identity>\\n      <Hsp_positive>194</Hsp_positive>\\n      <Hsp_gaps>0</Hsp_gaps>\\n      <Hsp_align-len>204</Hsp_align-len>\\n      <Hsp_qseq>MQSYASAMLSVFNSDDYSPAVQENIPALRRSSSFLCTESCNSKYQCETGENSKGNVQDRVKRPMNAFIVWSRDQRRKMALENPRMRNSEISKQLGYQWKMLTEAEKWPFFQEAQKLQAMHREKYPNYKYRPRRKAKMLPKNCSLLPADPASVLCSEVQLDNRLYRDDCTKATHSRMEHQLGHLPPINAASSPQQRDRYSHWTKL</Hsp_qseq>\\n      <Hsp_hseq>MQSYASAMLSVFNSDYYSPAVQQNTPALRRSSSFICTESCNSKYPCETGENSKVSVQHRVKRPMNAFIVWSRDQRRKMALENPKMRNSEISKQLGYQWKMLTEAEKWPFFQEAQKLQAMHREKYPNYKYRPRRKAKMLQKSCSLLPADSASVLCSKVQLDNRLYRDDCTKATHSRMEHQLGHLPPINTASSPQQQDHYSHSTKL</Hsp_hseq>\\n      <Hsp_midline>MQSYASAMLSVFNSD YSPAVQ+N PALRRSSSF+CTESCNSKY CETGENSK +VQ RVKRPMNAFIVWSRDQRRKMALENP+MRNSEISKQLGYQWKMLTEAEKWPFFQEAQKLQAMHREKYPNYKYRPRRKAKML K+CSLLPAD ASVLCS+VQLDNRLYRDDCTKATHSRMEHQLGHLPPIN ASSPQQ+D YSH TKL</Hsp_midline>\\n    </Hsp>\\n  </Hit_hsps>\\n</Hit>\\n<Hit>\\n  <Hit_num>67</Hit_num>\\n  <Hit_id>gb|AAL09287.1|</Hit_id>\\n  <Hit_def>SRY, partial [Erythrocebus patas] &gt;gb|AAL09288.1| SRY, partial [Erythrocebus patas]</Hit_def>\\n  <Hit_accession>AAL09287</Hit_accession>\\n  <Hit_len>204</Hit_len>\\n  <Hit_hsps>\\n    <Hsp>\\n      <Hsp_num>1</Hsp_num>\\n      <Hsp_bit-score>390.578</Hsp_bit-score>\\n      <Hsp_score>1002</Hsp_score>\\n      <Hsp_evalue>1.68047e-136</Hsp_evalue>\\n      <Hsp_query-from>1</Hsp_query-from>\\n      <Hsp_query-to>204</Hsp_query-to>\\n      <Hsp_hit-from>1</Hsp_hit-from>\\n      <Hsp_hit-to>204</Hsp_hit-to>\\n      <Hsp_query-frame>0</Hsp_query-frame>\\n      <Hsp_hit-frame>0</Hsp_hit-frame>\\n      <Hsp_identity>184</Hsp_identity>\\n      <Hsp_positive>195</Hsp_positive>\\n      <Hsp_gaps>0</Hsp_gaps>\\n      <Hsp_align-len>204</Hsp_align-len>\\n      <Hsp_qseq>MQSYASAMLSVFNSDDYSPAVQENIPALRRSSSFLCTESCNSKYQCETGENSKGNVQDRVKRPMNAFIVWSRDQRRKMALENPRMRNSEISKQLGYQWKMLTEAEKWPFFQEAQKLQAMHREKYPNYKYRPRRKAKMLPKNCSLLPADPASVLCSEVQLDNRLYRDDCTKATHSRMEHQLGHLPPINAASSPQQRDRYSHWTKL</Hsp_qseq>\\n      <Hsp_hseq>MQSYASAMLSVFNTDGYSPAAQQNIPALRRSSSFICTESCSSKYQCEAGENSKGSVQDRVKRPMNAFIVWSRDQRRKMALENPKMRNSEISKQLGYQWKMLTEADKWPFFQEAQKLQAMHREKYPNYKYRPRRKAKMLPNSCSLLPADPSSVPCREVELDNRLYRDDCTKATHSRMQHQLGHLPPINTASSPQQWDRYSHSTKL</Hsp_hseq>\\n      <Hsp_midline>MQSYASAMLSVFN+D YSPA Q+NIPALRRSSSF+CTESC+SKYQCE GENSKG+VQDRVKRPMNAFIVWSRDQRRKMALENP+MRNSEISKQLGYQWKMLTEA+KWPFFQEAQKLQAMHREKYPNYKYRPRRKAKMLP +CSLLPADP+SV C EV+LDNRLYRDDCTKATHSRM+HQLGHLPPIN ASSPQQ DRYSH TKL</Hsp_midline>\\n    </Hsp>\\n  </Hit_hsps>\\n</Hit>\\n<Hit>\\n  <Hit_num>68</Hit_num>\\n  <Hit_id>gb|AAS19186.1|</Hit_id>\\n  <Hit_def>sex-determining region protein, partial [Cercopithecus hamlyni]</Hit_def>\\n  <Hit_accession>AAS19186</Hit_accession>\\n  <Hit_len>204</Hit_len>\\n  <Hit_hsps>\\n    <Hsp>\\n      <Hsp_num>1</Hsp_num>\\n      <Hsp_bit-score>387.111</Hsp_bit-score>\\n      <Hsp_score>993</Hsp_score>\\n      <Hsp_evalue>4.13671e-135</Hsp_evalue>\\n      <Hsp_query-from>1</Hsp_query-from>\\n      <Hsp_query-to>204</Hsp_query-to>\\n      <Hsp_hit-from>1</Hsp_hit-from>\\n      <Hsp_hit-to>204</Hsp_hit-to>\\n      <Hsp_query-frame>0</Hsp_query-frame>\\n      <Hsp_hit-frame>0</Hsp_hit-frame>\\n      <Hsp_identity>182</Hsp_identity>\\n      <Hsp_positive>193</Hsp_positive>\\n      <Hsp_gaps>0</Hsp_gaps>\\n      <Hsp_align-len>204</Hsp_align-len>\\n      <Hsp_qseq>MQSYASAMLSVFNSDDYSPAVQENIPALRRSSSFLCTESCNSKYQCETGENSKGNVQDRVKRPMNAFIVWSRDQRRKMALENPRMRNSEISKQLGYQWKMLTEAEKWPFFQEAQKLQAMHREKYPNYKYRPRRKAKMLPKNCSLLPADPASVLCSEVQLDNRLYRDDCTKATHSRMEHQLGHLPPINAASSPQQRDRYSHWTKL</Hsp_qseq>\\n      <Hsp_hseq>MQSYASAMLSVFNTDGYSPAAQQNIPALRRSSSFICTESCSSKYQCEAGENSKGSVQDRVKRPMNAFIVWSRDQRRKMALENPKMRNSEISKQLGYQWKMLTEADKWPFFQEAQKLQAMHREKYPNYKYRPRRKAKMLQNSCSLLPADPSSVPCREVELDNRLCRDDCTKATHSRMQHQLGHLPPINTASSPQHGDRYSHWTKL</Hsp_hseq>\\n      <Hsp_midline>MQSYASAMLSVFN+D YSPA Q+NIPALRRSSSF+CTESC+SKYQCE GENSKG+VQDRVKRPMNAFIVWSRDQRRKMALENP+MRNSEISKQLGYQWKMLTEA+KWPFFQEAQKLQAMHREKYPNYKYRPRRKAKML  +CSLLPADP+SV C EV+LDNRL RDDCTKATHSRM+HQLGHLPPIN ASSPQ  DRYSHWTKL</Hsp_midline>\\n    </Hsp>\\n  </Hit_hsps>\\n</Hit>\\n<Hit>\\n  <Hit_num>69</Hit_num>\\n  <Hit_id>gb|ADX95838.1|</Hit_id>\\n  <Hit_def>sex-determining region Y protein, partial [Pygathrix nemaeus] &gt;gb|ADX95839.1| sex-determining region Y protein, partial [Nasalis larvatus] &gt;gb|AFL70207.1| sex-determining region Y, partial [Pygathrix cinerea 1 RL-2012] &gt;gb|AFL70208.1| sex-determining region Y, partial [Pygathrix cinerea 2 RL-2012] &gt;gb|AFL70209.1| sex-determining region Y, partial [Pygathrix nigripes]</Hit_def>\\n  <Hit_accession>ADX95838</Hit_accession>\\n  <Hit_len>202</Hit_len>\\n  <Hit_hsps>\\n    <Hsp>\\n      <Hsp_num>1</Hsp_num>\\n      <Hsp_bit-score>386.726</Hsp_bit-score>\\n      <Hsp_score>992</Hsp_score>\\n      <Hsp_evalue>5.06717e-135</Hsp_evalue>\\n      <Hsp_query-from>1</Hsp_query-from>\\n      <Hsp_query-to>204</Hsp_query-to>\\n      <Hsp_hit-from>1</Hsp_hit-from>\\n      <Hsp_hit-to>202</Hsp_hit-to>\\n      <Hsp_query-frame>0</Hsp_query-frame>\\n      <Hsp_hit-frame>0</Hsp_hit-frame>\\n      <Hsp_identity>183</Hsp_identity>\\n      <Hsp_positive>195</Hsp_positive>\\n      <Hsp_gaps>2</Hsp_gaps>\\n      <Hsp_align-len>204</Hsp_align-len>\\n      <Hsp_qseq>MQSYASAMLSVFNSDDYSPAVQENIPALRRSSSFLCTESCNSKYQCETGENSKGNVQDRVKRPMNAFIVWSRDQRRKMALENPRMRNSEISKQLGYQWKMLTEAEKWPFFQEAQKLQAMHREKYPNYKYRPRRKAKMLPKNCSLLPADPASVLCSEVQLDNRLYRDDCTKATHSRMEHQLGHLPPINAASSPQQRDRYSHWTKL</Hsp_qseq>\\n      <Hsp_hseq>MQSYASAMLSVFNTDDYSPAAQQNVPALRRSSSFICTESCSSKYQCEAGENSKGSVQDRVKRPMNAFIVWSRDQRRKMALENPKMRNSEISKQLGYQWKMLTEADKWPFFQEAQKLQAMHREKYPNYKYRPRRKAKMLQNSCSLLPADPSSVLCREMELDNRLYRDDCTKATHSRM--QLGHLPPINTASSPQQRDRYSHSTKL</Hsp_hseq>\\n      <Hsp_midline>MQSYASAMLSVFN+DDYSPA Q+N+PALRRSSSF+CTESC+SKYQCE GENSKG+VQDRVKRPMNAFIVWSRDQRRKMALENP+MRNSEISKQLGYQWKMLTEA+KWPFFQEAQKLQAMHREKYPNYKYRPRRKAKML  +CSLLPADP+SVLC E++LDNRLYRDDCTKATHSRM  QLGHLPPIN ASSPQQRDRYSH TKL</Hsp_midline>\\n    </Hsp>\\n  </Hit_hsps>\\n</Hit>\\n<Hit>\\n  <Hit_num>70</Hit_num>\\n  <Hit_id>gb|AAG34391.1|</Hit_id>\\n  <Hit_def>SRY, partial [Presbytis melalophos] &gt;gb|ADX95837.1| sex-determining region Y protein, partial [Presbytis melalophos]</Hit_def>\\n  <Hit_accession>AAG34391</Hit_accession>\\n  <Hit_len>202</Hit_len>\\n  <Hit_hsps>\\n    <Hsp>\\n      <Hsp_num>1</Hsp_num>\\n      <Hsp_bit-score>385.571</Hsp_bit-score>\\n      <Hsp_score>989</Hsp_score>\\n      <Hsp_evalue>1.43677e-134</Hsp_evalue>\\n      <Hsp_query-from>1</Hsp_query-from>\\n      <Hsp_query-to>204</Hsp_query-to>\\n      <Hsp_hit-from>1</Hsp_hit-from>\\n      <Hsp_hit-to>202</Hsp_hit-to>\\n      <Hsp_query-frame>0</Hsp_query-frame>\\n      <Hsp_hit-frame>0</Hsp_hit-frame>\\n      <Hsp_identity>182</Hsp_identity>\\n      <Hsp_positive>194</Hsp_positive>\\n      <Hsp_gaps>2</Hsp_gaps>\\n      <Hsp_align-len>204</Hsp_align-len>\\n      <Hsp_qseq>MQSYASAMLSVFNSDDYSPAVQENIPALRRSSSFLCTESCNSKYQCETGENSKGNVQDRVKRPMNAFIVWSRDQRRKMALENPRMRNSEISKQLGYQWKMLTEAEKWPFFQEAQKLQAMHREKYPNYKYRPRRKAKMLPKNCSLLPADPASVLCSEVQLDNRLYRDDCTKATHSRMEHQLGHLPPINAASSPQQRDRYSHWTKL</Hsp_qseq>\\n      <Hsp_hseq>MQSYASAMLSVFNTDDYSPAAQQNVPALRRSSSFICTESCSSKYQCEAGENSKGSVQDRVKRPMNAFIVWSRDQRRKMALENPKMRNSEISKQLGYQWKMLTEADKWPFFQEAQKLQAMHREKYPNYKYRPRRKAKMLQNSCSLLPADPSSVLCREMELDNRLYRDDCTKVTHSRM--QLGHLPPINTASSPQQRDRYSHSTKL</Hsp_hseq>\\n      <Hsp_midline>MQSYASAMLSVFN+DDYSPA Q+N+PALRRSSSF+CTESC+SKYQCE GENSKG+VQDRVKRPMNAFIVWSRDQRRKMALENP+MRNSEISKQLGYQWKMLTEA+KWPFFQEAQKLQAMHREKYPNYKYRPRRKAKML  +CSLLPADP+SVLC E++LDNRLYRDDCTK THSRM  QLGHLPPIN ASSPQQRDRYSH TKL</Hsp_midline>\\n    </Hsp>\\n  </Hit_hsps>\\n</Hit>\\n<Hit>\\n  <Hit_num>71</Hit_num>\\n  <Hit_id>gb|AAL09284.1|</Hit_id>\\n  <Hit_def>SRY, partial [Cercopithecus mitis] &gt;gb|AAS19185.1| sex-determining region protein, partial [Cercopithecus cephus] &gt;gb|AAS19189.1| sex-determining region protein, partial [Cercopithecus nictitans] &gt;gb|AAX99218.1| sex-determining region protein, partial [Cercopithecus petaurista] &gt;gb|ABS82754.1| sex-determining factor, partial [Cercopithecus albogularis]</Hit_def>\\n  <Hit_accession>AAL09284</Hit_accession>\\n  <Hit_len>204</Hit_len>\\n  <Hit_hsps>\\n    <Hsp>\\n      <Hsp_num>1</Hsp_num>\\n      <Hsp_bit-score>385.185</Hsp_bit-score>\\n      <Hsp_score>988</Hsp_score>\\n      <Hsp_evalue>2.0078e-134</Hsp_evalue>\\n      <Hsp_query-from>1</Hsp_query-from>\\n      <Hsp_query-to>204</Hsp_query-to>\\n      <Hsp_hit-from>1</Hsp_hit-from>\\n      <Hsp_hit-to>204</Hsp_hit-to>\\n      <Hsp_query-frame>0</Hsp_query-frame>\\n      <Hsp_hit-frame>0</Hsp_hit-frame>\\n      <Hsp_identity>182</Hsp_identity>\\n      <Hsp_positive>193</Hsp_positive>\\n      <Hsp_gaps>0</Hsp_gaps>\\n      <Hsp_align-len>204</Hsp_align-len>\\n      <Hsp_qseq>MQSYASAMLSVFNSDDYSPAVQENIPALRRSSSFLCTESCNSKYQCETGENSKGNVQDRVKRPMNAFIVWSRDQRRKMALENPRMRNSEISKQLGYQWKMLTEAEKWPFFQEAQKLQAMHREKYPNYKYRPRRKAKMLPKNCSLLPADPASVLCSEVQLDNRLYRDDCTKATHSRMEHQLGHLPPINAASSPQQRDRYSHWTKL</Hsp_qseq>\\n      <Hsp_hseq>MQSYASAMLSVFNTDGYSPAAQQNIPALRRSSSFICTESCSSKYQCEAGENSKGSVQDRVKRPMNAFIVWSRDQRRKMALENPKMRNSEISKQLGYQWKMLTEADKWPFFQEAQKLQAMHREKYPNYKYRPRRKAKMLQNSCSLLPADPSSVPCREVELDNRLCRDDCTKATHSRMQHQLGHLPPINTASSPQQGDRYSHSTKL</Hsp_hseq>\\n      <Hsp_midline>MQSYASAMLSVFN+D YSPA Q+NIPALRRSSSF+CTESC+SKYQCE GENSKG+VQDRVKRPMNAFIVWSRDQRRKMALENP+MRNSEISKQLGYQWKMLTEA+KWPFFQEAQKLQAMHREKYPNYKYRPRRKAKML  +CSLLPADP+SV C EV+LDNRL RDDCTKATHSRM+HQLGHLPPIN ASSPQQ DRYSH TKL</Hsp_midline>\\n    </Hsp>\\n  </Hit_hsps>\\n</Hit>\\n<Hit>\\n  <Hit_num>72</Hit_num>\\n  <Hit_id>gb|AAL09282.1|</Hit_id>\\n  <Hit_def>SRY, partial [Allochrocebus lhoesti] &gt;gb|AAL09283.1| SRY, partial [Allochrocebus lhoesti] &gt;gb|AAS19190.1| sex-determining region protein, partial [Allochrocebus solatus]</Hit_def>\\n  <Hit_accession>AAL09282</Hit_accession>\\n  <Hit_len>204</Hit_len>\\n  <Hit_hsps>\\n    <Hsp>\\n      <Hsp_num>1</Hsp_num>\\n      <Hsp_bit-score>384.8</Hsp_bit-score>\\n      <Hsp_score>987</Hsp_score>\\n      <Hsp_evalue>3.013e-134</Hsp_evalue>\\n      <Hsp_query-from>1</Hsp_query-from>\\n      <Hsp_query-to>204</Hsp_query-to>\\n      <Hsp_hit-from>1</Hsp_hit-from>\\n      <Hsp_hit-to>204</Hsp_hit-to>\\n      <Hsp_query-frame>0</Hsp_query-frame>\\n      <Hsp_hit-frame>0</Hsp_hit-frame>\\n      <Hsp_identity>182</Hsp_identity>\\n      <Hsp_positive>193</Hsp_positive>\\n      <Hsp_gaps>0</Hsp_gaps>\\n      <Hsp_align-len>204</Hsp_align-len>\\n      <Hsp_qseq>MQSYASAMLSVFNSDDYSPAVQENIPALRRSSSFLCTESCNSKYQCETGENSKGNVQDRVKRPMNAFIVWSRDQRRKMALENPRMRNSEISKQLGYQWKMLTEAEKWPFFQEAQKLQAMHREKYPNYKYRPRRKAKMLPKNCSLLPADPASVLCSEVQLDNRLYRDDCTKATHSRMEHQLGHLPPINAASSPQQRDRYSHWTKL</Hsp_qseq>\\n      <Hsp_hseq>MQSYASAMLSVFNTDGYSPAAQQNIPALRRSSSFICTESCSSKYQCEAGENSKGSVQDRVKRPMNAFIVWSRDQRRKMALENPKMRNSEISKQLGYQWKMLTEADKWPFFQEAQKLQAMHREKYPNYKYRPRRKAKMLQNSCSLLPADPSSVPCREVELDNRLYRDDCTKATHSRMQHQLGHLPPINTASSAQQWDRYSHSTKL</Hsp_hseq>\\n      <Hsp_midline>MQSYASAMLSVFN+D YSPA Q+NIPALRRSSSF+CTESC+SKYQCE GENSKG+VQDRVKRPMNAFIVWSRDQRRKMALENP+MRNSEISKQLGYQWKMLTEA+KWPFFQEAQKLQAMHREKYPNYKYRPRRKAKML  +CSLLPADP+SV C EV+LDNRLYRDDCTKATHSRM+HQLGHLPPIN ASS QQ DRYSH TKL</Hsp_midline>\\n    </Hsp>\\n  </Hit_hsps>\\n</Hit>\\n<Hit>\\n  <Hit_num>73</Hit_num>\\n  <Hit_id>gb|AAS19192.1|</Hit_id>\\n  <Hit_def>sex-determining region protein, partial [Cercopithecus diana]</Hit_def>\\n  <Hit_accession>AAS19192</Hit_accession>\\n  <Hit_len>204</Hit_len>\\n  <Hit_hsps>\\n    <Hsp>\\n      <Hsp_num>1</Hsp_num>\\n      <Hsp_bit-score>384.8</Hsp_bit-score>\\n      <Hsp_score>987</Hsp_score>\\n      <Hsp_evalue>3.21799e-134</Hsp_evalue>\\n      <Hsp_query-from>1</Hsp_query-from>\\n      <Hsp_query-to>204</Hsp_query-to>\\n      <Hsp_hit-from>1</Hsp_hit-from>\\n      <Hsp_hit-to>204</Hsp_hit-to>\\n      <Hsp_query-frame>0</Hsp_query-frame>\\n      <Hsp_hit-frame>0</Hsp_hit-frame>\\n      <Hsp_identity>181</Hsp_identity>\\n      <Hsp_positive>193</Hsp_positive>\\n      <Hsp_gaps>0</Hsp_gaps>\\n      <Hsp_align-len>204</Hsp_align-len>\\n      <Hsp_qseq>MQSYASAMLSVFNSDDYSPAVQENIPALRRSSSFLCTESCNSKYQCETGENSKGNVQDRVKRPMNAFIVWSRDQRRKMALENPRMRNSEISKQLGYQWKMLTEAEKWPFFQEAQKLQAMHREKYPNYKYRPRRKAKMLPKNCSLLPADPASVLCSEVQLDNRLYRDDCTKATHSRMEHQLGHLPPINAASSPQQRDRYSHWTKL</Hsp_qseq>\\n      <Hsp_hseq>MQSYASAMLSIFNTDGYSPAAQQNIPALRRSSSFICTESCSSKYQCEAGENSKGSVQDRVKRPMNAFIVWSRDQRRKMALENPKMRNSEISKQLGYQWKMLTEADKWPFFQEAQKLQAMHREKYPNYKYRPRRKAKMLQNSCSLLPADPSSVPCREVELDNRLCRDDCTKATHSRMQHQLGHLPPINTASSPQQGDRYSHSTKL</Hsp_hseq>\\n      <Hsp_midline>MQSYASAMLS+FN+D YSPA Q+NIPALRRSSSF+CTESC+SKYQCE GENSKG+VQDRVKRPMNAFIVWSRDQRRKMALENP+MRNSEISKQLGYQWKMLTEA+KWPFFQEAQKLQAMHREKYPNYKYRPRRKAKML  +CSLLPADP+SV C EV+LDNRL RDDCTKATHSRM+HQLGHLPPIN ASSPQQ DRYSH TKL</Hsp_midline>\\n    </Hsp>\\n  </Hit_hsps>\\n</Hit>\\n<Hit>\\n  <Hit_num>74</Hit_num>\\n  <Hit_id>gb|ADX95840.1|</Hit_id>\\n  <Hit_def>sex-determining region Y protein, partial [Simias concolor]</Hit_def>\\n  <Hit_accession>ADX95840</Hit_accession>\\n  <Hit_len>202</Hit_len>\\n  <Hit_hsps>\\n    <Hsp>\\n      <Hsp_num>1</Hsp_num>\\n      <Hsp_bit-score>384.415</Hsp_bit-score>\\n      <Hsp_score>986</Hsp_score>\\n      <Hsp_evalue>4.54621e-134</Hsp_evalue>\\n      <Hsp_query-from>1</Hsp_query-from>\\n      <Hsp_query-to>204</Hsp_query-to>\\n      <Hsp_hit-from>1</Hsp_hit-from>\\n      <Hsp_hit-to>202</Hsp_hit-to>\\n      <Hsp_query-frame>0</Hsp_query-frame>\\n      <Hsp_hit-frame>0</Hsp_hit-frame>\\n      <Hsp_identity>182</Hsp_identity>\\n      <Hsp_positive>194</Hsp_positive>\\n      <Hsp_gaps>2</Hsp_gaps>\\n      <Hsp_align-len>204</Hsp_align-len>\\n      <Hsp_qseq>MQSYASAMLSVFNSDDYSPAVQENIPALRRSSSFLCTESCNSKYQCETGENSKGNVQDRVKRPMNAFIVWSRDQRRKMALENPRMRNSEISKQLGYQWKMLTEAEKWPFFQEAQKLQAMHREKYPNYKYRPRRKAKMLPKNCSLLPADPASVLCSEVQLDNRLYRDDCTKATHSRMEHQLGHLPPINAASSPQQRDRYSHWTKL</Hsp_qseq>\\n      <Hsp_hseq>MQSYASAMLSVFNTDDYSPAAQQNVPALRRSSSFICTESCSSKYQCEAGENSKGSVQDRVKRPMNAFIVWSRDQRRKMALENPKMRNSEISKQLGYQWKMLTEADKWPFFQEAQKLQAMHREKYPNYKYRPRRKAKMLQNSCSLLPADPSSVLCREMELDNRLYRDDCTKATHSRM--QLGHLSPINTASSPQQRDRYSHSTKL</Hsp_hseq>\\n      <Hsp_midline>MQSYASAMLSVFN+DDYSPA Q+N+PALRRSSSF+CTESC+SKYQCE GENSKG+VQDRVKRPMNAFIVWSRDQRRKMALENP+MRNSEISKQLGYQWKMLTEA+KWPFFQEAQKLQAMHREKYPNYKYRPRRKAKML  +CSLLPADP+SVLC E++LDNRLYRDDCTKATHSRM  QLGHL PIN ASSPQQRDRYSH TKL</Hsp_midline>\\n    </Hsp>\\n  </Hit_hsps>\\n</Hit>\\n<Hit>\\n  <Hit_num>75</Hit_num>\\n  <Hit_id>gb|ABV44686.1|</Hit_id>\\n  <Hit_def>SRY, partial [Presbytis melalophos]</Hit_def>\\n  <Hit_accession>ABV44686</Hit_accession>\\n  <Hit_len>202</Hit_len>\\n  <Hit_hsps>\\n    <Hsp>\\n      <Hsp_num>1</Hsp_num>\\n      <Hsp_bit-score>384.415</Hsp_bit-score>\\n      <Hsp_score>986</Hsp_score>\\n      <Hsp_evalue>4.54621e-134</Hsp_evalue>\\n      <Hsp_query-from>1</Hsp_query-from>\\n      <Hsp_query-to>204</Hsp_query-to>\\n      <Hsp_hit-from>1</Hsp_hit-from>\\n      <Hsp_hit-to>202</Hsp_hit-to>\\n      <Hsp_query-frame>0</Hsp_query-frame>\\n      <Hsp_hit-frame>0</Hsp_hit-frame>\\n      <Hsp_identity>182</Hsp_identity>\\n      <Hsp_positive>193</Hsp_positive>\\n      <Hsp_gaps>2</Hsp_gaps>\\n      <Hsp_align-len>204</Hsp_align-len>\\n      <Hsp_qseq>MQSYASAMLSVFNSDDYSPAVQENIPALRRSSSFLCTESCNSKYQCETGENSKGNVQDRVKRPMNAFIVWSRDQRRKMALENPRMRNSEISKQLGYQWKMLTEAEKWPFFQEAQKLQAMHREKYPNYKYRPRRKAKMLPKNCSLLPADPASVLCSEVQLDNRLYRDDCTKATHSRMEHQLGHLPPINAASSPQQRDRYSHWTKL</Hsp_qseq>\\n      <Hsp_hseq>MQSYASAMLSVFNTDDYSPAAQRNVPALRRSSSFICTESCSSKYQCEAGENSKGSVQDRVKRPMNAFIVWSRDQRRKMALENPKMRNSEISKQLGYQWKMLTEADKWPFFQEAQKLQAMHREKYPNYKYRPRRKAKMLQNSCSLLPADPSSVLCREMELDNRLYRDDCTKVTHSRM--QLGHLPPINTASSPQQRDRYSHSTKL</Hsp_hseq>\\n      <Hsp_midline>MQSYASAMLSVFN+DDYSPA Q N+PALRRSSSF+CTESC+SKYQCE GENSKG+VQDRVKRPMNAFIVWSRDQRRKMALENP+MRNSEISKQLGYQWKMLTEA+KWPFFQEAQKLQAMHREKYPNYKYRPRRKAKML  +CSLLPADP+SVLC E++LDNRLYRDDCTK THSRM  QLGHLPPIN ASSPQQRDRYSH TKL</Hsp_midline>\\n    </Hsp>\\n  </Hit_hsps>\\n</Hit>\\n<Hit>\\n  <Hit_num>76</Hit_num>\\n  <Hit_id>gb|AAW23363.1|</Hit_id>\\n  <Hit_def>sex-determining protein SRY [Cercopithecus hamlyni]</Hit_def>\\n  <Hit_accession>AAW23363</Hit_accession>\\n  <Hit_len>204</Hit_len>\\n  <Hit_hsps>\\n    <Hsp>\\n      <Hsp_num>1</Hsp_num>\\n      <Hsp_bit-score>383.259</Hsp_bit-score>\\n      <Hsp_score>983</Hsp_score>\\n      <Hsp_evalue>1.08747e-133</Hsp_evalue>\\n      <Hsp_query-from>1</Hsp_query-from>\\n      <Hsp_query-to>204</Hsp_query-to>\\n      <Hsp_hit-from>1</Hsp_hit-from>\\n      <Hsp_hit-to>204</Hsp_hit-to>\\n      <Hsp_query-frame>0</Hsp_query-frame>\\n      <Hsp_hit-frame>0</Hsp_hit-frame>\\n      <Hsp_identity>180</Hsp_identity>\\n      <Hsp_positive>191</Hsp_positive>\\n      <Hsp_gaps>0</Hsp_gaps>\\n      <Hsp_align-len>204</Hsp_align-len>\\n      <Hsp_qseq>MQSYASAMLSVFNSDDYSPAVQENIPALRRSSSFLCTESCNSKYQCETGENSKGNVQDRVKRPMNAFIVWSRDQRRKMALENPRMRNSEISKQLGYQWKMLTEAEKWPFFQEAQKLQAMHREKYPNYKYRPRRKAKMLPKNCSLLPADPASVLCSEVQLDNRLYRDDCTKATHSRMEHQLGHLPPINAASSPQQRDRYSHWTKL</Hsp_qseq>\\n      <Hsp_hseq>MQSYASAMLSVFNTDGYSPAAQQNIPALRRSSSFICTESCSSKYQCEAGENSKGSVQDRVKRPMNAFIVWSRDQRRKMALENPKMRNSEIXXQLGYQWKMLTEADKWPFFQEAQKLQAMHREKYPNYKYRPRRKAKMLQNSCSLLPADPSSVPCREVELDNRLCRDDCTKATHSRMQHQLGHLPPINTASSPQHGDRYSHWTKL</Hsp_hseq>\\n      <Hsp_midline>MQSYASAMLSVFN+D YSPA Q+NIPALRRSSSF+CTESC+SKYQCE GENSKG+VQDRVKRPMNAFIVWSRDQRRKMALENP+MRNSEI  QLGYQWKMLTEA+KWPFFQEAQKLQAMHREKYPNYKYRPRRKAKML  +CSLLPADP+SV C EV+LDNRL RDDCTKATHSRM+HQLGHLPPIN ASSPQ  DRYSHWTKL</Hsp_midline>\\n    </Hsp>\\n  </Hit_hsps>\\n</Hit>\\n<Hit>\\n  <Hit_num>77</Hit_num>\\n  <Hit_id>gb|ABS82755.1|</Hit_id>\\n  <Hit_def>sex-determining factor, partial [Cercopithecus ascanius]</Hit_def>\\n  <Hit_accession>ABS82755</Hit_accession>\\n  <Hit_len>204</Hit_len>\\n  <Hit_hsps>\\n    <Hsp>\\n      <Hsp_num>1</Hsp_num>\\n      <Hsp_bit-score>383.259</Hsp_bit-score>\\n      <Hsp_score>983</Hsp_score>\\n      <Hsp_evalue>1.13625e-133</Hsp_evalue>\\n      <Hsp_query-from>1</Hsp_query-from>\\n      <Hsp_query-to>204</Hsp_query-to>\\n      <Hsp_hit-from>1</Hsp_hit-from>\\n      <Hsp_hit-to>204</Hsp_hit-to>\\n      <Hsp_query-frame>0</Hsp_query-frame>\\n      <Hsp_hit-frame>0</Hsp_hit-frame>\\n      <Hsp_identity>181</Hsp_identity>\\n      <Hsp_positive>193</Hsp_positive>\\n      <Hsp_gaps>0</Hsp_gaps>\\n      <Hsp_align-len>204</Hsp_align-len>\\n      <Hsp_qseq>MQSYASAMLSVFNSDDYSPAVQENIPALRRSSSFLCTESCNSKYQCETGENSKGNVQDRVKRPMNAFIVWSRDQRRKMALENPRMRNSEISKQLGYQWKMLTEAEKWPFFQEAQKLQAMHREKYPNYKYRPRRKAKMLPKNCSLLPADPASVLCSEVQLDNRLYRDDCTKATHSRMEHQLGHLPPINAASSPQQRDRYSHWTKL</Hsp_qseq>\\n      <Hsp_hseq>MQSYASAMLSVFNTDGYSPAAQQNIPALRRSSSFICTESCSSKYQCEAGENSKGSVQDRVKRPMNAFIVWSRDQRRKMALENPKMRNSEISKQLGYQWKMLTEADKWPFFQEAQKLQAMHREKYPNYKYRPRRKAKMLQNSCSLLPADPSSVPCREVELNNRLCRDDCTKATHSRMQHQLGHLPPINTASSPQQGDRYSHSTKL</Hsp_hseq>\\n      <Hsp_midline>MQSYASAMLSVFN+D YSPA Q+NIPALRRSSSF+CTESC+SKYQCE GENSKG+VQDRVKRPMNAFIVWSRDQRRKMALENP+MRNSEISKQLGYQWKMLTEA+KWPFFQEAQKLQAMHREKYPNYKYRPRRKAKML  +CSLLPADP+SV C EV+L+NRL RDDCTKATHSRM+HQLGHLPPIN ASSPQQ DRYSH TKL</Hsp_midline>\\n    </Hsp>\\n  </Hit_hsps>\\n</Hit>\\n<Hit>\\n  <Hit_num>78</Hit_num>\\n  <Hit_id>gb|AAS19191.1|</Hit_id>\\n  <Hit_def>sex-determining region protein, partial [Cercopithecus wolfi]</Hit_def>\\n  <Hit_accession>AAS19191</Hit_accession>\\n  <Hit_len>204</Hit_len>\\n  <Hit_hsps>\\n    <Hsp>\\n      <Hsp_num>1</Hsp_num>\\n      <Hsp_bit-score>383.259</Hsp_bit-score>\\n      <Hsp_score>983</Hsp_score>\\n      <Hsp_evalue>1.24047e-133</Hsp_evalue>\\n      <Hsp_query-from>1</Hsp_query-from>\\n      <Hsp_query-to>204</Hsp_query-to>\\n      <Hsp_hit-from>1</Hsp_hit-from>\\n      <Hsp_hit-to>204</Hsp_hit-to>\\n      <Hsp_query-frame>0</Hsp_query-frame>\\n      <Hsp_hit-frame>0</Hsp_hit-frame>\\n      <Hsp_identity>181</Hsp_identity>\\n      <Hsp_positive>193</Hsp_positive>\\n      <Hsp_gaps>0</Hsp_gaps>\\n      <Hsp_align-len>204</Hsp_align-len>\\n      <Hsp_qseq>MQSYASAMLSVFNSDDYSPAVQENIPALRRSSSFLCTESCNSKYQCETGENSKGNVQDRVKRPMNAFIVWSRDQRRKMALENPRMRNSEISKQLGYQWKMLTEAEKWPFFQEAQKLQAMHREKYPNYKYRPRRKAKMLPKNCSLLPADPASVLCSEVQLDNRLYRDDCTKATHSRMEHQLGHLPPINAASSPQQRDRYSHWTKL</Hsp_qseq>\\n      <Hsp_hseq>MQSYASAMLSVFNTDGYSPAAQQHIPALRRSSSFICTESCSSKYQCEAGENSKGSVQDRVKRPMNAFIVWSRDQRRKMALENPKMRNSEISKQLGYQWKMLTEADKWPFFQEAQKLQAMHREKYPNYKYRPRRKAKMLQNSCSLLPADPSSVPCREVELDNRLCRDDCTKATHSRMQHQLGHLPPINTASSPQQGDRYSHSTKL</Hsp_hseq>\\n      <Hsp_midline>MQSYASAMLSVFN+D YSPA Q++IPALRRSSSF+CTESC+SKYQCE GENSKG+VQDRVKRPMNAFIVWSRDQRRKMALENP+MRNSEISKQLGYQWKMLTEA+KWPFFQEAQKLQAMHREKYPNYKYRPRRKAKML  +CSLLPADP+SV C EV+LDNRL RDDCTKATHSRM+HQLGHLPPIN ASSPQQ DRYSH TKL</Hsp_midline>\\n    </Hsp>\\n  </Hit_hsps>\\n</Hit>\\n<Hit>\\n  <Hit_num>79</Hit_num>\\n  <Hit_id>gb|AAW23362.1|</Hit_id>\\n  <Hit_def>sex-determining protein SRY [Cercopithecus diana]</Hit_def>\\n  <Hit_accession>AAW23362</Hit_accession>\\n  <Hit_len>204</Hit_len>\\n  <Hit_hsps>\\n    <Hsp>\\n      <Hsp_num>1</Hsp_num>\\n      <Hsp_bit-score>382.874</Hsp_bit-score>\\n      <Hsp_score>982</Hsp_score>\\n      <Hsp_evalue>1.63189e-133</Hsp_evalue>\\n      <Hsp_query-from>1</Hsp_query-from>\\n      <Hsp_query-to>204</Hsp_query-to>\\n      <Hsp_hit-from>1</Hsp_hit-from>\\n      <Hsp_hit-to>204</Hsp_hit-to>\\n      <Hsp_query-frame>0</Hsp_query-frame>\\n      <Hsp_hit-frame>0</Hsp_hit-frame>\\n      <Hsp_identity>180</Hsp_identity>\\n      <Hsp_positive>192</Hsp_positive>\\n      <Hsp_gaps>0</Hsp_gaps>\\n      <Hsp_align-len>204</Hsp_align-len>\\n      <Hsp_qseq>MQSYASAMLSVFNSDDYSPAVQENIPALRRSSSFLCTESCNSKYQCETGENSKGNVQDRVKRPMNAFIVWSRDQRRKMALENPRMRNSEISKQLGYQWKMLTEAEKWPFFQEAQKLQAMHREKYPNYKYRPRRKAKMLPKNCSLLPADPASVLCSEVQLDNRLYRDDCTKATHSRMEHQLGHLPPINAASSPQQRDRYSHWTKL</Hsp_qseq>\\n      <Hsp_hseq>MQSYASAMLSIFNTDGYSPAAQQNIPALRRSSSFICTESCSSKYQCEAGENSKGSVQDRVKRPMNAFIVWSRDQRRKMALENPKMRNSEIXKQLGYQWKMLTEADKWPFFQEAQKLQAMHREKYPNYKYRPRRKAKMLQNSCSLLPADPSSVPCREVELDNRLCRDDCTKATHSRMQHQLGHLPPINTASSPQQGDRYSHSTKL</Hsp_hseq>\\n      <Hsp_midline>MQSYASAMLS+FN+D YSPA Q+NIPALRRSSSF+CTESC+SKYQCE GENSKG+VQDRVKRPMNAFIVWSRDQRRKMALENP+MRNSEI KQLGYQWKMLTEA+KWPFFQEAQKLQAMHREKYPNYKYRPRRKAKML  +CSLLPADP+SV C EV+LDNRL RDDCTKATHSRM+HQLGHLPPIN ASSPQQ DRYSH TKL</Hsp_midline>\\n    </Hsp>\\n  </Hit_hsps>\\n</Hit>\\n<Hit>\\n  <Hit_num>80</Hit_num>\\n  <Hit_id>gb|ADX95836.1|</Hit_id>\\n  <Hit_def>sex-determining region Y protein, partial [Procolobus verus]</Hit_def>\\n  <Hit_accession>ADX95836</Hit_accession>\\n  <Hit_len>202</Hit_len>\\n  <Hit_hsps>\\n    <Hsp>\\n      <Hsp_num>1</Hsp_num>\\n      <Hsp_bit-score>382.874</Hsp_bit-score>\\n      <Hsp_score>982</Hsp_score>\\n      <Hsp_evalue>1.64088e-133</Hsp_evalue>\\n      <Hsp_query-from>1</Hsp_query-from>\\n      <Hsp_query-to>204</Hsp_query-to>\\n      <Hsp_hit-from>1</Hsp_hit-from>\\n      <Hsp_hit-to>202</Hsp_hit-to>\\n      <Hsp_query-frame>0</Hsp_query-frame>\\n      <Hsp_hit-frame>0</Hsp_hit-frame>\\n      <Hsp_identity>182</Hsp_identity>\\n      <Hsp_positive>194</Hsp_positive>\\n      <Hsp_gaps>2</Hsp_gaps>\\n      <Hsp_align-len>204</Hsp_align-len>\\n      <Hsp_qseq>MQSYASAMLSVFNSDDYSPAVQENIPALRRSSSFLCTESCNSKYQCETGENSKGNVQDRVKRPMNAFIVWSRDQRRKMALENPRMRNSEISKQLGYQWKMLTEAEKWPFFQEAQKLQAMHREKYPNYKYRPRRKAKMLPKNCSLLPADPASVLCSEVQLDNRLYRDDCTKATHSRMEHQLGHLPPINAASSPQQRDRYSHWTKL</Hsp_qseq>\\n      <Hsp_hseq>MQSYASAMLSVFNTDDYSPAAQQNVPALRRSSSFICTESCSSKYQCEAGENSKGSVQDRVKRPMNAFIVWSRDQRRKMALENPKMRNSEISKQLGYQWKMLTEADKWPFFQEAQKLQAMHREKYPNYKYRPRRKAKMLQNSCSLLPADPSSVLCREMELDNRLYRDDYTKATHSRM--QLGHLPPINTASSPQQRDRYSHSTKL</Hsp_hseq>\\n      <Hsp_midline>MQSYASAMLSVFN+DDYSPA Q+N+PALRRSSSF+CTESC+SKYQCE GENSKG+VQDRVKRPMNAFIVWSRDQRRKMALENP+MRNSEISKQLGYQWKMLTEA+KWPFFQEAQKLQAMHREKYPNYKYRPRRKAKML  +CSLLPADP+SVLC E++LDNRLYRDD TKATHSRM  QLGHLPPIN ASSPQQRDRYSH TKL</Hsp_midline>\\n    </Hsp>\\n  </Hit_hsps>\\n</Hit>\\n<Hit>\\n  <Hit_num>81</Hit_num>\\n  <Hit_id>gb|AAG34436.1|</Hit_id>\\n  <Hit_def>SRY, partial [Macaca thibetana] &gt;gb|AAP59466.1| SRY, partial [Macaca thibetana] &gt;gb|ANW35644.1| SRY, partial [Macaca thibetana] &gt;gb|AUT31604.1| sex-determining region Y protein, partial [Macaca thibetana]</Hit_def>\\n  <Hit_accession>AAG34436</Hit_accession>\\n  <Hit_len>203</Hit_len>\\n  <Hit_hsps>\\n    <Hsp>\\n      <Hsp_num>1</Hsp_num>\\n      <Hsp_bit-score>382.489</Hsp_bit-score>\\n      <Hsp_score>981</Hsp_score>\\n      <Hsp_evalue>2.28661e-133</Hsp_evalue>\\n      <Hsp_query-from>1</Hsp_query-from>\\n      <Hsp_query-to>204</Hsp_query-to>\\n      <Hsp_hit-from>1</Hsp_hit-from>\\n      <Hsp_hit-to>203</Hsp_hit-to>\\n      <Hsp_query-frame>0</Hsp_query-frame>\\n      <Hsp_hit-frame>0</Hsp_hit-frame>\\n      <Hsp_identity>182</Hsp_identity>\\n      <Hsp_positive>193</Hsp_positive>\\n      <Hsp_gaps>1</Hsp_gaps>\\n      <Hsp_align-len>204</Hsp_align-len>\\n      <Hsp_qseq>MQSYASAMLSVFNSDDYSPAVQENIPALRRSSSFLCTESCNSKYQCETGENSKGNVQDRVKRPMNAFIVWSRDQRRKMALENPRMRNSEISKQLGYQWKMLTEAEKWPFFQEAQKLQAMHREKYPNYKYRPRRKAKMLPKNCSLLPADPASVLCSEVQLDNRLYRDDCTKATHSRMEHQLGHLPPINAASSPQQRDRYSHWTKL</Hsp_qseq>\\n      <Hsp_hseq>MQSYASAMLSVFNTDDYSPAAQQNIPALRRSSSFICAESCSSKYQCEAGENSKGSVQDRVKRPMNAFIVWSRDQRRKMALENPKMRNSEISKQLGYQWKMLTEADKWPFFQEAQKLQAMHREKYPNYKYRPRRKAKMLQNSCSLLPADPSSVPCREV-YNNRLYRDDCTKATHSRMQHQLGHLPPINTASSPQQRDRYSHSTKL</Hsp_hseq>\\n      <Hsp_midline>MQSYASAMLSVFN+DDYSPA Q+NIPALRRSSSF+C ESC+SKYQCE GENSKG+VQDRVKRPMNAFIVWSRDQRRKMALENP+MRNSEISKQLGYQWKMLTEA+KWPFFQEAQKLQAMHREKYPNYKYRPRRKAKML  +CSLLPADP+SV C EV  +NRLYRDDCTKATHSRM+HQLGHLPPIN ASSPQQRDRYSH TKL</Hsp_midline>\\n    </Hsp>\\n  </Hit_hsps>\\n</Hit>\\n<Hit>\\n  <Hit_num>82</Hit_num>\\n  <Hit_id>gb|AAG34440.1|</Hit_id>\\n  <Hit_def>SRY, partial [Allenopithecus nigroviridis]</Hit_def>\\n  <Hit_accession>AAG34440</Hit_accession>\\n  <Hit_len>204</Hit_len>\\n  <Hit_hsps>\\n    <Hsp>\\n      <Hsp_num>1</Hsp_num>\\n      <Hsp_bit-score>382.489</Hsp_bit-score>\\n      <Hsp_score>981</Hsp_score>\\n      <Hsp_evalue>2.31817e-133</Hsp_evalue>\\n      <Hsp_query-from>1</Hsp_query-from>\\n      <Hsp_query-to>204</Hsp_query-to>\\n      <Hsp_hit-from>1</Hsp_hit-from>\\n      <Hsp_hit-to>204</Hsp_hit-to>\\n      <Hsp_query-frame>0</Hsp_query-frame>\\n      <Hsp_hit-frame>0</Hsp_hit-frame>\\n      <Hsp_identity>180</Hsp_identity>\\n      <Hsp_positive>191</Hsp_positive>\\n      <Hsp_gaps>0</Hsp_gaps>\\n      <Hsp_align-len>204</Hsp_align-len>\\n      <Hsp_qseq>MQSYASAMLSVFNSDDYSPAVQENIPALRRSSSFLCTESCNSKYQCETGENSKGNVQDRVKRPMNAFIVWSRDQRRKMALENPRMRNSEISKQLGYQWKMLTEAEKWPFFQEAQKLQAMHREKYPNYKYRPRRKAKMLPKNCSLLPADPASVLCSEVQLDNRLYRDDCTKATHSRMEHQLGHLPPINAASSPQQRDRYSHWTKL</Hsp_qseq>\\n      <Hsp_hseq>MQSYASAMLSVFNTDGYSPAAQQNIPALRRSSSVICTESCSSKYQCEAGENSKGSVQDRVKRPMNAFIVWSRDQRRKMALENPEMRNSEISKQLGYQWKMLTEADKWPFFQEAQKLQAMHREKYPNYKYRPRRKAKMLQNSCSLLPADPSSVPCREVELDNRLYTDDCTRATHSRMQHQLGHLPPINTASSPQQGDRYSHSTKL</Hsp_hseq>\\n      <Hsp_midline>MQSYASAMLSVFN+D YSPA Q+NIPALRRSSS +CTESC+SKYQCE GENSKG+VQDRVKRPMNAFIVWSRDQRRKMALENP MRNSEISKQLGYQWKMLTEA+KWPFFQEAQKLQAMHREKYPNYKYRPRRKAKML  +CSLLPADP+SV C EV+LDNRLY DDCT+ATHSRM+HQLGHLPPIN ASSPQQ DRYSH TKL</Hsp_midline>\\n    </Hsp>\\n  </Hit_hsps>\\n</Hit>\\n<Hit>\\n  <Hit_num>83</Hit_num>\\n  <Hit_id>gb|AAL09285.1|</Hit_id>\\n  <Hit_def>SRY, partial [Chlorocebus aethiops] &gt;gb|AGY96999.1| sex-determining region Y protein, partial [Chlorocebus tantalus] &gt;gb|AGY97004.1| sex-determining region Y protein, partial [Chlorocebus sabaeus] &gt;gb|AAL09286.1| SRY, partial [Chlorocebus aethiops] &gt;gb|AAS19183.1| sex-determining region protein, partial [Chlorocebus aethiops]</Hit_def>\\n  <Hit_accession>AAL09285</Hit_accession>\\n  <Hit_len>204</Hit_len>\\n  <Hit_hsps>\\n    <Hsp>\\n      <Hsp_num>1</Hsp_num>\\n      <Hsp_bit-score>382.489</Hsp_bit-score>\\n      <Hsp_score>981</Hsp_score>\\n      <Hsp_evalue>2.44887e-133</Hsp_evalue>\\n      <Hsp_query-from>1</Hsp_query-from>\\n      <Hsp_query-to>204</Hsp_query-to>\\n      <Hsp_hit-from>1</Hsp_hit-from>\\n      <Hsp_hit-to>204</Hsp_hit-to>\\n      <Hsp_query-frame>0</Hsp_query-frame>\\n      <Hsp_hit-frame>0</Hsp_hit-frame>\\n      <Hsp_identity>181</Hsp_identity>\\n      <Hsp_positive>192</Hsp_positive>\\n      <Hsp_gaps>0</Hsp_gaps>\\n      <Hsp_align-len>204</Hsp_align-len>\\n      <Hsp_qseq>MQSYASAMLSVFNSDDYSPAVQENIPALRRSSSFLCTESCNSKYQCETGENSKGNVQDRVKRPMNAFIVWSRDQRRKMALENPRMRNSEISKQLGYQWKMLTEAEKWPFFQEAQKLQAMHREKYPNYKYRPRRKAKMLPKNCSLLPADPASVLCSEVQLDNRLYRDDCTKATHSRMEHQLGHLPPINAASSPQQRDRYSHWTKL</Hsp_qseq>\\n      <Hsp_hseq>MQSYASAKLSVFNTDGYSPAAQQNIPALRRSSSFICTESCSSKYHCEAGENSKGSVQDRVKRPMNAFIVWSRDQRRKMALENPKMRNSEISKQLGYQWKMLTEADKWPFFQEAQKLQAMHREKYPNYKYRPRRKAKMLQNSCSLLPADPSSVPCREVELDNRLYRDDCTKATHSRMQHQLGHLPPINTASSPQQWDRYSHSTKL</Hsp_hseq>\\n      <Hsp_midline>MQSYASA LSVFN+D YSPA Q+NIPALRRSSSF+CTESC+SKY CE GENSKG+VQDRVKRPMNAFIVWSRDQRRKMALENP+MRNSEISKQLGYQWKMLTEA+KWPFFQEAQKLQAMHREKYPNYKYRPRRKAKML  +CSLLPADP+SV C EV+LDNRLYRDDCTKATHSRM+HQLGHLPPIN ASSPQQ DRYSH TKL</Hsp_midline>\\n    </Hsp>\\n  </Hit_hsps>\\n</Hit>\\n<Hit>\\n  <Hit_num>84</Hit_num>\\n  <Hit_id>gb|AAW23367.1|</Hit_id>\\n  <Hit_def>sex-determining protein SRY [Cercopithecus erythrogaster erythrogaster]</Hit_def>\\n  <Hit_accession>AAW23367</Hit_accession>\\n  <Hit_len>204</Hit_len>\\n  <Hit_hsps>\\n    <Hsp>\\n      <Hsp_num>1</Hsp_num>\\n      <Hsp_bit-score>382.489</Hsp_bit-score>\\n      <Hsp_score>981</Hsp_score>\\n      <Hsp_evalue>2.82423e-133</Hsp_evalue>\\n      <Hsp_query-from>1</Hsp_query-from>\\n      <Hsp_query-to>204</Hsp_query-to>\\n      <Hsp_hit-from>1</Hsp_hit-from>\\n      <Hsp_hit-to>204</Hsp_hit-to>\\n      <Hsp_query-frame>0</Hsp_query-frame>\\n      <Hsp_hit-frame>0</Hsp_hit-frame>\\n      <Hsp_identity>180</Hsp_identity>\\n      <Hsp_positive>192</Hsp_positive>\\n      <Hsp_gaps>0</Hsp_gaps>\\n      <Hsp_align-len>204</Hsp_align-len>\\n      <Hsp_qseq>MQSYASAMLSVFNSDDYSPAVQENIPALRRSSSFLCTESCNSKYQCETGENSKGNVQDRVKRPMNAFIVWSRDQRRKMALENPRMRNSEISKQLGYQWKMLTEAEKWPFFQEAQKLQAMHREKYPNYKYRPRRKAKMLPKNCSLLPADPASVLCSEVQLDNRLYRDDCTKATHSRMEHQLGHLPPINAASSPQQRDRYSHWTKL</Hsp_qseq>\\n      <Hsp_hseq>MQSYASAMLSVFNTDGYSPAAQQNVPALRRSSSFICTESCSSKYQCEAGENSKGSVQDRVKXPMNAFIVWSRDQRRKMALENPKMRNSEISKQLGYQWKMLTEADKWPFFQEAQKLQAMHREKYPNYKYRPRRKAKMLQNSCSLLPADPSSVPCREVELDNRLCRDDCTKATHSRMQHQLGHLPPINTASSPQQGDRYSHSTKL</Hsp_hseq>\\n      <Hsp_midline>MQSYASAMLSVFN+D YSPA Q+N+PALRRSSSF+CTESC+SKYQCE GENSKG+VQDRVK PMNAFIVWSRDQRRKMALENP+MRNSEISKQLGYQWKMLTEA+KWPFFQEAQKLQAMHREKYPNYKYRPRRKAKML  +CSLLPADP+SV C EV+LDNRL RDDCTKATHSRM+HQLGHLPPIN ASSPQQ DRYSH TKL</Hsp_midline>\\n    </Hsp>\\n  </Hit_hsps>\\n</Hit>\\n<Hit>\\n  <Hit_num>85</Hit_num>\\n  <Hit_id>gb|AAG34393.1|</Hit_id>\\n  <Hit_def>SRY, partial [Macaca sinica] &gt;gb|AAG34400.1| SRY, partial [Macaca arctoides] &gt;gb|AAG34430.1| SRY, partial [Macaca radiata] &gt;gb|AAG34394.1| SRY, partial [Macaca sinica] &gt;gb|AAG34402.1| SRY, partial [Macaca arctoides]</Hit_def>\\n  <Hit_accession>AAG34393</Hit_accession>\\n  <Hit_len>203</Hit_len>\\n  <Hit_hsps>\\n    <Hsp>\\n      <Hsp_num>1</Hsp_num>\\n      <Hsp_bit-score>382.104</Hsp_bit-score>\\n      <Hsp_score>980</Hsp_score>\\n      <Hsp_evalue>3.28406e-133</Hsp_evalue>\\n      <Hsp_query-from>1</Hsp_query-from>\\n      <Hsp_query-to>204</Hsp_query-to>\\n      <Hsp_hit-from>1</Hsp_hit-from>\\n      <Hsp_hit-to>203</Hsp_hit-to>\\n      <Hsp_query-frame>0</Hsp_query-frame>\\n      <Hsp_hit-frame>0</Hsp_hit-frame>\\n      <Hsp_identity>182</Hsp_identity>\\n      <Hsp_positive>193</Hsp_positive>\\n      <Hsp_gaps>1</Hsp_gaps>\\n      <Hsp_align-len>204</Hsp_align-len>\\n      <Hsp_qseq>MQSYASAMLSVFNSDDYSPAVQENIPALRRSSSFLCTESCNSKYQCETGENSKGNVQDRVKRPMNAFIVWSRDQRRKMALENPRMRNSEISKQLGYQWKMLTEAEKWPFFQEAQKLQAMHREKYPNYKYRPRRKAKMLPKNCSLLPADPASVLCSEVQLDNRLYRDDCTKATHSRMEHQLGHLPPINAASSPQQRDRYSHWTKL</Hsp_qseq>\\n      <Hsp_hseq>MQSYASAMLSVFNTDGYSPAAQQNIPALRRSSSFICTESCSSKYQCEAGENSKGSVQDRVKRPMNAFIVWSRDQRRKMALENPKMRNSEISKQLGYQWKMLTEADKWPFFQEAQKLQAMHREKYPNYKYRPRRKAKMLQNSCSLLPADPSSVPCREV-YNNRLYRDDCTKATHSRMQHQLGHLPPINTASSPQQRDRYSHSTKL</Hsp_hseq>\\n      <Hsp_midline>MQSYASAMLSVFN+D YSPA Q+NIPALRRSSSF+CTESC+SKYQCE GENSKG+VQDRVKRPMNAFIVWSRDQRRKMALENP+MRNSEISKQLGYQWKMLTEA+KWPFFQEAQKLQAMHREKYPNYKYRPRRKAKML  +CSLLPADP+SV C EV  +NRLYRDDCTKATHSRM+HQLGHLPPIN ASSPQQRDRYSH TKL</Hsp_midline>\\n    </Hsp>\\n  </Hit_hsps>\\n</Hit>\\n<Hit>\\n  <Hit_num>86</Hit_num>\\n  <Hit_id>gb|AGY96995.1|</Hit_id>\\n  <Hit_def>sex-determining region Y protein, partial [Chlorocebus pygerythrus] &gt;gb|AGY96996.1| sex-determining region Y protein, partial [Chlorocebus pygerythrus] &gt;gb|AGY96997.1| sex-determining region Y protein, partial [Chlorocebus pygerythrus]</Hit_def>\\n  <Hit_accession>AGY96995</Hit_accession>\\n  <Hit_len>204</Hit_len>\\n  <Hit_hsps>\\n    <Hsp>\\n      <Hsp_num>1</Hsp_num>\\n      <Hsp_bit-score>381.719</Hsp_bit-score>\\n      <Hsp_score>979</Hsp_score>\\n      <Hsp_evalue>5.27783e-133</Hsp_evalue>\\n      <Hsp_query-from>1</Hsp_query-from>\\n      <Hsp_query-to>204</Hsp_query-to>\\n      <Hsp_hit-from>1</Hsp_hit-from>\\n      <Hsp_hit-to>204</Hsp_hit-to>\\n      <Hsp_query-frame>0</Hsp_query-frame>\\n      <Hsp_hit-frame>0</Hsp_hit-frame>\\n      <Hsp_identity>180</Hsp_identity>\\n      <Hsp_positive>192</Hsp_positive>\\n      <Hsp_gaps>0</Hsp_gaps>\\n      <Hsp_align-len>204</Hsp_align-len>\\n      <Hsp_qseq>MQSYASAMLSVFNSDDYSPAVQENIPALRRSSSFLCTESCNSKYQCETGENSKGNVQDRVKRPMNAFIVWSRDQRRKMALENPRMRNSEISKQLGYQWKMLTEAEKWPFFQEAQKLQAMHREKYPNYKYRPRRKAKMLPKNCSLLPADPASVLCSEVQLDNRLYRDDCTKATHSRMEHQLGHLPPINAASSPQQRDRYSHWTKL</Hsp_qseq>\\n      <Hsp_hseq>MQSYASAKLSVFNTDGYSPAAQQNIPALRRSSSFICTESCSSKYHCEAGENSKGSVQDRVKRPMNAFIVWSRDQRRKMALENPKMRNSEISKQLGYQWKMLTEADKWPFFQEAQKLQAMHREKYPNYKYRPRRKAKMLQNSCSLLPADPSSVPCREVELDNRLYRDDCTKATHSRMQHQIGHLPPINTASSPQQWDRYSHSTKL</Hsp_hseq>\\n      <Hsp_midline>MQSYASA LSVFN+D YSPA Q+NIPALRRSSSF+CTESC+SKY CE GENSKG+VQDRVKRPMNAFIVWSRDQRRKMALENP+MRNSEISKQLGYQWKMLTEA+KWPFFQEAQKLQAMHREKYPNYKYRPRRKAKML  +CSLLPADP+SV C EV+LDNRLYRDDCTKATHSRM+HQ+GHLPPIN ASSPQQ DRYSH TKL</Hsp_midline>\\n    </Hsp>\\n  </Hit_hsps>\\n</Hit>\\n<Hit>\\n  <Hit_num>87</Hit_num>\\n  <Hit_id>gb|AAS19187.1|</Hit_id>\\n  <Hit_def>sex-determining region protein, partial [Cercopithecus mitis]</Hit_def>\\n  <Hit_accession>AAS19187</Hit_accession>\\n  <Hit_len>204</Hit_len>\\n  <Hit_hsps>\\n    <Hsp>\\n      <Hsp_num>1</Hsp_num>\\n      <Hsp_bit-score>381.719</Hsp_bit-score>\\n      <Hsp_score>979</Hsp_score>\\n      <Hsp_evalue>5.95472e-133</Hsp_evalue>\\n      <Hsp_query-from>1</Hsp_query-from>\\n      <Hsp_query-to>204</Hsp_query-to>\\n      <Hsp_hit-from>1</Hsp_hit-from>\\n      <Hsp_hit-to>204</Hsp_hit-to>\\n      <Hsp_query-frame>0</Hsp_query-frame>\\n      <Hsp_hit-frame>0</Hsp_hit-frame>\\n      <Hsp_identity>181</Hsp_identity>\\n      <Hsp_positive>192</Hsp_positive>\\n      <Hsp_gaps>0</Hsp_gaps>\\n      <Hsp_align-len>204</Hsp_align-len>\\n      <Hsp_qseq>MQSYASAMLSVFNSDDYSPAVQENIPALRRSSSFLCTESCNSKYQCETGENSKGNVQDRVKRPMNAFIVWSRDQRRKMALENPRMRNSEISKQLGYQWKMLTEAEKWPFFQEAQKLQAMHREKYPNYKYRPRRKAKMLPKNCSLLPADPASVLCSEVQLDNRLYRDDCTKATHSRMEHQLGHLPPINAASSPQQRDRYSHWTKL</Hsp_qseq>\\n      <Hsp_hseq>MQSYASAMLSVFNTDGYSPAAQQNIPALRRSSSFICTESCSSKYQCEAGENSKGSVQDRVKRPMNAFIVWSRDQRRKMALENPKMRNSEISKQLGYQWKMLTEADKWPFFQEAQKLQAMHREKYPNYKYRPRRKAKMLQNSCSLLPADPSSVPCREVELDNRLCRDDCTKATHSRMQHQLGHLLPINTASSPQQGDRYSHSTKL</Hsp_hseq>\\n      <Hsp_midline>MQSYASAMLSVFN+D YSPA Q+NIPALRRSSSF+CTESC+SKYQCE GENSKG+VQDRVKRPMNAFIVWSRDQRRKMALENP+MRNSEISKQLGYQWKMLTEA+KWPFFQEAQKLQAMHREKYPNYKYRPRRKAKML  +CSLLPADP+SV C EV+LDNRL RDDCTKATHSRM+HQLGHL PIN ASSPQQ DRYSH TKL</Hsp_midline>\\n    </Hsp>\\n  </Hit_hsps>\\n</Hit>\\n<Hit>\\n  <Hit_num>88</Hit_num>\\n  <Hit_id>gb|AAG34401.1|</Hit_id>\\n  <Hit_def>SRY, partial [Macaca arctoides]</Hit_def>\\n  <Hit_accession>AAG34401</Hit_accession>\\n  <Hit_len>203</Hit_len>\\n  <Hit_hsps>\\n    <Hsp>\\n      <Hsp_num>1</Hsp_num>\\n      <Hsp_bit-score>381.333</Hsp_bit-score>\\n      <Hsp_score>978</Hsp_score>\\n      <Hsp_evalue>6.27333e-133</Hsp_evalue>\\n      <Hsp_query-from>1</Hsp_query-from>\\n      <Hsp_query-to>204</Hsp_query-to>\\n      <Hsp_hit-from>1</Hsp_hit-from>\\n      <Hsp_hit-to>203</Hsp_hit-to>\\n      <Hsp_query-frame>0</Hsp_query-frame>\\n      <Hsp_hit-frame>0</Hsp_hit-frame>\\n      <Hsp_identity>181</Hsp_identity>\\n      <Hsp_positive>193</Hsp_positive>\\n      <Hsp_gaps>1</Hsp_gaps>\\n      <Hsp_align-len>204</Hsp_align-len>\\n      <Hsp_qseq>MQSYASAMLSVFNSDDYSPAVQENIPALRRSSSFLCTESCNSKYQCETGENSKGNVQDRVKRPMNAFIVWSRDQRRKMALENPRMRNSEISKQLGYQWKMLTEAEKWPFFQEAQKLQAMHREKYPNYKYRPRRKAKMLPKNCSLLPADPASVLCSEVQLDNRLYRDDCTKATHSRMEHQLGHLPPINAASSPQQRDRYSHWTKL</Hsp_qseq>\\n      <Hsp_hseq>MQSYASAMLSVFNTDGYSPAAQQNIPALRRSSSFICTESCSTKYQCEAGENSKGSVQDRVKRPMNAFIVWSRDQRRKMALENPKMRNSEISKQLGYQWKMLTEADKWPFFQEAQKLQAMHREKYPNYKYRPRRKAKMLQNSCSLLPADPSSVPCREV-YNNRLYRDDCTKATHSRMQHQLGHLPPINTASSPQQRDRYSHSTKL</Hsp_hseq>\\n      <Hsp_midline>MQSYASAMLSVFN+D YSPA Q+NIPALRRSSSF+CTESC++KYQCE GENSKG+VQDRVKRPMNAFIVWSRDQRRKMALENP+MRNSEISKQLGYQWKMLTEA+KWPFFQEAQKLQAMHREKYPNYKYRPRRKAKML  +CSLLPADP+SV C EV  +NRLYRDDCTKATHSRM+HQLGHLPPIN ASSPQQRDRYSH TKL</Hsp_midline>\\n    </Hsp>\\n  </Hit_hsps>\\n</Hit>\\n<Hit>\\n  <Hit_num>89</Hit_num>\\n  <Hit_id>gb|AAW23366.1|</Hit_id>\\n  <Hit_def>sex-determining protein SRY [Cercopithecus cephus cephus]</Hit_def>\\n  <Hit_accession>AAW23366</Hit_accession>\\n  <Hit_len>204</Hit_len>\\n  <Hit_hsps>\\n    <Hsp>\\n      <Hsp_num>1</Hsp_num>\\n      <Hsp_bit-score>381.333</Hsp_bit-score>\\n      <Hsp_score>978</Hsp_score>\\n      <Hsp_evalue>6.29045e-133</Hsp_evalue>\\n      <Hsp_query-from>1</Hsp_query-from>\\n      <Hsp_query-to>204</Hsp_query-to>\\n      <Hsp_hit-from>1</Hsp_hit-from>\\n      <Hsp_hit-to>204</Hsp_hit-to>\\n      <Hsp_query-frame>0</Hsp_query-frame>\\n      <Hsp_hit-frame>0</Hsp_hit-frame>\\n      <Hsp_identity>180</Hsp_identity>\\n      <Hsp_positive>191</Hsp_positive>\\n      <Hsp_gaps>0</Hsp_gaps>\\n      <Hsp_align-len>204</Hsp_align-len>\\n      <Hsp_qseq>MQSYASAMLSVFNSDDYSPAVQENIPALRRSSSFLCTESCNSKYQCETGENSKGNVQDRVKRPMNAFIVWSRDQRRKMALENPRMRNSEISKQLGYQWKMLTEAEKWPFFQEAQKLQAMHREKYPNYKYRPRRKAKMLPKNCSLLPADPASVLCSEVQLDNRLYRDDCTKATHSRMEHQLGHLPPINAASSPQQRDRYSHWTKL</Hsp_qseq>\\n      <Hsp_hseq>MQSYASAMLSVFNTDGYSPAAQQNIPALRRSSSFICTESCSSKYQCEAGENSKGSVQDRVKRPMNAFIVWSRDQRRKMALENPKMRNSEIXXQLGYQWKMLTEADKWPFFQEAQKLQAMHREKYPNYKYRPRRKAKMLQNSCSLLPADPSSVPCREVELDNRLCRDDCTKATHSRMQHQLGHLPPINTASSPQQGDRYSHSTKL</Hsp_hseq>\\n      <Hsp_midline>MQSYASAMLSVFN+D YSPA Q+NIPALRRSSSF+CTESC+SKYQCE GENSKG+VQDRVKRPMNAFIVWSRDQRRKMALENP+MRNSEI  QLGYQWKMLTEA+KWPFFQEAQKLQAMHREKYPNYKYRPRRKAKML  +CSLLPADP+SV C EV+LDNRL RDDCTKATHSRM+HQLGHLPPIN ASSPQQ DRYSH TKL</Hsp_midline>\\n    </Hsp>\\n  </Hit_hsps>\\n</Hit>\\n<Hit>\\n  <Hit_num>90</Hit_num>\\n  <Hit_id>gb|AAG34405.1|</Hit_id>\\n  <Hit_def>SRY, partial [Macaca cyclopis] &gt;gb|AAG34410.1| SRY, partial [Macaca fascicularis] &gt;gb|AAG34415.1| SRY, partial [Macaca fuscata] &gt;gb|AAG34418.1| SRY, partial [Macaca mulatta] &gt;gb|AAG34413.1| SRY, partial [Macaca fascicularis]</Hit_def>\\n  <Hit_accession>AAG34405</Hit_accession>\\n  <Hit_len>203</Hit_len>\\n  <Hit_hsps>\\n    <Hsp>\\n      <Hsp_num>1</Hsp_num>\\n      <Hsp_bit-score>381.333</Hsp_bit-score>\\n      <Hsp_score>978</Hsp_score>\\n      <Hsp_evalue>6.77404e-133</Hsp_evalue>\\n      <Hsp_query-from>1</Hsp_query-from>\\n      <Hsp_query-to>204</Hsp_query-to>\\n      <Hsp_hit-from>1</Hsp_hit-from>\\n      <Hsp_hit-to>203</Hsp_hit-to>\\n      <Hsp_query-frame>0</Hsp_query-frame>\\n      <Hsp_hit-frame>0</Hsp_hit-frame>\\n      <Hsp_identity>181</Hsp_identity>\\n      <Hsp_positive>193</Hsp_positive>\\n      <Hsp_gaps>1</Hsp_gaps>\\n      <Hsp_align-len>204</Hsp_align-len>\\n      <Hsp_qseq>MQSYASAMLSVFNSDDYSPAVQENIPALRRSSSFLCTESCNSKYQCETGENSKGNVQDRVKRPMNAFIVWSRDQRRKMALENPRMRNSEISKQLGYQWKMLTEAEKWPFFQEAQKLQAMHREKYPNYKYRPRRKAKMLPKNCSLLPADPASVLCSEVQLDNRLYRDDCTKATHSRMEHQLGHLPPINAASSPQQRDRYSHWTKL</Hsp_qseq>\\n      <Hsp_hseq>MQSYASAMLSVFNTDGYSPAAQQNIPALRRSSSFICTESCSSKYQCEAGENSKGSVQDKVKRPMNAFIVWSRDQRRKMALENPKMRNSEISKQLGYQWKMLTEADKWPFFQEAQKLQAMHREKYPNYKYRPRRKAKMLQNSCSLLPADPSSVPCREV-YNNRLYRDDCTKATHSRMQHQLGHLPPINTASSPQQRDRYSHSTKL</Hsp_hseq>\\n      <Hsp_midline>MQSYASAMLSVFN+D YSPA Q+NIPALRRSSSF+CTESC+SKYQCE GENSKG+VQD+VKRPMNAFIVWSRDQRRKMALENP+MRNSEISKQLGYQWKMLTEA+KWPFFQEAQKLQAMHREKYPNYKYRPRRKAKML  +CSLLPADP+SV C EV  +NRLYRDDCTKATHSRM+HQLGHLPPIN ASSPQQRDRYSH TKL</Hsp_midline>\\n    </Hsp>\\n  </Hit_hsps>\\n</Hit>\\n<Hit>\\n  <Hit_num>91</Hit_num>\\n  <Hit_id>gb|AAW23369.1|</Hit_id>\\n  <Hit_def>sex-determining protein SRY [Cercopithecus pogonias]</Hit_def>\\n  <Hit_accession>AAW23369</Hit_accession>\\n  <Hit_len>204</Hit_len>\\n  <Hit_hsps>\\n    <Hsp>\\n      <Hsp_num>1</Hsp_num>\\n      <Hsp_bit-score>381.333</Hsp_bit-score>\\n      <Hsp_score>978</Hsp_score>\\n      <Hsp_evalue>8.55217e-133</Hsp_evalue>\\n      <Hsp_query-from>1</Hsp_query-from>\\n      <Hsp_query-to>204</Hsp_query-to>\\n      <Hsp_hit-from>1</Hsp_hit-from>\\n      <Hsp_hit-to>204</Hsp_hit-to>\\n      <Hsp_query-frame>0</Hsp_query-frame>\\n      <Hsp_hit-frame>0</Hsp_hit-frame>\\n      <Hsp_identity>180</Hsp_identity>\\n      <Hsp_positive>192</Hsp_positive>\\n      <Hsp_gaps>0</Hsp_gaps>\\n      <Hsp_align-len>204</Hsp_align-len>\\n      <Hsp_qseq>MQSYASAMLSVFNSDDYSPAVQENIPALRRSSSFLCTESCNSKYQCETGENSKGNVQDRVKRPMNAFIVWSRDQRRKMALENPRMRNSEISKQLGYQWKMLTEAEKWPFFQEAQKLQAMHREKYPNYKYRPRRKAKMLPKNCSLLPADPASVLCSEVQLDNRLYRDDCTKATHSRMEHQLGHLPPINAASSPQQRDRYSHWTKL</Hsp_qseq>\\n      <Hsp_hseq>MQSYASAMLSVFNTDGYSPAAQQHIPALRRSSSFICTESCSSKYQCEAGENSKGSVQDRVKRPMNAFIVWSRDQRRKMALENPKMRNSEISXQLGYQWKMLTEADKWPFFQEAQKLQAMHREKYPNYKYRPRRKAKMLQNSCSLLPADPSSVPCREVELDNRLCRDDCTKATHSRMQHQLGHLPPINTASSPQQGDRYSHSTKL</Hsp_hseq>\\n      <Hsp_midline>MQSYASAMLSVFN+D YSPA Q++IPALRRSSSF+CTESC+SKYQCE GENSKG+VQDRVKRPMNAFIVWSRDQRRKMALENP+MRNSEIS QLGYQWKMLTEA+KWPFFQEAQKLQAMHREKYPNYKYRPRRKAKML  +CSLLPADP+SV C EV+LDNRL RDDCTKATHSRM+HQLGHLPPIN ASSPQQ DRYSH TKL</Hsp_midline>\\n    </Hsp>\\n  </Hit_hsps>\\n</Hit>\\n<Hit>\\n  <Hit_num>92</Hit_num>\\n  <Hit_id>gb|ABV44688.1|</Hit_id>\\n  <Hit_def>SRY, partial [Semnopithecus entellus] &gt;gb|ABV44690.1| SRY, partial [Trachypithecus johnii] &gt;gb|ABV44692.1| SRY, partial [Trachypithecus pileatus] &gt;gb|ABV44698.1| SRY, partial [Trachypithecus auratus] &gt;gb|ABV44699.1| SRY, partial [Trachypithecus germaini] &gt;gb|ABV44700.1| SRY, partial [Trachypithecus cristatus] &gt;gb|ADX95842.1| sex-determining region Y protein, partial [Trachypithecus obscurus] &gt;gb|AUT31593.1| sex-determining region Y protein, partial [Trachypithecus phayrei crepuscula] &gt;gb|AUT31594.1| sex-determining region Y protein, partial [Trachypithecus phayrei] &gt;gb|AUT31601.1| sex-determining region Y protein, partial [Trachypithecus barbei] &gt;gb|AUT31602.1| sex-determining region Y protein, partial [Trachypithecus shortridgei]</Hit_def>\\n  <Hit_accession>ABV44688</Hit_accession>\\n  <Hit_len>201</Hit_len>\\n  <Hit_hsps>\\n    <Hsp>\\n      <Hsp_num>1</Hsp_num>\\n      <Hsp_bit-score>380.948</Hsp_bit-score>\\n      <Hsp_score>977</Hsp_score>\\n      <Hsp_evalue>9.15973e-133</Hsp_evalue>\\n      <Hsp_query-from>1</Hsp_query-from>\\n      <Hsp_query-to>203</Hsp_query-to>\\n      <Hsp_hit-from>1</Hsp_hit-from>\\n      <Hsp_hit-to>201</Hsp_hit-to>\\n      <Hsp_query-frame>0</Hsp_query-frame>\\n      <Hsp_hit-frame>0</Hsp_hit-frame>\\n      <Hsp_identity>180</Hsp_identity>\\n      <Hsp_positive>193</Hsp_positive>\\n      <Hsp_gaps>2</Hsp_gaps>\\n      <Hsp_align-len>203</Hsp_align-len>\\n      <Hsp_qseq>MQSYASAMLSVFNSDDYSPAVQENIPALRRSSSFLCTESCNSKYQCETGENSKGNVQDRVKRPMNAFIVWSRDQRRKMALENPRMRNSEISKQLGYQWKMLTEAEKWPFFQEAQKLQAMHREKYPNYKYRPRRKAKMLPKNCSLLPADPASVLCSEVQLDNRLYRDDCTKATHSRMEHQLGHLPPINAASSPQQRDRYSHWTK</Hsp_qseq>\\n      <Hsp_hseq>MQSYASAMLSVFNTDDYSPAAQQNVPALRRSSSFICTESCSSKYQCEAGENSKGSVQDRVKRPMNAFIVWSRDQRRKMALENPKMRNSEISKQLGYQWKTLTEADKWPFFQEAQKLQAMHREKYPNYKYRPRRKAKMLQNSCSLLPADPSSVLCREMELDNRLYRDNCTKATHSRM--QLGHLPPINTASSPQQRDRYSHSTK</Hsp_hseq>\\n      <Hsp_midline>MQSYASAMLSVFN+DDYSPA Q+N+PALRRSSSF+CTESC+SKYQCE GENSKG+VQDRVKRPMNAFIVWSRDQRRKMALENP+MRNSEISKQLGYQWK LTEA+KWPFFQEAQKLQAMHREKYPNYKYRPRRKAKML  +CSLLPADP+SVLC E++LDNRLYRD+CTKATHSRM  QLGHLPPIN ASSPQQRDRYSH TK</Hsp_midline>\\n    </Hsp>\\n  </Hit_hsps>\\n</Hit>\\n<Hit>\\n  <Hit_num>93</Hit_num>\\n  <Hit_id>gb|AGY96998.1|</Hit_id>\\n  <Hit_def>sex-determining region Y protein, partial [Chlorocebus tantalus]</Hit_def>\\n  <Hit_accession>AGY96998</Hit_accession>\\n  <Hit_len>204</Hit_len>\\n  <Hit_hsps>\\n    <Hsp>\\n      <Hsp_num>1</Hsp_num>\\n      <Hsp_bit-score>380.948</Hsp_bit-score>\\n      <Hsp_score>977</Hsp_score>\\n      <Hsp_evalue>1.0534e-132</Hsp_evalue>\\n      <Hsp_query-from>1</Hsp_query-from>\\n      <Hsp_query-to>204</Hsp_query-to>\\n      <Hsp_hit-from>1</Hsp_hit-from>\\n      <Hsp_hit-to>204</Hsp_hit-to>\\n      <Hsp_query-frame>0</Hsp_query-frame>\\n      <Hsp_hit-frame>0</Hsp_hit-frame>\\n      <Hsp_identity>180</Hsp_identity>\\n      <Hsp_positive>191</Hsp_positive>\\n      <Hsp_gaps>0</Hsp_gaps>\\n      <Hsp_align-len>204</Hsp_align-len>\\n      <Hsp_qseq>MQSYASAMLSVFNSDDYSPAVQENIPALRRSSSFLCTESCNSKYQCETGENSKGNVQDRVKRPMNAFIVWSRDQRRKMALENPRMRNSEISKQLGYQWKMLTEAEKWPFFQEAQKLQAMHREKYPNYKYRPRRKAKMLPKNCSLLPADPASVLCSEVQLDNRLYRDDCTKATHSRMEHQLGHLPPINAASSPQQRDRYSHWTKL</Hsp_qseq>\\n      <Hsp_hseq>MQSYVSAKLSVFNTDGYSPAAQQNIPALRRSSSFICTESCSSKYHCEAGENSKGSVQDRVKRPMNAFIVWSRDQRRKMALENPKMRNSEISKQLGYQWKMLTEADKWPFFQEAQKLQAMHREKYPNYKYRPRRKAKMLQNSCSLLPADPSSVPCREVELDNRLYRDDCTKATHSRMQHQLGHLPPINTASSPQQWDRYSHSTKL</Hsp_hseq>\\n      <Hsp_midline>MQSY SA LSVFN+D YSPA Q+NIPALRRSSSF+CTESC+SKY CE GENSKG+VQDRVKRPMNAFIVWSRDQRRKMALENP+MRNSEISKQLGYQWKMLTEA+KWPFFQEAQKLQAMHREKYPNYKYRPRRKAKML  +CSLLPADP+SV C EV+LDNRLYRDDCTKATHSRM+HQLGHLPPIN ASSPQQ DRYSH TKL</Hsp_midline>\\n    </Hsp>\\n  </Hit_hsps>\\n</Hit>\\n<Hit>\\n  <Hit_num>94</Hit_num>\\n  <Hit_id>gb|AAG34441.1|</Hit_id>\\n  <Hit_def>SRY, partial [Cercopithecus mona]</Hit_def>\\n  <Hit_accession>AAG34441</Hit_accession>\\n  <Hit_len>204</Hit_len>\\n  <Hit_hsps>\\n    <Hsp>\\n      <Hsp_num>1</Hsp_num>\\n      <Hsp_bit-score>380.948</Hsp_bit-score>\\n      <Hsp_score>977</Hsp_score>\\n      <Hsp_evalue>1.07677e-132</Hsp_evalue>\\n      <Hsp_query-from>1</Hsp_query-from>\\n      <Hsp_query-to>204</Hsp_query-to>\\n      <Hsp_hit-from>1</Hsp_hit-from>\\n      <Hsp_hit-to>204</Hsp_hit-to>\\n      <Hsp_query-frame>0</Hsp_query-frame>\\n      <Hsp_hit-frame>0</Hsp_hit-frame>\\n      <Hsp_identity>179</Hsp_identity>\\n      <Hsp_positive>193</Hsp_positive>\\n      <Hsp_gaps>0</Hsp_gaps>\\n      <Hsp_align-len>204</Hsp_align-len>\\n      <Hsp_qseq>MQSYASAMLSVFNSDDYSPAVQENIPALRRSSSFLCTESCNSKYQCETGENSKGNVQDRVKRPMNAFIVWSRDQRRKMALENPRMRNSEISKQLGYQWKMLTEAEKWPFFQEAQKLQAMHREKYPNYKYRPRRKAKMLPKNCSLLPADPASVLCSEVQLDNRLYRDDCTKATHSRMEHQLGHLPPINAASSPQQRDRYSHWTKL</Hsp_qseq>\\n      <Hsp_hseq>MQSYASAMLSVFNTDGYSPAAQQHIPALRRSSSFICTESCSSKYQCEAGENSKGSVQDRVKRPMNAFIVWSRDQRRKMALENPKMRNSEISKQLGYQWKMLTEADKWPFFQEAQKLQAMHREKYPNYKYRPRRKAKMLQNSCSLLPADPSSVPCREVELDNRLCRDDCTKATHSRMQHQLGHLPPIDTATSPQQGDRYSHSTKL</Hsp_hseq>\\n      <Hsp_midline>MQSYASAMLSVFN+D YSPA Q++IPALRRSSSF+CTESC+SKYQCE GENSKG+VQDRVKRPMNAFIVWSRDQRRKMALENP+MRNSEISKQLGYQWKMLTEA+KWPFFQEAQKLQAMHREKYPNYKYRPRRKAKML  +CSLLPADP+SV C EV+LDNRL RDDCTKATHSRM+HQLGHLPPI+ A+SPQQ DRYSH TKL</Hsp_midline>\\n    </Hsp>\\n  </Hit_hsps>\\n</Hit>\\n<Hit>\\n  <Hit_num>95</Hit_num>\\n  <Hit_id>gb|AAG34434.1|</Hit_id>\\n  <Hit_def>SRY, partial [Macaca sylvanus] &gt;gb|AAG34435.1| SRY, partial [Macaca sylvanus] &gt;gb|AAL78274.1| sex-determining factor SRY, partial [Macaca sylvanus] &gt;gb|ADX95830.1| sex-determining region Y protein, partial [Macaca sylvanus]</Hit_def>\\n  <Hit_accession>AAG34434</Hit_accession>\\n  <Hit_len>203</Hit_len>\\n  <Hit_hsps>\\n    <Hsp>\\n      <Hsp_num>1</Hsp_num>\\n      <Hsp_bit-score>380.563</Hsp_bit-score>\\n      <Hsp_score>976</Hsp_score>\\n      <Hsp_evalue>1.45995e-132</Hsp_evalue>\\n      <Hsp_query-from>1</Hsp_query-from>\\n      <Hsp_query-to>204</Hsp_query-to>\\n      <Hsp_hit-from>1</Hsp_hit-from>\\n      <Hsp_hit-to>203</Hsp_hit-to>\\n      <Hsp_query-frame>0</Hsp_query-frame>\\n      <Hsp_hit-frame>0</Hsp_hit-frame>\\n      <Hsp_identity>181</Hsp_identity>\\n      <Hsp_positive>192</Hsp_positive>\\n      <Hsp_gaps>1</Hsp_gaps>\\n      <Hsp_align-len>204</Hsp_align-len>\\n      <Hsp_qseq>MQSYASAMLSVFNSDDYSPAVQENIPALRRSSSFLCTESCNSKYQCETGENSKGNVQDRVKRPMNAFIVWSRDQRRKMALENPRMRNSEISKQLGYQWKMLTEAEKWPFFQEAQKLQAMHREKYPNYKYRPRRKAKMLPKNCSLLPADPASVLCSEVQLDNRLYRDDCTKATHSRMEHQLGHLPPINAASSPQQRDRYSHWTKL</Hsp_qseq>\\n      <Hsp_hseq>MQSYASAMLSVFNTDGYSPAAQQNIPALRRSSSFICTESCSSKYQCEAGENSKGSVQDRVKRPMNAFIVWSRDQRRKMALENPKMRNSEISKQLGYQWKMLTEADKWPFFQEAQKLQAMHREKYPNYKYRPRRKAKMLQNSCSLLPVDPSSVPCREV-YNNRLYRDDCTKATHSRMQHQLGHLPPINTASSPQQRDRYSHSTKL</Hsp_hseq>\\n      <Hsp_midline>MQSYASAMLSVFN+D YSPA Q+NIPALRRSSSF+CTESC+SKYQCE GENSKG+VQDRVKRPMNAFIVWSRDQRRKMALENP+MRNSEISKQLGYQWKMLTEA+KWPFFQEAQKLQAMHREKYPNYKYRPRRKAKML  +CSLLP DP+SV C EV  +NRLYRDDCTKATHSRM+HQLGHLPPIN ASSPQQRDRYSH TKL</Hsp_midline>\\n    </Hsp>\\n  </Hit_hsps>\\n</Hit>\\n<Hit>\\n  <Hit_num>96</Hit_num>\\n  <Hit_id>gb|AAS19188.1|</Hit_id>\\n  <Hit_def>sex-determining region protein, partial [Cercopithecus neglectus]</Hit_def>\\n  <Hit_accession>AAS19188</Hit_accession>\\n  <Hit_len>204</Hit_len>\\n  <Hit_hsps>\\n    <Hsp>\\n      <Hsp_num>1</Hsp_num>\\n      <Hsp_bit-score>380.178</Hsp_bit-score>\\n      <Hsp_score>975</Hsp_score>\\n      <Hsp_evalue>1.84315e-132</Hsp_evalue>\\n      <Hsp_query-from>1</Hsp_query-from>\\n      <Hsp_query-to>204</Hsp_query-to>\\n      <Hsp_hit-from>1</Hsp_hit-from>\\n      <Hsp_hit-to>204</Hsp_hit-to>\\n      <Hsp_query-frame>0</Hsp_query-frame>\\n      <Hsp_hit-frame>0</Hsp_hit-frame>\\n      <Hsp_identity>180</Hsp_identity>\\n      <Hsp_positive>191</Hsp_positive>\\n      <Hsp_gaps>0</Hsp_gaps>\\n      <Hsp_align-len>204</Hsp_align-len>\\n      <Hsp_qseq>MQSYASAMLSVFNSDDYSPAVQENIPALRRSSSFLCTESCNSKYQCETGENSKGNVQDRVKRPMNAFIVWSRDQRRKMALENPRMRNSEISKQLGYQWKMLTEAEKWPFFQEAQKLQAMHREKYPNYKYRPRRKAKMLPKNCSLLPADPASVLCSEVQLDNRLYRDDCTKATHSRMEHQLGHLPPINAASSPQQRDRYSHWTKL</Hsp_qseq>\\n      <Hsp_hseq>MQSYASAMLSVFNTDGYSPAAQQNIPALRRSSSFICTESCSSKCQCEAGENSKGSVQDRVKRPMNAFIVWSRDQRRKMALENPKMRNSEISKQLGYQWKMLTEADKWPFFQEAQKLQAMHREKYPNYKYRPRRKAKMLQNSCSLLPADPSSVPCREVELDNRLCRDDCTKATHSRMQHQLGHLPPINTASSPQQGDRYGHSTKL</Hsp_hseq>\\n      <Hsp_midline>MQSYASAMLSVFN+D YSPA Q+NIPALRRSSSF+CTESC+SK QCE GENSKG+VQDRVKRPMNAFIVWSRDQRRKMALENP+MRNSEISKQLGYQWKMLTEA+KWPFFQEAQKLQAMHREKYPNYKYRPRRKAKML  +CSLLPADP+SV C EV+LDNRL RDDCTKATHSRM+HQLGHLPPIN ASSPQQ DRY H TKL</Hsp_midline>\\n    </Hsp>\\n  </Hit_hsps>\\n</Hit>\\n<Hit>\\n  <Hit_num>97</Hit_num>\\n  <Hit_id>gb|AAG34395.1|</Hit_id>\\n  <Hit_def>SRY, partial [Macaca tonkeana] &gt;gb|AAG34417.1| SRY, partial [Macaca maura] &gt;gb|AAG34396.1| SRY, partial [Macaca tonkeana] &gt;gb|ADI56173.1| sex-determining protein SRY, partial [Macaca maura] &gt;gb|ADI56175.1| sex-determining protein SRY, partial [Macaca tonkeana]</Hit_def>\\n  <Hit_accession>AAG34395</Hit_accession>\\n  <Hit_len>203</Hit_len>\\n  <Hit_hsps>\\n    <Hsp>\\n      <Hsp_num>1</Hsp_num>\\n      <Hsp_bit-score>380.178</Hsp_bit-score>\\n      <Hsp_score>975</Hsp_score>\\n      <Hsp_evalue>2.0739e-132</Hsp_evalue>\\n      <Hsp_query-from>1</Hsp_query-from>\\n      <Hsp_query-to>204</Hsp_query-to>\\n      <Hsp_hit-from>1</Hsp_hit-from>\\n      <Hsp_hit-to>203</Hsp_hit-to>\\n      <Hsp_query-frame>0</Hsp_query-frame>\\n      <Hsp_hit-frame>0</Hsp_hit-frame>\\n      <Hsp_identity>181</Hsp_identity>\\n      <Hsp_positive>192</Hsp_positive>\\n      <Hsp_gaps>1</Hsp_gaps>\\n      <Hsp_align-len>204</Hsp_align-len>\\n      <Hsp_qseq>MQSYASAMLSVFNSDDYSPAVQENIPALRRSSSFLCTESCNSKYQCETGENSKGNVQDRVKRPMNAFIVWSRDQRRKMALENPRMRNSEISKQLGYQWKMLTEAEKWPFFQEAQKLQAMHREKYPNYKYRPRRKAKMLPKNCSLLPADPASVLCSEVQLDNRLYRDDCTKATHSRMEHQLGHLPPINAASSPQQRDRYSHWTKL</Hsp_qseq>\\n      <Hsp_hseq>MQSYASAMLSVFNTDGYSPAAQQNIPALRRSSSFICTESCSSKYQCEAGENSKGSVQDRVKRPMNAFIVWSRDQRRKMALENPKMRNSEISKHLGYQWKMLTEADKWPFFQEAQKLQAMHREKYPNYKYRPRRKAKMLQNSCSLLPADPSSVPCREV-YNNRLYRDDCTKATHSRMQHQLGHLPPINTASSPQQRDRYSHSTKL</Hsp_hseq>\\n      <Hsp_midline>MQSYASAMLSVFN+D YSPA Q+NIPALRRSSSF+CTESC+SKYQCE GENSKG+VQDRVKRPMNAFIVWSRDQRRKMALENP+MRNSEISK LGYQWKMLTEA+KWPFFQEAQKLQAMHREKYPNYKYRPRRKAKML  +CSLLPADP+SV C EV  +NRLYRDDCTKATHSRM+HQLGHLPPIN ASSPQQRDRYSH TKL</Hsp_midline>\\n    </Hsp>\\n  </Hit_hsps>\\n</Hit>\\n<Hit>\\n  <Hit_num>98</Hit_num>\\n  <Hit_id>gb|AAG34404.1|</Hit_id>\\n  <Hit_def>SRY, partial [Macaca assamensis] &gt;gb|AAP59464.1| SRY, partial [Macaca assamensis] &gt;gb|ANW35641.1| SRY, partial [Macaca assamensis]</Hit_def>\\n  <Hit_accession>AAG34404</Hit_accession>\\n  <Hit_len>203</Hit_len>\\n  <Hit_hsps>\\n    <Hsp>\\n      <Hsp_num>1</Hsp_num>\\n      <Hsp_bit-score>380.178</Hsp_bit-score>\\n      <Hsp_score>975</Hsp_score>\\n      <Hsp_evalue>2.0739e-132</Hsp_evalue>\\n      <Hsp_query-from>1</Hsp_query-from>\\n      <Hsp_query-to>204</Hsp_query-to>\\n      <Hsp_hit-from>1</Hsp_hit-from>\\n      <Hsp_hit-to>203</Hsp_hit-to>\\n      <Hsp_query-frame>0</Hsp_query-frame>\\n      <Hsp_hit-frame>0</Hsp_hit-frame>\\n      <Hsp_identity>181</Hsp_identity>\\n      <Hsp_positive>192</Hsp_positive>\\n      <Hsp_gaps>1</Hsp_gaps>\\n      <Hsp_align-len>204</Hsp_align-len>\\n      <Hsp_qseq>MQSYASAMLSVFNSDDYSPAVQENIPALRRSSSFLCTESCNSKYQCETGENSKGNVQDRVKRPMNAFIVWSRDQRRKMALENPRMRNSEISKQLGYQWKMLTEAEKWPFFQEAQKLQAMHREKYPNYKYRPRRKAKMLPKNCSLLPADPASVLCSEVQLDNRLYRDDCTKATHSRMEHQLGHLPPINAASSPQQRDRYSHWTKL</Hsp_qseq>\\n      <Hsp_hseq>MQSYASAMLSVFNTDGYSPAAQQNIPALRRSSSFICAESCSSKYQCEAGENSKGSVQDRVKRPMNAFIVWSRDQRRKMALENPKMRNSEISKQLGYQWKMLTEADKWPFFQEAQKLQAMHREKYPNYKYRPRRKAKMLQNSCSLLPADPSSVPCREV-YNNRLYRDDCTKATHSRMQHQLGHLPPINTASSPQQRDRYSHSTKL</Hsp_hseq>\\n      <Hsp_midline>MQSYASAMLSVFN+D YSPA Q+NIPALRRSSSF+C ESC+SKYQCE GENSKG+VQDRVKRPMNAFIVWSRDQRRKMALENP+MRNSEISKQLGYQWKMLTEA+KWPFFQEAQKLQAMHREKYPNYKYRPRRKAKML  +CSLLPADP+SV C EV  +NRLYRDDCTKATHSRM+HQLGHLPPIN ASSPQQRDRYSH TKL</Hsp_midline>\\n    </Hsp>\\n  </Hit_hsps>\\n</Hit>\\n<Hit>\\n  <Hit_num>99</Hit_num>\\n  <Hit_id>gb|AAG34407.1|</Hit_id>\\n  <Hit_def>SRY, partial [Macaca fascicularis] &gt;gb|AAG34408.1| SRY, partial [Macaca fascicularis] &gt;gb|AAG34409.1| SRY, partial [Macaca fascicularis] &gt;gb|AAG34411.1| SRY, partial [Macaca fascicularis] &gt;gb|AAG34412.1| SRY, partial [Macaca fascicularis]</Hit_def>\\n  <Hit_accession>AAG34407</Hit_accession>\\n  <Hit_len>202</Hit_len>\\n  <Hit_hsps>\\n    <Hsp>\\n      <Hsp_num>1</Hsp_num>\\n      <Hsp_bit-score>379.793</Hsp_bit-score>\\n      <Hsp_score>974</Hsp_score>\\n      <Hsp_evalue>2.38532e-132</Hsp_evalue>\\n      <Hsp_query-from>1</Hsp_query-from>\\n      <Hsp_query-to>204</Hsp_query-to>\\n      <Hsp_hit-from>1</Hsp_hit-from>\\n      <Hsp_hit-to>202</Hsp_hit-to>\\n      <Hsp_query-frame>0</Hsp_query-frame>\\n      <Hsp_hit-frame>0</Hsp_hit-frame>\\n      <Hsp_identity>181</Hsp_identity>\\n      <Hsp_positive>192</Hsp_positive>\\n      <Hsp_gaps>2</Hsp_gaps>\\n      <Hsp_align-len>204</Hsp_align-len>\\n      <Hsp_qseq>MQSYASAMLSVFNSDDYSPAVQENIPALRRSSSFLCTESCNSKYQCETGENSKGNVQDRVKRPMNAFIVWSRDQRRKMALENPRMRNSEISKQLGYQWKMLTEAEKWPFFQEAQKLQAMHREKYPNYKYRPRRKAKMLPKNCSLLPADPASVLCSEVQLDNRLYRDDCTKATHSRMEHQLGHLPPINAASSPQQRDRYSHWTKL</Hsp_qseq>\\n      <Hsp_hseq>MQSYASAMLSVFNTDGYSPAAQQNIPALRRSSSFICTESCSSKYQCEAGENSKGSVQDKVKRPMNAFIVWSRDQRRKMALENPKMRNSEISKQLGYQWKMLTEADKWPFFQEAQKLQAMHREKYPNYKYRPRRKAKMLQNSCSLLPADPSSVPCREVY--NRLYRDDCTKATHSRMQHQLGHLPPINTASSPQQRDRYSHSTKL</Hsp_hseq>\\n      <Hsp_midline>MQSYASAMLSVFN+D YSPA Q+NIPALRRSSSF+CTESC+SKYQCE GENSKG+VQD+VKRPMNAFIVWSRDQRRKMALENP+MRNSEISKQLGYQWKMLTEA+KWPFFQEAQKLQAMHREKYPNYKYRPRRKAKML  +CSLLPADP+SV C EV   NRLYRDDCTKATHSRM+HQLGHLPPIN ASSPQQRDRYSH TKL</Hsp_midline>\\n    </Hsp>\\n  </Hit_hsps>\\n</Hit>\\n<Hit>\\n  <Hit_num>100</Hit_num>\\n  <Hit_id>gb|AAG34439.1|</Hit_id>\\n  <Hit_def>SRY, partial [Mandrillus sphinx]</Hit_def>\\n  <Hit_accession>AAG34439</Hit_accession>\\n  <Hit_len>203</Hit_len>\\n  <Hit_hsps>\\n    <Hsp>\\n      <Hsp_num>1</Hsp_num>\\n      <Hsp_bit-score>379.793</Hsp_bit-score>\\n      <Hsp_score>974</Hsp_score>\\n      <Hsp_evalue>2.72829e-132</Hsp_evalue>\\n      <Hsp_query-from>1</Hsp_query-from>\\n      <Hsp_query-to>204</Hsp_query-to>\\n      <Hsp_hit-from>1</Hsp_hit-from>\\n      <Hsp_hit-to>203</Hsp_hit-to>\\n      <Hsp_query-frame>0</Hsp_query-frame>\\n      <Hsp_hit-frame>0</Hsp_hit-frame>\\n      <Hsp_identity>181</Hsp_identity>\\n      <Hsp_positive>193</Hsp_positive>\\n      <Hsp_gaps>1</Hsp_gaps>\\n      <Hsp_align-len>204</Hsp_align-len>\\n      <Hsp_qseq>MQSYASAMLSVFNSDDYSPAVQENIPALRRSSSFLCTESCNSKYQCETGENSKGNVQDRVKRPMNAFIVWSRDQRRKMALENPRMRNSEISKQLGYQWKMLTEAEKWPFFQEAQKLQAMHREKYPNYKYRPRRKAKMLPKNCSLLPADPASVLCSEVQLDNRLYRDDCTKATHSRMEHQLGHLPPINAASSPQQRDRYSHWTKL</Hsp_qseq>\\n      <Hsp_hseq>MQSYASAMLSVFNSDGYNPAAQQNIPALRRSSSFICTESCSSKYQCEAGENSKGSVQDRVKRPMNAFIVWSRDQRRKMALENPKMRNSEISKQLGYQWKMLTEADKWPFFQEAQKLQAMHREKYPNYKYRPRRKAKMLQNSCSLLPADPSSVPCREV-YNNRLYRDDCTKATHSRMQHQLGHLPPINTASSPQQQDRYSHSTKL</Hsp_hseq>\\n      <Hsp_midline>MQSYASAMLSVFNSD Y+PA Q+NIPALRRSSSF+CTESC+SKYQCE GENSKG+VQDRVKRPMNAFIVWSRDQRRKMALENP+MRNSEISKQLGYQWKMLTEA+KWPFFQEAQKLQAMHREKYPNYKYRPRRKAKML  +CSLLPADP+SV C EV  +NRLYRDDCTKATHSRM+HQLGHLPPIN ASSPQQ+DRYSH TKL</Hsp_midline>\\n    </Hsp>\\n  </Hit_hsps>\\n</Hit>\\n</Iteration_hits>\\n  <Iteration_stat>\\n    <Statistics>\\n      <Statistics_db-num>425487082</Statistics_db-num>\\n      <Statistics_db-len>1652454323</Statistics_db-len>\\n      <Statistics_hsp-len>0</Statistics_hsp-len>\\n      <Statistics_eff-space>0</Statistics_eff-space>\\n      <Statistics_kappa>0.041</Statistics_kappa>\\n      <Statistics_lambda>0.267</Statistics_lambda>\\n      <Statistics_entropy>0.14</Statistics_entropy>\\n    </Statistics>\\n  </Iteration_stat>\\n</Iteration>\\n</BlastOutput_iterations>\\n</BlastOutput>\\n'"
      ]
     },
     "metadata": {},
     "execution_count": 14
    }
   ],
   "metadata": {}
  },
  {
   "cell_type": "code",
   "execution_count": 15,
   "source": [
    "#Parse handler to xml_string_to_handler to be able to feed it in SearchIO.read\n",
    "handler = xml_string_to_handler(blast_results)\n",
    "handler"
   ],
   "outputs": [
    {
     "output_type": "execute_result",
     "data": {
      "text/plain": [
       "QueryResult(id='unnamed', 100 hits)"
      ]
     },
     "metadata": {},
     "execution_count": 15
    }
   ],
   "metadata": {}
  },
  {
   "cell_type": "code",
   "execution_count": 16,
   "source": [
    "#Make dictionary from handler\n",
    "dictionary = blast_to_dictionary(handler)\n",
    "\n",
    "#Transfor dictionary into DF\n",
    "results_df = pd.DataFrame.from_dict(dictionary)"
   ],
   "outputs": [],
   "metadata": {}
  },
  {
   "cell_type": "code",
   "execution_count": 17,
   "source": [
    "#Filter DF by E-value / Bitscore / Identity\n",
    "filtered_blast_df = filter_df_blast(results_df, fasta_record, evalue=evalue_threshold, difference_from_query=len_threshold, identity_threshold=identity_threshold)\n",
    "   "
   ],
   "outputs": [],
   "metadata": {}
  },
  {
   "cell_type": "code",
   "execution_count": 18,
   "source": [
    "#Retrieve all results from genbank\n",
    "#Retrieve accession list\n",
    "accession_list = filtered_blast_df['Accession'].tolist()\n",
    "accession_list"
   ],
   "outputs": [
    {
     "output_type": "execute_result",
     "data": {
      "text/plain": [
       "['NP_003131',\n",
       " 'QBA69874',\n",
       " 'CAP05197',\n",
       " 'CAP05199',\n",
       " 'QBA69866',\n",
       " 'QBA69871',\n",
       " 'AFG33941',\n",
       " 'QBA69864',\n",
       " 'AGZ62977',\n",
       " 'CAP05202',\n",
       " 'QBA69863',\n",
       " 'AFG33943',\n",
       " 'AEK31548',\n",
       " 'QBA69868',\n",
       " 'AEK31551',\n",
       " 'QBA69867',\n",
       " 'CAP05200',\n",
       " 'AGZ62970',\n",
       " 'QBA69865',\n",
       " 'CBH40193',\n",
       " 'AEK31549',\n",
       " 'QBA69872',\n",
       " 'QBA69876',\n",
       " 'AFG33953',\n",
       " 'QBA69875',\n",
       " 'AGZ62971',\n",
       " 'AEK31550',\n",
       " 'QBA69869',\n",
       " 'AGZ62975',\n",
       " 'AGZ62974',\n",
       " 'P48046',\n",
       " 'AEK31547',\n",
       " 'AAB58342',\n",
       " 'ADJ00508',\n",
       " 'AAS79428',\n",
       " 'AAX93513',\n",
       " 'AAT37461',\n",
       " 'ADJ37113',\n",
       " 'ADJ37117',\n",
       " 'ADJ37116',\n",
       " 'ADJ00518',\n",
       " 'ADJ37115',\n",
       " 'ADJ00517',\n",
       " 'CAD13147',\n",
       " 'ADJ00513',\n",
       " 'AAY88211',\n",
       " 'ADJ00514',\n",
       " 'ADJ00515',\n",
       " 'AAT37462',\n",
       " 'ADJ00511',\n",
       " 'ADJ00509',\n",
       " 'ADJ00512',\n",
       " 'AAY15123',\n",
       " 'ADJ37114',\n",
       " 'NP_001008988',\n",
       " 'AAX93511',\n",
       " 'AAX93512',\n",
       " 'Q28778',\n",
       " 'Q28783',\n",
       " 'ADX95829',\n",
       " 'AAL09290',\n",
       " 'AAT39017',\n",
       " 'AGZ62972',\n",
       " 'Q28447',\n",
       " 'NP_001028008',\n",
       " 'XP_032612415',\n",
       " 'AAL09287',\n",
       " 'AAS19186',\n",
       " 'ADX95838',\n",
       " 'AAG34391',\n",
       " 'AAL09284',\n",
       " 'AAL09282',\n",
       " 'AAS19192',\n",
       " 'ADX95840',\n",
       " 'ABV44686',\n",
       " 'AAW23363',\n",
       " 'ABS82755',\n",
       " 'AAS19191',\n",
       " 'AAW23362',\n",
       " 'ADX95836',\n",
       " 'AAG34436',\n",
       " 'AAG34440',\n",
       " 'AAL09285',\n",
       " 'AAW23367',\n",
       " 'AAG34393',\n",
       " 'AGY96995',\n",
       " 'AAS19187',\n",
       " 'AAG34401',\n",
       " 'AAW23366',\n",
       " 'AAG34405',\n",
       " 'AAW23369',\n",
       " 'ABV44688',\n",
       " 'AGY96998',\n",
       " 'AAG34441',\n",
       " 'AAG34434',\n",
       " 'AAS19188',\n",
       " 'AAG34395',\n",
       " 'AAG34404',\n",
       " 'AAG34407',\n",
       " 'AAG34439']"
      ]
     },
     "metadata": {},
     "execution_count": 18
    }
   ],
   "metadata": {}
  },
  {
   "cell_type": "code",
   "execution_count": 21,
   "source": [
    "#accession_list = ['NP_003131', 'QBA69874', 'CAP05197']\n",
    "efetch_result = retrieve_all_efetch(accession_list, 'A.N.Other@example.com')"
   ],
   "outputs": [],
   "metadata": {}
  },
  {
   "cell_type": "code",
   "execution_count": 6,
   "source": [
    "for result in efetch_result:\n",
    "    result1 = result[0]\n",
    "    print(f\"Protein id {result1['TSeq_accver']}\")\n",
    "    print(f\"Taxid {result1['TSeq_taxid']}\")\n",
    "    print(f\"Organism name {result1['TSeq_orgname']}\")\n",
    "    print(f\"Definition line {result1['TSeq_defline']}\")\n",
    "    print(f\"Lenght {result1['TSeq_length']}\")\n",
    "    print(f\"Sequence length {len(result1['TSeq_sequence'])}\")\n",
    "    print('\\n')"
   ],
   "outputs": [
    {
     "output_type": "stream",
     "name": "stdout",
     "text": [
      "Protein id NP_003131.1\n",
      "Taxid 9606\n",
      "Organism name Homo sapiens\n",
      "Definition line sex-determining region Y protein [Homo sapiens]\n",
      "Lenght 204\n",
      "Sequence length 204\n",
      "\n",
      "\n",
      "Protein id QBA69874.1\n",
      "Taxid 9606\n",
      "Organism name Homo sapiens\n",
      "Definition line sex-determining region Y protein, partial [Homo sapiens]\n",
      "Lenght 204\n",
      "Sequence length 204\n",
      "\n",
      "\n",
      "Protein id CAP05197.1\n",
      "Taxid 9606\n",
      "Organism name Homo sapiens\n",
      "Definition line sex determining region Y [Homo sapiens]\n",
      "Lenght 204\n",
      "Sequence length 204\n",
      "\n",
      "\n"
     ]
    }
   ],
   "metadata": {}
  },
  {
   "cell_type": "code",
   "execution_count": 27,
   "source": [
    "# Make dictionary from efetch fasta results\n",
    "dictionary_efetch = efetch_protein_to_dictionary(efetch_result)\n",
    "\n",
    "#Transfor dictionary into DF\n",
    "efetch_df = pd.DataFrame.from_dict(dictionary_efetch)\n"
   ],
   "outputs": [],
   "metadata": {}
  },
  {
   "cell_type": "code",
   "execution_count": 29,
   "source": [
    "#Merge DataFrames\n",
    "left = filtered_blast_df.loc[:,['Accession', 'ID','Seq_length', 'Evalue', 'Bitscore', 'Tot_aln_span', 'Identity']]\n",
    "right = efetch_df.loc[:,['Accession', 'Protein_ID', 'Taxid', 'Organism_name', 'Description', 'Prot_sequence']]\n",
    "combined_df = pd.merge(left, right, on='Accession')\n"
   ],
   "outputs": [],
   "metadata": {}
  },
  {
   "cell_type": "code",
   "execution_count": 34,
   "source": [
    "filtered_df = filter_df_taxon(combined_df, n_of_sequences=sequences_per_taxon)"
   ],
   "outputs": [],
   "metadata": {}
  },
  {
   "cell_type": "code",
   "execution_count": null,
   "source": [
    "#Save DF of sequences that are going to be aligned \n",
    "with open(output_df, 'w') as handle:\n",
    "    handle.write(filtered_df.to_csv())"
   ],
   "outputs": [],
   "metadata": {}
  },
  {
   "cell_type": "code",
   "execution_count": 49,
   "source": [
    "#Prepare for multiple alingment\n",
    "fasta_string = fasta_for_alignment(fasta_record, filtered_df)"
   ],
   "outputs": [],
   "metadata": {}
  },
  {
   "cell_type": "code",
   "execution_count": 50,
   "source": [
    "#Run mafft alignment saving file\n",
    "mafft_alignment = run_mafft_saving_file(fasta_string, mafft_directory, 'multiple_seq_fasta')"
   ],
   "outputs": [],
   "metadata": {}
  },
  {
   "cell_type": "code",
   "execution_count": 51,
   "source": [
    "#Save mafft alignment\n",
    "with open(output_alignment, 'w') as savefile:\n",
    "    savefile.write(mafft_alignment)"
   ],
   "outputs": [],
   "metadata": {}
  },
  {
   "cell_type": "code",
   "execution_count": 52,
   "source": [
    "#Open AlignIO from fasta file \n",
    "alignment = AlignIO.read(output_alignment, 'fasta')"
   ],
   "outputs": [],
   "metadata": {}
  },
  {
   "cell_type": "code",
   "execution_count": 53,
   "source": [
    "#Construct tree from alignment #To change \n",
    "tree = tree_from_alignment(alignment)"
   ],
   "outputs": [],
   "metadata": {}
  },
  {
   "cell_type": "code",
   "execution_count": 54,
   "source": [
    "#Write tree in xml\n",
    "Phylo.write(tree, output_xml_tree, 'phyloxml')"
   ],
   "outputs": [
    {
     "output_type": "execute_result",
     "data": {
      "text/plain": [
       "1"
      ]
     },
     "metadata": {},
     "execution_count": 54
    }
   ],
   "metadata": {}
  },
  {
   "cell_type": "code",
   "execution_count": 55,
   "source": [
    "#Draw tree\n",
    "Phylo.draw_ascii(tree)\n"
   ],
   "outputs": [
    {
     "output_type": "stream",
     "name": "stdout",
     "text": [
      " , AAS19187.1Cercopithecus\n",
      " |\n",
      " , ABS82755.1Cercopithecus\n",
      " |\n",
      " |_ AAW23367.1Cercopithecus\n",
      " |\n",
      " | ___ AAG34440.1Allenopithecus\n",
      " ||\n",
      " ||   __ AAG34439.1Mandrillus\n",
      " ||  |\n",
      " ||  |, AAG34407.1Macaca\n",
      " || _,|\n",
      " ||| || AAG34405.1Macaca\n",
      " ||| |\n",
      " ||| |, AAG34395.1Macaca\n",
      " ||| ||\n",
      " ||| |, AAG34434.1Macaca\n",
      " ||| ||\n",
      " ||| || AAG34401.1Macaca\n",
      " ||| ||\n",
      " ||| || AAG34393.1Macaca\n",
      " |||  |\n",
      " |||  |, AAG34404.1Macaca\n",
      " |||  ||\n",
      " |||   | AAG34436.1Macaca\n",
      " |||\n",
      " |||__ NP_001028008.1Macaca\n",
      " |||\n",
      " |,|     , ADX95840.1Simias\n",
      " |||     |\n",
      " |||  ___|__ ABV44688.1Semnopithecus\n",
      " ||| |   |\n",
      " ||| |   |, ABV44686.1Presbytis\n",
      " ||| |   ,|\n",
      " ||| |   || AAG34391.1Presbytis\n",
      " ||| |   |\n",
      " ||| |   , ADX95836.1Procolobus\n",
      " ||| |   |\n",
      " ||| |   | ADX95838.1Pygathrix\n",
      " |||_|\n",
      " ||  |                _ XP_032612415.1Hylobates\n",
      " ||  |         ______|\n",
      " ||  |        |      |_ Q28447.1Hylobates\n",
      " ||  |        |\n",
      " ||  |        |        _____ AAB58342.1Carica\n",
      " ||  |        |       |\n",
      " ||  |        |       |, Query:NM_003140\n",
      " ||  |        |      ,||\n",
      " ||  |________|      ||| NP_003131.1Homo\n",
      " ||           |      |||\n",
      " ||           |      ||| QBA69874.1Homo\n",
      " ||           | _____| |\n",
      " ||           ||     | | CAP05197.1Homo\n",
      " ||           ||     |\n",
      " ||           ||     |     ___ Q28778.1Pan\n",
      " ||           ||     |____|\n",
      " ||           ||     |    | NP_001008988.1Pan\n",
      " ||            |     |\n",
      " ||            |     |_ P48046.1Gorilla\n",
      " ||            |\n",
      " ||            |    , ADX95829.1Pongo\n",
      " ||            |____|\n",
      " ||                 |_____________________________ Q28783.1Pongo\n",
      " ||\n",
      " || AAL09290.1Miopithecus\n",
      " ||\n",
      " ||  , AGY96998.1Chlorocebus\n",
      " ||  |\n",
      "_|| _| AGY96995.1Chlorocebus\n",
      " ||| |\n",
      " ||| | AAL09285.1Chlorocebus\n",
      " | |\n",
      " | , AAL09282.1Allochrocebus\n",
      " | |\n",
      " | | AAL09287.1Erythrocebus\n",
      " |\n",
      " |, AAW23369.1Cercopithecus\n",
      " ,|\n",
      " ||_ AAG34441.1Cercopithecus\n",
      " ||\n",
      " || AAS19191.1Cercopithecus\n",
      " |\n",
      " |, AAW23362.1Cercopithecus\n",
      " ,|\n",
      " || AAS19192.1Cercopithecus\n",
      " |\n",
      " , AAW23366.1Cercopithecus\n",
      " |\n",
      " |  _ AAW23363.1Cercopithecus\n",
      " |_|\n",
      " | | AAS19186.1Cercopithecus\n",
      " |\n",
      " | AAL09284.1Cercopithecus\n",
      " |\n",
      " |_ AAS19188.1Cercopithecus\n",
      "\n"
     ]
    }
   ],
   "metadata": {}
  }
 ],
 "metadata": {
  "orig_nbformat": 4,
  "language_info": {
   "name": "python",
   "version": "3.6.13",
   "mimetype": "text/x-python",
   "codemirror_mode": {
    "name": "ipython",
    "version": 3
   },
   "pygments_lexer": "ipython3",
   "nbconvert_exporter": "python",
   "file_extension": ".py"
  },
  "kernelspec": {
   "name": "python3",
   "display_name": "Python 3.6.13 64-bit (conda)"
  },
  "interpreter": {
   "hash": "4d44abd1f0472e299cad0e6625916bbcf7358ca2a30e3bbc2ad57be073ee366d"
  }
 },
 "nbformat": 4,
 "nbformat_minor": 2
}