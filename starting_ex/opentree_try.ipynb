{
 "cells": [
  {
   "cell_type": "code",
   "execution_count": 2,
   "source": [
    "!pip install opentree"
   ],
   "outputs": [
    {
     "output_type": "stream",
     "name": "stdout",
     "text": [
      "Requirement already satisfied: opentree in /Users/Gioele/miniconda3/lib/python3.9/site-packages (1.0.1)\n",
      "Requirement already satisfied: setuptools in /Users/Gioele/miniconda3/lib/python3.9/site-packages (from opentree) (52.0.0.post20210125)\n",
      "Requirement already satisfied: DendroPy>=4.4.0 in /Users/Gioele/miniconda3/lib/python3.9/site-packages (from opentree) (4.5.2)\n",
      "Requirement already satisfied: requests>=2.18 in /Users/Gioele/miniconda3/lib/python3.9/site-packages (from opentree) (2.25.1)\n",
      "Requirement already satisfied: idna<3,>=2.5 in /Users/Gioele/miniconda3/lib/python3.9/site-packages (from requests>=2.18->opentree) (2.10)\n",
      "Requirement already satisfied: urllib3<1.27,>=1.21.1 in /Users/Gioele/miniconda3/lib/python3.9/site-packages (from requests>=2.18->opentree) (1.26.6)\n",
      "Requirement already satisfied: certifi>=2017.4.17 in /Users/Gioele/miniconda3/lib/python3.9/site-packages (from requests>=2.18->opentree) (2021.5.30)\n",
      "Requirement already satisfied: chardet<5,>=3.0.2 in /Users/Gioele/miniconda3/lib/python3.9/site-packages (from requests>=2.18->opentree) (4.0.0)\n"
     ]
    }
   ],
   "metadata": {}
  },
  {
   "cell_type": "code",
   "execution_count": 2,
   "source": [
    "import opentree\n"
   ],
   "outputs": [
    {
     "output_type": "error",
     "ename": "ModuleNotFoundError",
     "evalue": "No module named 'opentree'",
     "traceback": [
      "\u001b[0;31m---------------------------------------------------------------------------\u001b[0m",
      "\u001b[0;31mModuleNotFoundError\u001b[0m                       Traceback (most recent call last)",
      "\u001b[0;32m/var/folders/ct/k2vy_tv5445_dh3r_3cm63bh0000gn/T/ipykernel_708/4163148379.py\u001b[0m in \u001b[0;36m<module>\u001b[0;34m\u001b[0m\n\u001b[0;32m----> 1\u001b[0;31m \u001b[0;32mimport\u001b[0m \u001b[0mopentree\u001b[0m\u001b[0;34m\u001b[0m\u001b[0;34m\u001b[0m\u001b[0m\n\u001b[0m",
      "\u001b[0;31mModuleNotFoundError\u001b[0m: No module named 'opentree'"
     ]
    }
   ],
   "metadata": {}
  },
  {
   "cell_type": "code",
   "execution_count": 2,
   "source": [
    "import sys\n",
    "\n",
    "from opentree import OTCommandLineTool, process_ott_or_node_id_arg\n",
    "\n",
    "cli = OTCommandLineTool(usage='Gets a subtree of the taxonomic tree tree rooted at the node requested',\n",
    "                        common_args=(\"ott-id\", ))\n",
    "cli.parser.add_argument('--label-format', default='name_and_id',\n",
    "                        help='\"name_and_id\", \"name\", or \"id\" style of labeling newick nodes')\n",
    "OT, args = cli.parse_cli()\n",
    "\n",
    "label_format = args.label_format.strip().lower()\n",
    "if label_format not in [\"name_and_id\", \"name\", \"id\"]:\n",
    "    sys.exit(\"Did not recognize --label-format={}\\n\".format(label_format))\n",
    "\n",
    "\n",
    "ott_id = process_ott_or_node_id_arg(args)[0]\n",
    "if ott_id is None:\n",
    "    sys.exit('--ott-id must be provided.\\n')\n",
    "\n",
    "output = OT.taxon_subtree(ott_id=ott_id, label_format=label_format)\n",
    "\n",
    "print(output.tree.as_ascii_plot())"
   ],
   "outputs": [
    {
     "output_type": "error",
     "ename": "ModuleNotFoundError",
     "evalue": "No module named 'opentree'",
     "traceback": [
      "\u001b[0;31m---------------------------------------------------------------------------\u001b[0m",
      "\u001b[0;31mModuleNotFoundError\u001b[0m                       Traceback (most recent call last)",
      "\u001b[0;32m/var/folders/ct/k2vy_tv5445_dh3r_3cm63bh0000gn/T/ipykernel_18313/4228477158.py\u001b[0m in \u001b[0;36m<module>\u001b[0;34m\u001b[0m\n\u001b[1;32m      1\u001b[0m \u001b[0;32mimport\u001b[0m \u001b[0msys\u001b[0m\u001b[0;34m\u001b[0m\u001b[0;34m\u001b[0m\u001b[0m\n\u001b[1;32m      2\u001b[0m \u001b[0;34m\u001b[0m\u001b[0m\n\u001b[0;32m----> 3\u001b[0;31m \u001b[0;32mfrom\u001b[0m \u001b[0mopentree\u001b[0m \u001b[0;32mimport\u001b[0m \u001b[0mOTCommandLineTool\u001b[0m\u001b[0;34m,\u001b[0m \u001b[0mprocess_ott_or_node_id_arg\u001b[0m\u001b[0;34m\u001b[0m\u001b[0;34m\u001b[0m\u001b[0m\n\u001b[0m\u001b[1;32m      4\u001b[0m \u001b[0;34m\u001b[0m\u001b[0m\n\u001b[1;32m      5\u001b[0m cli = OTCommandLineTool(usage='Gets a subtree of the taxonomic tree tree rooted at the node requested',\n",
      "\u001b[0;31mModuleNotFoundError\u001b[0m: No module named 'opentree'"
     ]
    }
   ],
   "metadata": {}
  }
 ],
 "metadata": {
  "orig_nbformat": 4,
  "language_info": {
   "name": "python",
   "version": "3.9.5",
   "mimetype": "text/x-python",
   "codemirror_mode": {
    "name": "ipython",
    "version": 3
   },
   "pygments_lexer": "ipython3",
   "nbconvert_exporter": "python",
   "file_extension": ".py"
  },
  "kernelspec": {
   "name": "python3",
   "display_name": "Python 3.9.5 64-bit"
  },
  "interpreter": {
   "hash": "aee8b7b246df8f9039afb4144a1f6fd8d2ca17a180786b69acc140d282b71a49"
  }
 },
 "nbformat": 4,
 "nbformat_minor": 2
}