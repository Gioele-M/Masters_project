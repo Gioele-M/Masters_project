{
 "cells": [
  {
   "cell_type": "code",
   "execution_count": 1,
   "source": [
    "import os\n",
    "import pandas as pd\n",
    "import numpy as np\n",
    "from Bio import SeqIO, SeqRecord, Seq, SearchIO, AlignIO, Phylo\n",
    "from Bio.Blast import NCBIWWW, NCBIXML\n",
    "import Bio.Entrez\n",
    "from Bio.Phylo.TreeConstruction import DistanceCalculator,DistanceTreeConstructor\n",
    "import threading\n",
    "from itertools import repeat\n",
    "import tempfile"
   ],
   "outputs": [],
   "metadata": {}
  },
  {
   "cell_type": "code",
   "execution_count": 2,
   "source": [
    "#Function open fasta file\n",
    "def open_fasta(filename):\n",
    "    with open(filename) as handle:\n",
    "        sequence_record = SeqIO.read(handle, 'fasta')\n",
    "    return sequence_record"
   ],
   "outputs": [],
   "metadata": {}
  },
  {
   "cell_type": "code",
   "execution_count": null,
   "source": [
    "#Function for multi-taxid Blast\n",
    "def blastn_with_taxid(sequence, list_taxid = [], query_size = 50):\n",
    "    result_handler, result_storer = None, None\n",
    "    if len(list_taxid) <1:\n",
    "        result_handler = NCBIWWW.qblast('blastn', 'nt', sequence) \n",
    "        result_storer = result_handler.read()\n",
    "    else:\n",
    "        entrez_query = ''\n",
    "        for taxid in list_taxid:\n",
    "            entrez_query += f'txid{taxid}[ORGN]'\n",
    "            if taxid != list_taxid[-1]:\n",
    "                entrez_query += ' OR '\n",
    "        result_handler = NCBIWWW.qblast('blastn', 'nt', sequence, entrez_query= entrez_query, hitlist_size=query_size)\n",
    "        result_storer = result_handler.read()\n",
    "    return result_storer"
   ],
   "outputs": [],
   "metadata": {}
  },
  {
   "cell_type": "code",
   "execution_count": null,
   "source": [
    "#Function for single taxid blast, to use for threading \n",
    "def run_blast(fasta_record, taxid, query_size = 20):\n",
    "    print(taxid)\n",
    "    entrez = f'txid{taxid}[ORGN]'\n",
    "    result_handler = NCBIWWW.qblast('blastn', 'nt', fasta_record.seq, entrez_query= entrez, hitlist_size=query_size)\n",
    "    result_storer = result_handler.read()\n",
    "    print(f'{taxid} done')\n",
    "    return result_storer\n"
   ],
   "outputs": [],
   "metadata": {}
  },
  {
   "cell_type": "code",
   "execution_count": null,
   "source": [
    "def blast_with_threading(fasta_record, taxid_list, query_size = 20):\n",
    "    threads = []\n",
    "    results = []\n",
    "    list_of_handlers = []\n",
    "\n",
    "    for taxid in taxid_list:\n",
    "        t = threading.Thread(target=lambda: results.append(run_blast(fasta_record, taxid, query_size=query_size)))\n",
    "        t.start()\n",
    "        threads.append(t)\n",
    "\n",
    "    for thread in threads:\n",
    "        thread.join()\n",
    "    \n",
    "    \n",
    "    for result in results:\n",
    "        tmp = tempfile.NamedTemporaryFile(mode='a+')\n",
    "        tmp.write(result)\n",
    "        results_handler = SearchIO.read(tmp.name, 'blast-xml')\n",
    "        list_of_handlers.append(results_handler)\n",
    "        tmp.close()\n",
    "\n",
    "    return list_of_handlers\n",
    "\n",
    "\n"
   ],
   "outputs": [],
   "metadata": {}
  },
  {
   "cell_type": "code",
   "execution_count": null,
   "source": [
    "#Create dictionary from r\n",
    "#Creation of dictionary with all HSPs adding identity and other metrics\n",
    "\n",
    "#Hits without at least a significant HSP are excluded\n",
    "\n",
    "#!!!No more hsp or hsp combined\n",
    "\n",
    "def blast_to_dictionary_plus_metrics(blastresult):\n",
    "    blast_dictionary = {'ID' : [], 'Description' : [], 'Seq_length' : [], 'Accession' : [], 'Bitscore' : [], 'Bitscore_raw' : [], \n",
    "    'Evalue' : [], 'Hit_start' : [], 'Hit_end' : [], 'Query_frame' : [], 'Gap_num' : [], 'Aln_span' : [], 'Tot_aln_span':[], 'Identity' :[]}\n",
    "    for result in blastresult:\n",
    "        blast_dictionary['ID'].append(result.id)\n",
    "        blast_dictionary['Description'].append(result.description)\n",
    "        blast_dictionary['Seq_length'].append(result.seq_len)\n",
    "        blast_dictionary['Accession'].append(result.accession)\n",
    "        bitscore, bitscore_raw, evalue, hitstart, hitend, queryframe, gapnum, alnspan = '','','','','','','',''\n",
    "        all_alnspan, all_gapnum = [],[] #seq_len is not required\n",
    "        for hsp in result.hsps:\n",
    "            bitscore += str(hsp.bitscore)\n",
    "            bitscore_raw += str(hsp.bitscore_raw)\n",
    "            evalue += str(hsp.evalue)\n",
    "            hitstart += str(hsp.hit_start)\n",
    "            hitend += str(hsp.hit_end)\n",
    "            queryframe += str(hsp.query_frame)\n",
    "            gapnum += str(hsp.gap_num)\n",
    "            alnspan += str(hsp.aln_span)\n",
    "            if hsp != result.hsps[-1]:\n",
    "                bitscore += '/'\n",
    "                bitscore_raw += '/' \n",
    "                evalue += '/'\n",
    "                hitstart += '/'\n",
    "                hitend += '/'\n",
    "                queryframe += '/'\n",
    "                gapnum += '/' \n",
    "                alnspan += '/' #I know it's not neat but it would give an error otherwise :(\n",
    "            all_alnspan.append(int(hsp.aln_span))\n",
    "            all_gapnum.append(int(hsp.gap_num))\n",
    "        blast_dictionary['Bitscore'].append(bitscore)\n",
    "        blast_dictionary['Bitscore_raw'].append(bitscore_raw)\n",
    "        blast_dictionary['Evalue'].append(evalue)\n",
    "        blast_dictionary['Hit_start'].append(hitstart)\n",
    "        blast_dictionary['Hit_end'].append(hitend)\n",
    "        blast_dictionary['Query_frame'].append(queryframe)\n",
    "        blast_dictionary['Gap_num'].append(gapnum)\n",
    "        blast_dictionary['Aln_span'].append(alnspan)\n",
    "        tot_alnspan, tot_gapnum = int(), int()\n",
    "        seq_len = int(result.seq_len)\n",
    "        for span in all_alnspan:\n",
    "            tot_alnspan += span\n",
    "        for gap in all_gapnum:\n",
    "            tot_gapnum += gap\n",
    "        identity = (tot_alnspan - tot_gapnum)/seq_len*100\n",
    "        blast_dictionary['Tot_aln_span'].append(tot_alnspan)\n",
    "        blast_dictionary['Identity'].append(round(identity, 3))\n",
    "    return blast_dictionary"
   ],
   "outputs": [],
   "metadata": {}
  },
  {
   "cell_type": "code",
   "execution_count": null,
   "source": [
    "def dictionary_from_handler_list(list_of_handlers):\n",
    "    data_frame = pd.DataFrame()\n",
    "    for handler in list_of_handlers:\n",
    "        dictionary = blast_to_dictionary_plus_metrics(handler)\n",
    "        data_frame.append(pd.DataFrame.from_dict(dictionary))\n",
    "    return data_frame\n",
    "\n"
   ],
   "outputs": [],
   "metadata": {}
  },
  {
   "cell_type": "code",
   "execution_count": null,
   "source": [
    "#Open record\n",
    "fasta_record = open_fasta('human_mx1.fas')\n",
    "#old_taxid_list = ['9592', '9527', '9601'] #, '40674', '314147', '9531', '9544', '2008792']\n",
    "taxid_list = ['9606']#, '9597', '9593', '9600', '9601', '61853', '9546', '9544', '9541', '54180']\n"
   ],
   "outputs": [],
   "metadata": {}
  },
  {
   "cell_type": "code",
   "execution_count": null,
   "source": [
    "#Run Blast in one query\n",
    "handler_single_query = blastn_with_taxid(fasta_record.seq,list_taxid = taxid_list, query_size=200)\n",
    "\n"
   ],
   "outputs": [],
   "metadata": {}
  },
  {
   "cell_type": "code",
   "execution_count": null,
   "source": [
    "#Run blast with threading\n",
    "handler_threading_query = blast_with_threading(fasta_record, taxid_list, query_size=20)\n"
   ],
   "outputs": [],
   "metadata": {}
  }
 ],
 "metadata": {
  "orig_nbformat": 4,
  "language_info": {
   "name": "python",
   "version": "3.9.5",
   "mimetype": "text/x-python",
   "codemirror_mode": {
    "name": "ipython",
    "version": 3
   },
   "pygments_lexer": "ipython3",
   "nbconvert_exporter": "python",
   "file_extension": ".py"
  },
  "kernelspec": {
   "name": "python3",
   "display_name": "Python 3.9.5 64-bit"
  },
  "interpreter": {
   "hash": "aee8b7b246df8f9039afb4144a1f6fd8d2ca17a180786b69acc140d282b71a49"
  }
 },
 "nbformat": 4,
 "nbformat_minor": 2
}