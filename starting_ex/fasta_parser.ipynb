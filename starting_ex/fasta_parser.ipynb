{
 "cells": [
  {
   "cell_type": "code",
   "execution_count": null,
   "id": "0e29908a",
   "metadata": {},
   "outputs": [],
   "source": [
    "!pip3 install biopython"
   ]
  },
  {
   "cell_type": "code",
   "execution_count": 2,
   "id": "67954125",
   "metadata": {},
   "outputs": [],
   "source": [
    "from Bio.SeqIO import parse, to_dict \n",
    "from Bio.SeqRecord import SeqRecord \n",
    "from Bio.Seq import transcribe \n",
    "from Bio.Seq import Seq \n",
    "from Bio.Blast import NCBIWWW"
   ]
  },
  {
   "cell_type": "code",
   "execution_count": 3,
   "metadata": {},
   "outputs": [
    {
     "output_type": "execute_result",
     "data": {
      "text/plain": [
       "SeqRecord(seq=Seq('ATGGTTGTTTCCGAAGTGGACATCGCAAAAGCTGATCCAGCTGCTGCATCCCAC...TAA'), id='lcl|XM_005260978.4_cds_XP_005261035.1_1', name='lcl|XM_005260978.4_cds_XP_005261035.1_1', description='lcl|XM_005260978.4_cds_XP_005261035.1_1 [gene=MX1] [db_xref=GeneID:4599] [protein=interferon-induced GTP-binding protein Mx1 isoform X1] [protein_id=XP_005261035.1] [location=458..2446] [gbkey=CDS]', dbxrefs=[])"
      ]
     },
     "metadata": {},
     "execution_count": 3
    }
   ],
   "source": [
    "file = open(\"human_mx1.fas\") \n",
    "sequence_record_dict = to_dict(parse(file, 'fasta'))\n",
    "#convert FIRST (0) dictionary keys to a list \n",
    "sequence_record = sequence_record_dict[list(sequence_record_dict)[0]]\n",
    "sequence_record"
   ]
  },
  {
   "cell_type": "code",
   "execution_count": 4,
   "metadata": {},
   "outputs": [
    {
     "output_type": "execute_result",
     "data": {
      "text/plain": [
       "Seq('AUGGUUGUUUCCGAAGUGGACAUCGCAAAAGCUGAUCCAGCUGCUGCAUCCCAC...UAA')"
      ]
     },
     "metadata": {},
     "execution_count": 4
    }
   ],
   "source": [
    "rna_sequence = transcribe(sequence_record.seq)\n",
    "rna_sequence.back_transcribe()\n",
    "rna_sequence"
   ]
  },
  {
   "cell_type": "code",
   "execution_count": 5,
   "metadata": {},
   "outputs": [
    {
     "output_type": "execute_result",
     "data": {
      "text/plain": [
       "Seq('MVVSEVDIAKADPAAASHPLLLNGDATVAQKNPGSVAENNLCSQYEEKVRPCID...PG*')"
      ]
     },
     "metadata": {},
     "execution_count": 5
    }
   ],
   "source": [
    "protein_sequence = rna_sequence.translate()\n",
    "protein_sequence"
   ]
  },
  {
   "cell_type": "code",
   "execution_count": 10,
   "metadata": {
    "tags": []
   },
   "outputs": [],
   "source": [
    "blastn_store = NCBIWWW.qblast(\"blastn\", \"nt\", sequence_record.seq)\n",
    "blastn_results = blastn_store.read() "
   ]
  },
  {
   "cell_type": "code",
   "execution_count": 11,
   "metadata": {},
   "outputs": [],
   "source": [
    "#To fix, there are no results (maybe issues in translation??)\n",
    "blastp_store = NCBIWWW.qblast(\"blastp\", \"nt\", protein_sequence)\n",
    "blastp_result = blastp_store.read()"
   ]
  },
  {
   "cell_type": "code",
   "execution_count": 12,
   "metadata": {},
   "outputs": [],
   "source": [
    "with open('blastn_results.xml', 'w') as save_file: \n",
    "    save_file.write(blastn_results)"
   ]
  },
  {
   "cell_type": "code",
   "execution_count": 14,
   "metadata": {},
   "outputs": [],
   "source": [
    "with open('blastp_results.xml', 'w') as save_file: \n",
    "    save_file.write(blastp_result)"
   ]
  },
  {
   "cell_type": "code",
   "execution_count": null,
   "metadata": {},
   "outputs": [],
   "source": []
  }
 ],
 "metadata": {
  "kernelspec": {
   "name": "python3",
   "display_name": "Python 3.6.13 64-bit ('r-reticulate': conda)"
  },
  "language_info": {
   "codemirror_mode": {
    "name": "ipython",
    "version": 3
   },
   "file_extension": ".py",
   "mimetype": "text/x-python",
   "name": "python",
   "nbconvert_exporter": "python",
   "pygments_lexer": "ipython3",
   "version": "3.6.13"
  },
  "interpreter": {
   "hash": "4d44abd1f0472e299cad0e6625916bbcf7358ca2a30e3bbc2ad57be073ee366d"
  }
 },
 "nbformat": 4,
 "nbformat_minor": 5
}