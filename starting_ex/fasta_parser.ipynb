{
 "cells": [
  {
   "cell_type": "code",
   "execution_count": 1,
   "id": "0e29908a",
   "metadata": {},
   "outputs": [
    {
     "output_type": "stream",
     "name": "stdout",
     "text": [
      "Collecting biopython\n",
      "  Downloading biopython-1.79-cp36-cp36m-macosx_10_9_x86_64.whl (2.3 MB)\n",
      "\u001b[K     |████████████████████████████████| 2.3 MB 2.6 MB/s \n",
      "\u001b[?25hRequirement already satisfied: numpy in /Users/Gioele/Library/r-miniconda/envs/r-reticulate/lib/python3.6/site-packages (from biopython) (1.19.5)\n",
      "Installing collected packages: biopython\n",
      "Successfully installed biopython-1.79\n"
     ]
    }
   ],
   "source": [
    "!pip3 install biopython"
   ]
  },
  {
   "cell_type": "code",
   "execution_count": 2,
   "id": "67954125",
   "metadata": {},
   "outputs": [],
   "source": [
    "from Bio.SeqIO import parse, to_dict \n",
    "from Bio.SeqRecord import SeqRecord \n",
    "from Bio.Seq import transcribe \n",
    "from Bio.Seq import Seq \n",
    "from Bio.Blast import NCBIWWW"
   ]
  },
  {
   "cell_type": "code",
   "execution_count": 4,
   "metadata": {},
   "outputs": [
    {
     "output_type": "execute_result",
     "data": {
      "text/plain": [
       "SeqRecord(seq=Seq('ATGGTTGTTTCCGAAGTGGACATCGCAAAAGCTGATCCAGCTGCTGCATCCCAC...TAA'), id='lcl|XM_005260978.4_cds_XP_005261035.1_1', name='lcl|XM_005260978.4_cds_XP_005261035.1_1', description='lcl|XM_005260978.4_cds_XP_005261035.1_1 [gene=MX1] [db_xref=GeneID:4599] [protein=interferon-induced GTP-binding protein Mx1 isoform X1] [protein_id=XP_005261035.1] [location=458..2446] [gbkey=CDS]', dbxrefs=[])"
      ]
     },
     "metadata": {},
     "execution_count": 4
    }
   ],
   "source": [
    "file = open(\"human_mx1.fas\") \n",
    "sequence_record_dict = to_dict(parse(file, 'fasta'))\n",
    "#convert FIRST (0) dictionary keys to a list \n",
    "sequence_record = sequence_record_dict[list(sequence_record_dict)[0]]\n",
    "sequence_record"
   ]
  },
  {
   "cell_type": "code",
   "execution_count": null,
   "metadata": {},
   "outputs": [],
   "source": []
  }
 ],
 "metadata": {
  "kernelspec": {
   "name": "python3",
   "display_name": "Python 3.6.13 64-bit ('r-reticulate': conda)"
  },
  "language_info": {
   "codemirror_mode": {
    "name": "ipython",
    "version": 3
   },
   "file_extension": ".py",
   "mimetype": "text/x-python",
   "name": "python",
   "nbconvert_exporter": "python",
   "pygments_lexer": "ipython3",
   "version": "3.6.13"
  },
  "interpreter": {
   "hash": "4d44abd1f0472e299cad0e6625916bbcf7358ca2a30e3bbc2ad57be073ee366d"
  }
 },
 "nbformat": 4,
 "nbformat_minor": 5
}