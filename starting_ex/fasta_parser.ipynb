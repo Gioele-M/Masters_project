{
 "cells": [
  {
   "cell_type": "code",
   "execution_count": null,
   "id": "0e29908a",
   "metadata": {},
   "outputs": [],
   "source": [
    "!pip3 install biopython"
   ]
  },
  {
   "cell_type": "code",
   "execution_count": 17,
   "id": "67954125",
   "metadata": {},
   "outputs": [],
   "source": [
    "from Bio.SeqIO import parse, to_dict \n",
    "from Bio.SeqRecord import SeqRecord \n",
    "from Bio.Seq import transcribe \n",
    "from Bio.Seq import Seq \n",
    "from Bio.Blast import NCBIWWW"
   ]
  },
  {
   "cell_type": "code",
   "execution_count": 2,
   "metadata": {},
   "outputs": [
    {
     "output_type": "execute_result",
     "data": {
      "text/plain": [
       "SeqRecord(seq=Seq('ATGGTTGTTTCCGAAGTGGACATCGCAAAAGCTGATCCAGCTGCTGCATCCCAC...TAA'), id='lcl|XM_005260978.4_cds_XP_005261035.1_1', name='lcl|XM_005260978.4_cds_XP_005261035.1_1', description='lcl|XM_005260978.4_cds_XP_005261035.1_1 [gene=MX1] [db_xref=GeneID:4599] [protein=interferon-induced GTP-binding protein Mx1 isoform X1] [protein_id=XP_005261035.1] [location=458..2446] [gbkey=CDS]', dbxrefs=[])"
      ]
     },
     "metadata": {},
     "execution_count": 2
    }
   ],
   "source": [
    "file = open(\"human_mx1.fas\") \n",
    "sequence_record_dict = to_dict(parse(file, 'fasta'))\n",
    "#convert FIRST (0) dictionary keys to a list \n",
    "sequence_record = sequence_record_dict[list(sequence_record_dict)[0]]\n",
    "sequence_record"
   ]
  },
  {
   "cell_type": "code",
   "execution_count": 3,
   "metadata": {},
   "outputs": [
    {
     "output_type": "execute_result",
     "data": {
      "text/plain": [
       "Seq('AUGGUUGUUUCCGAAGUGGACAUCGCAAAAGCUGAUCCAGCUGCUGCAUCCCAC...UAA')"
      ]
     },
     "metadata": {},
     "execution_count": 3
    }
   ],
   "source": [
    "rna_sequence = transcribe(sequence_record.seq)\n",
    "rna_sequence"
   ]
  },
  {
   "cell_type": "code",
   "execution_count": 5,
   "metadata": {},
   "outputs": [
    {
     "output_type": "stream",
     "name": "stdout",
     "text": [
      "MVVSEVDIAKADPAAASHPLLLNGDATVAQKNPGSVAENNLCSQYEEKVRPCIDLIDSLRALGVEQDLALPAIAVIGDQSSGKSSVLEALSGVALPRGSGIVTRCPLVLKLKKLVNEDKWRGKVSYQDYEIEISDASEVEKEINKAQNAIAGEGMGISHELITLEISSRDVPDLTLIDLPGITRVAVGNQPADIGYKIKTLIKKYIQRQETISLVVVPSNVDIATTEALSMAQEVDPEGDRTIGILTKPDLVDKGTEDKVVDVVRNLVFHLKKGYMIVKCRGQQEIQDQLSLSEALQREKIFFENHPYFRDLLEEGKATVPCLAEKLTSELITHICKSLPLLENQIKETHQRITEELQKYGVDIPEDENEKMFFLIDKVNAFNQDITALMQGEETVGEEDIRLFTRLRHEFHKWSTIIENNFQEGHKILSRKIQKFENQYRGRELPGFVNYRTFETIVKQQIKALEEPAVDMLHTVTDMVRLAFTDVSIKNFEEFFNLHRTAKSKIEDIRAEQEREGEKLIRLHFQMEQIVYCQDQVYRGALQKVREKELEEEKKKKSWDFGAFQSSSATDSSMEEIFQHLMAYHQEASKRISSHIPLIIQFFMLQTYGQQLQKAMLQLLQDKDTYSWLLKERSDTSDKRKFLKERLARLTQARRRLAQFPG\n"
     ]
    },
    {
     "output_type": "execute_result",
     "data": {
      "text/plain": [
       "Seq('MVVSEVDIAKADPAAASHPLLLNGDATVAQKNPGSVAENNLCSQYEEKVRPCID...FPG')"
      ]
     },
     "metadata": {},
     "execution_count": 5
    }
   ],
   "source": [
    "protein_sequence = rna_sequence.translate(to_stop=True)\n",
    "print(protein_sequence)"
   ]
  },
  {
   "cell_type": "code",
   "execution_count": 6,
   "metadata": {
    "tags": []
   },
   "outputs": [],
   "source": [
    "blastn_store = NCBIWWW.qblast(\"blastn\", \"nt\", sequence_record.seq)\n",
    "blastn_results = blastn_store.read() "
   ]
  },
  {
   "cell_type": "code",
   "execution_count": 6,
   "metadata": {},
   "outputs": [],
   "source": [
    "with open('blastn_results.xml', 'w') as save_file: \n",
    "    save_file.write(blastn_results)"
   ]
  },
  {
   "cell_type": "code",
   "execution_count": 7,
   "metadata": {},
   "outputs": [],
   "source": [
    "#search by taxid \n",
    "blastn_bytaxid_store = NCBIWWW.qblast(\"blastn\", \"nt\", sequence_record.seq, entrez_query='txid9606')\n",
    "blastn_bytaxid_results = blastn_bytaxid_store.read()\n"
   ]
  },
  {
   "cell_type": "code",
   "execution_count": 9,
   "metadata": {},
   "outputs": [],
   "source": [
    "with open('blastn_bytaxid_results.xml', 'w') as save_file:\n",
    "    save_file.write(blastn_bytaxid_results)"
   ]
  },
  {
   "cell_type": "code",
   "execution_count": 13,
   "metadata": {},
   "outputs": [],
   "source": [
    "#'nr' database for proteins \n",
    "blastp_store = NCBIWWW.qblast(\"blastp\", \"nr\", protein_sequence)\n",
    "blastp_results = blastp_store.read()"
   ]
  },
  {
   "cell_type": "code",
   "execution_count": 14,
   "metadata": {},
   "outputs": [],
   "source": [
    "with open('blastp_results.xml', 'w') as save_file: \n",
    "    save_file.write(blastp_results)"
   ]
  },
  {
   "cell_type": "code",
   "execution_count": 19,
   "metadata": {},
   "outputs": [],
   "source": [
    "#Opening files\n",
    "from Bio import SearchIO\n",
    "\n"
   ]
  },
  {
   "cell_type": "code",
   "execution_count": 85,
   "metadata": {
    "tags": [
     "outputPrepend"
    ]
   },
   "outputs": [
    {
     "output_type": "stream",
     "name": "stdout",
     "text": [
      "-----------\n          #   E-value  Bit score    Span      Query range              Hit range\n       ----  --------  ---------  ------  ---------------  ---------------------\n          0         0    3588.19    1989         [0:1989]             [457:2446]\nQuery: No\n       definition line\n  Hit: gi|544711167|ref|NM_001144925.2| (3444)\n       Homo sapiens MX dynamin like GTPase 1 (MX1), transcript variant 1, mRNA\n HSPs: ----  --------  ---------  ------  ---------------  ---------------------\n          #   E-value  Bit score    Span      Query range              Hit range\n       ----  --------  ---------  ------  ---------------  ---------------------\n          0         0    3588.19    1989         [0:1989]             [982:2971]\nQuery: No\n       definition line\n  Hit: gi|1890270839|ref|NM_001178046.3| (2601)\n       Homo sapiens MX dynamin like GTPase 1 (MX1), transcript variant 3, mRNA\n HSPs: ----  --------  ---------  ------  ---------------  ---------------------\n          #   E-value  Bit score    Span      Query range              Hit range\n       ----  --------  ---------  ------  ---------------  ---------------------\n          0         0    3588.19    1989         [0:1989]             [158:2147]\nQuery: No\n       definition line\n  Hit: gi|190135|gb|M33882.1|HUMPMX1A (2787)\n       Human p78 protein mRNA, complete cds\n HSPs: ----  --------  ---------  ------  ---------------  ---------------------\n          #   E-value  Bit score    Span      Query range              Hit range\n       ----  --------  ---------  ------  ---------------  ---------------------\n          0         0    3583.68    1989         [0:1989]             [345:2334]\nQuery: No\n       definition line\n  Hit: gi|61354936|gb|AY888131.1| (1989)\n       Synthetic construct Homo sapiens clone FLH031002.01X myxovirus resista...\n HSPs: ----  --------  ---------  ------  ---------------  ---------------------\n          #   E-value  Bit score    Span      Query range              Hit range\n       ----  --------  ---------  ------  ---------------  ---------------------\n          0         0    3581.88    1988         [0:1988]               [0:1988]\nQuery: No\n       definition line\n  Hit: gi|60825047|gb|AY893667.1| (1989)\n       Synthetic construct Homo sapiens clone FLH054952.01L myxovirus resista...\n HSPs: ----  --------  ---------  ------  ---------------  ---------------------\n          #   E-value  Bit score    Span      Query range              Hit range\n       ----  --------  ---------  ------  ---------------  ---------------------\n          0         0    3580.07    1987         [0:1987]               [0:1987]\nQuery: No\n       definition line\n  Hit: gi|21619146|gb|BC032602.1| (2753)\n       Homo sapiens myxovirus (influenza virus) resistance 1, interferon-indu...\n HSPs: ----  --------  ---------  ------  ---------------  ---------------------\n          #   E-value  Bit score    Span      Query range              Hit range\n       ----  --------  ---------  ------  ---------------  ---------------------\n          0         0    3574.66    1989         [0:1989]             [291:2280]\nQuery: No\n       definition line\n  Hit: gi|261858633|dbj|AB527675.1| (2003)\n       Synthetic construct DNA, clone: pF1KB6193, Homo sapiens MX1 gene for m...\n HSPs: ----  --------  ---------  ------  ---------------  ---------------------\n          #   E-value  Bit score    Span      Query range              Hit range\n       ----  --------  ---------  ------  ---------------  ---------------------\n          0         0    3573.76    1986         [0:1986]               [9:1995]\nQuery: No\n       definition line\n  Hit: gi|325464350|gb|JF432729.1| (2088)\n       Synthetic construct Homo sapiens clone IMAGE:100073972 myxovirus (infl...\n HSPs: ----  --------  ---------  ------  ---------------  ---------------------\n          #   E-value  Bit score    Span      Query range              Hit range\n       ----  --------  ---------  ------  ---------------  ---------------------\n          0         0    3572.86    1988         [0:1988]              [50:2038]\nQuery: No\n       definition line\n  Hit: gi|60812884|gb|AY893199.1| (1989)\n       Synthetic construct Homo sapiens clone FLH054954.01X myxovirus resista...\n HSPs: ----  --------  ---------  ------  ---------------  ---------------------\n          #   E-value  Bit score    Span      Query range              Hit range\n       ----  --------  ---------  ------  ---------------  ---------------------\n          0         0    3568.35    1988         [0:1988]               [0:1988]\nQuery: No\n       definition line\n  Hit: gi|649120027|gb|KJ897213.1| (2118)\n       Synthetic construct Homo sapiens clone ccsbBroadEn_06607 MX1 gene, enc...\n HSPs: ----  --------  ---------  ------  ---------------  ---------------------\n          #   E-value  Bit score    Span      Query range              Hit range\n       ----  --------  ---------  ------  ---------------  ---------------------\n          0         0    3565.64    1986         [0:1986]              [65:2051]\nQuery: No\n       definition line\n  Hit: gi|164695655|dbj|AK315465.1| (2212)\n       Homo sapiens cDNA, FLJ96524, highly similar to Homo sapiens myxovirus ...\n HSPs: ----  --------  ---------  ------  ---------------  ---------------------\n          #   E-value  Bit score    Span      Query range              Hit range\n       ----  --------  ---------  ------  ---------------  ---------------------\n          0         0    3565.64    1989         [0:1989]             [223:2212]\nQuery: No\n       definition line\n  Hit: gi|188900|gb|M30817.1|HUMMXA (2651)\n       Human interferon-induced cellular resistance mediator protein (MxA) mR...\n HSPs: ----  --------  ---------  ------  ---------------  ---------------------\n          #   E-value  Bit score    Span      Query range              Hit range\n       ----  --------  ---------  ------  ---------------  ---------------------\n          0         0    3561.14    1989         [0:1989]             [210:2199]\nQuery: No\n       definition line\n  Hit: gi|21755829|dbj|AK096355.1| (3467)\n       Homo sapiens cDNA FLJ39036 fis, clone NT2RP7008360, highly similar to ...\n HSPs: ----  --------  ---------  ------  ---------------  ---------------------\n          #   E-value  Bit score    Span      Query range              Hit range\n       ----  --------  ---------  ------  ---------------  ---------------------\n          0         0    3556.63    1989         [0:1989]            [1025:3014]\nQuery: No\n       definition line\n  Hit: gi|1849077349|ref|XM_034947820.1| (2804)\n       PREDICTED: Pan paniscus MX dynamin like GTPase 1 (MX1), transcript var...\n HSPs: ----  --------  ---------  ------  ---------------  ---------------------\n          #   E-value  Bit score    Span      Query range              Hit range\n       ----  --------  ---------  ------  ---------------  ---------------------\n          0         0    3493.51    1989         [0:1989]             [360:2349]\nQuery: No\n       definition line\n  Hit: gi|1849077347|ref|XM_034947819.1| (2815)\n       PREDICTED: Pan paniscus MX dynamin like GTPase 1 (MX1), transcript var...\n HSPs: ----  --------  ---------  ------  ---------------  ---------------------\n          #   E-value  Bit score    Span      Query range              Hit range\n       ----  --------  ---------  ------  ---------------  ---------------------\n          0         0    3493.51    1989         [0:1989]             [371:2360]\nQuery: No\n       definition line\n  Hit: gi|1849077342|ref|XM_008977603.2| (2672)\n       PREDICTED: Pan paniscus MX dynamin like GTPase 1 (MX1), transcript var...\n HSPs: ----  --------  ---------  ------  ---------------  ---------------------\n          #   E-value  Bit score    Span      Query range              Hit range\n       ----  --------  ---------  ------  ---------------  ---------------------\n          0         0    3493.51    1989         [0:1989]             [228:2217]\nQuery: No\n       definition line\n  Hit: gi|1849077334|ref|XM_008977599.2| (2910)\n       PREDICTED: Pan paniscus MX dynamin like GTPase 1 (MX1), transcript var...\n HSPs: ----  --------  ---------  ------  ---------------  ---------------------\n          #   E-value  Bit score    Span      Query range              Hit range\n       ----  --------  ---------  ------  ---------------  ---------------------\n          0         0    3493.51    1989         [0:1989]             [466:2455]\nQuery: No\n       definition line\n  Hit: gi|1849077327|ref|XM_034947818.1| (3465)\n       PREDICTED: Pan paniscus MX dynamin like GTPase 1 (MX1), transcript var...\n HSPs: ----  --------  ---------  ------  ---------------  ---------------------\n          #   E-value  Bit score    Span      Query range              Hit range\n       ----  --------  ---------  ------  ---------------  ---------------------\n          0         0    3493.51    1989         [0:1989]            [1021:3010]\nQuery: No\n       definition line\n  Hit: gi|1849077319|ref|XM_008977598.4| (2866)\n       PREDICTED: Pan paniscus MX dynamin like GTPase 1 (MX1), transcript var...\n HSPs: ----  --------  ---------  ------  ---------------  ---------------------\n          #   E-value  Bit score    Span      Query range              Hit range\n       ----  --------  ---------  ------  ---------------  ---------------------\n          0         0    3493.51    1989         [0:1989]             [422:2411]\nQuery: No\n       definition line\n  Hit: gi|1849077312|ref|XM_003823901.5| (2891)\n       PREDICTED: Pan paniscus MX dynamin like GTPase 1 (MX1), transcript var...\n HSPs: ----  --------  ---------  ------  ---------------  ---------------------\n          #   E-value  Bit score    Span      Query range              Hit range\n       ----  --------  ---------  ------  ---------------  ---------------------\n          0         0    3493.51    1989         [0:1989]             [447:2436]\nQuery: No\n       definition line\n  Hit: gi|1367238133|ref|XM_009438930.3| (2806)\n       PREDICTED: Pan troglodytes MX dynamin like GTPase 1 (MX1), transcript ...\n HSPs: ----  --------  ---------  ------  ---------------  ---------------------\n          #   E-value  Bit score    Span      Query range              Hit range\n       ----  --------  ---------  ------  ---------------  ---------------------\n          0         0    3489.00    1989         [0:1989]             [360:2349]\nQuery: No\n       definition line\n  Hit: gi|1367238130|ref|XM_009438452.3| (2755)\n       PREDICTED: Pan troglodytes MX dynamin like GTPase 1 (MX1), transcript ...\n HSPs: ----  --------  ---------  ------  ---------------  ---------------------\n          #   E-value  Bit score    Span      Query range              Hit range\n       ----  --------  ---------  ------  ---------------  ---------------------\n          0         0    3489.00    1989         [0:1989]             [309:2298]\nQuery: No\n       definition line\n  Hit: gi|1367238127|ref|XM_009437396.3| (2810)\n       PREDICTED: Pan troglodytes MX dynamin like GTPase 1 (MX1), transcript ...\n HSPs: ----  --------  ---------  ------  ---------------  ---------------------\n          #   E-value  Bit score    Span      Query range              Hit range\n       ----  --------  ---------  ------  ---------------  ---------------------\n          0         0    3489.00    1989         [0:1989]             [364:2353]\nQuery: No\n       definition line\n  Hit: gi|1367238124|ref|XM_009437900.2| (2743)\n       PREDICTED: Pan troglodytes MX dynamin like GTPase 1 (MX1), transcript ...\n HSPs: ----  --------  ---------  ------  ---------------  ---------------------\n          #   E-value  Bit score    Span      Query range              Hit range\n       ----  --------  ---------  ------  ---------------  ---------------------\n          0         0    3489.00    1989         [0:1989]             [297:2286]\nQuery: No\n       definition line\n  Hit: gi|1367238121|ref|XM_009433909.3| (2914)\n       PREDICTED: Pan troglodytes MX dynamin like GTPase 1 (MX1), transcript ...\n HSPs: ----  --------  ---------  ------  ---------------  ---------------------\n          #   E-value  Bit score    Span      Query range              Hit range\n       ----  --------  ---------  ------  ---------------  ---------------------\n          0         0    3489.00    1989         [0:1989]             [468:2457]\nQuery: No\n       definition line\n  Hit: gi|1367238119|ref|XM_009435429.3| (3119)\n       PREDICTED: Pan troglodytes MX dynamin like GTPase 1 (MX1), transcript ...\n HSPs: ----  --------  ---------  ------  ---------------  ---------------------\n          #   E-value  Bit score    Span      Query range              Hit range\n       ----  --------  ---------  ------  ---------------  ---------------------\n          0         0    3489.00    1989         [0:1989]             [673:2662]\nQuery: No\n       definition line\n  Hit: gi|1367238117|ref|XM_016938404.2| (2930)\n       PREDICTED: Pan troglodytes MX dynamin like GTPase 1 (MX1), transcript ...\n HSPs: ----  --------  ---------  ------  ---------------  ---------------------\n          #   E-value  Bit score    Span      Query range              Hit range\n       ----  --------  ---------  ------  ---------------  ---------------------\n          0         0    3489.00    1989         [0:1989]             [484:2473]\nQuery: No\n       definition line\n  Hit: gi|1367238115|ref|XM_009434398.3| (2949)\n       PREDICTED: Pan troglodytes MX dynamin like GTPase 1 (MX1), transcript ...\n HSPs: ----  --------  ---------  ------  ---------------  ---------------------\n          #   E-value  Bit score    Span      Query range              Hit range\n       ----  --------  ---------  ------  ---------------  ---------------------\n          0         0    3489.00    1989         [0:1989]             [503:2492]\nQuery: No\n       definition line\n  Hit: gi|1367238112|ref|XM_009434930.3| (3467)\n       PREDICTED: Pan troglodytes MX dynamin like GTPase 1 (MX1), transcript ...\n HSPs: ----  --------  ---------  ------  ---------------  ---------------------\n          #   E-value  Bit score    Span      Query range              Hit range\n       ----  --------  ---------  ------  ---------------  ---------------------\n          0         0    3489.00    1989         [0:1989]            [1021:3010]\nQuery: No\n       definition line\n  Hit: gi|1367238110|ref|XM_009433454.3| (2981)\n       PREDICTED: Pan troglodytes MX dynamin like GTPase 1 (MX1), transcript ...\n HSPs: ----  --------  ---------  ------  ---------------  ---------------------\n          #   E-value  Bit score    Span      Query range              Hit range\n       ----  --------  ---------  ------  ---------------  ---------------------\n          0         0    3489.00    1989         [0:1989]             [535:2524]\nQuery: No\n       definition line\n  Hit: gi|683523965|ref|NM_001301762.1| (1989)\n       Pan paniscus MX dynamin like GTPase 1 (MX1), mRNA\n HSPs: ----  --------  ---------  ------  ---------------  ---------------------\n          #   E-value  Bit score    Span      Query range              Hit range\n       ----  --------  ---------  ------  ---------------  ---------------------\n          0         0    3489.00    1989         [0:1989]               [0:1989]\nQuery: No\n       definition line\n  Hit: gi|525345364|ref|NM_001279836.1| (1989)\n       Pan troglodytes MX dynamin like GTPase 1 (MX1), mRNA\n HSPs: ----  --------  ---------  ------  ---------------  ---------------------\n          #   E-value  Bit score    Span      Query range              Hit range\n       ----  --------  ---------  ------  ---------------  ---------------------\n          0         0    3470.97    1989         [0:1989]               [0:1989]\nQuery: No\n       definition line\n  Hit: gi|525344602|ref|NM_001279761.1| (1989)\n       Gorilla gorilla MX dynamin like GTPase 1 (MX1), mRNA\n HSPs: ----  --------  ---------  ------  ---------------  ---------------------\n          #   E-value  Bit score    Span      Query range              Hit range\n       ----  --------  ---------  ------  ---------------  ---------------------\n          0         0    3470.97    1989         [0:1989]               [0:1989]\nQuery: No\n       definition line\n  Hit: gi|1753056057|ref|XM_019017591.2| (2838)\n       PREDICTED: Gorilla gorilla gorilla MX dynamin like GTPase 1 (MX1), tra...\n HSPs: ----  --------  ---------  ------  ---------------  ---------------------\n          #   E-value  Bit score    Span      Query range              Hit range\n       ----  --------  ---------  ------  ---------------  ---------------------\n          0         0    3461.95    1989         [0:1989]             [391:2380]\nQuery: No\n       definition line\n  Hit: gi|1753056056|ref|XM_019017590.2| (2870)\n       PREDICTED: Gorilla gorilla gorilla MX dynamin like GTPase 1 (MX1), tra...\n HSPs: ----  --------  ---------  ------  ---------------  ---------------------\n          #   E-value  Bit score    Span      Query range              Hit range\n       ----  --------  ---------  ------  ---------------  ---------------------\n          0         0    3461.95    1989         [0:1989]             [423:2412]\nQuery: No\n       definition line\n  Hit: gi|1753056055|ref|XM_019017589.2| (2773)\n       PREDICTED: Gorilla gorilla gorilla MX dynamin like GTPase 1 (MX1), tra...\n HSPs: ----  --------  ---------  ------  ---------------  ---------------------\n          #   E-value  Bit score    Span      Query range              Hit range\n       ----  --------  ---------  ------  ---------------  ---------------------\n          0         0    3461.95    1989         [0:1989]             [326:2315]\nQuery: No\n       definition line\n  Hit: gi|1753056054|ref|XM_019017588.2| (2880)\n       PREDICTED: Gorilla gorilla gorilla MX dynamin like GTPase 1 (MX1), tra...\n HSPs: ----  --------  ---------  ------  ---------------  ---------------------\n          #   E-value  Bit score    Span      Query range              Hit range\n       ----  --------  ---------  ------  ---------------  ---------------------\n          0         0    3461.95    1989         [0:1989]             [433:2422]\nQuery: No\n       definition line\n  Hit: gi|1753056053|ref|XM_019017587.2| (2911)\n       PREDICTED: Gorilla gorilla gorilla MX dynamin like GTPase 1 (MX1), tra...\n HSPs: ----  --------  ---------  ------  ---------------  ---------------------\n          #   E-value  Bit score    Span      Query range              Hit range\n       ----  --------  ---------  ------  ---------------  ---------------------\n          0         0    3461.95    1989         [0:1989]             [464:2453]\nQuery: No\n       definition line\n  Hit: gi|1753056052|ref|XM_019017586.2| (2965)\n       PREDICTED: Gorilla gorilla gorilla MX dynamin like GTPase 1 (MX1), tra...\n HSPs: ----  --------  ---------  ------  ---------------  ---------------------\n          #   E-value  Bit score    Span      Query range              Hit range\n       ----  --------  ---------  ------  ---------------  ---------------------\n          0         0    3461.95    1989         [0:1989]             [518:2507]\nQuery: No\n       definition line\n  Hit: gi|1753056051|ref|XM_019017585.2| (2974)\n       PREDICTED: Gorilla gorilla gorilla MX dynamin like GTPase 1 (MX1), tra...\n HSPs: ----  --------  ---------  ------  ---------------  ---------------------\n          #   E-value  Bit score    Span      Query range              Hit range\n       ----  --------  ---------  ------  ---------------  ---------------------\n          0         0    3461.95    1989         [0:1989]             [527:2516]\nQuery: No\n       definition line\n  Hit: gi|408689544|gb|JX297244.1| (1989)\n       Pongo pygmaeus myxovirus (influenza virus) resistance 1 (MxA) mRNA, co...\n HSPs: ----  --------  ---------  ------  ---------------  ---------------------\n          #   E-value  Bit score    Span      Query range              Hit range\n       ----  --------  ---------  ------  ---------------  ---------------------\n          0         0    3416.87    1989         [0:1989]               [0:1989]\n"
     ]
    }
   ],
   "source": [
    "#Open nucleotide file \n",
    "#read function instead of parse because the file contains only 1 query\n",
    "qresult = SearchIO.read('blastn_results.xml', 'blast-xml')\n",
    "for res in qresult:\n",
    "    print(res)"
   ]
  },
  {
   "cell_type": "code",
   "execution_count": 82,
   "metadata": {
    "tags": [
     "outputPrepend"
    ]
   },
   "outputs": [
    {
     "output_type": "stream",
     "name": "stdout",
     "text": [
      "--  --------  ---------  ------  ---------------  ---------------------\n          0         0     902.07    1536       [111:1640]             [392:1918]\nQuery: No\n       definition line\n  Hit: gi|530418929|ref|XM_005260984.1| (3240)\n       PREDICTED: Homo sapiens MX dynamin like GTPase 2 (MX2), transcript var...\n HSPs: ----  --------  ---------  ------  ---------------  ---------------------\n          #   E-value  Bit score    Span      Query range              Hit range\n       ----  --------  ---------  ------  ---------------  ---------------------\n          0         0     902.07    1536       [111:1640]             [637:2163]\nQuery: No\n       definition line\n  Hit: gi|123997270|gb|DQ895311.2| (2188)\n       Synthetic construct Homo sapiens clone IMAGE:100009771; FLH183171.01L;...\n HSPs: ----  --------  ---------  ------  ---------------  ---------------------\n          #   E-value  Bit score    Span      Query range              Hit range\n       ----  --------  ---------  ------  ---------------  ---------------------\n          0         0     902.07    1536       [111:1640]             [277:1803]\nQuery: No\n       definition line\n  Hit: gi|123982601|gb|DQ892116.2| (2188)\n       Synthetic construct clone IMAGE:100004746; FLH183175.01X; RZPDo839G091...\n HSPs: ----  --------  ---------  ------  ---------------  ---------------------\n          #   E-value  Bit score    Span      Query range              Hit range\n       ----  --------  ---------  ------  ---------------  ---------------------\n          0         0     902.07    1536       [111:1640]             [277:1803]\nQuery: No\n       definition line\n  Hit: gi|23271333|gb|BC035293.1| (2682)\n       Homo sapiens myxovirus (influenza virus) resistance 2 (mouse), mRNA (c...\n HSPs: ----  --------  ---------  ------  ---------------  ---------------------\n          #   E-value  Bit score    Span      Query range              Hit range\n       ----  --------  ---------  ------  ---------------  ---------------------\n          0         0     902.07    1536       [111:1640]             [321:1847]\nQuery: No\n       definition line\n  Hit: gi|190137|gb|M33883.1|HUMPMX1B (2740)\n       Human p78-related protein mRNA, complete cds\n HSPs: ----  --------  ---------  ------  ---------------  ---------------------\n          #   E-value  Bit score    Span      Query range              Hit range\n       ----  --------  ---------  ------  ---------------  ---------------------\n          0         0     902.07    1536       [111:1640]             [172:1698]\nQuery: No\n       definition line\n  Hit: gi|188902|gb|M30818.1|HUMMXB (2961)\n       Human interferon-induced cellular resistance mediator protein (MxB) mR...\n HSPs: ----  --------  ---------  ------  ---------------  ---------------------\n          #   E-value  Bit score    Span      Query range              Hit range\n       ----  --------  ---------  ------  ---------------  ---------------------\n          0         0     902.07    1536       [111:1640]             [359:1885]\nQuery: No\n       definition line\n  Hit: gi|1370481407|ref|XM_011529573.2| (2906)\n       PREDICTED: Homo sapiens MX dynamin like GTPase 2 (MX2), transcript var...\n HSPs: ----  --------  ---------  ------  ---------------  ---------------------\n          #   E-value  Bit score    Span      Query range              Hit range\n       ----  --------  ---------  ------  ---------------  ---------------------\n          0  3.9e-162     580.17    1208       [435:1640]             [624:1829]\n          1   8.1e-76     293.43     187        [111:298]              [438:625]\nQuery: No\n       definition line\n  Hit: gi|1543383482|ref|NG_027788.2| (45622)\n       Homo sapiens MX dynamin like GTPase 1 (MX1), RefSeqGene on chromosome 21\n HSPs: ----  --------  ---------  ------  ---------------  ---------------------\n          #   E-value  Bit score    Span      Query range              Hit range\n       ----  --------  ---------  ------  ---------------  ---------------------\n          0  1.1e-124     455.74     252      [1507:1759]          [37026:37278]\n          1  1.9e-115     425.08     235      [1754:1989]          [42931:43166]\n          2   5.4e-97     363.76     201        [729:930]          [26122:26323]\n          3   9.8e-94     352.94     195        [104:299]          [20243:20438]\n          4   2.8e-75     291.63     161      [1271:1432]          [33542:33703]\n          5   1.2e-73     287.12     161        [434:595]          [24099:24260]\n          6   3.9e-67     265.48     158      [1116:1274]          [30394:30550]\n          7   5.8e-65     257.37     142        [589:731]          [25292:25434]\n          8   2.5e-63     251.96     139        [297:436]          [21421:21560]\n          9   1.2e-54     223.10     123      [1008:1131]          [29855:29978]\n         10   5.8e-46     194.25     107          [0:107]          [16478:16585]\n         11   7.6e-32     147.36      81       [927:1008]          [28193:28274]\n         12   3.2e-30     141.95      78      [1431:1509]          [35573:35651]\nQuery: No\n       definition line\n  Hit: gi|7670564|dbj|AP001610.1| (132110)\n       Homo sapiens genomic DNA, chromosome 21, clone:CIT2533B8, MX1-D21S171 ...\n HSPs: ----  --------  ---------  ------  ---------------  ---------------------\n          #   E-value  Bit score    Span      Query range              Hit range\n       ----  --------  ---------  ------  ---------------  ---------------------\n          0  1.1e-124     455.74     252      [1507:1759]          [19160:19412]\n          1  1.9e-115     425.08     235      [1754:1989]          [25065:25300]\n          2   5.4e-97     363.76     201        [729:930]            [8256:8457]\n          3   9.8e-94     352.94     195        [104:299]            [2377:2572]\n          4   2.8e-75     291.63     161      [1271:1432]          [15676:15837]\n          5   1.2e-73     287.12     161        [434:595]            [6233:6394]\n          6   3.9e-67     265.48     158      [1116:1274]          [12528:12684]\n          7   5.8e-65     257.37     142        [589:731]            [7426:7568]\n          8   2.5e-63     251.96     139        [297:436]            [3555:3694]\n          9   1.2e-54     223.10     123      [1008:1131]          [11989:12112]\n         10   7.6e-32     147.36      81       [927:1008]          [10327:10408]\n         11   3.2e-30     141.95      78      [1431:1509]          [17707:17785]\nQuery: No\n       definition line\n  Hit: gi|7670563|dbj|AP001609.1| (108927)\n       Homo sapiens genomic DNA, chromosome 21, clone:KB447A5, MX1-D21S171 re...\n HSPs: ----  --------  ---------  ------  ---------------  ---------------------\n          #   E-value  Bit score    Span      Query range              Hit range\n       ----  --------  ---------  ------  ---------------  ---------------------\n          0  1.1e-124     455.74     252      [1507:1759]          [55164:55416]\n          1  1.9e-115     425.08     235      [1754:1989]          [61070:61305]\n          2   5.4e-97     363.76     201        [729:930]          [44262:44463]\n          3   9.8e-94     352.94     195        [104:299]          [38383:38578]\n          4   2.8e-75     291.63     161      [1271:1432]          [51680:51841]\n          5   1.2e-73     287.12     161        [434:595]          [42239:42400]\n          6   3.9e-67     265.48     158      [1116:1274]          [48534:48690]\n          7   5.8e-65     257.37     142        [589:731]          [43432:43574]\n          8   2.5e-63     251.96     139        [297:436]          [39561:39700]\n          9   1.2e-54     223.10     123      [1008:1131]          [47995:48118]\n         10   5.8e-46     194.25     107          [0:107]          [34618:34725]\n         11   7.6e-32     147.36      81       [927:1008]          [46333:46414]\n         12   3.2e-30     141.95      78      [1431:1509]          [53711:53789]\n         13   3.2e-11      78.83      83       [922:1005]              [179:262]\n         14   4.8e-09      71.62     104      [1302:1406]            [4568:4672]\nQuery: No\n       definition line\n  Hit: gi|2033716899|gb|CP068257.2| (45090682)\n       Homo sapiens isolate CHM13 chromosome 21\n HSPs: ----  --------  ---------  ------  ---------------  ---------------------\n          #   E-value  Bit score    Span      Query range              Hit range\n       ----  --------  ---------  ------  ---------------  ---------------------\n          0  4.8e-123     451.23     252      [1507:1759]    [39841301:39841553]\n          1  1.9e-115     425.08     235      [1754:1989]    [39847207:39847442]\n          2   5.4e-97     363.76     201        [729:930]    [39830398:39830599]\n          3   9.8e-94     352.94     195        [104:299]    [39824490:39824685]\n          4   2.3e-76     295.24     188        [111:299]    [39766405:39766593]\n          5   2.8e-75     291.63     161      [1271:1432]    [39837817:39837978]\n          6   1.2e-73     287.12     161        [434:595]    [39828346:39828507]\n          7   4.8e-66     260.97     158      [1116:1274]    [39834676:39834832]\n          8   2.5e-63     252.86     142        [589:731]    [39829539:39829681]\n          9   2.5e-63     251.96     139        [297:436]    [39825668:39825807]\n         10   1.2e-54     223.10     123      [1008:1131]    [39834137:39834260]\n         11   5.8e-46     194.25     107          [0:107]    [39820725:39820832]\n         12   1.1e-42     183.43     151        [580:731]    [39779246:39779397]\n         13   7.6e-32     147.36      81       [927:1008]    [39832477:39832558]\n         14   3.2e-30     141.95      78      [1431:1509]    [39839848:39839926]\n         15   1.7e-27     132.93     202        [729:930]    [39784277:39784478]\n         16   8.6e-25     123.92     138        [434:572]    [39771101:39771239]\n         17   3.2e-11      78.83      83       [922:1005]    [39786299:39786382]\n         18   4.8e-09      71.62     104      [1302:1406]    [39790688:39790792]\n         19    0.0045      52.68      41        [297:338]    [39768709:39768750]\nQuery: No\n       definition line\n  Hit: gi|1909942462|dbj|AP023481.1| (44550604)\n       Homo sapiens DNA, chromosome 21, nearly complete genome\n HSPs: ----  --------  ---------  ------  ---------------  ---------------------\n          #   E-value  Bit score    Span      Query range              Hit range\n       ----  --------  ---------  ------  ---------------  ---------------------\n          0  4.8e-123     451.23     252      [1507:1759]    [39292999:39293251]\n          1  1.9e-115     425.08     235      [1754:1989]    [39298934:39299169]\n          2   5.4e-97     363.76     201        [729:930]    [39282124:39282325]\n          3   9.8e-94     352.94     195        [104:299]    [39276245:39276440]\n          4   2.3e-76     295.24     188        [111:299]    [39218260:39218448]\n          5   2.8e-75     291.63     161      [1271:1432]    [39289515:39289676]\n          6   1.2e-73     287.12     161        [434:595]    [39280101:39280262]\n          7   3.9e-67     265.48     158      [1116:1274]    [39286396:39286552]\n          8   5.8e-65     257.37     142        [589:731]    [39281294:39281436]\n          9   2.5e-63     251.96     139        [297:436]    [39277423:39277562]\n         10   1.2e-54     223.10     123      [1008:1131]    [39285857:39285980]\n         11   5.8e-46     194.25     107          [0:107]    [39272480:39272587]\n         12   1.1e-42     183.43     151        [580:731]    [39231017:39231168]\n         13   7.6e-32     147.36      81       [927:1008]    [39284195:39284276]\n         14   3.2e-30     141.95      78      [1431:1509]    [39291546:39291624]\n         15   1.7e-27     132.93     202        [729:930]    [39236045:39236246]\n         16   8.6e-25     123.92     138        [434:572]    [39222873:39223011]\n         17   3.2e-11      78.83      83       [922:1005]    [39238052:39238135]\n         18   4.8e-09      71.62     104      [1302:1406]    [39242440:39242544]\n         19    0.0045      52.68      41        [297:338]    [39220481:39220522]\nQuery: No\n       definition line\n  Hit: gi|3540153|gb|AC005612.1| (60904)\n       Homo sapiens chromosome 21, P1 clone LBL#8 (LBNL H8), complete sequence\n HSPs: ----  --------  ---------  ------  ---------------  ---------------------\n          #   E-value  Bit score    Span      Query range              Hit range\n       ----  --------  ---------  ------  ---------------  ---------------------\n          0  4.8e-123     451.23     252      [1507:1759]          [40589:40841]\n          1  1.9e-115     425.08     235      [1754:1989]          [46495:46730]\n          2   5.4e-97     363.76     201        [729:930]          [29684:29885]\n          3   9.8e-94     352.94     195        [104:299]          [23777:23972]\n          4   2.8e-75     291.63     161      [1271:1432]          [37105:37266]\n          5   1.2e-73     287.12     161        [434:595]          [27632:27793]\n          6   4.8e-66     260.97     158      [1116:1274]          [33962:34118]\n          7   2.5e-63     252.86     142        [589:731]          [28825:28967]\n          8   2.5e-63     251.96     139        [297:436]          [24955:25094]\n          9   1.2e-54     223.10     123      [1008:1131]          [33423:33546]\n         10   5.8e-46     194.25     107          [0:107]          [20012:20119]\n         11   7.6e-32     147.36      81       [927:1008]          [31763:31844]\n         12   3.2e-30     141.95      78      [1431:1509]          [39136:39214]\nQuery: No\n       definition line\n  Hit: gi|7717384|emb|AL163285.2| (340000)\n       Homo sapiens chromosome 21 segment HS21C085\n HSPs: ----  --------  ---------  ------  ---------------  ---------------------\n          #   E-value  Bit score    Span      Query range              Hit range\n       ----  --------  ---------  ------  ---------------  ---------------------\n          0  4.8e-123     451.23     252      [1507:1759]        [260941:261193]\n          1  1.9e-115     425.08     235      [1754:1989]        [266847:267082]\n          2   5.4e-97     363.76     201        [729:930]        [250030:250231]\n          3   9.8e-94     352.94     195        [104:299]        [244122:244317]\n          4   2.3e-76     295.24     188        [111:299]        [186058:186246]\n          5   2.8e-75     291.63     161      [1271:1432]        [257457:257618]\n          6   1.2e-73     287.12     161        [434:595]        [247978:248139]\n          7   4.8e-66     260.97     158      [1116:1274]        [254310:254466]\n          8   2.5e-63     252.86     142        [589:731]        [249171:249313]\n          9   2.5e-63     251.96     139        [297:436]        [245300:245439]\n         10   1.2e-54     223.10     123      [1008:1131]        [253771:253894]\n         11   5.8e-46     194.25     107          [0:107]        [240357:240464]\n         12   1.1e-42     183.43     151        [580:731]        [198817:198968]\n         13   7.6e-32     147.36      81       [927:1008]        [252109:252190]\n         14   3.2e-30     141.95      78      [1431:1509]        [259488:259566]\n         15   1.7e-27     132.93     202        [729:930]        [203849:204050]\n         16   8.6e-25     123.92     138        [434:572]        [190671:190809]\n         17   3.2e-11      78.83      83       [922:1005]        [205871:205954]\n         18   4.8e-09      71.62     104      [1302:1406]        [210265:210369]\n         19    0.0045      52.68      41        [297:338]        [188279:188320]\nQuery: No\n       definition line\n  Hit: gi|5410450|gb|AF135187.1|AF135187 (33016)\n       Homo sapiens interferon-induced protein p78 (MX1) gene, complete cds\n HSPs: ----  --------  ---------  ------  ---------------  ---------------------\n          #   E-value  Bit score    Span      Query range              Hit range\n       ----  --------  ---------  ------  ---------------  ---------------------\n          0  4.8e-123     451.23     252      [1507:1759]          [26421:26673]\n          1  1.9e-115     425.08     235      [1754:1989]          [32327:32562]\n          2   5.4e-97     363.76     201        [729:930]          [15516:15717]\n          3   9.8e-94     352.94     195        [104:299]            [9609:9804]\n          4   2.8e-75     291.63     161      [1271:1432]          [22937:23098]\n          5   1.2e-73     287.12     161        [434:595]          [13464:13625]\n          6   4.8e-66     260.97     158      [1116:1274]          [19794:19950]\n          7   2.5e-63     252.86     142        [589:731]          [14657:14799]\n          8   2.5e-63     251.96     139        [297:436]          [10787:10926]\n          9   1.2e-54     223.10     123      [1008:1131]          [19255:19378]\n         10   5.8e-46     194.25     107          [0:107]            [5844:5951]\n         11   7.6e-32     147.36      81       [927:1008]          [17595:17676]\n         12   3.2e-30     141.95      78      [1431:1509]          [24968:25046]\nQuery: No\n       definition line\n  Hit: gi|21538700|emb|AL773576.1| (40100)\n       Homo sapiens chromosome 21 from cosmid LL21NC02-25D2 map 21q22.2,D21S3...\n HSPs: ----  --------  ---------  ------  ---------------  ---------------------\n          #   E-value  Bit score    Span      Query range              Hit range\n       ----  --------  ---------  ------  ---------------  ---------------------\n          0  4.8e-123     451.23     252      [1507:1759]          [32600:32852]\n          1  1.9e-115     425.08     235      [1754:1989]          [38506:38741]\n          2   5.4e-97     363.76     201        [729:930]          [21691:21892]\n          3   9.8e-94     352.94     195        [104:299]          [15784:15979]\n          4   2.8e-75     291.63     161      [1271:1432]          [29116:29277]\n          5   1.2e-73     287.12     161        [434:595]          [19639:19800]\n          6   4.8e-66     260.97     158      [1116:1274]          [25969:26125]\n          7   2.5e-63     252.86     142        [589:731]          [20832:20974]\n          8   2.5e-63     251.96     139        [297:436]          [16962:17101]\n          9   1.2e-54     223.10     123      [1008:1131]          [25430:25553]\n         10   5.8e-46     194.25     107          [0:107]          [12019:12126]\n         11   7.6e-32     147.36      81       [927:1008]          [23770:23851]\n         12   3.2e-30     141.95      78      [1431:1509]          [31147:31225]\nQuery: No\n       definition line\n  Hit: gi|21538699|emb|AL773571.1| (43003)\n       Homo sapiens chromosome 21 from cosmid LL21NC02-87D5 map 21q22.2,D21S3...\n HSPs: ----  --------  ---------  ------  ---------------  ---------------------\n          #   E-value  Bit score    Span      Query range              Hit range\n       ----  --------  ---------  ------  ---------------  ---------------------\n          0  4.8e-123     451.23     252      [1507:1759]            [1492:1744]\n          1  1.9e-115     425.08     235      [1754:1989]            [7398:7633]\n          2   3.2e-30     141.95      78      [1431:1509]               [39:117]\nQuery: No\n       definition line\n  Hit: gi|532011|gb|L35669.1|HUM8DC14Z (3048)\n       Homo sapiens (subclone H8 8_f4 from P1 35 H5 C8) DNA sequence\n HSPs: ----  --------  ---------  ------  ---------------  ---------------------\n          #   E-value  Bit score    Span      Query range              Hit range\n       ----  --------  ---------  ------  ---------------  ---------------------\n          0  4.8e-123     451.23     252      [1507:1759]             [761:1013]\n          1   3.2e-30     141.95      78      [1431:1509]            [2388:2466]\nQuery: No\n       definition line\n  Hit: gi|28200454|gb|AY186254.1| (250)\n       Homo sapiens MxA mRNA, partial cds\n HSPs: ----  --------  ---------  ------  ---------------  ---------------------\n          #   E-value  Bit score    Span      Query range              Hit range\n       ----  --------  ---------  ------  ---------------  ---------------------\n          0    2e-121     445.82     249      [1455:1704]                [0:249]\n"
     ]
    }
   ],
   "source": [
    "qtaxresult = SearchIO.read('blastn_bytaxid_results.xml', 'blast-xml')\n",
    "for res in qtaxresult:\n",
    "    print(res)"
   ]
  },
  {
   "cell_type": "code",
   "execution_count": 32,
   "metadata": {
    "tags": []
   },
   "outputs": [
    {
     "output_type": "stream",
     "name": "stdout",
     "text": [
      "{'name': ['gb|AAX36704.1|', 'ref|NP_001138397.1|', 'gb|AAA36458.1|', 'gb|AAX36236.1|', 'gb|AAA36337.1|', 'gb|AIC54783.1|', 'dbj|BAG37852.1|', 'dbj|BAG53272.1|', 'ref|XP_009431729.1|', 'ref|NP_001266690.1|', 'ref|NP_001288691.1|', 'gb|PNJ42385.1|', 'ref|NP_001266765.1|', 'gb|AFU81316.1|', 'ref|NP_001127618.1|', 'ref|XP_012357180.1|', 'ref|NP_001267031.1|', 'gb|AFU81307.1|', 'ref|XP_032030149.1|', 'dbj|BAC04017.1|', 'gb|PNI55693.1|', 'gb|PNJ42393.1|', 'gb|AFU81320.1|', 'gb|AFU81304.1|', 'ref|XP_033088416.1|', 'gb|AFU81310.1|', 'gb|AFU81305.1|', 'ref|XP_003895511.1|', 'ref|XP_014988323.2|', 'ref|XP_011724293.1|', 'gb|AFU81309.1|', 'ref|XP_007966881.2|', 'ref|NP_001073161.1|', 'ref|XP_015302109.1|', 'ref|XP_011809449.1|', 'ref|XP_011892717.1|', 'ref|XP_017735713.1|', 'ref|XP_030770463.1|', 'ref|XP_023047606.1|', 'gb|AFU81311.1|', 'ref|NP_001292883.1|', 'ref|XP_025236083.1|', 'ref|XP_011839575.1|', 'gb|EHH16957.1|', 'gb|AFU81317.1|', 'gb|AFU81301.1|', 'ref|XP_012300528.1|', 'gb|AFU81300.1|', 'ref|XP_037597997.1|', 'gb|AFU81302.1|']}\n"
     ]
    }
   ],
   "source": [
    "#No results in the protein search\n",
    "\n",
    "blastp_dict = {'name':[]}\n",
    "\n",
    "presult = SearchIO.reade'blastp_results.xml', 'blast-xml')\n",
    "for res in presult:\n",
    "    r = res[0]\n",
    "    blastp_dict['name'].append(r.hit_id)\n",
    "    #print(r.hit_description)\n",
    "    #print(r.query_span)\n",
    "    #for hsp in r:\n",
    "    #    print(hsp.aln_annotation)\n",
    "\n",
    "print(blastp_dict)"
   ]
  },
  {
   "cell_type": "code",
   "execution_count": 34,
   "metadata": {},
   "outputs": [
    {
     "output_type": "stream",
     "name": "stdout",
     "text": [
      "{'gb|AAX36704.1|': ['myxovirus resistance 1, partial [synthetic construct]', 662], 'ref|NP_001138397.1|': ['interferon-induced GTP-binding protein Mx1 isoform a [Homo sapiens]', 662], 'gb|AAA36458.1|': ['p78 protein [Homo sapiens]', 662], 'gb|AAX36236.1|': ['myxovirus resistance 1 [synthetic construct]', 662], 'gb|AAA36337.1|': ['interferon-induced Mx protein [Homo sapiens]', 662], 'gb|AIC54783.1|': ['MX1, partial [synthetic construct]', 662], 'dbj|BAG37852.1|': ['unnamed protein product [Homo sapiens]', 662], 'dbj|BAG53272.1|': ['unnamed protein product [Homo sapiens]', 662], 'ref|XP_009431729.1|': ['interferon-induced GTP-binding protein Mx1 isoform X1 [Pan troglodytes]', 662], 'ref|NP_001266690.1|': ['interferon-induced GTP-binding protein Mx1 [Gorilla gorilla]', 662], 'ref|NP_001288691.1|': ['interferon-induced GTP-binding protein Mx1 [Pan paniscus]', 662], 'gb|PNJ42385.1|': ['MX1 isoform 3 [Pongo abelii]', 662], 'ref|NP_001266765.1|': ['interferon-induced GTP-binding protein Mx1 [Pan troglodytes]', 662], 'gb|AFU81316.1|': ['myxovirus (influenza virus) resistance 1 [Pongo pygmaeus]', 662], 'ref|NP_001127618.1|': ['interferon-induced GTP-binding protein Mx1 [Pongo abelii]', 662], 'ref|XP_012357180.1|': ['interferon-induced GTP-binding protein Mx1 isoform X1 [Nomascus leucogenys]', 662], 'ref|NP_001267031.1|': ['interferon-induced GTP-binding protein Mx1 [Nomascus leucogenys]', 662], 'gb|AFU81307.1|': ['myxovirus (influenza virus) resistance 1 [Hylobates agilis]', 662], 'ref|XP_032030149.1|': ['interferon-induced GTP-binding protein Mx1 isoform X1 [Hylobates moloch]', 662], 'dbj|BAC04017.1|': ['unnamed protein product [Homo sapiens]', 662], 'gb|PNI55693.1|': ['MX1 isoform 14 [Pan troglodytes]', 662], 'gb|PNJ42393.1|': ['MX1 isoform 14 [Pongo abelii]', 662], 'gb|AFU81320.1|': ['myxovirus (influenza virus) resistance 1 [Trachypithecus francoisi]', 662], 'gb|AFU81304.1|': ['myxovirus (influenza virus) resistance 1 [Chlorocebus tantalus]', 662], 'ref|XP_033088416.1|': ['interferon-induced GTP-binding protein Mx1 [Trachypithecus francoisi]', 662], 'gb|AFU81310.1|': ['myxovirus (influenza virus) resistance 1 [Macaca sylvanus]', 662], 'gb|AFU81305.1|': ['myxovirus (influenza virus) resistance 1 [Colobus guereza]', 662], 'ref|XP_003895511.1|': ['interferon-induced GTP-binding protein Mx1 [Papio anubis]', 662], 'ref|XP_014988323.2|': ['interferon-induced GTP-binding protein Mx1 isoform X1 [Macaca mulatta]', 662], 'ref|XP_011724293.1|': ['interferon-induced GTP-binding protein Mx1 [Macaca nemestrina]', 662], 'gb|AFU81309.1|': ['myxovirus (influenza virus) resistance 1 [Macaca fascicularis]', 662], 'ref|XP_007966881.2|': ['interferon-induced GTP-binding protein Mx1 [Chlorocebus sabaeus]', 662], 'ref|NP_001073161.1|': ['interferon-induced GTP-binding protein Mx1 [Macaca mulatta]', 662], 'ref|XP_015302109.1|': ['PREDICTED: interferon-induced GTP-binding protein Mx1 isoform X1 [Macaca fascicularis]', 662], 'ref|XP_011809449.1|': ['PREDICTED: interferon-induced GTP-binding protein Mx1 [Colobus angolensis palliatus]', 662], 'ref|XP_011892717.1|': ['PREDICTED: interferon-induced GTP-binding protein Mx1 [Cercocebus atys]', 662], 'ref|XP_017735713.1|': ['PREDICTED: LOW QUALITY PROTEIN: interferon-induced GTP-binding protein Mx1 [Rhinopithecus bieti]', 662], 'ref|XP_030770463.1|': ['interferon-induced GTP-binding protein Mx1 [Rhinopithecus roxellana]', 662], 'ref|XP_023047606.1|': ['interferon-induced GTP-binding protein Mx1 [Piliocolobus tephrosceles]', 662], 'gb|AFU81311.1|': ['myxovirus (influenza virus) resistance 1 [Miopithecus talapoin]', 662], 'ref|NP_001292883.1|': ['interferon-induced GTP-binding protein Mx1 [Cercocebus atys]', 662], 'ref|XP_025236083.1|': ['interferon-induced GTP-binding protein Mx1 [Theropithecus gelada]', 662], 'ref|XP_011839575.1|': ['PREDICTED: interferon-induced GTP-binding protein Mx1 [Mandrillus leucophaeus]', 662], 'gb|EHH16957.1|': ['Myxovirus resistance protein 1 [Macaca mulatta]', 662], 'gb|AFU81317.1|': ['myxovirus (influenza virus) resistance 1 [Saguinus midas]', 662], 'gb|AFU81301.1|': ['myxovirus (influenza virus) resistance 1 [Aotus trivirgatus]', 662], 'ref|XP_012300528.1|': ['interferon-induced GTP-binding protein Mx1 [Aotus nancymaae]', 662], 'gb|AFU81300.1|': ['myxovirus (influenza virus) resistance 1 [Alouatta sara]', 662], 'ref|XP_037597997.1|': ['interferon-induced GTP-binding protein Mx1 [Cebus imitator]', 662], 'gb|AFU81302.1|': ['myxovirus (influenza virus) resistance 1 [Plecturocebus moloch]', 662]}\n"
     ]
    }
   ],
   "source": [
    "blastp_dict = {}\n",
    "\n",
    "presult = SearchIO.read('blastp_results.xml', 'blast-xml')\n",
    "for res in presult:\n",
    "    r = res[0]\n",
    "    this_id = r.hit_id\n",
    "    this_desc = r.hit_description\n",
    "    blastp_dict.update({this_id : [this_desc, r.query_span]})    \n",
    "\n",
    "print(blastp_dict)"
   ]
  },
  {
   "cell_type": "code",
   "execution_count": 37,
   "metadata": {},
   "outputs": [
    {
     "output_type": "execute_result",
     "data": {
      "text/plain": [
       "                                                                     0    1\n",
       "gb|AAX36704.1|       myxovirus resistance 1, partial [synthetic con...  662\n",
       "ref|NP_001138397.1|  interferon-induced GTP-binding protein Mx1 iso...  662\n",
       "gb|AAA36458.1|                              p78 protein [Homo sapiens]  662\n",
       "gb|AAX36236.1|            myxovirus resistance 1 [synthetic construct]  662\n",
       "gb|AAA36337.1|            interferon-induced Mx protein [Homo sapiens]  662\n",
       "gb|AIC54783.1|                      MX1, partial [synthetic construct]  662\n",
       "dbj|BAG37852.1|                 unnamed protein product [Homo sapiens]  662\n",
       "dbj|BAG53272.1|                 unnamed protein product [Homo sapiens]  662\n",
       "ref|XP_009431729.1|  interferon-induced GTP-binding protein Mx1 iso...  662\n",
       "ref|NP_001266690.1|  interferon-induced GTP-binding protein Mx1 [Go...  662\n",
       "ref|NP_001288691.1|  interferon-induced GTP-binding protein Mx1 [Pa...  662\n",
       "gb|PNJ42385.1|                            MX1 isoform 3 [Pongo abelii]  662\n",
       "ref|NP_001266765.1|  interferon-induced GTP-binding protein Mx1 [Pa...  662\n",
       "gb|AFU81316.1|       myxovirus (influenza virus) resistance 1 [Pong...  662\n",
       "ref|NP_001127618.1|  interferon-induced GTP-binding protein Mx1 [Po...  662\n",
       "ref|XP_012357180.1|  interferon-induced GTP-binding protein Mx1 iso...  662\n",
       "ref|NP_001267031.1|  interferon-induced GTP-binding protein Mx1 [No...  662\n",
       "gb|AFU81307.1|       myxovirus (influenza virus) resistance 1 [Hylo...  662\n",
       "ref|XP_032030149.1|  interferon-induced GTP-binding protein Mx1 iso...  662\n",
       "dbj|BAC04017.1|                 unnamed protein product [Homo sapiens]  662\n",
       "gb|PNI55693.1|                        MX1 isoform 14 [Pan troglodytes]  662\n",
       "gb|PNJ42393.1|                           MX1 isoform 14 [Pongo abelii]  662\n",
       "gb|AFU81320.1|       myxovirus (influenza virus) resistance 1 [Trac...  662\n",
       "gb|AFU81304.1|       myxovirus (influenza virus) resistance 1 [Chlo...  662\n",
       "ref|XP_033088416.1|  interferon-induced GTP-binding protein Mx1 [Tr...  662\n",
       "gb|AFU81310.1|       myxovirus (influenza virus) resistance 1 [Maca...  662\n",
       "gb|AFU81305.1|       myxovirus (influenza virus) resistance 1 [Colo...  662\n",
       "ref|XP_003895511.1|  interferon-induced GTP-binding protein Mx1 [Pa...  662\n",
       "ref|XP_014988323.2|  interferon-induced GTP-binding protein Mx1 iso...  662\n",
       "ref|XP_011724293.1|  interferon-induced GTP-binding protein Mx1 [Ma...  662\n",
       "gb|AFU81309.1|       myxovirus (influenza virus) resistance 1 [Maca...  662\n",
       "ref|XP_007966881.2|  interferon-induced GTP-binding protein Mx1 [Ch...  662\n",
       "ref|NP_001073161.1|  interferon-induced GTP-binding protein Mx1 [Ma...  662\n",
       "ref|XP_015302109.1|  PREDICTED: interferon-induced GTP-binding prot...  662\n",
       "ref|XP_011809449.1|  PREDICTED: interferon-induced GTP-binding prot...  662\n",
       "ref|XP_011892717.1|  PREDICTED: interferon-induced GTP-binding prot...  662\n",
       "ref|XP_017735713.1|  PREDICTED: LOW QUALITY PROTEIN: interferon-ind...  662\n",
       "ref|XP_030770463.1|  interferon-induced GTP-binding protein Mx1 [Rh...  662\n",
       "ref|XP_023047606.1|  interferon-induced GTP-binding protein Mx1 [Pi...  662\n",
       "gb|AFU81311.1|       myxovirus (influenza virus) resistance 1 [Miop...  662\n",
       "ref|NP_001292883.1|  interferon-induced GTP-binding protein Mx1 [Ce...  662\n",
       "ref|XP_025236083.1|  interferon-induced GTP-binding protein Mx1 [Th...  662\n",
       "ref|XP_011839575.1|  PREDICTED: interferon-induced GTP-binding prot...  662\n",
       "gb|EHH16957.1|         Myxovirus resistance protein 1 [Macaca mulatta]  662\n",
       "gb|AFU81317.1|       myxovirus (influenza virus) resistance 1 [Sagu...  662\n",
       "gb|AFU81301.1|       myxovirus (influenza virus) resistance 1 [Aotu...  662\n",
       "ref|XP_012300528.1|  interferon-induced GTP-binding protein Mx1 [Ao...  662\n",
       "gb|AFU81300.1|       myxovirus (influenza virus) resistance 1 [Alou...  662\n",
       "ref|XP_037597997.1|  interferon-induced GTP-binding protein Mx1 [Ce...  662\n",
       "gb|AFU81302.1|       myxovirus (influenza virus) resistance 1 [Plec...  662"
      ],
      "text/html": "<div>\n<style scoped>\n    .dataframe tbody tr th:only-of-type {\n        vertical-align: middle;\n    }\n\n    .dataframe tbody tr th {\n        vertical-align: top;\n    }\n\n    .dataframe thead th {\n        text-align: right;\n    }\n</style>\n<table border=\"1\" class=\"dataframe\">\n  <thead>\n    <tr style=\"text-align: right;\">\n      <th></th>\n      <th>0</th>\n      <th>1</th>\n    </tr>\n  </thead>\n  <tbody>\n    <tr>\n      <th>gb|AAX36704.1|</th>\n      <td>myxovirus resistance 1, partial [synthetic con...</td>\n      <td>662</td>\n    </tr>\n    <tr>\n      <th>ref|NP_001138397.1|</th>\n      <td>interferon-induced GTP-binding protein Mx1 iso...</td>\n      <td>662</td>\n    </tr>\n    <tr>\n      <th>gb|AAA36458.1|</th>\n      <td>p78 protein [Homo sapiens]</td>\n      <td>662</td>\n    </tr>\n    <tr>\n      <th>gb|AAX36236.1|</th>\n      <td>myxovirus resistance 1 [synthetic construct]</td>\n      <td>662</td>\n    </tr>\n    <tr>\n      <th>gb|AAA36337.1|</th>\n      <td>interferon-induced Mx protein [Homo sapiens]</td>\n      <td>662</td>\n    </tr>\n    <tr>\n      <th>gb|AIC54783.1|</th>\n      <td>MX1, partial [synthetic construct]</td>\n      <td>662</td>\n    </tr>\n    <tr>\n      <th>dbj|BAG37852.1|</th>\n      <td>unnamed protein product [Homo sapiens]</td>\n      <td>662</td>\n    </tr>\n    <tr>\n      <th>dbj|BAG53272.1|</th>\n      <td>unnamed protein product [Homo sapiens]</td>\n      <td>662</td>\n    </tr>\n    <tr>\n      <th>ref|XP_009431729.1|</th>\n      <td>interferon-induced GTP-binding protein Mx1 iso...</td>\n      <td>662</td>\n    </tr>\n    <tr>\n      <th>ref|NP_001266690.1|</th>\n      <td>interferon-induced GTP-binding protein Mx1 [Go...</td>\n      <td>662</td>\n    </tr>\n    <tr>\n      <th>ref|NP_001288691.1|</th>\n      <td>interferon-induced GTP-binding protein Mx1 [Pa...</td>\n      <td>662</td>\n    </tr>\n    <tr>\n      <th>gb|PNJ42385.1|</th>\n      <td>MX1 isoform 3 [Pongo abelii]</td>\n      <td>662</td>\n    </tr>\n    <tr>\n      <th>ref|NP_001266765.1|</th>\n      <td>interferon-induced GTP-binding protein Mx1 [Pa...</td>\n      <td>662</td>\n    </tr>\n    <tr>\n      <th>gb|AFU81316.1|</th>\n      <td>myxovirus (influenza virus) resistance 1 [Pong...</td>\n      <td>662</td>\n    </tr>\n    <tr>\n      <th>ref|NP_001127618.1|</th>\n      <td>interferon-induced GTP-binding protein Mx1 [Po...</td>\n      <td>662</td>\n    </tr>\n    <tr>\n      <th>ref|XP_012357180.1|</th>\n      <td>interferon-induced GTP-binding protein Mx1 iso...</td>\n      <td>662</td>\n    </tr>\n    <tr>\n      <th>ref|NP_001267031.1|</th>\n      <td>interferon-induced GTP-binding protein Mx1 [No...</td>\n      <td>662</td>\n    </tr>\n    <tr>\n      <th>gb|AFU81307.1|</th>\n      <td>myxovirus (influenza virus) resistance 1 [Hylo...</td>\n      <td>662</td>\n    </tr>\n    <tr>\n      <th>ref|XP_032030149.1|</th>\n      <td>interferon-induced GTP-binding protein Mx1 iso...</td>\n      <td>662</td>\n    </tr>\n    <tr>\n      <th>dbj|BAC04017.1|</th>\n      <td>unnamed protein product [Homo sapiens]</td>\n      <td>662</td>\n    </tr>\n    <tr>\n      <th>gb|PNI55693.1|</th>\n      <td>MX1 isoform 14 [Pan troglodytes]</td>\n      <td>662</td>\n    </tr>\n    <tr>\n      <th>gb|PNJ42393.1|</th>\n      <td>MX1 isoform 14 [Pongo abelii]</td>\n      <td>662</td>\n    </tr>\n    <tr>\n      <th>gb|AFU81320.1|</th>\n      <td>myxovirus (influenza virus) resistance 1 [Trac...</td>\n      <td>662</td>\n    </tr>\n    <tr>\n      <th>gb|AFU81304.1|</th>\n      <td>myxovirus (influenza virus) resistance 1 [Chlo...</td>\n      <td>662</td>\n    </tr>\n    <tr>\n      <th>ref|XP_033088416.1|</th>\n      <td>interferon-induced GTP-binding protein Mx1 [Tr...</td>\n      <td>662</td>\n    </tr>\n    <tr>\n      <th>gb|AFU81310.1|</th>\n      <td>myxovirus (influenza virus) resistance 1 [Maca...</td>\n      <td>662</td>\n    </tr>\n    <tr>\n      <th>gb|AFU81305.1|</th>\n      <td>myxovirus (influenza virus) resistance 1 [Colo...</td>\n      <td>662</td>\n    </tr>\n    <tr>\n      <th>ref|XP_003895511.1|</th>\n      <td>interferon-induced GTP-binding protein Mx1 [Pa...</td>\n      <td>662</td>\n    </tr>\n    <tr>\n      <th>ref|XP_014988323.2|</th>\n      <td>interferon-induced GTP-binding protein Mx1 iso...</td>\n      <td>662</td>\n    </tr>\n    <tr>\n      <th>ref|XP_011724293.1|</th>\n      <td>interferon-induced GTP-binding protein Mx1 [Ma...</td>\n      <td>662</td>\n    </tr>\n    <tr>\n      <th>gb|AFU81309.1|</th>\n      <td>myxovirus (influenza virus) resistance 1 [Maca...</td>\n      <td>662</td>\n    </tr>\n    <tr>\n      <th>ref|XP_007966881.2|</th>\n      <td>interferon-induced GTP-binding protein Mx1 [Ch...</td>\n      <td>662</td>\n    </tr>\n    <tr>\n      <th>ref|NP_001073161.1|</th>\n      <td>interferon-induced GTP-binding protein Mx1 [Ma...</td>\n      <td>662</td>\n    </tr>\n    <tr>\n      <th>ref|XP_015302109.1|</th>\n      <td>PREDICTED: interferon-induced GTP-binding prot...</td>\n      <td>662</td>\n    </tr>\n    <tr>\n      <th>ref|XP_011809449.1|</th>\n      <td>PREDICTED: interferon-induced GTP-binding prot...</td>\n      <td>662</td>\n    </tr>\n    <tr>\n      <th>ref|XP_011892717.1|</th>\n      <td>PREDICTED: interferon-induced GTP-binding prot...</td>\n      <td>662</td>\n    </tr>\n    <tr>\n      <th>ref|XP_017735713.1|</th>\n      <td>PREDICTED: LOW QUALITY PROTEIN: interferon-ind...</td>\n      <td>662</td>\n    </tr>\n    <tr>\n      <th>ref|XP_030770463.1|</th>\n      <td>interferon-induced GTP-binding protein Mx1 [Rh...</td>\n      <td>662</td>\n    </tr>\n    <tr>\n      <th>ref|XP_023047606.1|</th>\n      <td>interferon-induced GTP-binding protein Mx1 [Pi...</td>\n      <td>662</td>\n    </tr>\n    <tr>\n      <th>gb|AFU81311.1|</th>\n      <td>myxovirus (influenza virus) resistance 1 [Miop...</td>\n      <td>662</td>\n    </tr>\n    <tr>\n      <th>ref|NP_001292883.1|</th>\n      <td>interferon-induced GTP-binding protein Mx1 [Ce...</td>\n      <td>662</td>\n    </tr>\n    <tr>\n      <th>ref|XP_025236083.1|</th>\n      <td>interferon-induced GTP-binding protein Mx1 [Th...</td>\n      <td>662</td>\n    </tr>\n    <tr>\n      <th>ref|XP_011839575.1|</th>\n      <td>PREDICTED: interferon-induced GTP-binding prot...</td>\n      <td>662</td>\n    </tr>\n    <tr>\n      <th>gb|EHH16957.1|</th>\n      <td>Myxovirus resistance protein 1 [Macaca mulatta]</td>\n      <td>662</td>\n    </tr>\n    <tr>\n      <th>gb|AFU81317.1|</th>\n      <td>myxovirus (influenza virus) resistance 1 [Sagu...</td>\n      <td>662</td>\n    </tr>\n    <tr>\n      <th>gb|AFU81301.1|</th>\n      <td>myxovirus (influenza virus) resistance 1 [Aotu...</td>\n      <td>662</td>\n    </tr>\n    <tr>\n      <th>ref|XP_012300528.1|</th>\n      <td>interferon-induced GTP-binding protein Mx1 [Ao...</td>\n      <td>662</td>\n    </tr>\n    <tr>\n      <th>gb|AFU81300.1|</th>\n      <td>myxovirus (influenza virus) resistance 1 [Alou...</td>\n      <td>662</td>\n    </tr>\n    <tr>\n      <th>ref|XP_037597997.1|</th>\n      <td>interferon-induced GTP-binding protein Mx1 [Ce...</td>\n      <td>662</td>\n    </tr>\n    <tr>\n      <th>gb|AFU81302.1|</th>\n      <td>myxovirus (influenza virus) resistance 1 [Plec...</td>\n      <td>662</td>\n    </tr>\n  </tbody>\n</table>\n</div>"
     },
     "metadata": {},
     "execution_count": 37
    }
   ],
   "source": [
    "protein_dict_to_db = pd.DataFrame.from_dict(blastp_dict, orient='index')\n",
    "protein_dict_to_db"
   ]
  },
  {
   "cell_type": "code",
   "execution_count": 35,
   "metadata": {},
   "outputs": [],
   "source": [
    "import pandas as pd\n",
    "import numpy as np"
   ]
  },
  {
   "cell_type": "code",
   "execution_count": 86,
   "metadata": {},
   "outputs": [
    {
     "output_type": "execute_result",
     "data": {
      "text/plain": [
       "{'gi|1519315249|ref|NM_002462.5|': Hit(id='gi|1519315249|ref|NM_002462.5|', query_id='No', 1 hsps),\n",
       " 'gi|1370481400|ref|XM_017028349.2|': Hit(id='gi|1370481400|ref|XM_017028349.2|', query_id='No', 1 hsps),\n",
       " 'gi|1034627218|ref|XM_005260982.2|': Hit(id='gi|1034627218|ref|XM_005260982.2|', query_id='No', 1 hsps),\n",
       " 'gi|1034627217|ref|XM_005260981.2|': Hit(id='gi|1034627217|ref|XM_005260981.2|', query_id='No', 1 hsps),\n",
       " 'gi|1034627215|ref|XM_017028350.1|': Hit(id='gi|1034627215|ref|XM_017028350.1|', query_id='No', 1 hsps),\n",
       " 'gi|1034627212|ref|XM_005260980.2|': Hit(id='gi|1034627212|ref|XM_005260980.2|', query_id='No', 1 hsps),\n",
       " 'gi|1034627211|ref|XM_005260979.2|': Hit(id='gi|1034627211|ref|XM_005260979.2|', query_id='No', 1 hsps),\n",
       " 'gi|1034627210|ref|XM_011529568.2|': Hit(id='gi|1034627210|ref|XM_011529568.2|', query_id='No', 1 hsps),\n",
       " 'gi|1034627209|ref|XM_005260978.4|': Hit(id='gi|1034627209|ref|XM_005260978.4|', query_id='No', 1 hsps),\n",
       " 'gi|544711167|ref|NM_001144925.2|': Hit(id='gi|544711167|ref|NM_001144925.2|', query_id='No', 1 hsps),\n",
       " 'gi|1890270839|ref|NM_001178046.3|': Hit(id='gi|1890270839|ref|NM_001178046.3|', query_id='No', 1 hsps),\n",
       " 'gi|190135|gb|M33882.1|HUMPMX1A': Hit(id='gi|190135|gb|M33882.1|HUMPMX1A', query_id='No', 1 hsps),\n",
       " 'gi|61354936|gb|AY888131.1|': Hit(id='gi|61354936|gb|AY888131.1|', query_id='No', 1 hsps),\n",
       " 'gi|60825047|gb|AY893667.1|': Hit(id='gi|60825047|gb|AY893667.1|', query_id='No', 1 hsps),\n",
       " 'gi|21619146|gb|BC032602.1|': Hit(id='gi|21619146|gb|BC032602.1|', query_id='No', 1 hsps),\n",
       " 'gi|261858633|dbj|AB527675.1|': Hit(id='gi|261858633|dbj|AB527675.1|', query_id='No', 1 hsps),\n",
       " 'gi|325464350|gb|JF432729.1|': Hit(id='gi|325464350|gb|JF432729.1|', query_id='No', 1 hsps),\n",
       " 'gi|60812884|gb|AY893199.1|': Hit(id='gi|60812884|gb|AY893199.1|', query_id='No', 1 hsps),\n",
       " 'gi|649120027|gb|KJ897213.1|': Hit(id='gi|649120027|gb|KJ897213.1|', query_id='No', 1 hsps),\n",
       " 'gi|164695655|dbj|AK315465.1|': Hit(id='gi|164695655|dbj|AK315465.1|', query_id='No', 1 hsps),\n",
       " 'gi|188900|gb|M30817.1|HUMMXA': Hit(id='gi|188900|gb|M30817.1|HUMMXA', query_id='No', 1 hsps),\n",
       " 'gi|21755829|dbj|AK096355.1|': Hit(id='gi|21755829|dbj|AK096355.1|', query_id='No', 1 hsps),\n",
       " 'gi|1849077349|ref|XM_034947820.1|': Hit(id='gi|1849077349|ref|XM_034947820.1|', query_id='No', 1 hsps),\n",
       " 'gi|1849077347|ref|XM_034947819.1|': Hit(id='gi|1849077347|ref|XM_034947819.1|', query_id='No', 1 hsps),\n",
       " 'gi|1849077342|ref|XM_008977603.2|': Hit(id='gi|1849077342|ref|XM_008977603.2|', query_id='No', 1 hsps),\n",
       " 'gi|1849077334|ref|XM_008977599.2|': Hit(id='gi|1849077334|ref|XM_008977599.2|', query_id='No', 1 hsps),\n",
       " 'gi|1849077327|ref|XM_034947818.1|': Hit(id='gi|1849077327|ref|XM_034947818.1|', query_id='No', 1 hsps),\n",
       " 'gi|1849077319|ref|XM_008977598.4|': Hit(id='gi|1849077319|ref|XM_008977598.4|', query_id='No', 1 hsps),\n",
       " 'gi|1849077312|ref|XM_003823901.5|': Hit(id='gi|1849077312|ref|XM_003823901.5|', query_id='No', 1 hsps),\n",
       " 'gi|1367238133|ref|XM_009438930.3|': Hit(id='gi|1367238133|ref|XM_009438930.3|', query_id='No', 1 hsps),\n",
       " 'gi|1367238130|ref|XM_009438452.3|': Hit(id='gi|1367238130|ref|XM_009438452.3|', query_id='No', 1 hsps),\n",
       " 'gi|1367238127|ref|XM_009437396.3|': Hit(id='gi|1367238127|ref|XM_009437396.3|', query_id='No', 1 hsps),\n",
       " 'gi|1367238124|ref|XM_009437900.2|': Hit(id='gi|1367238124|ref|XM_009437900.2|', query_id='No', 1 hsps),\n",
       " 'gi|1367238121|ref|XM_009433909.3|': Hit(id='gi|1367238121|ref|XM_009433909.3|', query_id='No', 1 hsps),\n",
       " 'gi|1367238119|ref|XM_009435429.3|': Hit(id='gi|1367238119|ref|XM_009435429.3|', query_id='No', 1 hsps),\n",
       " 'gi|1367238117|ref|XM_016938404.2|': Hit(id='gi|1367238117|ref|XM_016938404.2|', query_id='No', 1 hsps),\n",
       " 'gi|1367238115|ref|XM_009434398.3|': Hit(id='gi|1367238115|ref|XM_009434398.3|', query_id='No', 1 hsps),\n",
       " 'gi|1367238112|ref|XM_009434930.3|': Hit(id='gi|1367238112|ref|XM_009434930.3|', query_id='No', 1 hsps),\n",
       " 'gi|1367238110|ref|XM_009433454.3|': Hit(id='gi|1367238110|ref|XM_009433454.3|', query_id='No', 1 hsps),\n",
       " 'gi|683523965|ref|NM_001301762.1|': Hit(id='gi|683523965|ref|NM_001301762.1|', query_id='No', 1 hsps),\n",
       " 'gi|525345364|ref|NM_001279836.1|': Hit(id='gi|525345364|ref|NM_001279836.1|', query_id='No', 1 hsps),\n",
       " 'gi|525344602|ref|NM_001279761.1|': Hit(id='gi|525344602|ref|NM_001279761.1|', query_id='No', 1 hsps),\n",
       " 'gi|1753056057|ref|XM_019017591.2|': Hit(id='gi|1753056057|ref|XM_019017591.2|', query_id='No', 1 hsps),\n",
       " 'gi|1753056056|ref|XM_019017590.2|': Hit(id='gi|1753056056|ref|XM_019017590.2|', query_id='No', 1 hsps),\n",
       " 'gi|1753056055|ref|XM_019017589.2|': Hit(id='gi|1753056055|ref|XM_019017589.2|', query_id='No', 1 hsps),\n",
       " 'gi|1753056054|ref|XM_019017588.2|': Hit(id='gi|1753056054|ref|XM_019017588.2|', query_id='No', 1 hsps),\n",
       " 'gi|1753056053|ref|XM_019017587.2|': Hit(id='gi|1753056053|ref|XM_019017587.2|', query_id='No', 1 hsps),\n",
       " 'gi|1753056052|ref|XM_019017586.2|': Hit(id='gi|1753056052|ref|XM_019017586.2|', query_id='No', 1 hsps),\n",
       " 'gi|1753056051|ref|XM_019017585.2|': Hit(id='gi|1753056051|ref|XM_019017585.2|', query_id='No', 1 hsps),\n",
       " 'gi|408689544|gb|JX297244.1|': Hit(id='gi|408689544|gb|JX297244.1|', query_id='No', 1 hsps)}"
      ]
     },
     "metadata": {},
     "execution_count": 86
    }
   ],
   "source": [
    "#transform the query operator in a dictionary to put in a pandas data frame\n",
    "qresult_asdict = SearchIO.to_dict(qresult)\n",
    "qresult_asdict"
   ]
  },
  {
   "cell_type": "code",
   "execution_count": 15,
   "metadata": {},
   "outputs": [
    {
     "output_type": "error",
     "ename": "NameError",
     "evalue": "name 'pd' is not defined",
     "traceback": [
      "\u001b[0;31m---------------------------------------------------------------------------\u001b[0m",
      "\u001b[0;31mNameError\u001b[0m                                 Traceback (most recent call last)",
      "\u001b[0;32m/var/folders/ct/k2vy_tv5445_dh3r_3cm63bh0000gn/T/ipykernel_636/4225372017.py\u001b[0m in \u001b[0;36m<module>\u001b[0;34m\u001b[0m\n\u001b[0;32m----> 1\u001b[0;31m \u001b[0mqresult_df\u001b[0m \u001b[0;34m=\u001b[0m \u001b[0mpd\u001b[0m\u001b[0;34m.\u001b[0m\u001b[0mDataFrame\u001b[0m\u001b[0;34m.\u001b[0m\u001b[0mfrom_dict\u001b[0m\u001b[0;34m(\u001b[0m\u001b[0mqresult_asdict\u001b[0m\u001b[0;34m)\u001b[0m\u001b[0;34m\u001b[0m\u001b[0;34m\u001b[0m\u001b[0m\n\u001b[0m\u001b[1;32m      2\u001b[0m \u001b[0;31m#qresult_df = qresult_df.convert_dtypes #not the desired effect :(\u001b[0m\u001b[0;34m\u001b[0m\u001b[0;34m\u001b[0m\u001b[0;34m\u001b[0m\u001b[0m\n\u001b[1;32m      3\u001b[0m \u001b[0mqresult_df\u001b[0m\u001b[0;34m\u001b[0m\u001b[0;34m\u001b[0m\u001b[0m\n",
      "\u001b[0;31mNameError\u001b[0m: name 'pd' is not defined"
     ]
    }
   ],
   "source": [
    "qresult_df = pd.DataFrame.from_dict(qresult_asdict)\n",
    "#qresult_df = qresult_df.convert_dtypes #not the desired effect :(\n",
    "qresult_df"
   ]
  },
  {
   "cell_type": "code",
   "execution_count": 94,
   "metadata": {},
   "outputs": [
    {
     "output_type": "execute_result",
     "data": {
      "text/plain": [
       "                                                                                   0\n",
       "gi|1519315249|ref|NM_002462.5|     [((      Query: No definition line\\n        Hi...\n",
       "gi|1370481400|ref|XM_017028349.2|  [((      Query: No definition line\\n        Hi...\n",
       "gi|1034627218|ref|XM_005260982.2|  [((      Query: No definition line\\n        Hi...\n",
       "gi|1034627217|ref|XM_005260981.2|  [((      Query: No definition line\\n        Hi...\n",
       "gi|1034627215|ref|XM_017028350.1|  [((      Query: No definition line\\n        Hi...\n",
       "gi|1034627212|ref|XM_005260980.2|  [((      Query: No definition line\\n        Hi...\n",
       "gi|1034627211|ref|XM_005260979.2|  [((      Query: No definition line\\n        Hi...\n",
       "gi|1034627210|ref|XM_011529568.2|  [((      Query: No definition line\\n        Hi...\n",
       "gi|1034627209|ref|XM_005260978.4|  [((      Query: No definition line\\n        Hi...\n",
       "gi|544711167|ref|NM_001144925.2|   [((      Query: No definition line\\n        Hi...\n",
       "gi|1890270839|ref|NM_001178046.3|  [((      Query: No definition line\\n        Hi...\n",
       "gi|190135|gb|M33882.1|HUMPMX1A     [((      Query: No definition line\\n        Hi...\n",
       "gi|61354936|gb|AY888131.1|         [((      Query: No definition line\\n        Hi...\n",
       "gi|60825047|gb|AY893667.1|         [((      Query: No definition line\\n        Hi...\n",
       "gi|21619146|gb|BC032602.1|         [((      Query: No definition line\\n        Hi...\n",
       "gi|261858633|dbj|AB527675.1|       [((      Query: No definition line\\n        Hi...\n",
       "gi|325464350|gb|JF432729.1|        [((      Query: No definition line\\n        Hi...\n",
       "gi|60812884|gb|AY893199.1|         [((      Query: No definition line\\n        Hi...\n",
       "gi|649120027|gb|KJ897213.1|        [((      Query: No definition line\\n        Hi...\n",
       "gi|164695655|dbj|AK315465.1|       [((      Query: No definition line\\n        Hi...\n",
       "gi|188900|gb|M30817.1|HUMMXA       [((      Query: No definition line\\n        Hi...\n",
       "gi|21755829|dbj|AK096355.1|        [((      Query: No definition line\\n        Hi...\n",
       "gi|1849077349|ref|XM_034947820.1|  [((      Query: No definition line\\n        Hi...\n",
       "gi|1849077347|ref|XM_034947819.1|  [((      Query: No definition line\\n        Hi...\n",
       "gi|1849077342|ref|XM_008977603.2|  [((      Query: No definition line\\n        Hi...\n",
       "gi|1849077334|ref|XM_008977599.2|  [((      Query: No definition line\\n        Hi...\n",
       "gi|1849077327|ref|XM_034947818.1|  [((      Query: No definition line\\n        Hi...\n",
       "gi|1849077319|ref|XM_008977598.4|  [((      Query: No definition line\\n        Hi...\n",
       "gi|1849077312|ref|XM_003823901.5|  [((      Query: No definition line\\n        Hi...\n",
       "gi|1367238133|ref|XM_009438930.3|  [((      Query: No definition line\\n        Hi...\n",
       "gi|1367238130|ref|XM_009438452.3|  [((      Query: No definition line\\n        Hi...\n",
       "gi|1367238127|ref|XM_009437396.3|  [((      Query: No definition line\\n        Hi...\n",
       "gi|1367238124|ref|XM_009437900.2|  [((      Query: No definition line\\n        Hi...\n",
       "gi|1367238121|ref|XM_009433909.3|  [((      Query: No definition line\\n        Hi...\n",
       "gi|1367238119|ref|XM_009435429.3|  [((      Query: No definition line\\n        Hi...\n",
       "gi|1367238117|ref|XM_016938404.2|  [((      Query: No definition line\\n        Hi...\n",
       "gi|1367238115|ref|XM_009434398.3|  [((      Query: No definition line\\n        Hi...\n",
       "gi|1367238112|ref|XM_009434930.3|  [((      Query: No definition line\\n        Hi...\n",
       "gi|1367238110|ref|XM_009433454.3|  [((      Query: No definition line\\n        Hi...\n",
       "gi|683523965|ref|NM_001301762.1|   [((      Query: No definition line\\n        Hi...\n",
       "gi|525345364|ref|NM_001279836.1|   [((      Query: No definition line\\n        Hi...\n",
       "gi|525344602|ref|NM_001279761.1|   [((      Query: No definition line\\n        Hi...\n",
       "gi|1753056057|ref|XM_019017591.2|  [((      Query: No definition line\\n        Hi...\n",
       "gi|1753056056|ref|XM_019017590.2|  [((      Query: No definition line\\n        Hi...\n",
       "gi|1753056055|ref|XM_019017589.2|  [((      Query: No definition line\\n        Hi...\n",
       "gi|1753056054|ref|XM_019017588.2|  [((      Query: No definition line\\n        Hi...\n",
       "gi|1753056053|ref|XM_019017587.2|  [((      Query: No definition line\\n        Hi...\n",
       "gi|1753056052|ref|XM_019017586.2|  [((      Query: No definition line\\n        Hi...\n",
       "gi|1753056051|ref|XM_019017585.2|  [((      Query: No definition line\\n        Hi...\n",
       "gi|408689544|gb|JX297244.1|        [((      Query: No definition line\\n        Hi..."
      ],
      "text/html": "<div>\n<style scoped>\n    .dataframe tbody tr th:only-of-type {\n        vertical-align: middle;\n    }\n\n    .dataframe tbody tr th {\n        vertical-align: top;\n    }\n\n    .dataframe thead th {\n        text-align: right;\n    }\n</style>\n<table border=\"1\" class=\"dataframe\">\n  <thead>\n    <tr style=\"text-align: right;\">\n      <th></th>\n      <th>0</th>\n    </tr>\n  </thead>\n  <tbody>\n    <tr>\n      <th>gi|1519315249|ref|NM_002462.5|</th>\n      <td>[((      Query: No definition line\\n        Hi...</td>\n    </tr>\n    <tr>\n      <th>gi|1370481400|ref|XM_017028349.2|</th>\n      <td>[((      Query: No definition line\\n        Hi...</td>\n    </tr>\n    <tr>\n      <th>gi|1034627218|ref|XM_005260982.2|</th>\n      <td>[((      Query: No definition line\\n        Hi...</td>\n    </tr>\n    <tr>\n      <th>gi|1034627217|ref|XM_005260981.2|</th>\n      <td>[((      Query: No definition line\\n        Hi...</td>\n    </tr>\n    <tr>\n      <th>gi|1034627215|ref|XM_017028350.1|</th>\n      <td>[((      Query: No definition line\\n        Hi...</td>\n    </tr>\n    <tr>\n      <th>gi|1034627212|ref|XM_005260980.2|</th>\n      <td>[((      Query: No definition line\\n        Hi...</td>\n    </tr>\n    <tr>\n      <th>gi|1034627211|ref|XM_005260979.2|</th>\n      <td>[((      Query: No definition line\\n        Hi...</td>\n    </tr>\n    <tr>\n      <th>gi|1034627210|ref|XM_011529568.2|</th>\n      <td>[((      Query: No definition line\\n        Hi...</td>\n    </tr>\n    <tr>\n      <th>gi|1034627209|ref|XM_005260978.4|</th>\n      <td>[((      Query: No definition line\\n        Hi...</td>\n    </tr>\n    <tr>\n      <th>gi|544711167|ref|NM_001144925.2|</th>\n      <td>[((      Query: No definition line\\n        Hi...</td>\n    </tr>\n    <tr>\n      <th>gi|1890270839|ref|NM_001178046.3|</th>\n      <td>[((      Query: No definition line\\n        Hi...</td>\n    </tr>\n    <tr>\n      <th>gi|190135|gb|M33882.1|HUMPMX1A</th>\n      <td>[((      Query: No definition line\\n        Hi...</td>\n    </tr>\n    <tr>\n      <th>gi|61354936|gb|AY888131.1|</th>\n      <td>[((      Query: No definition line\\n        Hi...</td>\n    </tr>\n    <tr>\n      <th>gi|60825047|gb|AY893667.1|</th>\n      <td>[((      Query: No definition line\\n        Hi...</td>\n    </tr>\n    <tr>\n      <th>gi|21619146|gb|BC032602.1|</th>\n      <td>[((      Query: No definition line\\n        Hi...</td>\n    </tr>\n    <tr>\n      <th>gi|261858633|dbj|AB527675.1|</th>\n      <td>[((      Query: No definition line\\n        Hi...</td>\n    </tr>\n    <tr>\n      <th>gi|325464350|gb|JF432729.1|</th>\n      <td>[((      Query: No definition line\\n        Hi...</td>\n    </tr>\n    <tr>\n      <th>gi|60812884|gb|AY893199.1|</th>\n      <td>[((      Query: No definition line\\n        Hi...</td>\n    </tr>\n    <tr>\n      <th>gi|649120027|gb|KJ897213.1|</th>\n      <td>[((      Query: No definition line\\n        Hi...</td>\n    </tr>\n    <tr>\n      <th>gi|164695655|dbj|AK315465.1|</th>\n      <td>[((      Query: No definition line\\n        Hi...</td>\n    </tr>\n    <tr>\n      <th>gi|188900|gb|M30817.1|HUMMXA</th>\n      <td>[((      Query: No definition line\\n        Hi...</td>\n    </tr>\n    <tr>\n      <th>gi|21755829|dbj|AK096355.1|</th>\n      <td>[((      Query: No definition line\\n        Hi...</td>\n    </tr>\n    <tr>\n      <th>gi|1849077349|ref|XM_034947820.1|</th>\n      <td>[((      Query: No definition line\\n        Hi...</td>\n    </tr>\n    <tr>\n      <th>gi|1849077347|ref|XM_034947819.1|</th>\n      <td>[((      Query: No definition line\\n        Hi...</td>\n    </tr>\n    <tr>\n      <th>gi|1849077342|ref|XM_008977603.2|</th>\n      <td>[((      Query: No definition line\\n        Hi...</td>\n    </tr>\n    <tr>\n      <th>gi|1849077334|ref|XM_008977599.2|</th>\n      <td>[((      Query: No definition line\\n        Hi...</td>\n    </tr>\n    <tr>\n      <th>gi|1849077327|ref|XM_034947818.1|</th>\n      <td>[((      Query: No definition line\\n        Hi...</td>\n    </tr>\n    <tr>\n      <th>gi|1849077319|ref|XM_008977598.4|</th>\n      <td>[((      Query: No definition line\\n        Hi...</td>\n    </tr>\n    <tr>\n      <th>gi|1849077312|ref|XM_003823901.5|</th>\n      <td>[((      Query: No definition line\\n        Hi...</td>\n    </tr>\n    <tr>\n      <th>gi|1367238133|ref|XM_009438930.3|</th>\n      <td>[((      Query: No definition line\\n        Hi...</td>\n    </tr>\n    <tr>\n      <th>gi|1367238130|ref|XM_009438452.3|</th>\n      <td>[((      Query: No definition line\\n        Hi...</td>\n    </tr>\n    <tr>\n      <th>gi|1367238127|ref|XM_009437396.3|</th>\n      <td>[((      Query: No definition line\\n        Hi...</td>\n    </tr>\n    <tr>\n      <th>gi|1367238124|ref|XM_009437900.2|</th>\n      <td>[((      Query: No definition line\\n        Hi...</td>\n    </tr>\n    <tr>\n      <th>gi|1367238121|ref|XM_009433909.3|</th>\n      <td>[((      Query: No definition line\\n        Hi...</td>\n    </tr>\n    <tr>\n      <th>gi|1367238119|ref|XM_009435429.3|</th>\n      <td>[((      Query: No definition line\\n        Hi...</td>\n    </tr>\n    <tr>\n      <th>gi|1367238117|ref|XM_016938404.2|</th>\n      <td>[((      Query: No definition line\\n        Hi...</td>\n    </tr>\n    <tr>\n      <th>gi|1367238115|ref|XM_009434398.3|</th>\n      <td>[((      Query: No definition line\\n        Hi...</td>\n    </tr>\n    <tr>\n      <th>gi|1367238112|ref|XM_009434930.3|</th>\n      <td>[((      Query: No definition line\\n        Hi...</td>\n    </tr>\n    <tr>\n      <th>gi|1367238110|ref|XM_009433454.3|</th>\n      <td>[((      Query: No definition line\\n        Hi...</td>\n    </tr>\n    <tr>\n      <th>gi|683523965|ref|NM_001301762.1|</th>\n      <td>[((      Query: No definition line\\n        Hi...</td>\n    </tr>\n    <tr>\n      <th>gi|525345364|ref|NM_001279836.1|</th>\n      <td>[((      Query: No definition line\\n        Hi...</td>\n    </tr>\n    <tr>\n      <th>gi|525344602|ref|NM_001279761.1|</th>\n      <td>[((      Query: No definition line\\n        Hi...</td>\n    </tr>\n    <tr>\n      <th>gi|1753056057|ref|XM_019017591.2|</th>\n      <td>[((      Query: No definition line\\n        Hi...</td>\n    </tr>\n    <tr>\n      <th>gi|1753056056|ref|XM_019017590.2|</th>\n      <td>[((      Query: No definition line\\n        Hi...</td>\n    </tr>\n    <tr>\n      <th>gi|1753056055|ref|XM_019017589.2|</th>\n      <td>[((      Query: No definition line\\n        Hi...</td>\n    </tr>\n    <tr>\n      <th>gi|1753056054|ref|XM_019017588.2|</th>\n      <td>[((      Query: No definition line\\n        Hi...</td>\n    </tr>\n    <tr>\n      <th>gi|1753056053|ref|XM_019017587.2|</th>\n      <td>[((      Query: No definition line\\n        Hi...</td>\n    </tr>\n    <tr>\n      <th>gi|1753056052|ref|XM_019017586.2|</th>\n      <td>[((      Query: No definition line\\n        Hi...</td>\n    </tr>\n    <tr>\n      <th>gi|1753056051|ref|XM_019017585.2|</th>\n      <td>[((      Query: No definition line\\n        Hi...</td>\n    </tr>\n    <tr>\n      <th>gi|408689544|gb|JX297244.1|</th>\n      <td>[((      Query: No definition line\\n        Hi...</td>\n    </tr>\n  </tbody>\n</table>\n</div>"
     },
     "metadata": {},
     "execution_count": 94
    }
   ],
   "source": [
    "transposed_qresult_df = qresult_df.T\n",
    "transposed_qresult_df"
   ]
  },
  {
   "cell_type": "code",
   "execution_count": null,
   "metadata": {},
   "outputs": [],
   "source": [
    "#If it worked would have sorted by values\n",
    "qresult_df.sort_values(by='some value')\n"
   ]
  },
  {
   "cell_type": "code",
   "execution_count": 104,
   "metadata": {},
   "outputs": [],
   "source": [
    "#Save to csv file\n",
    "qresult_df.to_csv(path_or_buf=\"./nblast_result.csv\", index=False)\n",
    "\n"
   ]
  },
  {
   "cell_type": "code",
   "execution_count": null,
   "metadata": {},
   "outputs": [],
   "source": []
  }
 ],
 "metadata": {
  "kernelspec": {
   "name": "python3",
   "display_name": "Python 3.9.5 64-bit"
  },
  "language_info": {
   "codemirror_mode": {
    "name": "ipython",
    "version": 3
   },
   "file_extension": ".py",
   "mimetype": "text/x-python",
   "name": "python",
   "nbconvert_exporter": "python",
   "pygments_lexer": "ipython3",
   "version": "3.9.5"
  },
  "interpreter": {
   "hash": "aee8b7b246df8f9039afb4144a1f6fd8d2ca17a180786b69acc140d282b71a49"
  }
 },
 "nbformat": 4,
 "nbformat_minor": 5
}