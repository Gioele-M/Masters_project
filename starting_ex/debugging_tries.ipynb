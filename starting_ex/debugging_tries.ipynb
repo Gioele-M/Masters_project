{
 "cells": [
  {
   "cell_type": "code",
   "execution_count": 5,
   "source": [
    "import pandas as pd\n",
    "\n",
    "df = pd.read_csv('run1_df.csv_unfiltered.csv')\n",
    "print(df)"
   ],
   "outputs": [
    {
     "output_type": "stream",
     "name": "stdout",
     "text": [
      "    Unnamed: 0  Accession                              ID  \\\n",
      "0            0  NM_003140  gi|1653960407|ref|NM_003140.3|   \n",
      "1            1     L10101   gi|292511|gb|L10101.1|HUMSRYA   \n",
      "2            2   KY778007    gi|1208991284|gb|KY778007.1|   \n",
      "3            3   JQ811904     gi|383087934|gb|JQ811904.1|   \n",
      "4            4   JQ811922     gi|383087967|gb|JQ811922.1|   \n",
      "..         ...        ...                             ...   \n",
      "80          80   DQ086140      gi|68235747|gb|DQ086140.1|   \n",
      "81          81   DQ084205      gi|68160249|gb|DQ084205.1|   \n",
      "82          82   HM362428     gi|299737440|gb|HM362428.1|   \n",
      "83          83   HM362427     gi|299737438|gb|HM362427.1|   \n",
      "84          84   HM241138     gi|299013824|gb|HM241138.1|   \n",
      "\n",
      "                                          Description  Seq_length  Evalue  \\\n",
      "0   Homo sapiens sex determining region Y (SRY), mRNA         828     0.0   \n",
      "1   Homo sapiens sex-determining region Y (SRY) mR...         845     0.0   \n",
      "2   Homo sapiens truncated sex-determining region ...         887     0.0   \n",
      "3   Homo sapiens clone 1 SRY (SRY) gene, complete cds         824     0.0   \n",
      "4   Homo sapiens clone 19 SRY (SRY) gene, complete...         824     0.0   \n",
      "..                                                ...         ...     ...   \n",
      "80     Homo sapiens clone pSKF2 SRY gene, partial cds         598     0.0   \n",
      "81  Homo sapiens clone pSK3 SRY gene, partial sequ...         598     0.0   \n",
      "82  Homo sapiens isolate SRYex4 testis-determining...         600     0.0   \n",
      "83  Homo sapiens isolate SRYex1 testis-determining...         600     0.0   \n",
      "84  Homo sapiens isolate Az3 SRY protein gene, par...         600     0.0   \n",
      "\n",
      "    Bitscore  Tot_aln_span  Identity Accession_version      Organism  \\\n",
      "0    1494.48           828   100.000       NM_003140.3  Homo sapiens   \n",
      "1    1494.48           828    97.988          L10101.1  Homo sapiens   \n",
      "2    1489.97           828    93.348        KY778007.1  Homo sapiens   \n",
      "3    1471.03           815    98.908        JQ811904.1  Homo sapiens   \n",
      "4    1466.52           815    98.908        JQ811922.1  Homo sapiens   \n",
      "..       ...           ...       ...               ...           ...   \n",
      "80   1075.19           598   100.000        DQ086140.1  Homo sapiens   \n",
      "81   1075.19           598   100.000        DQ084205.1  Homo sapiens   \n",
      "82   1074.29           600   100.000        HM362428.1  Homo sapiens   \n",
      "83   1074.29           600   100.000        HM362427.1  Homo sapiens   \n",
      "84   1074.29           600   100.000        HM241138.1  Homo sapiens   \n",
      "\n",
      "                                             Taxonomy       Taxon  \\\n",
      "0   Eukaryota; Metazoa; Chordata; Craniata; Verteb...  taxon:9606   \n",
      "1   Eukaryota; Metazoa; Chordata; Craniata; Verteb...  taxon:9606   \n",
      "2   Eukaryota; Metazoa; Chordata; Craniata; Verteb...  taxon:9606   \n",
      "3   Eukaryota; Metazoa; Chordata; Craniata; Verteb...  taxon:9606   \n",
      "4   Eukaryota; Metazoa; Chordata; Craniata; Verteb...  taxon:9606   \n",
      "..                                                ...         ...   \n",
      "80  Eukaryota; Metazoa; Chordata; Craniata; Verteb...  taxon:9606   \n",
      "81  Eukaryota; Metazoa; Chordata; Craniata; Verteb...  taxon:9606   \n",
      "82  Eukaryota; Metazoa; Chordata; Craniata; Verteb...  taxon:9606   \n",
      "83  Eukaryota; Metazoa; Chordata; Craniata; Verteb...  taxon:9606   \n",
      "84  Eukaryota; Metazoa; Chordata; Craniata; Verteb...  taxon:9606   \n",
      "\n",
      "                                         Nuc_sequence   Protein_ID  \\\n",
      "0   agaagtgagttttggatagtaaaataagtttcgaactctggcacct...  NP_003131.1   \n",
      "1   gtaacaaagaatctggtagaagtgagttttggatagtaaaataagt...   AAA60590.1   \n",
      "2   tgttgagggcggagaaatgcaagtttcattacaaaagttaacgtaa...   ASC48667.1   \n",
      "3   gaatctggtagaagtgagttttggatagtaaaataagtttcgaact...   AFG33929.1   \n",
      "4   gaatctggtagaagtgagttttggatagtaaaataagtttcgaact...   AFG33944.1   \n",
      "..                                                ...          ...   \n",
      "80  caatgcaatcatatgcttctgctatgttaagcgtattcaacagcga...   AAY88211.1   \n",
      "81  caatgcaatcatatgcttctgctatgttaagcgtattcaacagcga...          NaN   \n",
      "82  gacaatgcaatcatatgcttctgctatgttaagcgtattcaacagc...   ADJ37114.1   \n",
      "83  gacaatgcaatcatatgcttctgctatgttaagcgtattcaacagc...   ADJ37113.1   \n",
      "84  gacaatgcaatcatatgcttctgctatgttaagcgtattcaacagc...   ADJ00512.1   \n",
      "\n",
      "                                        Prot_sequence  \n",
      "0   MQSYASAMLSVFNSDDYSPAVQENIPALRRSSSFLCTESCNSKYQC...  \n",
      "1   MQSYASAMLSVFNSDDYSPAVQENIPALRRSSSFLCTESCNSKYQC...  \n",
      "2   MQSYASAMLSVFNSDDYSPAVQENIPALRRSSSFLCTESCNSKYQC...  \n",
      "3   MQSYASAMLSVFNSDDYSPAVQENIPALRRSSSFLCTESCNSKYQC...  \n",
      "4   MQSYASAMLSVFNSDDYSPAVQENIPALRRSSSFLCTESCNSKYQC...  \n",
      "..                                                ...  \n",
      "80  MQSYASAMLSVFNSDDYSPAVQENIPALRRSSSFLCTESCNSKYQC...  \n",
      "81                                                NaN  \n",
      "82  MQSYASAMLSVFNSDDYSPAVQENIPALRRSSSFLCTEGCNSKYQC...  \n",
      "83  MQSYASAMLSVFNSDDYSPAVQENIPALRRSSSILCTESCNSKYQC...  \n",
      "84  MQSYASAMLSVFNSDDYSPAVQENIPALRRSSSLLCTESCNSKYQC...  \n",
      "\n",
      "[85 rows x 16 columns]\n"
     ]
    }
   ],
   "metadata": {}
  },
  {
   "cell_type": "code",
   "execution_count": 12,
   "source": [
    "retrieved_taxons = df['Taxon'].tolist()\n",
    "retrieved_taxons = list(dict.fromkeys(retrieved_taxons))\n",
    "print(retrieved_taxons)\n",
    "retrieved_taxons = [taxid.replace('taxon:', '', 1) for taxid in retrieved_taxons] \n",
    "print(retrieved_taxons)\n",
    "final_list = []\n",
    "#Check if it has different taxids, if it does it's likely to be a synthetic construct so can be excluded\n",
    "for taxid in retrieved_taxons:\n",
    "    if taxid.find('taxon') == -1:\n",
    "        final_list.append(taxid)\n",
    "    else:\n",
    "        continue\n",
    "print(final_list)\n"
   ],
   "outputs": [
    {
     "output_type": "stream",
     "name": "stdout",
     "text": [
      "['taxon:9606', 'taxon:9598', 'taxon:9597', 'taxon:81572', 'taxon:61622', 'taxon:9600', 'taxon:9601', 'taxon:32630taxon:9606', 'taxon:9593']\n",
      "['9606', '9598', '9597', '81572', '61622', '9600', '9601', '32630taxon:9606', '9593']\n",
      "[]\n"
     ]
    }
   ],
   "metadata": {}
  },
  {
   "cell_type": "code",
   "execution_count": 13,
   "source": [],
   "outputs": [
    {
     "output_type": "stream",
     "name": "stdout",
     "text": [
      "0\n"
     ]
    }
   ],
   "metadata": {}
  },
  {
   "cell_type": "code",
   "execution_count": null,
   "source": [
    "string = 'taxon:9999'\n",
    "double_string = 'taxon:3030taxon:30033'\n",
    "double_string =double_string.replace('taxon:', '',1)\n",
    "\n",
    "print(string.replace('taxon:', '',1))\n",
    "print(double_string.replace('taxon:', '',1))\n",
    "\n",
    "if double_string.find('taxon:'):\n",
    "    print('not valid')\n",
    "else:\n",
    "    print('valid')\n",
    "\n",
    "\n",
    "#retrieved_taxon = [taxid.replace('taxon:', '') for taxid in retrieved_taxon] "
   ],
   "outputs": [],
   "metadata": {}
  }
 ],
 "metadata": {
  "orig_nbformat": 4,
  "language_info": {
   "name": "python",
   "version": "3.9.5",
   "mimetype": "text/x-python",
   "codemirror_mode": {
    "name": "ipython",
    "version": 3
   },
   "pygments_lexer": "ipython3",
   "nbconvert_exporter": "python",
   "file_extension": ".py"
  },
  "kernelspec": {
   "name": "python3",
   "display_name": "Python 3.9.5 64-bit"
  },
  "interpreter": {
   "hash": "aee8b7b246df8f9039afb4144a1f6fd8d2ca17a180786b69acc140d282b71a49"
  }
 },
 "nbformat": 4,
 "nbformat_minor": 2
}