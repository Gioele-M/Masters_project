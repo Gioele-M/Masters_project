{
 "cells": [
  {
   "cell_type": "code",
   "execution_count": 1,
   "source": [
    "#Parser for hat2\n",
    "\n",
    "with open('Sequences_for_alignment_filtered.fasta.hat2') as handler:\n",
    "    matrix = handler.read().splitlines()\n",
    "print(matrix)"
   ],
   "outputs": [
    {
     "output_type": "stream",
     "name": "stdout",
     "text": [
      "['    1', '   10', '  2.111', '   1. =NM_001279761', '   2. =XM_019017591', '   3. =XM_019017590', '   4. =XM_019017589', '   5. =XM_019017588', '   6. =XM_019017587', '   7. =XM_019017586', '   8. =XM_019017585', '   9. =XM_031005077', '  10. =KT698238', ' 0.000 0.000 0.000 0.000 0.000 0.000 0.000 0.319 0.699', ' 0.000 0.000 0.000 0.000 0.000 0.000 0.319 0.699', ' 0.000 0.000 0.000 0.000 0.000 0.319 0.699', ' 0.000 0.000 0.000 0.000 0.319 0.699', ' 0.000 0.000 0.000 0.319 0.699', ' 0.000 0.000 0.319 0.699', ' 0.000 0.319 0.699', ' 0.319 0.699', ' 0.844']\n"
     ]
    }
   ],
   "metadata": {}
  },
  {
   "cell_type": "code",
   "execution_count": 2,
   "source": [
    "seq_n = int(matrix[1].strip())\n",
    "del matrix[0:3]\n",
    "print(matrix)"
   ],
   "outputs": [
    {
     "output_type": "stream",
     "name": "stdout",
     "text": [
      "['   1. =NM_001279761', '   2. =XM_019017591', '   3. =XM_019017590', '   4. =XM_019017589', '   5. =XM_019017588', '   6. =XM_019017587', '   7. =XM_019017586', '   8. =XM_019017585', '   9. =XM_031005077', '  10. =KT698238', ' 0.000 0.000 0.000 0.000 0.000 0.000 0.000 0.319 0.699', ' 0.000 0.000 0.000 0.000 0.000 0.000 0.319 0.699', ' 0.000 0.000 0.000 0.000 0.000 0.319 0.699', ' 0.000 0.000 0.000 0.000 0.319 0.699', ' 0.000 0.000 0.000 0.319 0.699', ' 0.000 0.000 0.319 0.699', ' 0.000 0.319 0.699', ' 0.319 0.699', ' 0.844']\n"
     ]
    }
   ],
   "metadata": {}
  },
  {
   "cell_type": "code",
   "execution_count": 4,
   "source": [
    "matrix_identifier = matrix[0:seq_n]\n",
    "list_of_identifiers = []\n",
    "for line in matrix_identifier:\n",
    "    line = line[line.index('=')+1:]\n",
    "    list_of_identifiers.append(line)\n",
    "\n",
    "print(list_of_identifiers)"
   ],
   "outputs": [
    {
     "output_type": "stream",
     "name": "stdout",
     "text": [
      "['NM_001279761', 'XM_019017591', 'XM_019017590', 'XM_019017589', 'XM_019017588', 'XM_019017587', 'XM_019017586', 'XM_019017585', 'XM_031005077', 'KT698238']\n"
     ]
    }
   ],
   "metadata": {}
  },
  {
   "cell_type": "code",
   "execution_count": 5,
   "source": [
    "matrix_values = matrix[seq_n:]\n",
    "value_vector = []\n",
    "for values in matrix_values:\n",
    "    while True:\n",
    "        try:\n",
    "            storer = values[values.index('.')-1:values.index('.')+4]\n",
    "        except ValueError:\n",
    "            break\n",
    "        value_vector.append(storer)\n",
    "        values = values[values.index('.')+4:]\n",
    "        values = values.strip()\n",
    "\n",
    "print(value_vector)"
   ],
   "outputs": [
    {
     "output_type": "stream",
     "name": "stdout",
     "text": [
      "['0.000', '0.000', '0.000', '0.000', '0.000', '0.000', '0.000', '0.319', '0.699', '0.000', '0.000', '0.000', '0.000', '0.000', '0.000', '0.319', '0.699', '0.000', '0.000', '0.000', '0.000', '0.000', '0.319', '0.699', '0.000', '0.000', '0.000', '0.000', '0.319', '0.699', '0.000', '0.000', '0.000', '0.319', '0.699', '0.000', '0.000', '0.319', '0.699', '0.000', '0.319', '0.699', '0.319', '0.699', '0.844']\n"
     ]
    }
   ],
   "metadata": {}
  },
  {
   "cell_type": "code",
   "execution_count": 33,
   "source": [
    "matrix_dictionary = {#'index': list_of_identifiers #Possibly useless \n",
    "}\n",
    "temp_value_vector = value_vector\n",
    "for a in range(len(matrix_identifier)-1):\n",
    "    temp_list = []\n",
    "    for i in range(a):#!!!!!!!!Possibly +1\n",
    "        temp_list.append('NaN')\n",
    "    temp_list.extend(temp_value_vector[:seq_n-a-1])\n",
    "    temp_value_vector = temp_value_vector[seq_n-a-1:]\n",
    "    matrix_dictionary.update({f'{list_of_identifiers[a]}': temp_list})\n",
    "\n",
    "print(matrix_dictionary)"
   ],
   "outputs": [
    {
     "output_type": "stream",
     "name": "stdout",
     "text": [
      "{'NM_001279761': ['0.000', '0.000', '0.000', '0.000', '0.000', '0.000', '0.000', '0.319', '0.699'], 'XM_019017591': ['NaN', '0.000', '0.000', '0.000', '0.000', '0.000', '0.000', '0.319', '0.699'], 'XM_019017590': ['NaN', 'NaN', '0.000', '0.000', '0.000', '0.000', '0.000', '0.319', '0.699'], 'XM_019017589': ['NaN', 'NaN', 'NaN', '0.000', '0.000', '0.000', '0.000', '0.319', '0.699'], 'XM_019017588': ['NaN', 'NaN', 'NaN', 'NaN', '0.000', '0.000', '0.000', '0.319', '0.699'], 'XM_019017587': ['NaN', 'NaN', 'NaN', 'NaN', 'NaN', '0.000', '0.000', '0.319', '0.699'], 'XM_019017586': ['NaN', 'NaN', 'NaN', 'NaN', 'NaN', 'NaN', '0.000', '0.319', '0.699'], 'XM_019017585': ['NaN', 'NaN', 'NaN', 'NaN', 'NaN', 'NaN', 'NaN', '0.319', '0.699'], 'XM_031005077': ['NaN', 'NaN', 'NaN', 'NaN', 'NaN', 'NaN', 'NaN', 'NaN', '0.844']}\n"
     ]
    }
   ],
   "metadata": {}
  },
  {
   "cell_type": "code",
   "execution_count": 34,
   "source": [
    "import pandas as pd\n",
    "import numpy as np\n",
    "\n",
    "matrix_df = pd.DataFrame(matrix_dictionary)\n",
    "matrix_df = matrix_df.T\n",
    "print(matrix_df)"
   ],
   "outputs": [
    {
     "output_type": "stream",
     "name": "stdout",
     "text": [
      "                  0      1      2      3      4      5      6      7      8\n",
      "NM_001279761  0.000  0.000  0.000  0.000  0.000  0.000  0.000  0.319  0.699\n",
      "XM_019017591    NaN  0.000  0.000  0.000  0.000  0.000  0.000  0.319  0.699\n",
      "XM_019017590    NaN    NaN  0.000  0.000  0.000  0.000  0.000  0.319  0.699\n",
      "XM_019017589    NaN    NaN    NaN  0.000  0.000  0.000  0.000  0.319  0.699\n",
      "XM_019017588    NaN    NaN    NaN    NaN  0.000  0.000  0.000  0.319  0.699\n",
      "XM_019017587    NaN    NaN    NaN    NaN    NaN  0.000  0.000  0.319  0.699\n",
      "XM_019017586    NaN    NaN    NaN    NaN    NaN    NaN  0.000  0.319  0.699\n",
      "XM_019017585    NaN    NaN    NaN    NaN    NaN    NaN    NaN  0.319  0.699\n",
      "XM_031005077    NaN    NaN    NaN    NaN    NaN    NaN    NaN    NaN  0.844\n"
     ]
    }
   ],
   "metadata": {}
  },
  {
   "cell_type": "code",
   "execution_count": null,
   "source": [
    "def hat2_parser(path_to_file):\n",
    "    with open(path_to_file) as handler:\n",
    "        matrix=handler.read().splitlines()\n",
    "    seq_n = int(matrix[1].strip())\n",
    "    del matrix[0:3]\n",
    "    matrix_identifier = matrix[0:seq_n]\n",
    "    list_of_identifiers = []\n",
    "    for line in matrix_identifier:\n",
    "        line = line[line.index('=')+1:]\n",
    "        list_of_identifiers.append(line)\n",
    "    matrix_values = matrix[seq_n:]\n",
    "    value_vector = []\n",
    "    for values in matrix_values:\n",
    "        while True:\n",
    "            try:\n",
    "                storer = values[values.index('.')-1:values.index('.')+4]\n",
    "            except ValueError:\n",
    "                break\n",
    "            value_vector.append(storer)\n",
    "            values = values[values.index('.')+4:]\n",
    "            values = values.strip()\n",
    "    matrix_dictionary = {#'index': list_of_identifiers #Possibly useless \n",
    "    }\n",
    "    temp_value_vector = value_vector\n",
    "    for a in range(len(matrix_identifier)-1):\n",
    "        temp_list = []\n",
    "        for i in range(a):#!!!!!!!!Possibly +1\n",
    "            temp_list.append('NaN')\n",
    "        temp_list.extend(temp_value_vector[:seq_n-a-1])\n",
    "        temp_value_vector = temp_value_vector[seq_n-a-1:]\n",
    "        matrix_dictionary.update({f'{list_of_identifiers[a]}': temp_list})\n",
    "        matrix_df = pd.DataFrame(matrix_dictionary)\n",
    "    matrix_df = matrix_df.T\n",
    "    return matrix_df\n",
    "\n",
    "\n",
    "\n",
    "print(hat2_parser('Sequences_for_alignment_filtered.fasta.hat2'))"
   ],
   "outputs": [],
   "metadata": {}
  },
  {
   "cell_type": "code",
   "execution_count": null,
   "source": [],
   "outputs": [],
   "metadata": {}
  },
  {
   "cell_type": "code",
   "execution_count": null,
   "source": [],
   "outputs": [],
   "metadata": {}
  },
  {
   "cell_type": "code",
   "execution_count": null,
   "source": [
    "value = ' 0.000 0.000 0.000 0.000 0.000 0.000 0.000 0.319 0.699'\n",
    "value = value.strip()\n"
   ],
   "outputs": [],
   "metadata": {}
  },
  {
   "cell_type": "code",
   "execution_count": 36,
   "source": [
    "string = '1. =NM_001279761'\n",
    "string = string[string.index('=') +1:]\n",
    "print(string)"
   ],
   "outputs": [
    {
     "output_type": "stream",
     "name": "stdout",
     "text": [
      "NM_001279761\n"
     ]
    }
   ],
   "metadata": {}
  },
  {
   "cell_type": "code",
   "execution_count": 34,
   "source": [
    "import re\n",
    "string = '1. =NM_001279761'\n",
    "string = re.sub(r'^.*?=', '=', string)\n",
    "print(string)"
   ],
   "outputs": [
    {
     "output_type": "stream",
     "name": "stdout",
     "text": [
      "=NM_001279761\n"
     ]
    }
   ],
   "metadata": {}
  },
  {
   "cell_type": "code",
   "execution_count": null,
   "source": [],
   "outputs": [],
   "metadata": {}
  }
 ],
 "metadata": {
  "orig_nbformat": 4,
  "language_info": {
   "name": "python",
   "version": "3.9.5",
   "mimetype": "text/x-python",
   "codemirror_mode": {
    "name": "ipython",
    "version": 3
   },
   "pygments_lexer": "ipython3",
   "nbconvert_exporter": "python",
   "file_extension": ".py"
  },
  "kernelspec": {
   "name": "python3",
   "display_name": "Python 3.9.5 64-bit"
  },
  "interpreter": {
   "hash": "aee8b7b246df8f9039afb4144a1f6fd8d2ca17a180786b69acc140d282b71a49"
  }
 },
 "nbformat": 4,
 "nbformat_minor": 2
}