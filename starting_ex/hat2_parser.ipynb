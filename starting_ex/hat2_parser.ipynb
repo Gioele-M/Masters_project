{
 "cells": [
  {
   "cell_type": "code",
   "execution_count": 1,
   "source": [
    "#Parser for hat2\n",
    "\n",
    "with open('Sequences_for_alignment_filtered.fasta.hat2') as handler:\n",
    "    matrix = handler.read().splitlines()\n",
    "print(matrix)"
   ],
   "outputs": [
    {
     "output_type": "stream",
     "name": "stdout",
     "text": [
      "['    1', '   10', '  2.111', '   1. =NM_001279761', '   2. =XM_019017591', '   3. =XM_019017590', '   4. =XM_019017589', '   5. =XM_019017588', '   6. =XM_019017587', '   7. =XM_019017586', '   8. =XM_019017585', '   9. =XM_031005077', '  10. =KT698238', ' 0.000 0.000 0.000 0.000 0.000 0.000 0.000 0.319 0.699', ' 0.000 0.000 0.000 0.000 0.000 0.000 0.319 0.699', ' 0.000 0.000 0.000 0.000 0.000 0.319 0.699', ' 0.000 0.000 0.000 0.000 0.319 0.699', ' 0.000 0.000 0.000 0.319 0.699', ' 0.000 0.000 0.319 0.699', ' 0.000 0.319 0.699', ' 0.319 0.699', ' 0.844']\n"
     ]
    }
   ],
   "metadata": {}
  },
  {
   "cell_type": "code",
   "execution_count": 2,
   "source": [
    "seq_n = int(matrix[1].strip())\n",
    "del matrix[0:3]\n",
    "print(matrix)"
   ],
   "outputs": [
    {
     "output_type": "stream",
     "name": "stdout",
     "text": [
      "['   1. =NM_001279761', '   2. =XM_019017591', '   3. =XM_019017590', '   4. =XM_019017589', '   5. =XM_019017588', '   6. =XM_019017587', '   7. =XM_019017586', '   8. =XM_019017585', '   9. =XM_031005077', '  10. =KT698238', ' 0.000 0.000 0.000 0.000 0.000 0.000 0.000 0.319 0.699', ' 0.000 0.000 0.000 0.000 0.000 0.000 0.319 0.699', ' 0.000 0.000 0.000 0.000 0.000 0.319 0.699', ' 0.000 0.000 0.000 0.000 0.319 0.699', ' 0.000 0.000 0.000 0.319 0.699', ' 0.000 0.000 0.319 0.699', ' 0.000 0.319 0.699', ' 0.319 0.699', ' 0.844']\n"
     ]
    }
   ],
   "metadata": {}
  },
  {
   "cell_type": "code",
   "execution_count": 4,
   "source": [
    "matrix_identifier = matrix[0:seq_n]\n",
    "list_of_identifiers = []\n",
    "for line in matrix_identifier:\n",
    "    line = line[line.index('=')+1:]\n",
    "    list_of_identifiers.append(line)\n",
    "\n",
    "print(list_of_identifiers)"
   ],
   "outputs": [
    {
     "output_type": "stream",
     "name": "stdout",
     "text": [
      "['NM_001279761', 'XM_019017591', 'XM_019017590', 'XM_019017589', 'XM_019017588', 'XM_019017587', 'XM_019017586', 'XM_019017585', 'XM_031005077', 'KT698238']\n"
     ]
    }
   ],
   "metadata": {}
  },
  {
   "cell_type": "code",
   "execution_count": 5,
   "source": [
    "matrix_values = matrix[seq_n:]\n",
    "value_vector = []\n",
    "for values in matrix_values:\n",
    "    while True:\n",
    "        try:\n",
    "            storer = values[values.index('.')-1:values.index('.')+4]\n",
    "        except ValueError:\n",
    "            break\n",
    "        value_vector.append(storer)\n",
    "        values = values[values.index('.')+4:]\n",
    "        values = values.strip()\n",
    "\n",
    "print(value_vector)"
   ],
   "outputs": [
    {
     "output_type": "stream",
     "name": "stdout",
     "text": [
      "['0.000', '0.000', '0.000', '0.000', '0.000', '0.000', '0.000', '0.319', '0.699', '0.000', '0.000', '0.000', '0.000', '0.000', '0.000', '0.319', '0.699', '0.000', '0.000', '0.000', '0.000', '0.000', '0.319', '0.699', '0.000', '0.000', '0.000', '0.000', '0.319', '0.699', '0.000', '0.000', '0.000', '0.319', '0.699', '0.000', '0.000', '0.319', '0.699', '0.000', '0.319', '0.699', '0.319', '0.699', '0.844']\n"
     ]
    }
   ],
   "metadata": {}
  },
  {
   "cell_type": "code",
   "execution_count": 33,
   "source": [
    "matrix_dictionary = {#'index': list_of_identifiers #Possibly useless \n",
    "}\n",
    "temp_value_vector = value_vector\n",
    "for a in range(len(matrix_identifier)-1):\n",
    "    temp_list = []\n",
    "    for i in range(a):#!!!!!!!!Possibly +1\n",
    "        temp_list.append('NaN')\n",
    "    temp_list.extend(temp_value_vector[:seq_n-a-1])\n",
    "    temp_value_vector = temp_value_vector[seq_n-a-1:]\n",
    "    matrix_dictionary.update({f'{list_of_identifiers[a]}': temp_list})\n",
    "\n",
    "print(matrix_dictionary)"
   ],
   "outputs": [
    {
     "output_type": "stream",
     "name": "stdout",
     "text": [
      "{'NM_001279761': ['0.000', '0.000', '0.000', '0.000', '0.000', '0.000', '0.000', '0.319', '0.699'], 'XM_019017591': ['NaN', '0.000', '0.000', '0.000', '0.000', '0.000', '0.000', '0.319', '0.699'], 'XM_019017590': ['NaN', 'NaN', '0.000', '0.000', '0.000', '0.000', '0.000', '0.319', '0.699'], 'XM_019017589': ['NaN', 'NaN', 'NaN', '0.000', '0.000', '0.000', '0.000', '0.319', '0.699'], 'XM_019017588': ['NaN', 'NaN', 'NaN', 'NaN', '0.000', '0.000', '0.000', '0.319', '0.699'], 'XM_019017587': ['NaN', 'NaN', 'NaN', 'NaN', 'NaN', '0.000', '0.000', '0.319', '0.699'], 'XM_019017586': ['NaN', 'NaN', 'NaN', 'NaN', 'NaN', 'NaN', '0.000', '0.319', '0.699'], 'XM_019017585': ['NaN', 'NaN', 'NaN', 'NaN', 'NaN', 'NaN', 'NaN', '0.319', '0.699'], 'XM_031005077': ['NaN', 'NaN', 'NaN', 'NaN', 'NaN', 'NaN', 'NaN', 'NaN', '0.844']}\n"
     ]
    }
   ],
   "metadata": {}
  },
  {
   "cell_type": "code",
   "execution_count": 34,
   "source": [
    "import pandas as pd\n",
    "import numpy as np\n",
    "\n",
    "matrix_df = pd.DataFrame(matrix_dictionary)\n",
    "matrix_df = matrix_df.T\n",
    "print(matrix_df)"
   ],
   "outputs": [
    {
     "output_type": "stream",
     "name": "stdout",
     "text": [
      "                  0      1      2      3      4      5      6      7      8\n",
      "NM_001279761  0.000  0.000  0.000  0.000  0.000  0.000  0.000  0.319  0.699\n",
      "XM_019017591    NaN  0.000  0.000  0.000  0.000  0.000  0.000  0.319  0.699\n",
      "XM_019017590    NaN    NaN  0.000  0.000  0.000  0.000  0.000  0.319  0.699\n",
      "XM_019017589    NaN    NaN    NaN  0.000  0.000  0.000  0.000  0.319  0.699\n",
      "XM_019017588    NaN    NaN    NaN    NaN  0.000  0.000  0.000  0.319  0.699\n",
      "XM_019017587    NaN    NaN    NaN    NaN    NaN  0.000  0.000  0.319  0.699\n",
      "XM_019017586    NaN    NaN    NaN    NaN    NaN    NaN  0.000  0.319  0.699\n",
      "XM_019017585    NaN    NaN    NaN    NaN    NaN    NaN    NaN  0.319  0.699\n",
      "XM_031005077    NaN    NaN    NaN    NaN    NaN    NaN    NaN    NaN  0.844\n"
     ]
    }
   ],
   "metadata": {}
  },
  {
   "cell_type": "code",
   "execution_count": 37,
   "source": [
    "import pandas as pd\n",
    "def hat2_parser(path_to_file):\n",
    "    with open(path_to_file) as handler:\n",
    "        matrix=handler.read().splitlines()\n",
    "    seq_n = int(matrix[1].strip())\n",
    "    del matrix[0:3]\n",
    "    matrix_identifier = matrix[0:seq_n]\n",
    "    list_of_identifiers = []\n",
    "    for line in matrix_identifier:\n",
    "        line = line[line.index('=')+1:]\n",
    "        list_of_identifiers.append(line)\n",
    "    matrix_values = matrix[seq_n:]\n",
    "    value_vector = []\n",
    "    for values in matrix_values:\n",
    "        while True:\n",
    "            try:\n",
    "                storer = values[values.index('.')-1:values.index('.')+4]\n",
    "            except ValueError:\n",
    "                break\n",
    "            value_vector.append(storer)\n",
    "            values = values[values.index('.')+4:]\n",
    "            values = values.strip()\n",
    "    matrix_dictionary = {#'index': list_of_identifiers #Possibly useless \n",
    "    }\n",
    "    temp_value_vector = value_vector\n",
    "    for a in range(len(matrix_identifier)-1):\n",
    "        temp_list = []\n",
    "        for i in range(a):#!!!!!!!!Possibly +1\n",
    "            temp_list.append('NaN')\n",
    "        temp_list.extend(temp_value_vector[:seq_n-a-1])\n",
    "        temp_value_vector = temp_value_vector[seq_n-a-1:]\n",
    "        matrix_dictionary.update({f'{list_of_identifiers[a]}': temp_list})\n",
    "        matrix_df = pd.DataFrame(matrix_dictionary)\n",
    "    matrix_df = matrix_df.T\n",
    "    return matrix_df\n",
    "\n",
    "\n",
    "print(hat2_parser('Sequences_for_alignment.fasta.hat2'))"
   ],
   "outputs": [
    {
     "output_type": "stream",
     "name": "stdout",
     "text": [
      "                 0      1      2      3      4      5      6      7      8   \\\n",
      "NM_001279761  0.000  0.000  0.000  0.000  0.000  0.000  0.000  0.319  0.683   \n",
      "XM_019017591    NaN  0.000  0.000  0.000  0.000  0.000  0.000  0.319  0.683   \n",
      "XM_019017590    NaN    NaN  0.000  0.000  0.000  0.000  0.000  0.319  0.683   \n",
      "XM_019017589    NaN    NaN    NaN  0.000  0.000  0.000  0.000  0.319  0.683   \n",
      "XM_019017588    NaN    NaN    NaN    NaN  0.000  0.000  0.000  0.319  0.683   \n",
      "XM_019017587    NaN    NaN    NaN    NaN    NaN  0.000  0.000  0.319  0.683   \n",
      "XM_019017586    NaN    NaN    NaN    NaN    NaN    NaN  0.000  0.319  0.683   \n",
      "XM_019017585    NaN    NaN    NaN    NaN    NaN    NaN    NaN  0.319  0.683   \n",
      "XM_031005077    NaN    NaN    NaN    NaN    NaN    NaN    NaN    NaN  0.845   \n",
      "XM_019017900    NaN    NaN    NaN    NaN    NaN    NaN    NaN    NaN    NaN   \n",
      "XM_004062835    NaN    NaN    NaN    NaN    NaN    NaN    NaN    NaN    NaN   \n",
      "XM_019017898    NaN    NaN    NaN    NaN    NaN    NaN    NaN    NaN    NaN   \n",
      "KT698238        NaN    NaN    NaN    NaN    NaN    NaN    NaN    NaN    NaN   \n",
      "XM_031004421    NaN    NaN    NaN    NaN    NaN    NaN    NaN    NaN    NaN   \n",
      "XM_031014265    NaN    NaN    NaN    NaN    NaN    NaN    NaN    NaN    NaN   \n",
      "XM_031014264    NaN    NaN    NaN    NaN    NaN    NaN    NaN    NaN    NaN   \n",
      "XM_031014263    NaN    NaN    NaN    NaN    NaN    NaN    NaN    NaN    NaN   \n",
      "XM_031014262    NaN    NaN    NaN    NaN    NaN    NaN    NaN    NaN    NaN   \n",
      "XM_031014261    NaN    NaN    NaN    NaN    NaN    NaN    NaN    NaN    NaN   \n",
      "XM_031014260    NaN    NaN    NaN    NaN    NaN    NaN    NaN    NaN    NaN   \n",
      "XM_031014259    NaN    NaN    NaN    NaN    NaN    NaN    NaN    NaN    NaN   \n",
      "XM_031014258    NaN    NaN    NaN    NaN    NaN    NaN    NaN    NaN    NaN   \n",
      "XM_031014257    NaN    NaN    NaN    NaN    NaN    NaN    NaN    NaN    NaN   \n",
      "XM_031014256    NaN    NaN    NaN    NaN    NaN    NaN    NaN    NaN    NaN   \n",
      "XM_031012314    NaN    NaN    NaN    NaN    NaN    NaN    NaN    NaN    NaN   \n",
      "XM_019026686    NaN    NaN    NaN    NaN    NaN    NaN    NaN    NaN    NaN   \n",
      "XM_019026673    NaN    NaN    NaN    NaN    NaN    NaN    NaN    NaN    NaN   \n",
      "XM_019026671    NaN    NaN    NaN    NaN    NaN    NaN    NaN    NaN    NaN   \n",
      "XM_019026667    NaN    NaN    NaN    NaN    NaN    NaN    NaN    NaN    NaN   \n",
      "XM_019026694    NaN    NaN    NaN    NaN    NaN    NaN    NaN    NaN    NaN   \n",
      "XM_019026682    NaN    NaN    NaN    NaN    NaN    NaN    NaN    NaN    NaN   \n",
      "XM_019026675    NaN    NaN    NaN    NaN    NaN    NaN    NaN    NaN    NaN   \n",
      "XM_004056249    NaN    NaN    NaN    NaN    NaN    NaN    NaN    NaN    NaN   \n",
      "XM_031001099    NaN    NaN    NaN    NaN    NaN    NaN    NaN    NaN    NaN   \n",
      "XM_019038595    NaN    NaN    NaN    NaN    NaN    NaN    NaN    NaN    NaN   \n",
      "XM_004047763    NaN    NaN    NaN    NaN    NaN    NaN    NaN    NaN    NaN   \n",
      "XM_004053112    NaN    NaN    NaN    NaN    NaN    NaN    NaN    NaN    NaN   \n",
      "XM_004053108    NaN    NaN    NaN    NaN    NaN    NaN    NaN    NaN    NaN   \n",
      "XM_031011642    NaN    NaN    NaN    NaN    NaN    NaN    NaN    NaN    NaN   \n",
      "XM_031004208    NaN    NaN    NaN    NaN    NaN    NaN    NaN    NaN    NaN   \n",
      "XM_004044579    NaN    NaN    NaN    NaN    NaN    NaN    NaN    NaN    NaN   \n",
      "XM_004043944    NaN    NaN    NaN    NaN    NaN    NaN    NaN    NaN    NaN   \n",
      "XM_004043943    NaN    NaN    NaN    NaN    NaN    NaN    NaN    NaN    NaN   \n",
      "XM_004043942    NaN    NaN    NaN    NaN    NaN    NaN    NaN    NaN    NaN   \n",
      "XM_031005608    NaN    NaN    NaN    NaN    NaN    NaN    NaN    NaN    NaN   \n",
      "\n",
      "                 9   ...     35     36     37     38     39     40     41  \\\n",
      "NM_001279761  0.683  ...  2.004  2.004  1.795  1.879  2.125  1.927  1.914   \n",
      "XM_019017591  0.683  ...  2.004  2.004  1.795  1.879  2.125  1.927  1.914   \n",
      "XM_019017590  0.683  ...  2.004  2.004  1.795  1.879  2.125  1.927  1.914   \n",
      "XM_019017589  0.683  ...  2.004  2.004  1.795  1.879  2.125  1.927  1.914   \n",
      "XM_019017588  0.683  ...  2.004  2.004  1.795  1.879  2.125  1.927  1.914   \n",
      "XM_019017587  0.683  ...  2.004  2.004  1.795  1.879  2.125  1.927  1.914   \n",
      "XM_019017586  0.683  ...  2.004  2.004  1.795  1.879  2.125  1.927  1.914   \n",
      "XM_019017585  0.683  ...  2.004  2.004  1.795  1.879  2.125  1.927  1.914   \n",
      "XM_031005077  0.845  ...  1.890  1.890  1.834  1.935  2.156  2.003  1.961   \n",
      "XM_019017900  0.000  ...  2.057  2.057  1.824  1.920  2.133  1.929  1.904   \n",
      "XM_004062835    NaN  ...  2.057  2.057  1.824  1.920  2.133  1.929  1.904   \n",
      "XM_019017898    NaN  ...  2.057  2.057  1.824  1.920  2.133  1.929  1.904   \n",
      "KT698238        NaN  ...  2.057  2.057  1.824  1.922  2.133  1.937  1.904   \n",
      "XM_031004421    NaN  ...  1.890  1.890  1.823  1.942  2.183  1.877  1.829   \n",
      "XM_031014265    NaN  ...  1.899  1.899  1.786  1.888  2.096  1.826  1.811   \n",
      "XM_031014264    NaN  ...  1.899  1.899  1.791  1.888  2.098  1.826  1.812   \n",
      "XM_031014263    NaN  ...  1.899  1.899  1.791  1.888  2.098  1.826  1.812   \n",
      "XM_031014262    NaN  ...  1.899  1.899  1.791  1.888  2.098  1.826  1.812   \n",
      "XM_031014261    NaN  ...  1.899  1.899  1.791  1.888  2.098  1.826  1.812   \n",
      "XM_031014260    NaN  ...  1.899  1.899  1.791  1.888  2.098  1.826  1.812   \n",
      "XM_031014259    NaN  ...  1.899  1.899  1.783  1.888  2.096  1.826  1.811   \n",
      "XM_031014258    NaN  ...  1.899  1.899  1.781  1.888  2.098  1.826  1.812   \n",
      "XM_031014257    NaN  ...  1.899  1.899  1.785  1.888  2.096  1.826  1.811   \n",
      "XM_031014256    NaN  ...  1.899  1.899  1.783  1.888  2.098  1.826  1.812   \n",
      "XM_031012314    NaN  ...  1.824  1.824  1.775  1.869  2.090  1.836  1.820   \n",
      "XM_019026686    NaN  ...  1.824  1.824  1.774  1.875  2.090  1.846  1.830   \n",
      "XM_019026673    NaN  ...  1.824  1.824  1.775  1.875  2.090  1.846  1.830   \n",
      "XM_019026671    NaN  ...  1.824  1.824  1.771  1.869  2.090  1.836  1.820   \n",
      "XM_019026667    NaN  ...  1.824  1.824  1.772  1.869  2.090  1.836  1.820   \n",
      "XM_019026694    NaN  ...  1.824  1.824  1.778  1.875  2.090  1.846  1.830   \n",
      "XM_019026682    NaN  ...  1.824  1.824  1.775  1.869  2.090  1.836  1.820   \n",
      "XM_019026675    NaN  ...  1.824  1.824  1.776  1.869  2.090  1.836  1.820   \n",
      "XM_004056249    NaN  ...  2.127  2.127  1.859  2.011  2.259  1.999  1.980   \n",
      "XM_031001099    NaN  ...  2.460  2.460  2.060  2.061  2.304  2.079  2.061   \n",
      "XM_019038595    NaN  ...  2.460  2.460  2.060  2.061  2.304  2.079  2.061   \n",
      "XM_004047763    NaN  ...  2.338  2.338  2.020  2.182  2.364  2.199  2.163   \n",
      "XM_004053112    NaN  ...    NaN  0.000  2.404  2.446  2.481  2.513  2.364   \n",
      "XM_004053108    NaN  ...    NaN    NaN  2.404  2.446  2.481  2.513  2.364   \n",
      "XM_031011642    NaN  ...    NaN    NaN    NaN  1.916  2.147  1.892  1.907   \n",
      "XM_031004208    NaN  ...    NaN    NaN    NaN    NaN  2.210  2.064  2.062   \n",
      "XM_004044579    NaN  ...    NaN    NaN    NaN    NaN    NaN  2.177  2.096   \n",
      "XM_004043944    NaN  ...    NaN    NaN    NaN    NaN    NaN    NaN  0.407   \n",
      "XM_004043943    NaN  ...    NaN    NaN    NaN    NaN    NaN    NaN    NaN   \n",
      "XM_004043942    NaN  ...    NaN    NaN    NaN    NaN    NaN    NaN    NaN   \n",
      "XM_031005608    NaN  ...    NaN    NaN    NaN    NaN    NaN    NaN    NaN   \n",
      "\n",
      "                 42     43     44  \n",
      "NM_001279761  1.889  1.950  1.943  \n",
      "XM_019017591  1.889  1.950  1.943  \n",
      "XM_019017590  1.889  1.950  1.943  \n",
      "XM_019017589  1.889  1.950  1.943  \n",
      "XM_019017588  1.889  1.950  1.943  \n",
      "XM_019017587  1.889  1.950  1.943  \n",
      "XM_019017586  1.889  1.950  1.943  \n",
      "XM_019017585  1.889  1.950  1.943  \n",
      "XM_031005077  1.954  1.996  1.983  \n",
      "XM_019017900  1.891  1.950  1.941  \n",
      "XM_004062835  1.891  1.950  1.941  \n",
      "XM_019017898  1.891  1.950  1.941  \n",
      "KT698238      1.898  1.950  1.940  \n",
      "XM_031004421  1.840  2.021  2.028  \n",
      "XM_031014265  1.796  1.976  1.984  \n",
      "XM_031014264  1.797  1.981  1.988  \n",
      "XM_031014263  1.797  1.981  1.988  \n",
      "XM_031014262  1.797  1.981  1.988  \n",
      "XM_031014261  1.797  1.981  1.988  \n",
      "XM_031014260  1.797  1.981  1.988  \n",
      "XM_031014259  1.796  1.976  1.984  \n",
      "XM_031014258  1.797  1.981  1.988  \n",
      "XM_031014257  1.796  1.976  1.984  \n",
      "XM_031014256  1.797  1.981  1.988  \n",
      "XM_031012314  1.806  1.975  1.983  \n",
      "XM_019026686  1.814  1.975  1.983  \n",
      "XM_019026673  1.814  1.975  1.983  \n",
      "XM_019026671  1.806  1.975  1.983  \n",
      "XM_019026667  1.806  1.975  1.983  \n",
      "XM_019026694  1.814  1.975  1.983  \n",
      "XM_019026682  1.806  1.975  1.983  \n",
      "XM_019026675  1.806  1.975  1.983  \n",
      "XM_004056249  1.983  2.070  2.072  \n",
      "XM_031001099  2.044  2.088  2.104  \n",
      "XM_019038595  2.044  2.088  2.104  \n",
      "XM_004047763  2.167  2.137  2.125  \n",
      "XM_004053112  2.364  2.252  2.252  \n",
      "XM_004053108  2.364  2.252  2.252  \n",
      "XM_031011642  1.888  1.984  1.987  \n",
      "XM_031004208  2.054  2.066  2.062  \n",
      "XM_004044579  2.152  1.635  1.608  \n",
      "XM_004043944  0.061  2.033  2.033  \n",
      "XM_004043943  0.151  2.024  2.017  \n",
      "XM_004043942    NaN  2.014  2.007  \n",
      "XM_031005608    NaN    NaN  0.134  \n",
      "\n",
      "[45 rows x 45 columns]\n"
     ]
    }
   ],
   "metadata": {}
  },
  {
   "cell_type": "code",
   "execution_count": null,
   "source": [],
   "outputs": [],
   "metadata": {}
  },
  {
   "cell_type": "code",
   "execution_count": null,
   "source": [],
   "outputs": [],
   "metadata": {}
  },
  {
   "cell_type": "code",
   "execution_count": null,
   "source": [
    "value = ' 0.000 0.000 0.000 0.000 0.000 0.000 0.000 0.319 0.699'\n",
    "value = value.strip()\n"
   ],
   "outputs": [],
   "metadata": {}
  },
  {
   "cell_type": "code",
   "execution_count": 36,
   "source": [
    "string = '1. =NM_001279761'\n",
    "string = string[string.index('=') +1:]\n",
    "print(string)"
   ],
   "outputs": [
    {
     "output_type": "stream",
     "name": "stdout",
     "text": [
      "NM_001279761\n"
     ]
    }
   ],
   "metadata": {}
  },
  {
   "cell_type": "code",
   "execution_count": 34,
   "source": [
    "import re\n",
    "string = '1. =NM_001279761'\n",
    "string = re.sub(r'^.*?=', '=', string)\n",
    "print(string)"
   ],
   "outputs": [
    {
     "output_type": "stream",
     "name": "stdout",
     "text": [
      "=NM_001279761\n"
     ]
    }
   ],
   "metadata": {}
  },
  {
   "cell_type": "code",
   "execution_count": null,
   "source": [],
   "outputs": [],
   "metadata": {}
  }
 ],
 "metadata": {
  "orig_nbformat": 4,
  "language_info": {
   "name": "python",
   "version": "3.9.5",
   "mimetype": "text/x-python",
   "codemirror_mode": {
    "name": "ipython",
    "version": 3
   },
   "pygments_lexer": "ipython3",
   "nbconvert_exporter": "python",
   "file_extension": ".py"
  },
  "kernelspec": {
   "name": "python3",
   "display_name": "Python 3.9.5 64-bit"
  },
  "interpreter": {
   "hash": "aee8b7b246df8f9039afb4144a1f6fd8d2ca17a180786b69acc140d282b71a49"
  }
 },
 "nbformat": 4,
 "nbformat_minor": 2
}