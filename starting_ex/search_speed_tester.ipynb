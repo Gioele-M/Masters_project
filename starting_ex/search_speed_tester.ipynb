{
 "cells": [
  {
   "cell_type": "code",
   "execution_count": 1,
   "source": [
    "import os\n",
    "import pandas as pd\n",
    "import numpy as np\n",
    "from Bio import SeqIO, SeqRecord, Seq, SearchIO, AlignIO, Phylo\n",
    "from Bio.Blast import NCBIWWW, NCBIXML\n",
    "import Bio.Entrez"
   ],
   "outputs": [],
   "metadata": {}
  },
  {
   "cell_type": "code",
   "execution_count": 2,
   "source": [
    "def open_fasta(filename):\n",
    "    with open(filename) as handle:\n",
    "        sequence_record = SeqIO.read(handle, 'fasta')\n",
    "    return sequence_record\n",
    "\n",
    "fasta_record = open_fasta('human_mx1.fas')\n",
    "print(fasta_record)"
   ],
   "outputs": [
    {
     "output_type": "stream",
     "name": "stdout",
     "text": [
      "ID: lcl|XM_005260978.4_cds_XP_005261035.1_1\n",
      "Name: lcl|XM_005260978.4_cds_XP_005261035.1_1\n",
      "Description: lcl|XM_005260978.4_cds_XP_005261035.1_1 [gene=MX1] [db_xref=GeneID:4599] [protein=interferon-induced GTP-binding protein Mx1 isoform X1] [protein_id=XP_005261035.1] [location=458..2446] [gbkey=CDS]\n",
      "Number of features: 0\n",
      "Seq('ATGGTTGTTTCCGAAGTGGACATCGCAAAAGCTGATCCAGCTGCTGCATCCCAC...TAA')\n"
     ]
    }
   ],
   "metadata": {}
  },
  {
   "cell_type": "code",
   "execution_count": 3,
   "source": [
    "#Function to run blast with a list of taxid in one query, if list is empty no taxid is specified\n",
    "def blastn_with_taxid(sequence, filename, query_size = 50, list_taxid = []):\n",
    "    result_handler, result_storer = None, None\n",
    "    if len(list_taxid) <1:\n",
    "        result_handler = NCBIWWW.qblast('blastn', 'nt', sequence) \n",
    "        result_storer = result_handler.read()\n",
    "    else:\n",
    "        entrez_query = ''\n",
    "        for taxid in list_taxid:\n",
    "            entrez_query += f'txid{taxid}[ORGN]'\n",
    "            if taxid != taxid_list[-1]:\n",
    "                entrez_query += ' OR '\n",
    "        result_handler = NCBIWWW.qblast('blastn', 'nt', sequence, entrez_query= entrez_query, hitlist_size=query_size)\n",
    "        result_storer = result_handler.read()\n",
    "    with open(f'{filename}.xml', 'w') as savefile:\n",
    "        savefile.write(result_storer)\n",
    "\n",
    "taxid_list = ['9592','9527', '40674', '314147']\n",
    "\n",
    "blastn_with_taxid(fasta_record.seq, 'test_taxid_function', query_size = 100, list_taxid = taxid_list)\n",
    "\n",
    "#65.5 62.9 seconds 4 taxids query_size 100"
   ],
   "outputs": [],
   "metadata": {}
  },
  {
   "cell_type": "code",
   "execution_count": 9,
   "source": [
    "#Function to run blast with a list of taxid in separate queries\n",
    "\n",
    "def blast_single_taxid(sequence, filename, query_size = 50, list_taxid = []):\n",
    "    result_handler, result_storer = None, None\n",
    "    if len(list_taxid) <1:\n",
    "        result_handler = NCBIWWW.qblast('blastn', 'nt', sequence) \n",
    "        result_storer = result_handler.read()\n",
    "    else:\n",
    "        for taxid in taxid_list:\n",
    "            result_storer = []\n",
    "            entrez = f'txid{taxid}[ORGN]'\n",
    "            result_handler = NCBIWWW.qblast('blastn', 'nt', sequence, entrez_query= entrez, hitlist_size=query_size)\n",
    "            result_storer.append(result_handler.read())\n",
    "            print(f'{taxid} done')\n",
    "    with open(f'{filename}.xml', 'w') as savefile:\n",
    "        savefile.write('\\n'.join(result_storer))\n",
    "\n",
    "taxid_list = ['9592', '9527', '40674', '314147', '9531', '9544', '2008792'] \n",
    "\n",
    "blast_single_taxid(fasta_record.seq, 'test_taxid_function_single_7', query_size = 25,list_taxid = taxid_list)\n",
    "\n",
    "#842 sec :( 4 taxids query_size 25 \n",
    "#822 sec 3 taxid query_size 25"
   ],
   "outputs": [
    {
     "output_type": "stream",
     "name": "stdout",
     "text": [
      "9592 done\n",
      "9527 done\n"
     ]
    }
   ],
   "metadata": {}
  },
  {
   "cell_type": "code",
   "execution_count": 14,
   "source": [
    "#Function to parallelise multiple queries\n",
    "import multiprocessing\n",
    "\n",
    "def blast_single_taxid_parallel(sequence, filename, query_size = 50, list_taxid = []):\n",
    "    \n",
    "    def run_blast(taxid):\n",
    "        entrez = f'txid{taxid}[ORGN]'\n",
    "        result_handler = NCBIWWW.qblast('blastn', 'nt', sequence, entrez_query= entrez, hitlist_size=query_size)\n",
    "        result_storer = result_handler.read()\n",
    "        print(f'{taxid} done')\n",
    "        return result_storer\n",
    "    \n",
    "    pool_obj = multiprocessing.Pool()\n",
    "    storer_list = pool_obj.map(run_blast, list_taxid) #for x in list_taxid\n",
    "    return storer_list\n",
    "\n",
    "taxid_list = ['9592', '9527', '40674', '314147']\n",
    "\n",
    "result_parallel = blast_single_taxid_parallel(fasta_record.seq, 'useless_now', query_size=25, list_taxid=taxid_list)\n",
    "\n",
    "print(result_parallel)\n"
   ],
   "outputs": [
    {
     "output_type": "error",
     "ename": "SyntaxError",
     "evalue": "invalid syntax (661066193.py, line 14)",
     "traceback": [
      "\u001b[0;36m  File \u001b[0;32m\"/var/folders/ct/k2vy_tv5445_dh3r_3cm63bh0000gn/T/ipykernel_28763/661066193.py\"\u001b[0;36m, line \u001b[0;32m14\u001b[0m\n\u001b[0;31m    storer_list = pool_obj.map(run_blast, list_taxid, [,2])\u001b[0m\n\u001b[0m                                                       ^\u001b[0m\n\u001b[0;31mSyntaxError\u001b[0m\u001b[0;31m:\u001b[0m invalid syntax\n"
     ]
    }
   ],
   "metadata": {}
  }
 ],
 "metadata": {
  "orig_nbformat": 4,
  "language_info": {
   "name": "python",
   "version": "3.9.5",
   "mimetype": "text/x-python",
   "codemirror_mode": {
    "name": "ipython",
    "version": 3
   },
   "pygments_lexer": "ipython3",
   "nbconvert_exporter": "python",
   "file_extension": ".py"
  },
  "kernelspec": {
   "name": "python3",
   "display_name": "Python 3.9.5 64-bit"
  },
  "interpreter": {
   "hash": "aee8b7b246df8f9039afb4144a1f6fd8d2ca17a180786b69acc140d282b71a49"
  }
 },
 "nbformat": 4,
 "nbformat_minor": 2
}