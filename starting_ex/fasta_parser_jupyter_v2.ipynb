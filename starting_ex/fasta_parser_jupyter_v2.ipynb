{
    "cells": [
        {
            "cell_type": "code",
            "execution_count": null,
            "source": [
                "import pandas as pd\n",
                "import numpy as np\n",
                "from Bio import SeqIO, SeqRecord, Seq, SearchIO\n",
                "from Bio.Blast import NCBIWWW, NCBIXML"
            ],
            "outputs": [],
            "metadata": {}
        },
        {
            "cell_type": "code",
            "execution_count": null,
            "source": [
                "#Create sequence record\n",
                "seq_record_dictionary = SeqIO.to_dict(SeqIO.parse(\"human_mx1.fas\", 'fasta')) #parse could be substituted by read\n",
                "sequence_record = seq_record_dictionary[list(seq_record_dictionary)[0]]\n",
                "sequence_record"
            ],
            "outputs": [],
            "metadata": {}
        },
        {
            "cell_type": "code",
            "execution_count": null,
            "source": [
                "#Create protein from sequence\n",
                "rna = Seq.transcribe(sequence_record.seq)\n",
                "protein = rna.translate(to_stop=True)\n",
                "protein"
            ],
            "outputs": [],
            "metadata": {}
        },
        {
            "cell_type": "code",
            "execution_count": null,
            "source": [
                "#Run BLASTn and store results in .xml file\n",
                "result_handler = NCBIWWW.qblast('blastn', 'nt', sequence_record.seq) #can add entrez_query='txid000000'\n",
                "result_storer = result_handler.read()\n",
                "with open('search_from_parser2.xml', 'w') as savefile:\n",
                "        savefile.write(result_storer)"
            ],
            "outputs": [],
            "metadata": {}
        },
        {
            "cell_type": "code",
            "execution_count": null,
            "source": [
                "#Import saved .xml file with SearchIO \n",
                "results_searchio = SearchIO.read('search_from_parser2.xml', 'blast-xml')\n",
                "\n",
                "#Unpacking of upper object (QueryResult)\n",
                "print(results_searchio.seq_len) #in the upper object it is stored the length of the DNA molecule submitted for analysis\n",
                "print(results_searchio.program)\n",
                "print(results_searchio.version)\n",
                "print(results_searchio.target) #database\n",
                "print(results_searchio.id) #query id No is default\n",
                "#with results_searchio.param.... can get the parameters used for the blast alingments\n",
                "\n",
                "#for result in results_searchio:\n",
                "#    print(result.id)"
            ],
            "outputs": [],
            "metadata": {}
        },
        {
            "cell_type": "code",
            "execution_count": null,
            "source": [
                "#Unpacking of first result (Hit object) (done for single object so not to have excessive output#)\n",
                "#ignore query ID, description and length as already unpacked from upper object\n",
                "result1 = results_searchio[0]\n",
                "print(result1.id)\n",
                "print(result1.description)\n",
                "print(result1.seq_len) #sequence length\n",
                "print(result1.accession)\n"
            ],
            "outputs": [],
            "metadata": {}
        },
        {
            "cell_type": "code",
            "execution_count": null,
            "source": [
                "for result in results_searchio:\n",
                "    print(result.id)"
            ],
            "outputs": [],
            "metadata": {}
        },
        {
            "cell_type": "code",
            "execution_count": null,
            "source": [
                "#Unpacking the HSPs from the same Hit object (high scoring segment pair) (remember that blast uses local alignment and could be biased)\n",
                "#Given that the .hsps parameter returns a list of length 1\n",
                "result1_hsp = result1.hsps[0]\n",
                "print(result1_hsp.bitscore)\n",
                "print(result1_hsp.bitscore_raw)\n",
                "print(result1_hsp.evalue)\n",
                "print(result1_hsp.query_start)\n",
                "print(result1_hsp.query_end)\n",
                "print(result1_hsp.hit_start)\n",
                "print(result1_hsp.hit_end)\n",
                "print(result1_hsp.query_frame)\n",
                "print(result1_hsp.hit_frame)\n",
                "print(result1_hsp.ident_num)\n",
                "print(result1_hsp.pos_num)\n",
                "print(result1_hsp.gap_num)\n",
                "print(result1_hsp.aln_span) #!!! Length of alignment\n",
                "print(result1_hsp.query) #Query Seq object! important to run local alignments\n",
                "\n",
                "print('\\nseparate\\n')\n",
                "print(result1_hsp.query.seq) # this object only stores the alingment sequence (1989 characters) instead of the hit one of 2776"
            ],
            "outputs": [],
            "metadata": {}
        },
        {
            "cell_type": "code",
            "execution_count": null,
            "source": [
                "#make a dictionary\n",
                "\n",
                "blast_dictionary = {'id' : [], 'description' : [], 'seq_length' : [], 'accession' : [], 'bitscore' : [], 'bitscore_raw' : [], \n",
                "'evalue' : [], 'hit_start' : [], 'hit_end' : [], 'query_frame' : [], 'gap_num' : [], 'aln_span' : []}\n",
                "\n",
                "for result in results_searchio:\n",
                "    blast_dictionary['id'].append(result.id)\n",
                "    blast_dictionary['description'].append(result.description)\n",
                "    blast_dictionary['seq_length'].append(result.seq_len)\n",
                "    blast_dictionary['accession'].append(result.accession)\n",
                "    result_hsp = result.hsps[0] #need to doublecheck because there could be more than 1 HSP (likely the first is most significant)\n",
                "    blast_dictionary['bitscore'].append(result_hsp.bitscore)\n",
                "    blast_dictionary['bitscore_raw'].append(result_hsp.bitscore_raw)\n",
                "    blast_dictionary['evalue'].append(result_hsp.evalue)\n",
                "    blast_dictionary['hit_start'].append(result_hsp.hit_start)\n",
                "    blast_dictionary['hit_end'].append(result_hsp.hit_end)\n",
                "    blast_dictionary['query_frame'].append(result_hsp.query_frame)\n",
                "    blast_dictionary['gap_num'].append(result_hsp.gap_num)\n",
                "    blast_dictionary['aln_span'].append(result_hsp.aln_span)\n"
            ],
            "outputs": [],
            "metadata": {}
        },
        {
            "cell_type": "code",
            "execution_count": null,
            "source": [
                "#No hit object has 2 HSPS\n",
                "for result in results_searchio:\n",
                "    i = 0\n",
                "    for hsp in result.hsps:\n",
                "        i += 1\n",
                "    print(i)"
            ],
            "outputs": [],
            "metadata": {}
        },
        {
            "cell_type": "code",
            "execution_count": null,
            "source": [
                "#Create dataframe\n",
                "blast_dataframe = pd.DataFrame.from_dict(blast_dictionary)\n",
                "print(blast_dataframe)"
            ],
            "outputs": [],
            "metadata": {}
        },
        {
            "cell_type": "code",
            "execution_count": null,
            "source": [
                "#Save it as .csv\n",
                "with open('csv_blast_results.csv', 'w') as savefile:\n",
                "        savefile.write(str(blast_dataframe.to_csv()))\n"
            ],
            "outputs": [],
            "metadata": {}
        },
        {
            "cell_type": "code",
            "execution_count": null,
            "source": [],
            "outputs": [],
            "metadata": {}
        },
        {
            "cell_type": "code",
            "execution_count": null,
            "source": [],
            "outputs": [],
            "metadata": {}
        },
        {
            "cell_type": "code",
            "execution_count": null,
            "source": [],
            "outputs": [],
            "metadata": {}
        },
        {
            "cell_type": "code",
            "execution_count": null,
            "source": [],
            "outputs": [],
            "metadata": {}
        },
        {
            "cell_type": "code",
            "execution_count": null,
            "source": [
                "#Import saved .xml with NCBIXML\n",
                "xml_parser = open('blastp_results.xml')\n",
                "results_xml = NCBIXML.read(xml_parser)"
            ],
            "outputs": [],
            "metadata": {}
        },
        {
            "cell_type": "code",
            "execution_count": null,
            "source": [
                "#results_xml is a record.blast object\n",
                "#It returns all the results as lists!! \n",
                "for result in results_xml.descriptions:\n",
                "    result_1 = result.score\n",
                "    print(result_1)"
            ],
            "outputs": [],
            "metadata": {}
        }
    ],
    "metadata": {
        "orig_nbformat": 4,
        "language_info": {
            "name": "python",
            "version": "3.9.5",
            "mimetype": "text/x-python",
            "codemirror_mode": {
                "name": "ipython",
                "version": 3
            },
            "pygments_lexer": "ipython3",
            "nbconvert_exporter": "python",
            "file_extension": ".py"
        },
        "kernelspec": {
            "name": "python3",
            "display_name": "Python 3.9.5 64-bit"
        },
        "interpreter": {
            "hash": "aee8b7b246df8f9039afb4144a1f6fd8d2ca17a180786b69acc140d282b71a49"
        }
    },
    "nbformat": 4,
    "nbformat_minor": 2
}