{
    "cells": [
        {
            "cell_type": "code",
            "execution_count": 1,
            "source": [
                "import pandas as pd\n",
                "import numpy as np\n",
                "from Bio import SeqIO, SeqRecord, Seq, SearchIO\n",
                "from Bio.Blast import NCBIWWW, NCBIXML"
            ],
            "outputs": [],
            "metadata": {}
        },
        {
            "cell_type": "code",
            "execution_count": 2,
            "source": [
                "#Create sequence record\n",
                "seq_record_dictionary = SeqIO.to_dict(SeqIO.parse(\"human_mx1.fas\", 'fasta')) #parse could be substituted by read\n",
                "sequence_record = seq_record_dictionary[list(seq_record_dictionary)[0]]\n",
                "sequence_record"
            ],
            "outputs": [
                {
                    "output_type": "execute_result",
                    "data": {
                        "text/plain": [
                            "SeqRecord(seq=Seq('ATGGTTGTTTCCGAAGTGGACATCGCAAAAGCTGATCCAGCTGCTGCATCCCAC...TAA'), id='lcl|XM_005260978.4_cds_XP_005261035.1_1', name='lcl|XM_005260978.4_cds_XP_005261035.1_1', description='lcl|XM_005260978.4_cds_XP_005261035.1_1 [gene=MX1] [db_xref=GeneID:4599] [protein=interferon-induced GTP-binding protein Mx1 isoform X1] [protein_id=XP_005261035.1] [location=458..2446] [gbkey=CDS]', dbxrefs=[])"
                        ]
                    },
                    "metadata": {},
                    "execution_count": 2
                }
            ],
            "metadata": {}
        },
        {
            "cell_type": "code",
            "execution_count": null,
            "source": [
                "#Create protein from sequence\n",
                "rna = Seq.transcribe(sequence_record.seq)\n",
                "protein = rna.translate(to_stop=True)\n",
                "protein"
            ],
            "outputs": [],
            "metadata": {}
        },
        {
            "cell_type": "code",
            "execution_count": null,
            "source": [
                "#Run BLASTn and store results in .xml file\n",
                "result_handler = NCBIWWW.qblast('blastn', 'nt', sequence_record.seq) #can add entrez_query='txid000000'\n",
                "result_storer = result_handler.read()\n",
                "with open('search_from_parser2.xml', 'w') as savefile:\n",
                "        savefile.write(result_storer)"
            ],
            "outputs": [],
            "metadata": {}
        },
        {
            "cell_type": "code",
            "execution_count": 3,
            "source": [
                "#Import saved .xml file with SearchIO \n",
                "results_searchio = SearchIO.read('search_from_parser2.xml', 'blast-xml')\n",
                "\n",
                "#Unpacking of upper object (QueryResult)\n",
                "print(results_searchio.seq_len) #in the upper object it is stored the length of the DNA molecule submitted for analysis\n",
                "print(results_searchio.program)\n",
                "print(results_searchio.version)\n",
                "print(results_searchio.target) #database\n",
                "print(results_searchio.id) #query id No is default\n",
                "#with results_searchio.param.... can get the parameters used for the blast alingments\n",
                "\n",
                "#for result in results_searchio:\n",
                "#    print(result.id)"
            ],
            "outputs": [
                {
                    "output_type": "stream",
                    "name": "stdout",
                    "text": [
                        "1989\n",
                        "blastn\n",
                        "2.12.0+\n",
                        "nt\n",
                        "No\n"
                    ]
                }
            ],
            "metadata": {}
        },
        {
            "cell_type": "code",
            "execution_count": 4,
            "source": [
                "#Unpacking of first result (Hit object) (done for single object so not to have excessive output#)\n",
                "#ignore query ID, description and length as already unpacked from upper object\n",
                "result1 = results_searchio[0]\n",
                "print(result1.id)\n",
                "print(result1.description)\n",
                "print(result1.seq_len) #sequence length\n",
                "print(result1.accession)\n"
            ],
            "outputs": [
                {
                    "output_type": "stream",
                    "name": "stdout",
                    "text": [
                        "gi|1519315249|ref|NM_002462.5|\n",
                        "Homo sapiens MX dynamin like GTPase 1 (MX1), transcript variant 2, mRNA\n",
                        "2776\n",
                        "NM_002462\n"
                    ]
                }
            ],
            "metadata": {}
        },
        {
            "cell_type": "code",
            "execution_count": 25,
            "source": [
                "for result in results_searchio:\n",
                "    print(result.id)"
            ],
            "outputs": [
                {
                    "output_type": "stream",
                    "name": "stdout",
                    "text": [
                        "gi|1519315249|ref|NM_002462.5|\n",
                        "gi|1370481400|ref|XM_017028349.2|\n",
                        "gi|1034627218|ref|XM_005260982.2|\n",
                        "gi|1034627217|ref|XM_005260981.2|\n",
                        "gi|1034627215|ref|XM_017028350.1|\n",
                        "gi|1034627212|ref|XM_005260980.2|\n",
                        "gi|1034627211|ref|XM_005260979.2|\n",
                        "gi|1034627210|ref|XM_011529568.2|\n",
                        "gi|1034627209|ref|XM_005260978.4|\n",
                        "gi|544711167|ref|NM_001144925.2|\n",
                        "gi|1890270839|ref|NM_001178046.3|\n",
                        "gi|190135|gb|M33882.1|HUMPMX1A\n",
                        "gi|61354936|gb|AY888131.1|\n",
                        "gi|60825047|gb|AY893667.1|\n",
                        "gi|21619146|gb|BC032602.1|\n",
                        "gi|261858633|dbj|AB527675.1|\n",
                        "gi|325464350|gb|JF432729.1|\n",
                        "gi|60812884|gb|AY893199.1|\n",
                        "gi|649120027|gb|KJ897213.1|\n",
                        "gi|164695655|dbj|AK315465.1|\n",
                        "gi|188900|gb|M30817.1|HUMMXA\n",
                        "gi|21755829|dbj|AK096355.1|\n",
                        "gi|1849077349|ref|XM_034947820.1|\n",
                        "gi|1849077347|ref|XM_034947819.1|\n",
                        "gi|1849077342|ref|XM_008977603.2|\n",
                        "gi|1849077334|ref|XM_008977599.2|\n",
                        "gi|1849077327|ref|XM_034947818.1|\n",
                        "gi|1849077319|ref|XM_008977598.4|\n",
                        "gi|1849077312|ref|XM_003823901.5|\n",
                        "gi|1367238133|ref|XM_009438930.3|\n",
                        "gi|1367238130|ref|XM_009438452.3|\n",
                        "gi|1367238127|ref|XM_009437396.3|\n",
                        "gi|1367238124|ref|XM_009437900.2|\n",
                        "gi|1367238121|ref|XM_009433909.3|\n",
                        "gi|1367238119|ref|XM_009435429.3|\n",
                        "gi|1367238117|ref|XM_016938404.2|\n",
                        "gi|1367238115|ref|XM_009434398.3|\n",
                        "gi|1367238112|ref|XM_009434930.3|\n",
                        "gi|1367238110|ref|XM_009433454.3|\n",
                        "gi|683523965|ref|NM_001301762.1|\n",
                        "gi|525345364|ref|NM_001279836.1|\n",
                        "gi|525344602|ref|NM_001279761.1|\n",
                        "gi|1753056057|ref|XM_019017591.2|\n",
                        "gi|1753056056|ref|XM_019017590.2|\n",
                        "gi|1753056055|ref|XM_019017589.2|\n",
                        "gi|1753056054|ref|XM_019017588.2|\n",
                        "gi|1753056053|ref|XM_019017587.2|\n",
                        "gi|1753056052|ref|XM_019017586.2|\n",
                        "gi|1753056051|ref|XM_019017585.2|\n",
                        "gi|408689544|gb|JX297244.1|\n"
                    ]
                }
            ],
            "metadata": {}
        },
        {
            "cell_type": "code",
            "execution_count": 5,
            "source": [
                "#Unpacking the HSPs from the same Hit object (high scoring segment pair) (remember that blast uses local alignment and could be biased)\n",
                "#Given that the .hsps parameter returns a list of length 1\n",
                "result1_hsp = result1.hsps[0]\n",
                "print(result1_hsp.bitscore)\n",
                "print(result1_hsp.bitscore_raw)\n",
                "print(result1_hsp.evalue)\n",
                "print(result1_hsp.query_start)\n",
                "print(result1_hsp.query_end)\n",
                "print(result1_hsp.hit_start)\n",
                "print(result1_hsp.hit_end)\n",
                "print(result1_hsp.query_frame)\n",
                "print(result1_hsp.hit_frame)\n",
                "print(result1_hsp.ident_num)\n",
                "print(result1_hsp.pos_num)\n",
                "print(result1_hsp.gap_num)\n",
                "print(result1_hsp.aln_span) #!!! Length of alignment\n",
                "print(result1_hsp.query) #Query Seq object! important to run local alignments"
            ],
            "outputs": [
                {
                    "output_type": "stream",
                    "name": "stdout",
                    "text": [
                        "3588.19\n",
                        "3978\n",
                        "0.0\n",
                        "0\n",
                        "1989\n",
                        "333\n",
                        "2322\n",
                        "1\n",
                        "1\n",
                        "1989\n",
                        "1989\n",
                        "0\n",
                        "1989\n",
                        "ID: No\n",
                        "Name: aligned query sequence\n",
                        "Description: definition line\n",
                        "Number of features: 0\n",
                        "/molecule_type=DNA\n",
                        "Seq('ATGGTTGTTTCCGAAGTGGACATCGCAAAAGCTGATCCAGCTGCTGCATCCCAC...TAA')\n"
                    ]
                }
            ],
            "metadata": {}
        },
        {
            "cell_type": "code",
            "execution_count": 30,
            "source": [
                "#make a dictionary\n",
                "\n",
                "blast_dictionary = {'id' : [], 'description' : [], 'seq_length' : [], 'accession' : [], 'bitscore' : [], 'bitscore_raw' : [], 'evalue' : [], 'hit_start' : [], 'hit_end' : [], 'query_frame' : [], 'gap_num' : [], 'aln_span' : []}\n",
                "\n",
                "for result in results_searchio:\n",
                "    blast_dictionary['id'].append(result.id)\n",
                "    blast_dictionary['description'].append(result.description)\n",
                "    blast_dictionary['seq_length'].append(result.seq_len)\n",
                "    blast_dictionary['accession'].append(result.accession)\n",
                "    result_hsp = result.hsps[0]\n",
                "    blast_dictionary['bitscore'].append(result_hsp.bitscore)\n",
                "    blast_dictionary['bitscore_raw'].append(result_hsp.bitscore_raw)\n",
                "    blast_dictionary['evalue'].append(result_hsp.evalue)\n",
                "    blast_dictionary['hit_start'].append(result_hsp.hit_start)\n",
                "    blast_dictionary['hit_end'].append(result_hsp.hit_end)\n",
                "    blast_dictionary['query_frame'].append(result_hsp.query_frame)\n",
                "    blast_dictionary['gap_num'].append(result_hsp.gap_num)\n",
                "    blast_dictionary['aln_span'].append(result_hsp.aln_span)\n"
            ],
            "outputs": [],
            "metadata": {}
        },
        {
            "cell_type": "code",
            "execution_count": null,
            "source": [
                "#Create dataframe\n",
                "\n",
                "blast_dataframe = pd.DataFrame.from_dict(blast_dictionary, orient='index')\n",
                "print(blast_dataframe)"
            ],
            "outputs": [],
            "metadata": {}
        },
        {
            "cell_type": "code",
            "execution_count": null,
            "source": [],
            "outputs": [],
            "metadata": {}
        },
        {
            "cell_type": "code",
            "execution_count": null,
            "source": [],
            "outputs": [],
            "metadata": {}
        },
        {
            "cell_type": "code",
            "execution_count": null,
            "source": [],
            "outputs": [],
            "metadata": {}
        },
        {
            "cell_type": "code",
            "execution_count": null,
            "source": [],
            "outputs": [],
            "metadata": {}
        },
        {
            "cell_type": "code",
            "execution_count": null,
            "source": [],
            "outputs": [],
            "metadata": {}
        },
        {
            "cell_type": "code",
            "execution_count": 8,
            "source": [
                "#Import saved .xml with NCBIXML\n",
                "xml_parser = open('blastp_results.xml')\n",
                "results_xml = NCBIXML.read(xml_parser)"
            ],
            "outputs": [],
            "metadata": {}
        },
        {
            "cell_type": "code",
            "execution_count": 23,
            "source": [
                "#results_xml is a record.blast object\n",
                "#It returns all the results as lists!! \n",
                "for result in results_xml.descriptions:\n",
                "    result_1 = result.score\n",
                "    print(result_1)"
            ],
            "outputs": [
                {
                    "output_type": "stream",
                    "name": "stdout",
                    "text": [
                        "3528.0\n",
                        "3527.0\n",
                        "3526.0\n",
                        "3521.0\n",
                        "3519.0\n",
                        "3517.0\n",
                        "3516.0\n",
                        "3511.0\n",
                        "3489.0\n",
                        "3488.0\n",
                        "3484.0\n",
                        "3477.0\n",
                        "3477.0\n",
                        "3476.0\n",
                        "3466.0\n",
                        "3424.0\n",
                        "3417.0\n",
                        "3412.0\n",
                        "3410.0\n",
                        "3365.0\n",
                        "3337.0\n",
                        "3329.0\n",
                        "3285.0\n",
                        "3282.0\n",
                        "3282.0\n",
                        "3281.0\n",
                        "3277.0\n",
                        "3276.0\n",
                        "3275.0\n",
                        "3273.0\n",
                        "3270.0\n",
                        "3269.0\n",
                        "3267.0\n",
                        "3267.0\n",
                        "3264.0\n",
                        "3264.0\n",
                        "3258.0\n",
                        "3256.0\n",
                        "3254.0\n",
                        "3251.0\n",
                        "3246.0\n",
                        "3223.0\n",
                        "3222.0\n",
                        "3211.0\n",
                        "3197.0\n",
                        "3176.0\n",
                        "3176.0\n",
                        "3169.0\n",
                        "3162.0\n",
                        "3160.0\n"
                    ]
                }
            ],
            "metadata": {}
        }
    ],
    "metadata": {
        "orig_nbformat": 4,
        "language_info": {
            "name": "python",
            "version": "3.9.5",
            "mimetype": "text/x-python",
            "codemirror_mode": {
                "name": "ipython",
                "version": 3
            },
            "pygments_lexer": "ipython3",
            "nbconvert_exporter": "python",
            "file_extension": ".py"
        },
        "kernelspec": {
            "name": "python3",
            "display_name": "Python 3.9.5 64-bit"
        },
        "interpreter": {
            "hash": "aee8b7b246df8f9039afb4144a1f6fd8d2ca17a180786b69acc140d282b71a49"
        }
    },
    "nbformat": 4,
    "nbformat_minor": 2
}