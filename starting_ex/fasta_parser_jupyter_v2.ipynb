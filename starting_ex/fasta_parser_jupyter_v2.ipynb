{
    "cells": [
        {
            "cell_type": "code",
            "execution_count": 6,
            "source": [
                "import pandas as pd\n",
                "import numpy as np\n",
                "from Bio import SeqIO, SeqRecord, Seq, SearchIO\n",
                "from Bio.Blast import NCBIWWW, NCBIXML"
            ],
            "outputs": [],
            "metadata": {}
        },
        {
            "cell_type": "code",
            "execution_count": 4,
            "source": [
                "#Create sequence record\n",
                "seq_record_dictionary = SeqIO.to_dict(SeqIO.parse(\"human_mx1.fas\", 'fasta')) #parse could be substituted by read\n",
                "sequence_record = seq_record_dictionary[list(seq_record_dictionary)[0]]\n",
                "sequence_record"
            ],
            "outputs": [
                {
                    "output_type": "execute_result",
                    "data": {
                        "text/plain": [
                            "SeqRecord(seq=Seq('ATGGTTGTTTCCGAAGTGGACATCGCAAAAGCTGATCCAGCTGCTGCATCCCAC...TAA'), id='lcl|XM_005260978.4_cds_XP_005261035.1_1', name='lcl|XM_005260978.4_cds_XP_005261035.1_1', description='lcl|XM_005260978.4_cds_XP_005261035.1_1 [gene=MX1] [db_xref=GeneID:4599] [protein=interferon-induced GTP-binding protein Mx1 isoform X1] [protein_id=XP_005261035.1] [location=458..2446] [gbkey=CDS]', dbxrefs=[])"
                        ]
                    },
                    "metadata": {},
                    "execution_count": 4
                }
            ],
            "metadata": {}
        },
        {
            "cell_type": "code",
            "execution_count": 5,
            "source": [
                "#Create protein from sequence\n",
                "rna = Seq.transcribe(sequence_record.seq)\n",
                "protein = rna.translate(to_stop=True)\n",
                "protein"
            ],
            "outputs": [
                {
                    "output_type": "execute_result",
                    "data": {
                        "text/plain": [
                            "Seq('MVVSEVDIAKADPAAASHPLLLNGDATVAQKNPGSVAENNLCSQYEEKVRPCID...FPG')"
                        ]
                    },
                    "metadata": {},
                    "execution_count": 5
                }
            ],
            "metadata": {}
        },
        {
            "cell_type": "code",
            "execution_count": 7,
            "source": [
                "#Run BLASTn and store results in .xml file\n",
                "result_handler = NCBIWWW.qblast('blastn', 'nt', sequence_record.seq) #can add entrez_query='taxid'\n",
                "result_storer = result_handler.read()\n",
                "with open('search_from_parser2.xml', 'w') as savefile:\n",
                "        savefile.write(result_storer)"
            ],
            "outputs": [],
            "metadata": {}
        },
        {
            "cell_type": "code",
            "execution_count": 27,
            "source": [
                "#Import saved .xml file with SearchIO \n",
                "results_searchio = SearchIO.read('search_from_parser2.xml', 'blast-xml')\n",
                "\n",
                "#Unpacking of upper object (QueryResult)\n",
                "print(results_searchio.seq_len) #in the upper object it is stored the length of the DNA molecule submitted for analysis\n",
                "print(results_searchio.program)\n",
                "print(results_searchio.version)\n",
                "print(results_searchio.target) #database\n",
                "print(results_searchio.id) #query id No is default\n",
                "#with results_searchio.param.... can get the parameters used for the blast alingments\n",
                "\n",
                "#for result in results_searchio:\n",
                "#    print(result.id)"
            ],
            "outputs": [
                {
                    "output_type": "stream",
                    "name": "stdout",
                    "text": [
                        "1989\n",
                        "blastn\n",
                        "2.12.0+\n",
                        "nt\n",
                        "No\n"
                    ]
                }
            ],
            "metadata": {}
        },
        {
            "cell_type": "code",
            "execution_count": 28,
            "source": [
                "#Unpacking of first result (Hit object) (done for single object so not to have excessive output#)\n",
                "#ignore query ID, description and length as already unpacked from upper object\n",
                "result1 = results_searchio[0]\n",
                "print(result1.id)\n",
                "print(result1.description)\n",
                "print(result1.seq_len) #query length\n",
                "print(result1.accession)\n"
            ],
            "outputs": [
                {
                    "output_type": "stream",
                    "name": "stdout",
                    "text": [
                        "gi|1519315249|ref|NM_002462.5|\n",
                        "Homo sapiens MX dynamin like GTPase 1 (MX1), transcript variant 2, mRNA\n",
                        "2776\n",
                        "NM_002462\n"
                    ]
                }
            ],
            "metadata": {}
        },
        {
            "cell_type": "code",
            "execution_count": 41,
            "source": [
                "#Unpacking the HSPs from the same Hit object (high scoring segment pair) (remember that blast uses local alignment and could be biased)\n",
                "#Given that the .hsps parameter returns a list of length 1\n",
                "result1_hsp = result1.hsps[0]\n",
                "print(result1_hsp.bitscore)\n",
                "print(result1_hsp.bitscore_raw)\n",
                "print(result1_hsp.evalue)\n",
                "print(result1_hsp.query_start)\n",
                "print(result1_hsp.query_end)\n",
                "print(result1_hsp.hit_start)\n",
                "print(result1_hsp.hit_end)\n",
                "print(result1_hsp.query_frame)\n",
                "print(result1_hsp.hit_frame)\n",
                "print(result1_hsp.ident_num)\n",
                "print(result1_hsp.pos_num)\n",
                "print(result1_hsp.gap_num)\n",
                "print(result1_hsp.aln_span)\n",
                "print(result1_hsp.query) #Query Seq object! important to run local alignments"
            ],
            "outputs": [
                {
                    "output_type": "stream",
                    "name": "stdout",
                    "text": [
                        "3588.19\n",
                        "3978\n",
                        "0.0\n",
                        "0\n",
                        "1989\n",
                        "333\n",
                        "2322\n",
                        "1\n",
                        "1\n",
                        "1989\n",
                        "1989\n",
                        "0\n",
                        "1989\n",
                        "ID: No\n",
                        "Name: aligned query sequence\n",
                        "Description: definition line\n",
                        "Number of features: 0\n",
                        "/molecule_type=DNA\n",
                        "Seq('ATGGTTGTTTCCGAAGTGGACATCGCAAAAGCTGATCCAGCTGCTGCATCCCAC...TAA')\n"
                    ]
                }
            ],
            "metadata": {}
        },
        {
            "cell_type": "code",
            "execution_count": null,
            "source": [
                "#Import saved .xml with NCBIXML\n"
            ],
            "outputs": [],
            "metadata": {}
        }
    ],
    "metadata": {
        "orig_nbformat": 4,
        "language_info": {
            "name": "python",
            "version": "3.9.5",
            "mimetype": "text/x-python",
            "codemirror_mode": {
                "name": "ipython",
                "version": 3
            },
            "pygments_lexer": "ipython3",
            "nbconvert_exporter": "python",
            "file_extension": ".py"
        },
        "kernelspec": {
            "name": "python3",
            "display_name": "Python 3.9.5 64-bit"
        },
        "interpreter": {
            "hash": "aee8b7b246df8f9039afb4144a1f6fd8d2ca17a180786b69acc140d282b71a49"
        }
    },
    "nbformat": 4,
    "nbformat_minor": 2
}