{
    "cells": [
        {
            "cell_type": "code",
            "execution_count": 3,
            "source": [
                "import pandas as pd\n",
                "import numpy as np\n",
                "from Bio import SeqIO, SeqRecord, Seq, SearchIO\n",
                "from Bio.Blast import NCBIWWW, NCBIXML"
            ],
            "outputs": [],
            "metadata": {}
        },
        {
            "cell_type": "code",
            "execution_count": null,
            "source": [
                "#Create sequence record\n",
                "seq_record_dictionary = SeqIO.to_dict(SeqIO.parse(\"human_mx1.fas\", 'fasta')) #parse could be substituted by read\n",
                "sequence_record = seq_record_dictionary[list(seq_record_dictionary)[0]]\n",
                "sequence_record"
            ],
            "outputs": [],
            "metadata": {}
        },
        {
            "cell_type": "code",
            "execution_count": null,
            "source": [
                "#Create protein from sequence\n",
                "rna = Seq.transcribe(sequence_record.seq)\n",
                "protein = rna.translate(to_stop=True)\n",
                "protein"
            ],
            "outputs": [],
            "metadata": {}
        },
        {
            "cell_type": "code",
            "execution_count": null,
            "source": [
                "#Run BLASTn and store results in .xml file\n",
                "result_handler = NCBIWWW.qblast('blastn', 'nt', sequence_record.seq) #can add entrez_query='txid000000'\n",
                "result_storer = result_handler.read()\n",
                "with open('search_from_parser2.xml', 'w') as savefile:\n",
                "        savefile.write(result_storer)"
            ],
            "outputs": [],
            "metadata": {}
        },
        {
            "cell_type": "code",
            "execution_count": 4,
            "source": [
                "#Import saved .xml file with SearchIO \n",
                "results_searchio = SearchIO.read('search_from_parser2.xml', 'blast-xml')\n",
                "\n",
                "#Unpacking of upper object (QueryResult)\n",
                "print(results_searchio.seq_len) #in the upper object it is stored the length of the DNA molecule submitted for analysis\n",
                "print(results_searchio.program)\n",
                "print(results_searchio.version)\n",
                "print(results_searchio.target) #database\n",
                "print(results_searchio.id) #query id No is default\n",
                "#with results_searchio.param.... can get the parameters used for the blast alingments\n",
                "\n",
                "#for result in results_searchio:\n",
                "#    print(result.id)"
            ],
            "outputs": [
                {
                    "output_type": "stream",
                    "name": "stdout",
                    "text": [
                        "1989\n",
                        "blastn\n",
                        "2.12.0+\n",
                        "nt\n",
                        "No\n"
                    ]
                }
            ],
            "metadata": {}
        },
        {
            "cell_type": "code",
            "execution_count": null,
            "source": [
                "#Unpacking of first result (Hit object) (done for single object so not to have excessive output#)\n",
                "#ignore query ID, description and length as already unpacked from upper object\n",
                "result1 = results_searchio[0]\n",
                "print(result1.id)\n",
                "print(result1.description)\n",
                "print(result1.seq_len) #sequence length\n",
                "print(result1.accession)\n"
            ],
            "outputs": [],
            "metadata": {}
        },
        {
            "cell_type": "code",
            "execution_count": null,
            "source": [
                "for result in results_searchio:\n",
                "    print(result.id)"
            ],
            "outputs": [],
            "metadata": {}
        },
        {
            "cell_type": "code",
            "execution_count": null,
            "source": [
                "#Unpacking the HSPs from the same Hit object (high scoring segment pair) (remember that blast uses local alignment and could be biased)\n",
                "#Given that the .hsps parameter returns a list of length 1\n",
                "result1_hsp = result1.hsps[0]\n",
                "print(result1_hsp.bitscore)\n",
                "print(result1_hsp.bitscore_raw)\n",
                "print(result1_hsp.evalue)\n",
                "print(result1_hsp.query_start)\n",
                "print(result1_hsp.query_end)\n",
                "print(result1_hsp.hit_start)\n",
                "print(result1_hsp.hit_end)\n",
                "print(result1_hsp.query_frame)\n",
                "print(result1_hsp.hit_frame)\n",
                "print(result1_hsp.ident_num)\n",
                "print(result1_hsp.pos_num)\n",
                "print(result1_hsp.gap_num)\n",
                "print(result1_hsp.aln_span) #!!! Length of alignment\n",
                "print(result1_hsp.query) #Query Seq object! important to run local alignments\n",
                "\n",
                "print('\\nseparate\\n')\n",
                "print(result1_hsp.query.seq) # this object only stores the alingment sequence (1989 characters) instead of the hit one of 2776"
            ],
            "outputs": [],
            "metadata": {}
        },
        {
            "cell_type": "code",
            "execution_count": null,
            "source": [
                "#make a dictionary\n",
                "\n",
                "blast_dictionary = {'id' : [], 'description' : [], 'seq_length' : [], 'accession' : [], 'bitscore' : [], 'bitscore_raw' : [], \n",
                "'evalue' : [], 'hit_start' : [], 'hit_end' : [], 'query_frame' : [], 'gap_num' : [], 'aln_span' : []}\n",
                "\n",
                "for result in results_searchio:\n",
                "    blast_dictionary['id'].append(result.id)\n",
                "    blast_dictionary['description'].append(result.description)\n",
                "    blast_dictionary['seq_length'].append(result.seq_len)\n",
                "    blast_dictionary['accession'].append(result.accession)\n",
                "    result_hsp = result.hsps[0] #need to doublecheck because there could be more than 1 HSP (likely the first is most significant)\n",
                "    blast_dictionary['bitscore'].append(result_hsp.bitscore)\n",
                "    blast_dictionary['bitscore_raw'].append(result_hsp.bitscore_raw)\n",
                "    blast_dictionary['evalue'].append(result_hsp.evalue)\n",
                "    blast_dictionary['hit_start'].append(result_hsp.hit_start)\n",
                "    blast_dictionary['hit_end'].append(result_hsp.hit_end)\n",
                "    blast_dictionary['query_frame'].append(result_hsp.query_frame)\n",
                "    blast_dictionary['gap_num'].append(result_hsp.gap_num)\n",
                "    blast_dictionary['aln_span'].append(result_hsp.aln_span)\n"
            ],
            "outputs": [],
            "metadata": {}
        },
        {
            "cell_type": "code",
            "execution_count": 24,
            "source": [
                "#Make a dictionary that deals with multiple HSPS\n",
                "#This dictionary creates a different entry for each HSP\n",
                "\n",
                "def redundant_blast_to_dictionary(blastresult):\n",
                "    blast_dictionary = {'id' : [], 'description' : [], 'seq_length' : [], 'accession' : [], 'bitscore' : [], 'bitscore_raw' : [], \n",
                "    'evalue' : [], 'hit_start' : [], 'hit_end' : [], 'query_frame' : [], 'gap_num' : [], 'aln_span' : []}\n",
                "\n",
                "    for result in blastresult:\n",
                "        for i in range(len(result.hsps)):    \n",
                "            blast_dictionary['id'].append(result.id)\n",
                "            blast_dictionary['description'].append(result.description)\n",
                "            blast_dictionary['seq_length'].append(result.seq_len)\n",
                "            blast_dictionary['accession'].append(result.accession)\n",
                "            result_hsp = result.hsps[i] #need to doublecheck because there could be more than 1 HSP (likely the first is most significant)\n",
                "            blast_dictionary['bitscore'].append(result_hsp.bitscore)\n",
                "            blast_dictionary['bitscore_raw'].append(result_hsp.bitscore_raw)\n",
                "            blast_dictionary['evalue'].append(result_hsp.evalue)\n",
                "            blast_dictionary['hit_start'].append(result_hsp.hit_start)\n",
                "            blast_dictionary['hit_end'].append(result_hsp.hit_end)\n",
                "            blast_dictionary['query_frame'].append(result_hsp.query_frame)\n",
                "            blast_dictionary['gap_num'].append(result_hsp.gap_num)\n",
                "            blast_dictionary['aln_span'].append(result_hsp.aln_span)\n",
                "    return blast_dictionary\n",
                "\n",
                "#No multiple HSPS\n",
                "#print(redundant_blast_to_dictionary(results_searchio))\n",
                "\n",
                "#With multiple HSPS \n",
                "#results_mult_hsps = SearchIO.read('for_loop_search_txid9592.xml', 'blast-xml')\n",
                "print(redundant_blast_to_dictionary(results_mult_hsps))"
            ],
            "outputs": [
                {
                    "output_type": "stream",
                    "name": "stdout",
                    "text": [
                        "{'id': ['gi|525344602|ref|NM_001279761.1|', 'gi|1753056057|ref|XM_019017591.2|', 'gi|1753056056|ref|XM_019017590.2|', 'gi|1753056055|ref|XM_019017589.2|', 'gi|1753056054|ref|XM_019017588.2|', 'gi|1753056053|ref|XM_019017587.2|', 'gi|1753056052|ref|XM_019017586.2|', 'gi|1753056051|ref|XM_019017585.2|', 'gi|1753056058|ref|XM_031005077.1|', 'gi|1753056058|ref|XM_031005077.1|', 'gi|1753056672|ref|XM_019017900.2|', 'gi|1753056670|ref|XM_004062835.3|', 'gi|1753056668|ref|XM_019017898.2|', 'gi|948542510|gb|KT698238.1|', 'gi|1753053231|ref|XM_031004421.1|', 'gi|1753086199|ref|XR_004071381.1|', 'gi|1753086199|ref|XR_004071381.1|', 'gi|1753086198|ref|XR_004071380.1|', 'gi|1753086198|ref|XR_004071380.1|', 'gi|1753086196|ref|XM_031014265.1|', 'gi|1753086196|ref|XM_031014265.1|', 'gi|1753086194|ref|XM_031014264.1|', 'gi|1753086194|ref|XM_031014264.1|', 'gi|1753086192|ref|XM_031014263.1|', 'gi|1753086192|ref|XM_031014263.1|', 'gi|1753086190|ref|XM_031014262.1|', 'gi|1753086190|ref|XM_031014262.1|', 'gi|1753086188|ref|XM_031014261.1|', 'gi|1753086188|ref|XM_031014261.1|', 'gi|1753086186|ref|XM_031014260.1|', 'gi|1753086186|ref|XM_031014260.1|', 'gi|1753086184|ref|XM_031014259.1|', 'gi|1753086184|ref|XM_031014259.1|', 'gi|1753086182|ref|XM_031014258.1|', 'gi|1753086182|ref|XM_031014258.1|', 'gi|1753086180|ref|XM_031014257.1|', 'gi|1753086180|ref|XM_031014257.1|', 'gi|1753086178|ref|XM_031014256.1|', 'gi|1753086178|ref|XM_031014256.1|', 'gi|1753024318|ref|XM_031012314.1|', 'gi|1753024317|ref|XM_019026686.2|', 'gi|1753024316|ref|XM_019026673.2|', 'gi|1753024315|ref|XM_019026671.2|', 'gi|1753024314|ref|XM_019026667.2|', 'gi|1099067439|ref|XM_019026694.1|', 'gi|1099067427|ref|XM_019026682.1|', 'gi|1099067421|ref|XM_019026675.1|', 'gi|1753043789|ref|XM_004056249.2|', 'gi|1753038627|ref|XM_031001099.1|', 'gi|1753038625|ref|XM_019038595.2|', 'gi|1753087326|ref|XM_004047763.3|', 'gi|1099120382|ref|XM_004053112.2|', 'gi|1099120378|ref|XM_004053108.2|', 'gi|1753075294|ref|XM_031011642.1|', 'gi|1753052414|ref|XM_031004208.1|', 'gi|1099136459|ref|XR_002008569.1|', 'gi|299473817|gb|AC240968.2|', 'gi|1753078201|ref|XM_004044579.3|', 'gi|1753077975|ref|XM_004043944.3|', 'gi|1753077974|ref|XM_004043943.3|', 'gi|1753077973|ref|XM_004043942.3|', 'gi|1753058059|ref|XM_031005608.1|', 'gi|1753058058|ref|XM_019018257.2|'], 'description': ['Gorilla gorilla MX dynamin like GTPase 1 (MX1), mRNA', 'PREDICTED: Gorilla gorilla gorilla MX dynamin like GTPase 1 (MX1), transcript variant X7, mRNA', 'PREDICTED: Gorilla gorilla gorilla MX dynamin like GTPase 1 (MX1), transcript variant X6, mRNA', 'PREDICTED: Gorilla gorilla gorilla MX dynamin like GTPase 1 (MX1), transcript variant X5, mRNA', 'PREDICTED: Gorilla gorilla gorilla MX dynamin like GTPase 1 (MX1), transcript variant X4, mRNA', 'PREDICTED: Gorilla gorilla gorilla MX dynamin like GTPase 1 (MX1), transcript variant X3, mRNA', 'PREDICTED: Gorilla gorilla gorilla MX dynamin like GTPase 1 (MX1), transcript variant X2, mRNA', 'PREDICTED: Gorilla gorilla gorilla MX dynamin like GTPase 1 (MX1), transcript variant X1, mRNA', 'PREDICTED: Gorilla gorilla gorilla MX dynamin like GTPase 1 (MX1), transcript variant X8, mRNA', 'PREDICTED: Gorilla gorilla gorilla MX dynamin like GTPase 1 (MX1), transcript variant X8, mRNA', 'PREDICTED: Gorilla gorilla gorilla MX dynamin like GTPase 2 (MX2), transcript variant X3, mRNA', 'PREDICTED: Gorilla gorilla gorilla MX dynamin like GTPase 2 (MX2), transcript variant X2, mRNA', 'PREDICTED: Gorilla gorilla gorilla MX dynamin like GTPase 2 (MX2), transcript variant X1, mRNA', 'Gorilla gorilla myxovirus resistance 2 protein (Mx2) mRNA, partial cds', 'PREDICTED: Gorilla gorilla gorilla dynamin 2 (DNM2), mRNA', 'PREDICTED: Gorilla gorilla gorilla dynamin 1 (DNM1), transcript variant X12, misc_RNA', 'PREDICTED: Gorilla gorilla gorilla dynamin 1 (DNM1), transcript variant X12, misc_RNA', 'PREDICTED: Gorilla gorilla gorilla dynamin 1 (DNM1), transcript variant X11, misc_RNA', 'PREDICTED: Gorilla gorilla gorilla dynamin 1 (DNM1), transcript variant X11, misc_RNA', 'PREDICTED: Gorilla gorilla gorilla dynamin 1 (DNM1), transcript variant X10, mRNA', 'PREDICTED: Gorilla gorilla gorilla dynamin 1 (DNM1), transcript variant X10, mRNA', 'PREDICTED: Gorilla gorilla gorilla dynamin 1 (DNM1), transcript variant X9, mRNA', 'PREDICTED: Gorilla gorilla gorilla dynamin 1 (DNM1), transcript variant X9, mRNA', 'PREDICTED: Gorilla gorilla gorilla dynamin 1 (DNM1), transcript variant X8, mRNA', 'PREDICTED: Gorilla gorilla gorilla dynamin 1 (DNM1), transcript variant X8, mRNA', 'PREDICTED: Gorilla gorilla gorilla dynamin 1 (DNM1), transcript variant X7, mRNA', 'PREDICTED: Gorilla gorilla gorilla dynamin 1 (DNM1), transcript variant X7, mRNA', 'PREDICTED: Gorilla gorilla gorilla dynamin 1 (DNM1), transcript variant X6, mRNA', 'PREDICTED: Gorilla gorilla gorilla dynamin 1 (DNM1), transcript variant X6, mRNA', 'PREDICTED: Gorilla gorilla gorilla dynamin 1 (DNM1), transcript variant X5, mRNA', 'PREDICTED: Gorilla gorilla gorilla dynamin 1 (DNM1), transcript variant X5, mRNA', 'PREDICTED: Gorilla gorilla gorilla dynamin 1 (DNM1), transcript variant X4, mRNA', 'PREDICTED: Gorilla gorilla gorilla dynamin 1 (DNM1), transcript variant X4, mRNA', 'PREDICTED: Gorilla gorilla gorilla dynamin 1 (DNM1), transcript variant X3, mRNA', 'PREDICTED: Gorilla gorilla gorilla dynamin 1 (DNM1), transcript variant X3, mRNA', 'PREDICTED: Gorilla gorilla gorilla dynamin 1 (DNM1), transcript variant X2, mRNA', 'PREDICTED: Gorilla gorilla gorilla dynamin 1 (DNM1), transcript variant X2, mRNA', 'PREDICTED: Gorilla gorilla gorilla dynamin 1 (DNM1), transcript variant X1, mRNA', 'PREDICTED: Gorilla gorilla gorilla dynamin 1 (DNM1), transcript variant X1, mRNA', 'PREDICTED: Gorilla gorilla gorilla dynamin 3 (DNM3), transcript variant X7, mRNA', 'PREDICTED: Gorilla gorilla gorilla dynamin 3 (DNM3), transcript variant X6, mRNA', 'PREDICTED: Gorilla gorilla gorilla dynamin 3 (DNM3), transcript variant X3, mRNA', 'PREDICTED: Gorilla gorilla gorilla dynamin 3 (DNM3), transcript variant X2, mRNA', 'PREDICTED: Gorilla gorilla gorilla dynamin 3 (DNM3), transcript variant X1, mRNA', 'PREDICTED: Gorilla gorilla gorilla dynamin 3 (DNM3), transcript variant X8, mRNA', 'PREDICTED: Gorilla gorilla gorilla dynamin 3 (DNM3), transcript variant X5, mRNA', 'PREDICTED: Gorilla gorilla gorilla dynamin 3 (DNM3), transcript variant X4, mRNA', 'PREDICTED: Gorilla gorilla gorilla myocardial zonula adherens protein (MYZAP), mRNA', 'PREDICTED: Gorilla gorilla gorilla growth differentiation factor 11 (GDF11), transcript variant X2, mRNA', 'PREDICTED: Gorilla gorilla gorilla growth differentiation factor 11 (GDF11), transcript variant X1, mRNA', 'PREDICTED: Gorilla gorilla gorilla adenylate kinase 3 (AK3), transcript variant X1, mRNA', 'PREDICTED: Gorilla gorilla gorilla cytochrome c oxidase assembly protein COX14 (LOC101131769), transcript variant X2, mRNA', 'PREDICTED: Gorilla gorilla gorilla cytochrome c oxidase assembly protein COX14 (LOC101131769), transcript variant X1, mRNA', 'PREDICTED: Gorilla gorilla gorilla coiled-coil domain containing 57 (CCDC57), mRNA', 'PREDICTED: Gorilla gorilla gorilla syntaxin binding protein 2 (STXBP2), mRNA', 'PREDICTED: Gorilla gorilla gorilla uncharacterized LOC101135728 (LOC101135728), ncRNA', 'Gorilla gorilla BAC clone CH277-205P14 from chromosome 12, complete sequence', 'PREDICTED: Gorilla gorilla gorilla RWD domain containing 1 (RWDD1), mRNA', 'PREDICTED: Gorilla gorilla gorilla ring finger protein 8 (RNF8), transcript variant X3, mRNA', 'PREDICTED: Gorilla gorilla gorilla ring finger protein 8 (RNF8), transcript variant X2, mRNA', 'PREDICTED: Gorilla gorilla gorilla ring finger protein 8 (RNF8), transcript variant X1, mRNA', 'PREDICTED: Gorilla gorilla gorilla phospholipase A2 group VI (PLA2G6), transcript variant X11, mRNA', 'PREDICTED: Gorilla gorilla gorilla phospholipase A2 group VI (PLA2G6), transcript variant X10, mRNA'], 'seq_length': [1989, 2838, 2870, 2773, 2880, 2911, 2965, 2974, 2001, 2001, 3238, 3488, 3075, 2103, 2059, 2671, 2671, 3213, 3213, 3280, 3280, 3310, 3310, 2758, 2758, 2765, 2765, 3280, 3280, 3243, 3243, 3228, 3228, 3235, 3235, 3874, 3874, 3874, 3874, 2905, 7636, 7648, 7666, 7678, 2810, 2854, 2917, 2398, 1375, 3718, 2728, 534, 978, 3356, 1885, 1362, 146531, 4058, 2227, 1908, 2149, 2410, 2897], 'accession': ['NM_001279761', 'XM_019017591', 'XM_019017590', 'XM_019017589', 'XM_019017588', 'XM_019017587', 'XM_019017586', 'XM_019017585', 'XM_031005077', 'XM_031005077', 'XM_019017900', 'XM_004062835', 'XM_019017898', 'KT698238', 'XM_031004421', 'XR_004071381', 'XR_004071381', 'XR_004071380', 'XR_004071380', 'XM_031014265', 'XM_031014265', 'XM_031014264', 'XM_031014264', 'XM_031014263', 'XM_031014263', 'XM_031014262', 'XM_031014262', 'XM_031014261', 'XM_031014261', 'XM_031014260', 'XM_031014260', 'XM_031014259', 'XM_031014259', 'XM_031014258', 'XM_031014258', 'XM_031014257', 'XM_031014257', 'XM_031014256', 'XM_031014256', 'XM_031012314', 'XM_019026686', 'XM_019026673', 'XM_019026671', 'XM_019026667', 'XM_019026694', 'XM_019026682', 'XM_019026675', 'XM_004056249', 'XM_031001099', 'XM_019038595', 'XM_004047763', 'XM_004053112', 'XM_004053108', 'XM_031011642', 'XM_031004208', 'XR_002008569', 'AC240968', 'XM_004044579', 'XM_004043944', 'XM_004043943', 'XM_004043942', 'XM_031005608', 'XM_019018257'], 'bitscore': [3470.97, 3461.95, 3461.95, 3461.95, 3461.95, 3461.95, 3461.95, 3461.95, 2208.61, 416.963, 902.069, 902.069, 902.069, 902.069, 50.8789, 45.4688, 45.4688, 45.4688, 45.4688, 45.4688, 45.4688, 45.4688, 45.4688, 45.4688, 45.4688, 45.4688, 45.4688, 45.4688, 45.4688, 45.4688, 45.4688, 45.4688, 45.4688, 45.4688, 45.4688, 45.4688, 45.4688, 45.4688, 45.4688, 42.7638, 42.7638, 42.7638, 42.7638, 42.7638, 42.7638, 42.7638, 42.7638, 40.0587, 40.0587, 40.0587, 39.157, 39.157, 39.157, 38.2554, 38.2554, 38.2554, 38.2554, 37.3537, 37.3537, 37.3537, 37.3537, 37.3537, 37.3537], 'bitscore_raw': [3848, 3838, 3838, 3838, 3838, 3838, 3838, 3838, 2448, 461, 999, 999, 999, 999, 55, 49, 49, 49, 49, 49, 49, 49, 49, 49, 49, 49, 49, 49, 49, 49, 49, 49, 49, 49, 49, 49, 49, 49, 49, 46, 46, 46, 46, 46, 46, 46, 46, 43, 43, 43, 42, 42, 42, 41, 41, 41, 41, 40, 40, 40, 40, 40, 40], 'evalue': [0.0, 0.0, 0.0, 0.0, 0.0, 0.0, 0.0, 0.0, 0.0, 2.60859e-114, 0.0, 0.0, 0.0, 0.0, 0.000415558, 0.01767, 0.01767, 0.01767, 0.01767, 0.01767, 0.01767, 0.01767, 0.01767, 0.01767, 0.01767, 0.01767, 0.01767, 0.01767, 0.01767, 0.01767, 0.01767, 0.01767, 0.01767, 0.01767, 0.01767, 0.01767, 0.01767, 0.01767, 0.01767, 0.0616742, 0.0616742, 0.0616742, 0.0616742, 0.0616742, 0.0616742, 0.0616742, 0.0616742, 0.751346, 0.751346, 0.751346, 0.751346, 0.751346, 0.751346, 2.62246, 2.62246, 2.62246, 2.62246, 2.62246, 2.62246, 2.62246, 2.62246, 2.62246, 2.62246], 'hit_start': [0, 391, 423, 326, 433, 464, 518, 527, 39, 1310, 635, 885, 472, 255, 329, 190, 677, 190, 677, 190, 677, 190, 677, 190, 677, 190, 677, 190, 677, 190, 677, 190, 677, 190, 677, 190, 677, 190, 677, 278, 278, 278, 278, 278, 278, 278, 278, 857, 407, 438, 260, 119, 563, 977, 1136, 50, 31343, 318, 1393, 1287, 1315, 1710, 2197], 'hit_end': [1989, 2380, 2412, 2315, 2422, 2453, 2507, 2516, 1313, 1543, 2161, 2411, 1998, 1781, 394, 257, 754, 257, 754, 257, 754, 257, 754, 257, 754, 257, 754, 257, 754, 257, 754, 257, 754, 257, 754, 257, 754, 257, 754, 326, 326, 326, 326, 326, 326, 326, 326, 891, 452, 483, 296, 150, 594, 1016, 1159, 80, 31366, 343, 1431, 1325, 1353, 1741, 2228], 'query_frame': [1, 1, 1, 1, 1, 1, 1, 1, 1, 1, 1, 1, 1, 1, 1, 1, 1, 1, 1, 1, 1, 1, 1, 1, 1, 1, 1, 1, 1, 1, 1, 1, 1, 1, 1, 1, 1, 1, 1, 1, 1, 1, 1, 1, 1, 1, 1, 1, 1, 1, 1, 1, 1, 1, 1, 1, 1, 1, 1, 1, 1, 1, 1], 'gap_num': [0, 0, 0, 0, 0, 0, 0, 0, 0, 0, 17, 17, 17, 17, 0, 0, 0, 0, 0, 0, 0, 0, 0, 0, 0, 0, 0, 0, 0, 0, 0, 0, 0, 0, 0, 0, 0, 0, 0, 0, 0, 0, 0, 0, 0, 0, 0, 0, 3, 3, 0, 0, 0, 4, 0, 1, 0, 0, 3, 3, 3, 1, 1], 'aln_span': [1989, 1989, 1989, 1989, 1989, 1989, 1989, 1989, 1274, 233, 1536, 1536, 1536, 1536, 65, 67, 77, 67, 77, 67, 77, 67, 77, 67, 77, 67, 77, 67, 77, 67, 77, 67, 77, 67, 77, 67, 77, 67, 77, 48, 48, 48, 48, 48, 48, 48, 48, 34, 45, 45, 36, 31, 31, 41, 23, 30, 23, 25, 41, 41, 41, 32, 32]}\n"
                    ]
                }
            ],
            "metadata": {}
        },
        {
            "cell_type": "code",
            "execution_count": 10,
            "source": [
                "#Make a dictionary that deals with multiple HSPS\n",
                "#This dictionary concatenates the results of multiple HSPS for each query \n",
                "\n",
                "def blast_to_dictionary(blastresult):\n",
                "    blast_dictionary = {'id' : [], 'description' : [], 'seq_length' : [], 'accession' : [], 'bitscore' : [], 'bitscore_raw' : [], \n",
                "    'evalue' : [], 'hit_start' : [], 'hit_end' : [], 'query_frame' : [], 'gap_num' : [], 'aln_span' : []}\n",
                "    for result in blastresult:\n",
                "        blast_dictionary['id'].append(result.id)\n",
                "        blast_dictionary['description'].append(result.description)\n",
                "        blast_dictionary['seq_length'].append(result.seq_len)\n",
                "        blast_dictionary['accession'].append(result.accession)\n",
                "        if len(result.hsps) == 1:\n",
                "            result_hsp = result.hsps[0] #need to doublecheck because there could be more than 1 HSP (likely the first is most significant)\n",
                "            blast_dictionary['bitscore'].append(result_hsp.bitscore)\n",
                "            blast_dictionary['bitscore_raw'].append(result_hsp.bitscore_raw)\n",
                "            blast_dictionary['evalue'].append(result_hsp.evalue)\n",
                "            blast_dictionary['hit_start'].append(result_hsp.hit_start)\n",
                "            blast_dictionary['hit_end'].append(result_hsp.hit_end)\n",
                "            blast_dictionary['query_frame'].append(result_hsp.query_frame)\n",
                "            blast_dictionary['gap_num'].append(result_hsp.gap_num)\n",
                "            blast_dictionary['aln_span'].append(result_hsp.aln_span)\n",
                "        else:\n",
                "            bitscore, bitscore_raw, evalue, hitstart, hitend, queryframe, gapnum, alnspan = '','','','','','','',''\n",
                "            for hsp in result.hsps:\n",
                "                bitscore += str(hsp.bitscore)\n",
                "                bitscore_raw += str(hsp.bitscore_raw)\n",
                "                evalue += str(hsp.evalue)\n",
                "                hitstart += str(hsp.hit_start)\n",
                "                hitend += str(hsp.hit_end)\n",
                "                queryframe += str(hsp.query_frame)\n",
                "                gapnum += str(hsp.gap_num)\n",
                "                alnspan += str(hsp.aln_span)\n",
                "                if hsp != result.hsps[-1]:\n",
                "                    bitscore += '/'\n",
                "                    bitscore_raw += '/' \n",
                "                    evalue += '/'\n",
                "                    hitstart += '/'\n",
                "                    hitend += '/'\n",
                "                    queryframe += '/'\n",
                "                    gapnum += '/' \n",
                "                    alnspan += '/' #I know it's not neat but it would give an error otherwise :(\n",
                "            blast_dictionary['bitscore'].append(bitscore)\n",
                "            blast_dictionary['bitscore_raw'].append(bitscore_raw)\n",
                "            blast_dictionary['evalue'].append(evalue)\n",
                "            blast_dictionary['hit_start'].append(hitstart)\n",
                "            blast_dictionary['hit_end'].append(hitend)\n",
                "            blast_dictionary['query_frame'].append(queryframe)\n",
                "            blast_dictionary['gap_num'].append(gapnum)\n",
                "            blast_dictionary['aln_span'].append(alnspan)\n",
                "\n",
                "    return blast_dictionary            \n",
                "\n",
                "#No multiple HSPS\n",
                "#print(blast_to_dictionary(results_searchio))\n",
                "\n",
                "#With multiple HSPS \n",
                "results_mult_hsps = SearchIO.read('for_loop_search_txid9592.xml', 'blast-xml')\n",
                "print(blast_to_dictionary(results_mult_hsps))\n",
                "\n"
            ],
            "outputs": [
                {
                    "output_type": "stream",
                    "name": "stdout",
                    "text": [
                        "{'id': ['gi|525344602|ref|NM_001279761.1|', 'gi|1753056057|ref|XM_019017591.2|', 'gi|1753056056|ref|XM_019017590.2|', 'gi|1753056055|ref|XM_019017589.2|', 'gi|1753056054|ref|XM_019017588.2|', 'gi|1753056053|ref|XM_019017587.2|', 'gi|1753056052|ref|XM_019017586.2|', 'gi|1753056051|ref|XM_019017585.2|', 'gi|1753056058|ref|XM_031005077.1|', 'gi|1753056672|ref|XM_019017900.2|', 'gi|1753056670|ref|XM_004062835.3|', 'gi|1753056668|ref|XM_019017898.2|', 'gi|948542510|gb|KT698238.1|', 'gi|1753053231|ref|XM_031004421.1|', 'gi|1753086199|ref|XR_004071381.1|', 'gi|1753086198|ref|XR_004071380.1|', 'gi|1753086196|ref|XM_031014265.1|', 'gi|1753086194|ref|XM_031014264.1|', 'gi|1753086192|ref|XM_031014263.1|', 'gi|1753086190|ref|XM_031014262.1|', 'gi|1753086188|ref|XM_031014261.1|', 'gi|1753086186|ref|XM_031014260.1|', 'gi|1753086184|ref|XM_031014259.1|', 'gi|1753086182|ref|XM_031014258.1|', 'gi|1753086180|ref|XM_031014257.1|', 'gi|1753086178|ref|XM_031014256.1|', 'gi|1753024318|ref|XM_031012314.1|', 'gi|1753024317|ref|XM_019026686.2|', 'gi|1753024316|ref|XM_019026673.2|', 'gi|1753024315|ref|XM_019026671.2|', 'gi|1753024314|ref|XM_019026667.2|', 'gi|1099067439|ref|XM_019026694.1|', 'gi|1099067427|ref|XM_019026682.1|', 'gi|1099067421|ref|XM_019026675.1|', 'gi|1753043789|ref|XM_004056249.2|', 'gi|1753038627|ref|XM_031001099.1|', 'gi|1753038625|ref|XM_019038595.2|', 'gi|1753087326|ref|XM_004047763.3|', 'gi|1099120382|ref|XM_004053112.2|', 'gi|1099120378|ref|XM_004053108.2|', 'gi|1753075294|ref|XM_031011642.1|', 'gi|1753052414|ref|XM_031004208.1|', 'gi|1099136459|ref|XR_002008569.1|', 'gi|299473817|gb|AC240968.2|', 'gi|1753078201|ref|XM_004044579.3|', 'gi|1753077975|ref|XM_004043944.3|', 'gi|1753077974|ref|XM_004043943.3|', 'gi|1753077973|ref|XM_004043942.3|', 'gi|1753058059|ref|XM_031005608.1|', 'gi|1753058058|ref|XM_019018257.2|'], 'description': ['Gorilla gorilla MX dynamin like GTPase 1 (MX1), mRNA', 'PREDICTED: Gorilla gorilla gorilla MX dynamin like GTPase 1 (MX1), transcript variant X7, mRNA', 'PREDICTED: Gorilla gorilla gorilla MX dynamin like GTPase 1 (MX1), transcript variant X6, mRNA', 'PREDICTED: Gorilla gorilla gorilla MX dynamin like GTPase 1 (MX1), transcript variant X5, mRNA', 'PREDICTED: Gorilla gorilla gorilla MX dynamin like GTPase 1 (MX1), transcript variant X4, mRNA', 'PREDICTED: Gorilla gorilla gorilla MX dynamin like GTPase 1 (MX1), transcript variant X3, mRNA', 'PREDICTED: Gorilla gorilla gorilla MX dynamin like GTPase 1 (MX1), transcript variant X2, mRNA', 'PREDICTED: Gorilla gorilla gorilla MX dynamin like GTPase 1 (MX1), transcript variant X1, mRNA', 'PREDICTED: Gorilla gorilla gorilla MX dynamin like GTPase 1 (MX1), transcript variant X8, mRNA', 'PREDICTED: Gorilla gorilla gorilla MX dynamin like GTPase 2 (MX2), transcript variant X3, mRNA', 'PREDICTED: Gorilla gorilla gorilla MX dynamin like GTPase 2 (MX2), transcript variant X2, mRNA', 'PREDICTED: Gorilla gorilla gorilla MX dynamin like GTPase 2 (MX2), transcript variant X1, mRNA', 'Gorilla gorilla myxovirus resistance 2 protein (Mx2) mRNA, partial cds', 'PREDICTED: Gorilla gorilla gorilla dynamin 2 (DNM2), mRNA', 'PREDICTED: Gorilla gorilla gorilla dynamin 1 (DNM1), transcript variant X12, misc_RNA', 'PREDICTED: Gorilla gorilla gorilla dynamin 1 (DNM1), transcript variant X11, misc_RNA', 'PREDICTED: Gorilla gorilla gorilla dynamin 1 (DNM1), transcript variant X10, mRNA', 'PREDICTED: Gorilla gorilla gorilla dynamin 1 (DNM1), transcript variant X9, mRNA', 'PREDICTED: Gorilla gorilla gorilla dynamin 1 (DNM1), transcript variant X8, mRNA', 'PREDICTED: Gorilla gorilla gorilla dynamin 1 (DNM1), transcript variant X7, mRNA', 'PREDICTED: Gorilla gorilla gorilla dynamin 1 (DNM1), transcript variant X6, mRNA', 'PREDICTED: Gorilla gorilla gorilla dynamin 1 (DNM1), transcript variant X5, mRNA', 'PREDICTED: Gorilla gorilla gorilla dynamin 1 (DNM1), transcript variant X4, mRNA', 'PREDICTED: Gorilla gorilla gorilla dynamin 1 (DNM1), transcript variant X3, mRNA', 'PREDICTED: Gorilla gorilla gorilla dynamin 1 (DNM1), transcript variant X2, mRNA', 'PREDICTED: Gorilla gorilla gorilla dynamin 1 (DNM1), transcript variant X1, mRNA', 'PREDICTED: Gorilla gorilla gorilla dynamin 3 (DNM3), transcript variant X7, mRNA', 'PREDICTED: Gorilla gorilla gorilla dynamin 3 (DNM3), transcript variant X6, mRNA', 'PREDICTED: Gorilla gorilla gorilla dynamin 3 (DNM3), transcript variant X3, mRNA', 'PREDICTED: Gorilla gorilla gorilla dynamin 3 (DNM3), transcript variant X2, mRNA', 'PREDICTED: Gorilla gorilla gorilla dynamin 3 (DNM3), transcript variant X1, mRNA', 'PREDICTED: Gorilla gorilla gorilla dynamin 3 (DNM3), transcript variant X8, mRNA', 'PREDICTED: Gorilla gorilla gorilla dynamin 3 (DNM3), transcript variant X5, mRNA', 'PREDICTED: Gorilla gorilla gorilla dynamin 3 (DNM3), transcript variant X4, mRNA', 'PREDICTED: Gorilla gorilla gorilla myocardial zonula adherens protein (MYZAP), mRNA', 'PREDICTED: Gorilla gorilla gorilla growth differentiation factor 11 (GDF11), transcript variant X2, mRNA', 'PREDICTED: Gorilla gorilla gorilla growth differentiation factor 11 (GDF11), transcript variant X1, mRNA', 'PREDICTED: Gorilla gorilla gorilla adenylate kinase 3 (AK3), transcript variant X1, mRNA', 'PREDICTED: Gorilla gorilla gorilla cytochrome c oxidase assembly protein COX14 (LOC101131769), transcript variant X2, mRNA', 'PREDICTED: Gorilla gorilla gorilla cytochrome c oxidase assembly protein COX14 (LOC101131769), transcript variant X1, mRNA', 'PREDICTED: Gorilla gorilla gorilla coiled-coil domain containing 57 (CCDC57), mRNA', 'PREDICTED: Gorilla gorilla gorilla syntaxin binding protein 2 (STXBP2), mRNA', 'PREDICTED: Gorilla gorilla gorilla uncharacterized LOC101135728 (LOC101135728), ncRNA', 'Gorilla gorilla BAC clone CH277-205P14 from chromosome 12, complete sequence', 'PREDICTED: Gorilla gorilla gorilla RWD domain containing 1 (RWDD1), mRNA', 'PREDICTED: Gorilla gorilla gorilla ring finger protein 8 (RNF8), transcript variant X3, mRNA', 'PREDICTED: Gorilla gorilla gorilla ring finger protein 8 (RNF8), transcript variant X2, mRNA', 'PREDICTED: Gorilla gorilla gorilla ring finger protein 8 (RNF8), transcript variant X1, mRNA', 'PREDICTED: Gorilla gorilla gorilla phospholipase A2 group VI (PLA2G6), transcript variant X11, mRNA', 'PREDICTED: Gorilla gorilla gorilla phospholipase A2 group VI (PLA2G6), transcript variant X10, mRNA'], 'seq_length': [1989, 2838, 2870, 2773, 2880, 2911, 2965, 2974, 2001, 3238, 3488, 3075, 2103, 2059, 2671, 3213, 3280, 3310, 2758, 2765, 3280, 3243, 3228, 3235, 3874, 3874, 2905, 7636, 7648, 7666, 7678, 2810, 2854, 2917, 2398, 1375, 3718, 2728, 534, 978, 3356, 1885, 1362, 146531, 4058, 2227, 1908, 2149, 2410, 2897], 'accession': ['NM_001279761', 'XM_019017591', 'XM_019017590', 'XM_019017589', 'XM_019017588', 'XM_019017587', 'XM_019017586', 'XM_019017585', 'XM_031005077', 'XM_019017900', 'XM_004062835', 'XM_019017898', 'KT698238', 'XM_031004421', 'XR_004071381', 'XR_004071380', 'XM_031014265', 'XM_031014264', 'XM_031014263', 'XM_031014262', 'XM_031014261', 'XM_031014260', 'XM_031014259', 'XM_031014258', 'XM_031014257', 'XM_031014256', 'XM_031012314', 'XM_019026686', 'XM_019026673', 'XM_019026671', 'XM_019026667', 'XM_019026694', 'XM_019026682', 'XM_019026675', 'XM_004056249', 'XM_031001099', 'XM_019038595', 'XM_004047763', 'XM_004053112', 'XM_004053108', 'XM_031011642', 'XM_031004208', 'XR_002008569', 'AC240968', 'XM_004044579', 'XM_004043944', 'XM_004043943', 'XM_004043942', 'XM_031005608', 'XM_019018257'], 'bitscore': [3470.97, 3461.95, 3461.95, 3461.95, 3461.95, 3461.95, 3461.95, 3461.95, '2208.61/416.963', 902.069, 902.069, 902.069, 902.069, 50.8789, '45.4688/45.4688', '45.4688/45.4688', '45.4688/45.4688', '45.4688/45.4688', '45.4688/45.4688', '45.4688/45.4688', '45.4688/45.4688', '45.4688/45.4688', '45.4688/45.4688', '45.4688/45.4688', '45.4688/45.4688', '45.4688/45.4688', 42.7638, 42.7638, 42.7638, 42.7638, 42.7638, 42.7638, 42.7638, 42.7638, 40.0587, 40.0587, 40.0587, 39.157, 39.157, 39.157, 38.2554, 38.2554, 38.2554, 38.2554, 37.3537, 37.3537, 37.3537, 37.3537, 37.3537, 37.3537], 'bitscore_raw': [3848, 3838, 3838, 3838, 3838, 3838, 3838, 3838, '2448/461', 999, 999, 999, 999, 55, '49/49', '49/49', '49/49', '49/49', '49/49', '49/49', '49/49', '49/49', '49/49', '49/49', '49/49', '49/49', 46, 46, 46, 46, 46, 46, 46, 46, 43, 43, 43, 42, 42, 42, 41, 41, 41, 41, 40, 40, 40, 40, 40, 40], 'evalue': [0.0, 0.0, 0.0, 0.0, 0.0, 0.0, 0.0, 0.0, '0.0/2.60859e-114', 0.0, 0.0, 0.0, 0.0, 0.000415558, '0.01767/0.01767', '0.01767/0.01767', '0.01767/0.01767', '0.01767/0.01767', '0.01767/0.01767', '0.01767/0.01767', '0.01767/0.01767', '0.01767/0.01767', '0.01767/0.01767', '0.01767/0.01767', '0.01767/0.01767', '0.01767/0.01767', 0.0616742, 0.0616742, 0.0616742, 0.0616742, 0.0616742, 0.0616742, 0.0616742, 0.0616742, 0.751346, 0.751346, 0.751346, 0.751346, 0.751346, 0.751346, 2.62246, 2.62246, 2.62246, 2.62246, 2.62246, 2.62246, 2.62246, 2.62246, 2.62246, 2.62246], 'hit_start': [0, 391, 423, 326, 433, 464, 518, 527, '39/1310', 635, 885, 472, 255, 329, '190/677', '190/677', '190/677', '190/677', '190/677', '190/677', '190/677', '190/677', '190/677', '190/677', '190/677', '190/677', 278, 278, 278, 278, 278, 278, 278, 278, 857, 407, 438, 260, 119, 563, 977, 1136, 50, 31343, 318, 1393, 1287, 1315, 1710, 2197], 'hit_end': [1989, 2380, 2412, 2315, 2422, 2453, 2507, 2516, '1313/1543', 2161, 2411, 1998, 1781, 394, '257/754', '257/754', '257/754', '257/754', '257/754', '257/754', '257/754', '257/754', '257/754', '257/754', '257/754', '257/754', 326, 326, 326, 326, 326, 326, 326, 326, 891, 452, 483, 296, 150, 594, 1016, 1159, 80, 31366, 343, 1431, 1325, 1353, 1741, 2228], 'query_frame': [1, 1, 1, 1, 1, 1, 1, 1, '1/1', 1, 1, 1, 1, 1, '1/1', '1/1', '1/1', '1/1', '1/1', '1/1', '1/1', '1/1', '1/1', '1/1', '1/1', '1/1', 1, 1, 1, 1, 1, 1, 1, 1, 1, 1, 1, 1, 1, 1, 1, 1, 1, 1, 1, 1, 1, 1, 1, 1], 'gap_num': [0, 0, 0, 0, 0, 0, 0, 0, '0/0', 17, 17, 17, 17, 0, '0/0', '0/0', '0/0', '0/0', '0/0', '0/0', '0/0', '0/0', '0/0', '0/0', '0/0', '0/0', 0, 0, 0, 0, 0, 0, 0, 0, 0, 3, 3, 0, 0, 0, 4, 0, 1, 0, 0, 3, 3, 3, 1, 1], 'aln_span': [1989, 1989, 1989, 1989, 1989, 1989, 1989, 1989, '1274/233', 1536, 1536, 1536, 1536, 65, '67/77', '67/77', '67/77', '67/77', '67/77', '67/77', '67/77', '67/77', '67/77', '67/77', '67/77', '67/77', 48, 48, 48, 48, 48, 48, 48, 48, 34, 45, 45, 36, 31, 31, 41, 23, 30, 23, 25, 41, 41, 41, 32, 32]}\n"
                    ]
                }
            ],
            "metadata": {}
        },
        {
            "cell_type": "code",
            "execution_count": null,
            "source": [
                "#No hit object has 2 HSPS\n",
                "for result in results_searchio:\n",
                "    i = 0\n",
                "    for hsp in result.hsps:\n",
                "        i += 1\n",
                "    print(i)"
            ],
            "outputs": [],
            "metadata": {}
        },
        {
            "cell_type": "code",
            "execution_count": null,
            "source": [
                "#Create dataframe\n",
                "blast_dataframe = pd.DataFrame.from_dict(blast_dictionary)\n",
                "print(blast_dataframe)"
            ],
            "outputs": [],
            "metadata": {}
        },
        {
            "cell_type": "code",
            "execution_count": null,
            "source": [
                "#Save it as .csv\n",
                "with open('csv_blast_results.csv', 'w') as savefile:\n",
                "        savefile.write(str(blast_dataframe.to_csv()))\n"
            ],
            "outputs": [],
            "metadata": {}
        },
        {
            "cell_type": "code",
            "execution_count": null,
            "source": [],
            "outputs": [],
            "metadata": {}
        },
        {
            "cell_type": "code",
            "execution_count": null,
            "source": [],
            "outputs": [],
            "metadata": {}
        },
        {
            "cell_type": "code",
            "execution_count": null,
            "source": [],
            "outputs": [],
            "metadata": {}
        },
        {
            "cell_type": "code",
            "execution_count": null,
            "source": [],
            "outputs": [],
            "metadata": {}
        },
        {
            "cell_type": "code",
            "execution_count": null,
            "source": [
                "#Import saved .xml with NCBIXML\n",
                "xml_parser = open('blastp_results.xml')\n",
                "results_xml = NCBIXML.read(xml_parser)"
            ],
            "outputs": [],
            "metadata": {}
        },
        {
            "cell_type": "code",
            "execution_count": null,
            "source": [
                "#results_xml is a record.blast object\n",
                "#It returns all the results as lists!! \n",
                "for result in results_xml.descriptions:\n",
                "    result_1 = result.score\n",
                "    print(result_1)"
            ],
            "outputs": [],
            "metadata": {}
        }
    ],
    "metadata": {
        "orig_nbformat": 4,
        "language_info": {
            "name": "python",
            "version": "3.9.5",
            "mimetype": "text/x-python",
            "codemirror_mode": {
                "name": "ipython",
                "version": 3
            },
            "pygments_lexer": "ipython3",
            "nbconvert_exporter": "python",
            "file_extension": ".py"
        },
        "kernelspec": {
            "name": "python3",
            "display_name": "Python 3.9.5 64-bit"
        },
        "interpreter": {
            "hash": "aee8b7b246df8f9039afb4144a1f6fd8d2ca17a180786b69acc140d282b71a49"
        }
    },
    "nbformat": 4,
    "nbformat_minor": 2
}