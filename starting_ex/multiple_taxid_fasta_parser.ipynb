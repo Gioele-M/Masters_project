{
 "cells": [
  {
   "cell_type": "markdown",
   "source": [
    "#Notebook for executing multiple organism filtered queries"
   ],
   "metadata": {}
  },
  {
   "cell_type": "code",
   "execution_count": 7,
   "source": [
    "import pandas as pd\n",
    "import numpy as np\n",
    "from Bio import SeqIO, SeqRecord, Seq, SearchIO\n",
    "from Bio.Blast import NCBIWWW"
   ],
   "outputs": [],
   "metadata": {}
  },
  {
   "cell_type": "code",
   "execution_count": 8,
   "source": [
    "#Create sequence record\n",
    "\n",
    "with open('human_mx1.fas') as handle:\n",
    "    sequence_record = SeqIO.read(handle, 'fasta')\n",
    "\n",
    "sequence_record"
   ],
   "outputs": [
    {
     "output_type": "execute_result",
     "data": {
      "text/plain": [
       "SeqRecord(seq=Seq('ATGGTTGTTTCCGAAGTGGACATCGCAAAAGCTGATCCAGCTGCTGCATCCCAC...TAA'), id='lcl|XM_005260978.4_cds_XP_005261035.1_1', name='lcl|XM_005260978.4_cds_XP_005261035.1_1', description='lcl|XM_005260978.4_cds_XP_005261035.1_1 [gene=MX1] [db_xref=GeneID:4599] [protein=interferon-induced GTP-binding protein Mx1 isoform X1] [protein_id=XP_005261035.1] [location=458..2446] [gbkey=CDS]', dbxrefs=[])"
      ]
     },
     "metadata": {},
     "execution_count": 8
    }
   ],
   "metadata": {}
  },
  {
   "cell_type": "code",
   "execution_count": null,
   "source": [
    "#MULTIPLE ALIGNMENT STAIGTH FROM BLAST????\n",
    "#CHANGE ALIGNMENT MATRIX?\n",
    "#USE OF BLAT???"
   ],
   "outputs": [],
   "metadata": {}
  },
  {
   "cell_type": "code",
   "execution_count": 9,
   "source": [
    "#Run BLASTn with multiple taxid in the same query\n",
    "#all [filter] NOT(environmental samples[organism] OR metagenomes[orgn]) AND txid3702[ORGN] AND txid9606[ORGN]\n",
    "result_handler = NCBIWWW.qblast('blastn', 'nt', sequence_record.seq, entrez_query= 'txid9527[ORGN] OR txid9592[ORGN]') #can add entrez_query='txid000000'\n",
    "result_storer = result_handler.read()\n",
    "with open('multiple_taxid_samerun.xml', 'w') as savefile:\n",
    "        savefile.write(result_storer)"
   ],
   "outputs": [],
   "metadata": {}
  },
  {
   "cell_type": "code",
   "execution_count": 12,
   "source": [
    "#Run BLASTn in for loop with one query per taxid\n",
    "taxid_list = ['9527', '9592']\n",
    "\n",
    "for id in taxid_list:\n",
    "    handler = NCBIWWW.qblast('blastn', 'nt', sequence_record.seq, entrez_query= f'txid{id}[ORGN]')\n",
    "    storer = handler.read()\n",
    "    with open(f'for_loop_search_txid{id}.xml', 'w') as savefile:\n",
    "        savefile.write(storer)\n"
   ],
   "outputs": [],
   "metadata": {}
  },
  {
   "cell_type": "code",
   "execution_count": null,
   "source": [],
   "outputs": [],
   "metadata": {}
  },
  {
   "cell_type": "code",
   "execution_count": null,
   "source": [],
   "outputs": [],
   "metadata": {}
  },
  {
   "cell_type": "code",
   "execution_count": null,
   "source": [],
   "outputs": [],
   "metadata": {}
  },
  {
   "cell_type": "code",
   "execution_count": null,
   "source": [],
   "outputs": [],
   "metadata": {}
  },
  {
   "cell_type": "code",
   "execution_count": null,
   "source": [
    "#Necessity to retrieve whole fasta files to perform multiple alignment"
   ],
   "outputs": [],
   "metadata": {}
  },
  {
   "cell_type": "code",
   "execution_count": 32,
   "source": [
    "#Retrieve fasta files with Entrez module?\n",
    "import Bio.Entrez\n",
    "\n",
    "Bio.Entrez.email = 'A.N.Other@example.com'\n",
    "fasta_handler = Bio.Entrez.efetch(db='nucleotide', id='JX297238', rettype = 'fasta')\n",
    "fasta_search = SeqIO.read(fasta_handler, format= 'fasta')\n",
    "print(fasta_search)\n",
    "print(len(fasta_search.seq))\n"
   ],
   "outputs": [
    {
     "output_type": "stream",
     "name": "stdout",
     "text": [
      "ID: JX297238.1\n",
      "Name: JX297238.1\n",
      "Description: JX297238.1 Macaca sylvanus myxovirus (influenza virus) resistance 1 (MxA) mRNA, complete cds\n",
      "Number of features: 0\n",
      "Seq('ATGGTTGTTTCCGAAGTGGACATTGTAAAAGCTGATCCAGCTGCTGCATCCCAA...TAA')\n",
      "1986\n"
     ]
    }
   ],
   "metadata": {}
  },
  {
   "cell_type": "code",
   "execution_count": 34,
   "source": [
    "#Function to retrieve all fastas from the result\n",
    "def retrieve_all_fastas(list_of_entries):\n",
    "    Bio.Entrez.email = 'A.N.Other@example.com'\n",
    "    list_of_sequences = []\n",
    "    for entry in list_of_entries:\n",
    "        handler = Bio.Entrez.efetch(db='nucleotide', id=entry, rettype = 'fasta', retmax=1)\n",
    "        fasta = SeqIO.read(handler, format='fasta')\n",
    "        list_of_sequences.append(fasta)\n",
    "    return list_of_sequences\n",
    "\n",
    "\n",
    "list_entries = ['JX297238', 'XM_005260982', 'NM_002462']\n",
    "f_dictionary = retrieve_all_fastas(list_entries)\n",
    "print(f_dictionary)"
   ],
   "outputs": [
    {
     "output_type": "stream",
     "name": "stdout",
     "text": [
      "[SeqRecord(seq=Seq('ATGGTTGTTTCCGAAGTGGACATTGTAAAAGCTGATCCAGCTGCTGCATCCCAA...TAA'), id='JX297238.1', name='JX297238.1', description='JX297238.1 Macaca sylvanus myxovirus (influenza virus) resistance 1 (MxA) mRNA, complete cds', dbxrefs=[]), SeqRecord(seq=Seq('GCGGGGTGAAAGAGGCGAAGCGAGAGCGGAGGCCGCACTCCAGCACTGCGCAGG...GAC'), id='XM_005260982.2', name='XM_005260982.2', description='XM_005260982.2 PREDICTED: Homo sapiens MX dynamin like GTPase 1 (MX1), transcript variant X8, mRNA', dbxrefs=[]), SeqRecord(seq=Seq('GCACTCCAGCACTGCGCAGGGACCGCCTTGGACCGCAGTTGCCGGCCAGGAATC...AGA'), id='NM_002462.5', name='NM_002462.5', description='NM_002462.5 Homo sapiens MX dynamin like GTPase 1 (MX1), transcript variant 2, mRNA', dbxrefs=[])]\n"
     ]
    }
   ],
   "metadata": {}
  },
  {
   "cell_type": "code",
   "execution_count": 43,
   "source": [
    "#Could have done it making straight a dictionary but best keeping them separate for now\n",
    "def fastas_to_dictionary(list_of_fastas):\n",
    "    dictionary_f = {'ID': [], 'Name' : [], 'Description':[], 'N_features':[], 'Sequence': []}\n",
    "    for fasta in list_of_fastas:\n",
    "        dictionary_f['ID'].append(fasta.id)\n",
    "        dictionary_f['Name'].append(fasta.name)\n",
    "        dictionary_f['Description'].append(fasta.description)\n",
    "        dictionary_f['N_features'].append(fasta.features)\n",
    "        dictionary_f['Sequence'].append(fasta.seq)\n",
    "    return dictionary_f\n",
    "\n",
    "dict_entries = fastas_to_dictionary(f_dictionary)\n",
    "print(dict_entries)\n"
   ],
   "outputs": [
    {
     "output_type": "stream",
     "name": "stdout",
     "text": [
      "{'ID': ['JX297238.1', 'XM_005260982.2', 'NM_002462.5'], 'Name': ['JX297238.1', 'XM_005260982.2', 'NM_002462.5'], 'Description': ['JX297238.1 Macaca sylvanus myxovirus (influenza virus) resistance 1 (MxA) mRNA, complete cds', 'XM_005260982.2 PREDICTED: Homo sapiens MX dynamin like GTPase 1 (MX1), transcript variant X8, mRNA', 'NM_002462.5 Homo sapiens MX dynamin like GTPase 1 (MX1), transcript variant 2, mRNA'], 'N_features': [[], [], []], 'Sequence': [Seq('ATGGTTGTTTCCGAAGTGGACATTGTAAAAGCTGATCCAGCTGCTGCATCCCAA...TAA'), Seq('GCGGGGTGAAAGAGGCGAAGCGAGAGCGGAGGCCGCACTCCAGCACTGCGCAGG...GAC'), Seq('GCACTCCAGCACTGCGCAGGGACCGCCTTGGACCGCAGTTGCCGGCCAGGAATC...AGA')]}\n"
     ]
    }
   ],
   "metadata": {}
  },
  {
   "cell_type": "code",
   "execution_count": 45,
   "source": [
    "#Create a list of entries from the query\n",
    "\n",
    "results_mult_taxid = SearchIO.read('multiple_taxid_samerun.xml', 'blast-xml')\n",
    "query_entry_list = []\n",
    "for result in results_mult_taxid:\n",
    "    query_entry_list.append(result.accession)\n",
    "\n",
    "#print(query_entry_list)\n"
   ],
   "outputs": [],
   "metadata": {}
  },
  {
   "cell_type": "code",
   "execution_count": 47,
   "source": [
    "query_fasta = retrieve_all_fastas(query_entry_list)\n",
    "query_dictionary = fastas_to_dictionary(query_fasta)\n",
    "#print(query_dictionary)"
   ],
   "outputs": [],
   "metadata": {}
  },
  {
   "cell_type": "code",
   "execution_count": null,
   "source": [
    "#NEXT!!! MULTIPLE ALIGNMENT + PRODUCING PHYLOGENETIC TREE"
   ],
   "outputs": [],
   "metadata": {}
  },
  {
   "cell_type": "code",
   "execution_count": null,
   "source": [
    "#Multiple alignment \n",
    "import Bio.AlignIO\n",
    "\n"
   ],
   "outputs": [],
   "metadata": {}
  },
  {
   "cell_type": "code",
   "execution_count": null,
   "source": [],
   "outputs": [],
   "metadata": {}
  },
  {
   "cell_type": "code",
   "execution_count": null,
   "source": [],
   "outputs": [],
   "metadata": {}
  },
  {
   "cell_type": "code",
   "execution_count": null,
   "source": [],
   "outputs": [],
   "metadata": {}
  },
  {
   "cell_type": "code",
   "execution_count": null,
   "source": [],
   "outputs": [],
   "metadata": {}
  },
  {
   "cell_type": "code",
   "execution_count": null,
   "source": [
    "#To retrieve fasta files of the hits? \n",
    "import urllib.request\n",
    "url = 'https://www.uniprot.org/uniprot/Q9LZP9.fasta'\n",
    "urllib.request.urlretrieve(url, \"chain_N.faa\")\n"
   ],
   "outputs": [],
   "metadata": {}
  }
 ],
 "metadata": {
  "orig_nbformat": 4,
  "language_info": {
   "name": "python",
   "version": "3.9.5",
   "mimetype": "text/x-python",
   "codemirror_mode": {
    "name": "ipython",
    "version": 3
   },
   "pygments_lexer": "ipython3",
   "nbconvert_exporter": "python",
   "file_extension": ".py"
  },
  "kernelspec": {
   "name": "python3",
   "display_name": "Python 3.9.5 64-bit"
  },
  "interpreter": {
   "hash": "aee8b7b246df8f9039afb4144a1f6fd8d2ca17a180786b69acc140d282b71a49"
  }
 },
 "nbformat": 4,
 "nbformat_minor": 2
}