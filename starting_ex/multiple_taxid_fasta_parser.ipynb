{
 "cells": [
  {
   "cell_type": "markdown",
   "source": [
    "#Notebook for executing multiple organism filtered queries"
   ],
   "metadata": {}
  },
  {
   "cell_type": "code",
   "execution_count": 6,
   "source": [
    "import pandas as pd\n",
    "import numpy as np\n",
    "from Bio import SeqIO, SeqRecord, Seq, SearchIO\n",
    "import Bio.Entrez\n",
    "from Bio.Blast import NCBIWWW"
   ],
   "outputs": [],
   "metadata": {}
  },
  {
   "cell_type": "code",
   "execution_count": 88,
   "source": [
    "#Create sequence record\n",
    "\n",
    "with open('human_mx1.fas') as handle:\n",
    "    sequence_record = SeqIO.read(handle, 'fasta')\n",
    "\n",
    "sequence_record"
   ],
   "outputs": [
    {
     "output_type": "execute_result",
     "data": {
      "text/plain": [
       "SeqRecord(seq=Seq('ATGGTTGTTTCCGAAGTGGACATCGCAAAAGCTGATCCAGCTGCTGCATCCCAC...TAA'), id='lcl|XM_005260978.4_cds_XP_005261035.1_1', name='lcl|XM_005260978.4_cds_XP_005261035.1_1', description='lcl|XM_005260978.4_cds_XP_005261035.1_1 [gene=MX1] [db_xref=GeneID:4599] [protein=interferon-induced GTP-binding protein Mx1 isoform X1] [protein_id=XP_005261035.1] [location=458..2446] [gbkey=CDS]', dbxrefs=[])"
      ]
     },
     "metadata": {},
     "execution_count": 88
    }
   ],
   "metadata": {}
  },
  {
   "cell_type": "code",
   "execution_count": null,
   "source": [
    "#MULTIPLE ALIGNMENT STAIGTH FROM BLAST????\n",
    "#CHANGE ALIGNMENT MATRIX?\n",
    "#USE OF BLAT???"
   ],
   "outputs": [],
   "metadata": {}
  },
  {
   "cell_type": "code",
   "execution_count": 9,
   "source": [
    "#Run BLASTn with multiple taxid in the same query\n",
    "#all [filter] NOT(environmental samples[organism] OR metagenomes[orgn]) AND txid3702[ORGN] AND txid9606[ORGN]\n",
    "result_handler = NCBIWWW.qblast('blastn', 'nt', sequence_record.seq, entrez_query= 'txid9527[ORGN] OR txid9592[ORGN]') #can add entrez_query='txid000000'\n",
    "result_storer = result_handler.read()\n",
    "with open('multiple_taxid_samerun.xml', 'w') as savefile:\n",
    "        savefile.write(result_storer)"
   ],
   "outputs": [],
   "metadata": {}
  },
  {
   "cell_type": "code",
   "execution_count": 12,
   "source": [
    "#Run BLASTn in for loop with one query per taxid\n",
    "taxid_list = ['9527', '9592']\n",
    "\n",
    "for id in taxid_list:\n",
    "    handler = NCBIWWW.qblast('blastn', 'nt', sequence_record.seq, entrez_query= f'txid{id}[ORGN]')\n",
    "    storer = handler.read()\n",
    "    with open(f'for_loop_search_txid{id}.xml', 'w') as savefile:\n",
    "        savefile.write(storer)\n"
   ],
   "outputs": [],
   "metadata": {}
  },
  {
   "cell_type": "code",
   "execution_count": 94,
   "source": [
    "#Function to run blast with a list of taxid, if list is empty no taxid is specified\n",
    "def blastn_with_taxid(sequence, list_taxid, filename):\n",
    "    result_handler, result_storer = None, None\n",
    "    if len(list_taxid) == 0:\n",
    "        result_handler = NCBIWWW.qblast('blastn', 'nt', sequence) #can add entrez_query='txid000000'\n",
    "        result_storer = result_handler.read()\n",
    "    else:\n",
    "        entrez_query = ''\n",
    "        for taxid in list_taxid:\n",
    "            entrez_query += f'txid{taxid}[ORGN]'\n",
    "            if taxid != taxid_list[-1]:\n",
    "                entrez_query += ' OR '\n",
    "        result_handler = NCBIWWW.qblast('blastn', 'nt', sequence, entrez_query= entrez_query) #can add entrez_query='txid000000'\n",
    "        result_storer = result_handler.read()\n",
    "    with open(f'{filename}.xml', 'w') as savefile:\n",
    "        savefile.write(result_storer)\n",
    "\n",
    "taxid_list = ['9592']\n",
    "\n",
    "blastn_with_taxid(sequence_record.seq, taxid_list, 'test_taxid_function')\n"
   ],
   "outputs": [],
   "metadata": {}
  },
  {
   "cell_type": "code",
   "execution_count": 95,
   "source": [
    "results_test_blast_function = SearchIO.read('test_taxid_function.xml', 'blast-xml')\n",
    "results_test_blast_function"
   ],
   "outputs": [
    {
     "output_type": "execute_result",
     "data": {
      "text/plain": [
       "QueryResult(id='No', 50 hits)"
      ]
     },
     "metadata": {},
     "execution_count": 95
    }
   ],
   "metadata": {}
  },
  {
   "cell_type": "code",
   "execution_count": null,
   "source": [],
   "outputs": [],
   "metadata": {}
  },
  {
   "cell_type": "code",
   "execution_count": null,
   "source": [
    "#Necessity to retrieve whole fasta files to perform multiple alignment"
   ],
   "outputs": [],
   "metadata": {}
  },
  {
   "cell_type": "code",
   "execution_count": 32,
   "source": [
    "#Retrieve fasta files with Entrez module?\n",
    "import Bio.Entrez\n",
    "\n",
    "Bio.Entrez.email = 'A.N.Other@example.com'\n",
    "fasta_handler = Bio.Entrez.efetch(db='nucleotide', id='JX297238', rettype = 'fasta')\n",
    "fasta_search = SeqIO.read(fasta_handler, format= 'fasta')\n",
    "print(fasta_search)\n",
    "print(len(fasta_search.seq))\n"
   ],
   "outputs": [
    {
     "output_type": "stream",
     "name": "stdout",
     "text": [
      "ID: JX297238.1\n",
      "Name: JX297238.1\n",
      "Description: JX297238.1 Macaca sylvanus myxovirus (influenza virus) resistance 1 (MxA) mRNA, complete cds\n",
      "Number of features: 0\n",
      "Seq('ATGGTTGTTTCCGAAGTGGACATTGTAAAAGCTGATCCAGCTGCTGCATCCCAA...TAA')\n",
      "1986\n"
     ]
    }
   ],
   "metadata": {}
  },
  {
   "cell_type": "code",
   "execution_count": 67,
   "source": [
    "#Function to retrieve all fastas from the result\n",
    "def retrieve_all_fastas(list_of_entries):\n",
    "    Bio.Entrez.email = 'A.N.Other@example.com'\n",
    "    list_of_sequences = []\n",
    "    for entry in list_of_entries:\n",
    "        handler = Bio.Entrez.efetch(db='nucleotide', id=entry, rettype = 'fasta', retmax=1) #!!!Genbank format\n",
    "        fasta = SeqIO.read(handler, format='fasta')\n",
    "        list_of_sequences.append(fasta)\n",
    "    return list_of_sequences\n",
    "\n",
    "\n",
    "list_entries = ['JX297238', 'XM_005260982', 'NM_002462']\n",
    "f_dictionary = retrieve_all_fastas(list_entries)\n",
    "print(f_dictionary)"
   ],
   "outputs": [
    {
     "output_type": "stream",
     "name": "stdout",
     "text": [
      "[SeqRecord(seq=Seq('ATGGTTGTTTCCGAAGTGGACATTGTAAAAGCTGATCCAGCTGCTGCATCCCAA...TAA'), id='JX297238.1', name='JX297238.1', description='JX297238.1 Macaca sylvanus myxovirus (influenza virus) resistance 1 (MxA) mRNA, complete cds', dbxrefs=[]), SeqRecord(seq=Seq('GCGGGGTGAAAGAGGCGAAGCGAGAGCGGAGGCCGCACTCCAGCACTGCGCAGG...GAC'), id='XM_005260982.2', name='XM_005260982.2', description='XM_005260982.2 PREDICTED: Homo sapiens MX dynamin like GTPase 1 (MX1), transcript variant X8, mRNA', dbxrefs=[]), SeqRecord(seq=Seq('GCACTCCAGCACTGCGCAGGGACCGCCTTGGACCGCAGTTGCCGGCCAGGAATC...AGA'), id='NM_002462.5', name='NM_002462.5', description='NM_002462.5 Homo sapiens MX dynamin like GTPase 1 (MX1), transcript variant 2, mRNA', dbxrefs=[])]\n"
     ]
    }
   ],
   "metadata": {}
  },
  {
   "cell_type": "code",
   "execution_count": 43,
   "source": [
    "#Could have done it making straight a dictionary but best keeping them separate for now\n",
    "def fastas_to_dictionary(list_of_fastas):\n",
    "    dictionary_f = {'ID': [], 'Name' : [], 'Description':[], 'N_features':[], 'Sequence': []}\n",
    "    for fasta in list_of_fastas:\n",
    "        dictionary_f['ID'].append(fasta.id)\n",
    "        dictionary_f['Name'].append(fasta.name)\n",
    "        dictionary_f['Description'].append(fasta.description)\n",
    "        dictionary_f['N_features'].append(fasta.features)\n",
    "        dictionary_f['Sequence'].append(fasta.seq)\n",
    "    return dictionary_f\n",
    "\n",
    "dict_entries = fastas_to_dictionary(f_dictionary)\n",
    "print(dict_entries)\n"
   ],
   "outputs": [
    {
     "output_type": "stream",
     "name": "stdout",
     "text": [
      "{'ID': ['JX297238.1', 'XM_005260982.2', 'NM_002462.5'], 'Name': ['JX297238.1', 'XM_005260982.2', 'NM_002462.5'], 'Description': ['JX297238.1 Macaca sylvanus myxovirus (influenza virus) resistance 1 (MxA) mRNA, complete cds', 'XM_005260982.2 PREDICTED: Homo sapiens MX dynamin like GTPase 1 (MX1), transcript variant X8, mRNA', 'NM_002462.5 Homo sapiens MX dynamin like GTPase 1 (MX1), transcript variant 2, mRNA'], 'N_features': [[], [], []], 'Sequence': [Seq('ATGGTTGTTTCCGAAGTGGACATTGTAAAAGCTGATCCAGCTGCTGCATCCCAA...TAA'), Seq('GCGGGGTGAAAGAGGCGAAGCGAGAGCGGAGGCCGCACTCCAGCACTGCGCAGG...GAC'), Seq('GCACTCCAGCACTGCGCAGGGACCGCCTTGGACCGCAGTTGCCGGCCAGGAATC...AGA')]}\n"
     ]
    }
   ],
   "metadata": {}
  },
  {
   "cell_type": "code",
   "execution_count": 45,
   "source": [
    "#Create a list of entries from the query\n",
    "\n",
    "results_mult_taxid = SearchIO.read('multiple_taxid_samerun.xml', 'blast-xml')\n",
    "query_entry_list = []\n",
    "for result in results_mult_taxid:\n",
    "    query_entry_list.append(result.accession)\n",
    "\n",
    "#print(query_entry_list)\n"
   ],
   "outputs": [],
   "metadata": {}
  },
  {
   "cell_type": "code",
   "execution_count": 47,
   "source": [
    "query_fasta = retrieve_all_fastas(query_entry_list)\n",
    "query_dictionary = fastas_to_dictionary(query_fasta)\n",
    "#print(query_dictionary)"
   ],
   "outputs": [],
   "metadata": {}
  },
  {
   "cell_type": "code",
   "execution_count": null,
   "source": [],
   "outputs": [],
   "metadata": {}
  },
  {
   "cell_type": "code",
   "execution_count": 30,
   "source": [
    "#Retrieve files from genbank\n",
    "\n",
    "Bio.Entrez.email = 'A.N.Other@example.com'\n",
    "gb_handler = Bio.Entrez.efetch(db= 'nucleotide', id= 'JX297238', rettype = 'gb', retmode='xml')\n",
    "gb_content = Bio.Entrez.read(gb_handler, 'genbank')\n",
    "print(gb_content)"
   ],
   "outputs": [
    {
     "output_type": "stream",
     "name": "stdout",
     "text": [
      "[{'GBSeq_locus': 'JX297238', 'GBSeq_length': '1986', 'GBSeq_strandedness': 'single', 'GBSeq_moltype': 'mRNA', 'GBSeq_topology': 'linear', 'GBSeq_division': 'PRI', 'GBSeq_update-date': '01-NOV-2012', 'GBSeq_create-date': '01-NOV-2012', 'GBSeq_definition': 'Macaca sylvanus myxovirus (influenza virus) resistance 1 (MxA) mRNA, complete cds', 'GBSeq_primary-accession': 'JX297238', 'GBSeq_accession-version': 'JX297238.1', 'GBSeq_other-seqids': ['gb|JX297238.1|', 'gi|408689532'], 'GBSeq_source': 'Macaca sylvanus (Barbary ape)', 'GBSeq_organism': 'Macaca sylvanus', 'GBSeq_taxonomy': 'Eukaryota; Metazoa; Chordata; Craniata; Vertebrata; Euteleostomi; Mammalia; Eutheria; Euarchontoglires; Primates; Haplorrhini; Catarrhini; Cercopithecidae; Cercopithecinae; Macaca', 'GBSeq_references': [{'GBReference_reference': '1', 'GBReference_position': '1..1986', 'GBReference_authors': ['Mitchell,P.S.', 'Patzina,C.', 'Emerman,M.', 'Haller,O.', 'Malik,H.S.', 'Kochs,G.'], 'GBReference_title': 'Evolution-Guided Identification of Antiviral Specificity Determinants in the Broadly Acting Interferon-Induced Innate Immunity Factor MxA', 'GBReference_journal': 'Cell Host Microbe 12 (4), 598-604 (2012)', 'GBReference_xref': [{'GBXref_dbname': 'doi', 'GBXref_id': '10.1016/j.chom.2012.09.005'}], 'GBReference_pubmed': '23084925'}, {'GBReference_reference': '2', 'GBReference_position': '1..1986', 'GBReference_authors': ['Mitchell,P.S.', 'Patzina,C.', 'Emerman,M.', 'Haller,O.', 'Malik,H.S.', 'Kochs,G.'], 'GBReference_title': 'Direct Submission', 'GBReference_journal': 'Submitted (10-JUL-2012) Basic Sciences Division, Fred Hutchinson Cancer Research Center, 1100 Fairview Avenue N., A2-025, Seattle, WA 98109, USA'}], 'GBSeq_feature-table': [{'GBFeature_key': 'source', 'GBFeature_location': '1..1986', 'GBFeature_intervals': [{'GBInterval_from': '1', 'GBInterval_to': '1986', 'GBInterval_accession': 'JX297238.1'}], 'GBFeature_quals': [{'GBQualifier_name': 'organism', 'GBQualifier_value': 'Macaca sylvanus'}, {'GBQualifier_name': 'mol_type', 'GBQualifier_value': 'mRNA'}, {'GBQualifier_name': 'isolate', 'GBQualifier_value': 'GB72'}, {'GBQualifier_name': 'db_xref', 'GBQualifier_value': 'taxon:9546'}]}, {'GBFeature_key': 'gene', 'GBFeature_location': '1..1986', 'GBFeature_intervals': [{'GBInterval_from': '1', 'GBInterval_to': '1986', 'GBInterval_accession': 'JX297238.1'}], 'GBFeature_quals': [{'GBQualifier_name': 'gene', 'GBQualifier_value': 'MxA'}]}, {'GBFeature_key': 'CDS', 'GBFeature_location': '1..1986', 'GBFeature_intervals': [{'GBInterval_from': '1', 'GBInterval_to': '1986', 'GBInterval_accession': 'JX297238.1'}], 'GBFeature_quals': [{'GBQualifier_name': 'gene', 'GBQualifier_value': 'MxA'}, {'GBQualifier_name': 'note', 'GBQualifier_value': 'Mx1'}, {'GBQualifier_name': 'codon_start', 'GBQualifier_value': '1'}, {'GBQualifier_name': 'transl_table', 'GBQualifier_value': '1'}, {'GBQualifier_name': 'product', 'GBQualifier_value': 'myxovirus (influenza virus) resistance 1'}, {'GBQualifier_name': 'protein_id', 'GBQualifier_value': 'AFU81310.1'}, {'GBQualifier_name': 'translation', 'GBQualifier_value': 'MVVSEVDIVKADPAAASQPLLLNGDADVAQKSPGSVAENNLCSQYEEKVRPCIDLIDSLRALGVEQDLALPAIAVIGDQSSGKSSVLEALSGVALPRGSGIVTRCPLVLKLKKLVNEDEWRGKVSYQDYEIEILDASEVEEEINKAQNTIAGEGMGISHELITLEISSRDVPDLTLIDLPGITRVAVGNQPPDIGYKIKTLIRKYIQRQETINLVVVPSNVDIATTEALSMAQEVDPEGDRTIGILTKPDLVDKGTEDKVVDVVRNLVFHLKKGYMIVKCRGQQEIQDQLSLSEALQREKIFFEVHPHFRDLLEEGKATIPCLAEKLTSELIAHICKSLPLLENQIKESHQGITEELQKYGVDIPEDENEKMFFLIDKINAFNQDITALIQGEETVGEDDSRLFTRLRREFHKWGIIIENNLQEGHKITSRKMQKFENQYRGRELPGFVNYRTFETIVKQQIKALEEPAVNMLHTVTDMVRLAFTDVSMKNFEELFNLHRTAKSKIEDIRTEQEREGEKLIRLHFQMEQIVYCQDQVYRGALQKVREKELEEEKKKKSWDVGTFQSSSTDSSMEEIFQHLMAYHQEASKRISSHIPLIIQFFMLQTYGQQLQKAMLQLLQDKDTYSWLLKERSDTSDKRKFLKERLARLTQARRRLAQFPG'}]}], 'GBSeq_sequence': 'atggttgtttccgaagtggacattgtaaaagctgatccagctgctgcatcccaacctctattactgaatggagatgctgacgtggcccagaaaagtccgggctcggtggctgagaacaacctgtgcagccagtatgaggagaaggtgcgcccctgcatcgacctcatcgactccctgcgggctctgggtgtggagcaggacctggccctgccggccatcgccgtcatcggggaccagagctcgggcaagagctctgtgttggaggcactgtcaggagttgcccttcccagaggcagtgggatcgtgactagatgcccgctggtgctgaaactgaagaaacttgtgaacgaagatgagtggagaggcaaggtcagttaccaggactacgagattgagattttggatgcttcagaggtagaagaggaaattaataaagcccagaataccatcgccggggaaggaatgggaatcagtcatgagctaattaccctggagatcagctcccgagatgtcccagatctgactctaatagaccttcctgggataaccagagtggctgtgggcaatcaacctcctgacattgggtataagatcaagacactcatcaggaagtacatccagaggcaggagacgatcaacctggtggtggtccccagtaatgtggacatcgccaccacagaggcactgagcatggcccaggaggtggaccccgagggagacaggaccatcggaatcttgacgaagcctgatctggtggacaaaggaactgaagacaaggtcgtggatgtggtgcggaacctcgtgttccacctgaagaagggctacatgatcgtcaagtgccgcggccagcaggagatccaggaccagctgagcctgtccgaagccctgcagagagagaagatcttctttgaggtccacccacatttcagggatctgctggaggaaggcaaggccacgattccctgcctggcagagaaacttaccagcgagctcattgcacatatctgtaaatctctgccgctgttagaaaatcaaatcaaggagagtcaccagggaataacagaggagctacaaaagtatggtgtcgacataccggaagatgaaaatgaaaaaatgttctttctgatagacaaaattaatgcctttaatcaggacatcactgctctcatacaaggggaggaaactgtaggggaagatgacagccgactgtttaccagactccgacgtgagttccacaaatggggtataataattgaaaacaatttgcaagaaggccataaaattacgagtagaaaaatgcagaaatttgaaaatcagtatcgtggtagagagctgccaggctttgtgaattacaggacatttgagacaatcgtaaaacagcaaatcaaggcgctggaagagccagctgtgaatatgctacacaccgtgacggatatggtccggcttgctttcacagatgtttcaatgaaaaattttgaagaactttttaatctccacagaaccgccaagtccaaaatcgaagacattagaacagaacaagagagagaaggtgagaagctgatccgcctccacttccagatggagcagattgtctactgccaggaccaggtatacaggggtgccttgcagaaggtcagagagaaggagctggaagaagaaaagaagaagaaatcctgggatgtggggactttccagtcctcctcgacagactcttccatggaggagatctttcagcacctgatggcctatcaccaggaggccagcaagcgcatctccagccacatccctttgatcatccagttcttcatgctccagacatatggccagcagcttcagaaggccatgctgcagctcctgcaggacaaggacacctatagctggctcctgaaggagcggagcgacaccagcgacaagcggaagttcctgaaggagcggcttgcaaggctgacgcaagctcggcgccggctcgcccagttccccggttaa'}]\n"
     ]
    }
   ],
   "metadata": {}
  },
  {
   "cell_type": "code",
   "execution_count": 71,
   "source": [
    "#Function to retrieve all genbank from the result\n",
    "def retrieve_all_genbank(list_of_entries):\n",
    "    Bio.Entrez.email = 'A.N.Other@example.com'\n",
    "    list_of_sequences = []\n",
    "    for entry in list_of_entries:\n",
    "        handler = Bio.Entrez.efetch(db='nucleotide', id=entry, rettype = 'gb', retmode = 'xml', retmax=1) #!!!Genbank format\n",
    "        gb_info = Bio.Entrez.read(handler, 'genbank')\n",
    "        list_of_sequences.append(gb_info)\n",
    "    return list_of_sequences\n",
    "\n",
    "\n",
    "list_entries = ['JX297238', 'XM_005260982', 'NM_002462']\n",
    "genbank_file_stack = retrieve_all_genbank(list_entries)\n",
    "print(genbank_file_stack)"
   ],
   "outputs": [
    {
     "output_type": "stream",
     "name": "stdout",
     "text": [
      "[[{'GBSeq_locus': 'JX297238', 'GBSeq_length': '1986', 'GBSeq_strandedness': 'single', 'GBSeq_moltype': 'mRNA', 'GBSeq_topology': 'linear', 'GBSeq_division': 'PRI', 'GBSeq_update-date': '01-NOV-2012', 'GBSeq_create-date': '01-NOV-2012', 'GBSeq_definition': 'Macaca sylvanus myxovirus (influenza virus) resistance 1 (MxA) mRNA, complete cds', 'GBSeq_primary-accession': 'JX297238', 'GBSeq_accession-version': 'JX297238.1', 'GBSeq_other-seqids': ['gb|JX297238.1|', 'gi|408689532'], 'GBSeq_source': 'Macaca sylvanus (Barbary ape)', 'GBSeq_organism': 'Macaca sylvanus', 'GBSeq_taxonomy': 'Eukaryota; Metazoa; Chordata; Craniata; Vertebrata; Euteleostomi; Mammalia; Eutheria; Euarchontoglires; Primates; Haplorrhini; Catarrhini; Cercopithecidae; Cercopithecinae; Macaca', 'GBSeq_references': [{'GBReference_reference': '1', 'GBReference_position': '1..1986', 'GBReference_authors': ['Mitchell,P.S.', 'Patzina,C.', 'Emerman,M.', 'Haller,O.', 'Malik,H.S.', 'Kochs,G.'], 'GBReference_title': 'Evolution-Guided Identification of Antiviral Specificity Determinants in the Broadly Acting Interferon-Induced Innate Immunity Factor MxA', 'GBReference_journal': 'Cell Host Microbe 12 (4), 598-604 (2012)', 'GBReference_xref': [{'GBXref_dbname': 'doi', 'GBXref_id': '10.1016/j.chom.2012.09.005'}], 'GBReference_pubmed': '23084925'}, {'GBReference_reference': '2', 'GBReference_position': '1..1986', 'GBReference_authors': ['Mitchell,P.S.', 'Patzina,C.', 'Emerman,M.', 'Haller,O.', 'Malik,H.S.', 'Kochs,G.'], 'GBReference_title': 'Direct Submission', 'GBReference_journal': 'Submitted (10-JUL-2012) Basic Sciences Division, Fred Hutchinson Cancer Research Center, 1100 Fairview Avenue N., A2-025, Seattle, WA 98109, USA'}], 'GBSeq_feature-table': [{'GBFeature_key': 'source', 'GBFeature_location': '1..1986', 'GBFeature_intervals': [{'GBInterval_from': '1', 'GBInterval_to': '1986', 'GBInterval_accession': 'JX297238.1'}], 'GBFeature_quals': [{'GBQualifier_name': 'organism', 'GBQualifier_value': 'Macaca sylvanus'}, {'GBQualifier_name': 'mol_type', 'GBQualifier_value': 'mRNA'}, {'GBQualifier_name': 'isolate', 'GBQualifier_value': 'GB72'}, {'GBQualifier_name': 'db_xref', 'GBQualifier_value': 'taxon:9546'}]}, {'GBFeature_key': 'gene', 'GBFeature_location': '1..1986', 'GBFeature_intervals': [{'GBInterval_from': '1', 'GBInterval_to': '1986', 'GBInterval_accession': 'JX297238.1'}], 'GBFeature_quals': [{'GBQualifier_name': 'gene', 'GBQualifier_value': 'MxA'}]}, {'GBFeature_key': 'CDS', 'GBFeature_location': '1..1986', 'GBFeature_intervals': [{'GBInterval_from': '1', 'GBInterval_to': '1986', 'GBInterval_accession': 'JX297238.1'}], 'GBFeature_quals': [{'GBQualifier_name': 'gene', 'GBQualifier_value': 'MxA'}, {'GBQualifier_name': 'note', 'GBQualifier_value': 'Mx1'}, {'GBQualifier_name': 'codon_start', 'GBQualifier_value': '1'}, {'GBQualifier_name': 'transl_table', 'GBQualifier_value': '1'}, {'GBQualifier_name': 'product', 'GBQualifier_value': 'myxovirus (influenza virus) resistance 1'}, {'GBQualifier_name': 'protein_id', 'GBQualifier_value': 'AFU81310.1'}, {'GBQualifier_name': 'translation', 'GBQualifier_value': 'MVVSEVDIVKADPAAASQPLLLNGDADVAQKSPGSVAENNLCSQYEEKVRPCIDLIDSLRALGVEQDLALPAIAVIGDQSSGKSSVLEALSGVALPRGSGIVTRCPLVLKLKKLVNEDEWRGKVSYQDYEIEILDASEVEEEINKAQNTIAGEGMGISHELITLEISSRDVPDLTLIDLPGITRVAVGNQPPDIGYKIKTLIRKYIQRQETINLVVVPSNVDIATTEALSMAQEVDPEGDRTIGILTKPDLVDKGTEDKVVDVVRNLVFHLKKGYMIVKCRGQQEIQDQLSLSEALQREKIFFEVHPHFRDLLEEGKATIPCLAEKLTSELIAHICKSLPLLENQIKESHQGITEELQKYGVDIPEDENEKMFFLIDKINAFNQDITALIQGEETVGEDDSRLFTRLRREFHKWGIIIENNLQEGHKITSRKMQKFENQYRGRELPGFVNYRTFETIVKQQIKALEEPAVNMLHTVTDMVRLAFTDVSMKNFEELFNLHRTAKSKIEDIRTEQEREGEKLIRLHFQMEQIVYCQDQVYRGALQKVREKELEEEKKKKSWDVGTFQSSSTDSSMEEIFQHLMAYHQEASKRISSHIPLIIQFFMLQTYGQQLQKAMLQLLQDKDTYSWLLKERSDTSDKRKFLKERLARLTQARRRLAQFPG'}]}], 'GBSeq_sequence': 'atggttgtttccgaagtggacattgtaaaagctgatccagctgctgcatcccaacctctattactgaatggagatgctgacgtggcccagaaaagtccgggctcggtggctgagaacaacctgtgcagccagtatgaggagaaggtgcgcccctgcatcgacctcatcgactccctgcgggctctgggtgtggagcaggacctggccctgccggccatcgccgtcatcggggaccagagctcgggcaagagctctgtgttggaggcactgtcaggagttgcccttcccagaggcagtgggatcgtgactagatgcccgctggtgctgaaactgaagaaacttgtgaacgaagatgagtggagaggcaaggtcagttaccaggactacgagattgagattttggatgcttcagaggtagaagaggaaattaataaagcccagaataccatcgccggggaaggaatgggaatcagtcatgagctaattaccctggagatcagctcccgagatgtcccagatctgactctaatagaccttcctgggataaccagagtggctgtgggcaatcaacctcctgacattgggtataagatcaagacactcatcaggaagtacatccagaggcaggagacgatcaacctggtggtggtccccagtaatgtggacatcgccaccacagaggcactgagcatggcccaggaggtggaccccgagggagacaggaccatcggaatcttgacgaagcctgatctggtggacaaaggaactgaagacaaggtcgtggatgtggtgcggaacctcgtgttccacctgaagaagggctacatgatcgtcaagtgccgcggccagcaggagatccaggaccagctgagcctgtccgaagccctgcagagagagaagatcttctttgaggtccacccacatttcagggatctgctggaggaaggcaaggccacgattccctgcctggcagagaaacttaccagcgagctcattgcacatatctgtaaatctctgccgctgttagaaaatcaaatcaaggagagtcaccagggaataacagaggagctacaaaagtatggtgtcgacataccggaagatgaaaatgaaaaaatgttctttctgatagacaaaattaatgcctttaatcaggacatcactgctctcatacaaggggaggaaactgtaggggaagatgacagccgactgtttaccagactccgacgtgagttccacaaatggggtataataattgaaaacaatttgcaagaaggccataaaattacgagtagaaaaatgcagaaatttgaaaatcagtatcgtggtagagagctgccaggctttgtgaattacaggacatttgagacaatcgtaaaacagcaaatcaaggcgctggaagagccagctgtgaatatgctacacaccgtgacggatatggtccggcttgctttcacagatgtttcaatgaaaaattttgaagaactttttaatctccacagaaccgccaagtccaaaatcgaagacattagaacagaacaagagagagaaggtgagaagctgatccgcctccacttccagatggagcagattgtctactgccaggaccaggtatacaggggtgccttgcagaaggtcagagagaaggagctggaagaagaaaagaagaagaaatcctgggatgtggggactttccagtcctcctcgacagactcttccatggaggagatctttcagcacctgatggcctatcaccaggaggccagcaagcgcatctccagccacatccctttgatcatccagttcttcatgctccagacatatggccagcagcttcagaaggccatgctgcagctcctgcaggacaaggacacctatagctggctcctgaaggagcggagcgacaccagcgacaagcggaagttcctgaaggagcggcttgcaaggctgacgcaagctcggcgccggctcgcccagttccccggttaa'}], [{'GBSeq_locus': 'XM_005260982', 'GBSeq_length': '2731', 'GBSeq_strandedness': 'single', 'GBSeq_moltype': 'mRNA', 'GBSeq_topology': 'linear', 'GBSeq_division': 'PRI', 'GBSeq_update-date': '16-MAY-2021', 'GBSeq_create-date': '13-AUG-2013', 'GBSeq_definition': 'PREDICTED: Homo sapiens MX dynamin like GTPase 1 (MX1), transcript variant X8, mRNA', 'GBSeq_primary-accession': 'XM_005260982', 'GBSeq_accession-version': 'XM_005260982.2', 'GBSeq_other-seqids': ['ref|XM_005260982.2|', 'gi|1034627218'], 'GBSeq_project': 'PRJNA168', 'GBSeq_keywords': ['RefSeq'], 'GBSeq_source': 'Homo sapiens (human)', 'GBSeq_organism': 'Homo sapiens', 'GBSeq_taxonomy': 'Eukaryota; Metazoa; Chordata; Craniata; Vertebrata; Euteleostomi; Mammalia; Eutheria; Euarchontoglires; Primates; Haplorrhini; Catarrhini; Hominidae; Homo', 'GBSeq_comment': \"MODEL REFSEQ: This record is predicted by automated computational analysis. This record is derived from a genomic sequence (NC_000021.9) annotated using gene prediction method: Gnomon, supported by mRNA and EST evidence.~Also see:~ Documentation of NCBI's Annotation Process~; On Jun 6, 2016 this sequence version replaced XM_005260982.1.; ; ##Genome-Annotation-Data-START## ; Annotation Provider :: NCBI ; Annotation Status :: Updated annotation ; Annotation Name :: Homo sapiens Updated Annotation Release 109.20210514 ; Annotation Version :: 109.20210514 ; Annotation Pipeline :: NCBI eukaryotic genome annotation pipeline ; Annotation Software Version :: 8.6 ; Annotation Method :: Best-placed RefSeq; propagated RefSeq model ; Features Annotated :: Gene; mRNA; CDS; ncRNA ; ##Genome-Annotation-Data-END##\", 'GBSeq_feature-table': [{'GBFeature_key': 'source', 'GBFeature_location': '1..2731', 'GBFeature_intervals': [{'GBInterval_from': '1', 'GBInterval_to': '2731', 'GBInterval_accession': 'XM_005260982.2'}], 'GBFeature_quals': [{'GBQualifier_name': 'organism', 'GBQualifier_value': 'Homo sapiens'}, {'GBQualifier_name': 'mol_type', 'GBQualifier_value': 'mRNA'}, {'GBQualifier_name': 'db_xref', 'GBQualifier_value': 'taxon:9606'}, {'GBQualifier_name': 'chromosome', 'GBQualifier_value': '21'}]}, {'GBFeature_key': 'gene', 'GBFeature_location': '1..2731', 'GBFeature_intervals': [{'GBInterval_from': '1', 'GBInterval_to': '2731', 'GBInterval_accession': 'XM_005260982.2'}], 'GBFeature_quals': [{'GBQualifier_name': 'gene', 'GBQualifier_value': 'MX1'}, {'GBQualifier_name': 'gene_synonym', 'GBQualifier_value': 'IFI-78K; IFI78; lncMX1-215; MX; MxA'}, {'GBQualifier_name': 'note', 'GBQualifier_value': 'MX dynamin like GTPase 1; Derived by automated computational analysis using gene prediction method: Gnomon. Supporting evidence includes similarity to: 2 mRNAs, 172 ESTs, 494 long SRA reads, 29 Proteins, and 100% coverage of the annotated genomic feature by RNAseq alignments, including 90 samples with support for all annotated introns'}, {'GBQualifier_name': 'db_xref', 'GBQualifier_value': 'GeneID:4599'}, {'GBQualifier_name': 'db_xref', 'GBQualifier_value': 'HGNC:HGNC:7532'}, {'GBQualifier_name': 'db_xref', 'GBQualifier_value': 'MIM:147150'}]}, {'GBFeature_key': 'CDS', 'GBFeature_location': '288..2276', 'GBFeature_intervals': [{'GBInterval_from': '288', 'GBInterval_to': '2276', 'GBInterval_accession': 'XM_005260982.2'}], 'GBFeature_quals': [{'GBQualifier_name': 'gene', 'GBQualifier_value': 'MX1'}, {'GBQualifier_name': 'gene_synonym', 'GBQualifier_value': 'IFI-78K; IFI78; lncMX1-215; MX; MxA'}, {'GBQualifier_name': 'codon_start', 'GBQualifier_value': '1'}, {'GBQualifier_name': 'transl_table', 'GBQualifier_value': '1'}, {'GBQualifier_name': 'product', 'GBQualifier_value': 'interferon-induced GTP-binding protein Mx1 isoform X1'}, {'GBQualifier_name': 'protein_id', 'GBQualifier_value': 'XP_005261039.1'}, {'GBQualifier_name': 'db_xref', 'GBQualifier_value': 'GeneID:4599'}, {'GBQualifier_name': 'db_xref', 'GBQualifier_value': 'HGNC:HGNC:7532'}, {'GBQualifier_name': 'db_xref', 'GBQualifier_value': 'MIM:147150'}, {'GBQualifier_name': 'translation', 'GBQualifier_value': 'MVVSEVDIAKADPAAASHPLLLNGDATVAQKNPGSVAENNLCSQYEEKVRPCIDLIDSLRALGVEQDLALPAIAVIGDQSSGKSSVLEALSGVALPRGSGIVTRCPLVLKLKKLVNEDKWRGKVSYQDYEIEISDASEVEKEINKAQNAIAGEGMGISHELITLEISSRDVPDLTLIDLPGITRVAVGNQPADIGYKIKTLIKKYIQRQETISLVVVPSNVDIATTEALSMAQEVDPEGDRTIGILTKPDLVDKGTEDKVVDVVRNLVFHLKKGYMIVKCRGQQEIQDQLSLSEALQREKIFFENHPYFRDLLEEGKATVPCLAEKLTSELITHICKSLPLLENQIKETHQRITEELQKYGVDIPEDENEKMFFLIDKVNAFNQDITALMQGEETVGEEDIRLFTRLRHEFHKWSTIIENNFQEGHKILSRKIQKFENQYRGRELPGFVNYRTFETIVKQQIKALEEPAVDMLHTVTDMVRLAFTDVSIKNFEEFFNLHRTAKSKIEDIRAEQEREGEKLIRLHFQMEQIVYCQDQVYRGALQKVREKELEEEKKKKSWDFGAFQSSSATDSSMEEIFQHLMAYHQEASKRISSHIPLIIQFFMLQTYGQQLQKAMLQLLQDKDTYSWLLKERSDTSDKRKFLKERLARLTQARRRLAQFPG'}]}], 'GBSeq_sequence': 'gcggggtgaaagaggcgaagcgagagcggaggccgcactccagcactgcgcagggaccggaattctgtggccacactgcgaggagatcggttctgggtcggaggctacaggaagactcccactccctgaaatctggagtgaagaacgccgccatccagccaccattccaaggaggtgcaggagaacagctctgtgataccatttaacttgttgacattacttttatttgaaggaacgtatattagaggcatctgctttattttaagcttactttgcaaagaaggaagatggttgtttccgaagtggacatcgcaaaagctgatccagctgctgcatcccaccctctattactgaatggagatgctactgtggcccagaaaaatccaggctcggtggctgagaacaacctgtgcagccagtatgaggagaaggtgcgcccctgcatcgacctcattgactccctgcgggctctaggtgtggagcaggacctggccctgccagccatcgccgtcatcggggaccagagctcgggcaagagctccgtgttggaggcactgtcaggagttgcccttcccagaggcagcgggatcgtgaccagatgcccgctggtgctgaaactgaagaaacttgtgaacgaagataagtggagaggcaaggtcagttaccaggactacgagattgagatttcggatgcttcagaggtagaaaaggaaattaataaagcccagaatgccatcgccggggaaggaatgggaatcagtcatgagctaatcaccctggagatcagctcccgagatgtcccggatctgactctaatagaccttcctggcataaccagagtggctgtgggcaatcagcctgctgacattgggtataagatcaagacactcatcaagaagtacatccagaggcaggagacaatcagcctggtggtggtccccagtaatgtggacatcgccaccacagaggctctcagcatggcccaggaggtggaccccgagggagacaggaccatcggaatcttgacgaagcctgatctggtggacaaaggaactgaagacaaggttgtggacgtggtgcggaacctcgtgttccacctgaagaagggttacatgattgtcaagtgccggggccagcaggagatccaggaccagctgagcctgtccgaagccctgcagagagagaagatcttctttgagaaccacccatatttcagggatctgctggaggaaggaaaggccacggttccctgcctggcagaaaaacttaccagcgagctcatcacacatatctgtaaatctctgcccctgttagaaaatcaaatcaaggagactcaccagagaataacagaggagctacaaaagtatggtgtcgacataccggaagacgaaaatgaaaaaatgttcttcctgatagataaagttaatgcctttaatcaggacatcactgctctcatgcaaggagaggaaactgtaggggaggaagacattcggctgtttaccagactccgacacgagttccacaaatggagtacaataattgaaaacaattttcaagaaggccataaaattttgagtagaaaaatccagaaatttgaaaatcagtatcgtggtagagagctgccaggctttgtgaattacaggacatttgagacaatcgtgaaacagcaaatcaaggcactggaagagccggctgtggatatgctacacaccgtgacggatatggtccggcttgctttcacagatgtttcgataaaaaattttgaagagttttttaacctccacagaaccgccaagtccaaaattgaagacattagagcagaacaagagagagaaggtgagaagctgatccgcctccacttccagatggaacagattgtctactgccaggaccaggtatacaggggtgcattgcagaaggtcagagagaaggagctggaagaagaaaagaagaagaaatcctgggattttggggctttccagtccagctcggcaacagactcttccatggaggagatctttcagcacctgatggcctatcaccaggaggccagcaagcgcatctccagccacatccctttgatcatccagttcttcatgctccagacgtacggccagcagcttcagaaggccatgctgcagctcctgcaggacaaggacacctacagctggctcctgaaggagcggagcgacaccagcgacaagcggaagttcctgaaggagcggcttgcacggctgacgcaggctcggcgccggcttgcccagttccccggttaaccacactctgtccagccccgtagacgtgcacgcacactgtctgcccccgttcccgggtagccactggactgacgacttgagtgctcagtagtcagactggatagtccgtctctgcttatccgttagccgtggtgatttagcaggaagctgtgagagcagtttggtttctagcatgaagacagagccccaccctcagatgcacatgagctggcgggattgaaggatgctgtcttcgtactgggaaagggattttcagccctcagaatcgctccaccttgcagctctccccttctctgtattcctagaaactgacacatgctgaacatcacagcttatttcctcatttttataatgtcccttcacaaacccagtgttttaggagcatgagtgccgtgtgtgtgcgtcctgtcggagccctgtctcctctctctgtaataaactcatttctagcagac', 'GBSeq_xrefs': [{'GBXref_dbname': 'BioProject', 'GBXref_id': 'PRJNA168'}]}], [{'GBSeq_locus': 'NM_002462', 'GBSeq_length': '2776', 'GBSeq_strandedness': 'single', 'GBSeq_moltype': 'mRNA', 'GBSeq_topology': 'linear', 'GBSeq_division': 'PRI', 'GBSeq_update-date': '26-JUN-2021', 'GBSeq_create-date': '19-MAR-1999', 'GBSeq_definition': 'Homo sapiens MX dynamin like GTPase 1 (MX1), transcript variant 2, mRNA', 'GBSeq_primary-accession': 'NM_002462', 'GBSeq_accession-version': 'NM_002462.5', 'GBSeq_other-seqids': ['ref|NM_002462.5|', 'gi|1519315249'], 'GBSeq_keywords': ['RefSeq', 'MANE Select'], 'GBSeq_source': 'Homo sapiens (human)', 'GBSeq_organism': 'Homo sapiens', 'GBSeq_taxonomy': 'Eukaryota; Metazoa; Chordata; Craniata; Vertebrata; Euteleostomi; Mammalia; Eutheria; Euarchontoglires; Primates; Haplorrhini; Catarrhini; Hominidae; Homo', 'GBSeq_references': [{'GBReference_reference': '1', 'GBReference_position': '1..2776', 'GBReference_authors': ['Lopez EL', 'Ferolla FM', 'Toledano A', 'Yfran EW', 'Giordano AC', 'Carrizo B', 'Feldman F', 'Talarico LB', 'Caratozzolo A', 'Contrini MM', 'Acosta PL'], 'GBReference_consortium': 'GUTI Respiratory Infections Network', 'GBReference_title': 'Genetic Susceptibility to Life-threatening Respiratory Syncytial Virus Infection in Previously Healthy Infants', 'GBReference_journal': 'Pediatr Infect Dis J 39 (11), 1057-1061 (2020)', 'GBReference_xref': [{'GBXref_dbname': 'doi', 'GBXref_id': '10.1097/INF.0000000000002827'}], 'GBReference_pubmed': '32740454', 'GBReference_remark': 'GeneRIF: Genetic Susceptibility to Life-threatening Respiratory Syncytial Virus Infection in Previously Healthy Infants.'}, {'GBReference_reference': '2', 'GBReference_position': '1..2776', 'GBReference_authors': ['Steiner F', 'Pavlovic J'], 'GBReference_title': 'Subcellular Localization of MxB Determines Its Antiviral Potential against Influenza A Virus', 'GBReference_journal': 'J Virol 94 (22), e00125-20 (2020)', 'GBReference_xref': [{'GBXref_dbname': 'doi', 'GBXref_id': '10.1128/JVI.00125-20'}], 'GBReference_pubmed': '32907985', 'GBReference_remark': 'GeneRIF: Subcellular Localization of MxB Determines Its Antiviral Potential against Influenza A Virus.; Publication Status: Online-Only'}, {'GBReference_reference': '3', 'GBReference_position': '1..2776', 'GBReference_authors': ['Noguchi S', 'Hijikata M', 'Hamano E', 'Matsushita I', 'Ito H', 'Ohashi J', 'Nagase T', 'Keicho N'], 'GBReference_title': 'MxA transcripts with distinct first exons and modulation of gene expression levels by single-nucleotide polymorphisms in human bronchial epithelial cells', 'GBReference_journal': 'Immunogenetics 65 (2), 107-114 (2013)', 'GBReference_xref': [{'GBXref_dbname': 'doi', 'GBXref_id': '10.1007/s00251-012-0663-8'}], 'GBReference_pubmed': '23160781', 'GBReference_remark': \"GeneRIF: Our results suggest that MxA observed in respiratory viral infections is possibly dominated by the MxA transcript and partly influenced by relevant 5' SNPs.\"}, {'GBReference_reference': '4', 'GBReference_position': '1..2776', 'GBReference_authors': ['Ku CC', 'Che XB', 'Reichelt M', 'Rajamani J', 'Schaap-Nutt A', 'Huang KJ', 'Sommer MH', 'Chen YS', 'Chen YY', 'Arvin AM'], 'GBReference_title': 'Herpes simplex virus-1 induces expression of a novel MxA isoform that enhances viral replication', 'GBReference_journal': 'Immunol Cell Biol 89 (2), 173-182 (2011)', 'GBReference_xref': [{'GBXref_dbname': 'doi', 'GBXref_id': '10.1038/icb.2010.83'}], 'GBReference_pubmed': '20603636', 'GBReference_remark': 'GeneRIF: human MxA gene encodes two MxA isoforms, which are expressed differentially depending on whether the stimulus is IFN-alpha or HSV-1.'}, {'GBReference_reference': '5', 'GBReference_position': '1..2776', 'GBReference_authors': ['Haller O', 'Kochs G'], 'GBReference_title': 'Human MxA protein: an interferon-induced dynamin-like GTPase with broad antiviral activity', 'GBReference_journal': 'J Interferon Cytokine Res 31 (1), 79-87 (2011)', 'GBReference_xref': [{'GBXref_dbname': 'doi', 'GBXref_id': '10.1089/jir.2010.0076'}], 'GBReference_pubmed': '21166595', 'GBReference_remark': 'GeneRIF: The structural and functional data suggest that MxA targets the nucleoprotein of MxA-sensitive viruses. [Review]\\nReview article'}, {'GBReference_reference': '6', 'GBReference_position': '1..2776', 'GBReference_authors': ['Tazi-Ahnini R', 'di Giovine FS', 'McDonagh AJ', 'Messenger AG', 'Amadou C', 'Cox A', 'Duff GW', 'Cork MJ'], 'GBReference_title': 'Structure and polymorphism of the human gene for the interferon-induced p78 protein (MX1): evidence of association with alopecia areata in the Down syndrome region', 'GBReference_journal': 'Hum Genet 106 (6), 639-645 (2000)', 'GBReference_xref': [{'GBXref_dbname': 'doi', 'GBXref_id': '10.1007/s004390000318'}], 'GBReference_pubmed': '10942113'}, {'GBReference_reference': '7', 'GBReference_position': '1..2776', 'GBReference_authors': ['Pavlovic J', 'Haller O', 'Staeheli P'], 'GBReference_title': 'Human and mouse Mx proteins inhibit different steps of the influenza virus multiplication cycle', 'GBReference_journal': 'J Virol 66 (4), 2564-2569 (1992)', 'GBReference_xref': [{'GBXref_dbname': 'doi', 'GBXref_id': '10.1128/JVI.66.4.2564-2569.1992'}], 'GBReference_pubmed': '1548781'}, {'GBReference_reference': '8', 'GBReference_position': '1..2776', 'GBReference_authors': ['Horisberger MA', 'McMaster GK', 'Zeller H', 'Wathelet MG', 'Dellis J', 'Content J'], 'GBReference_title': 'Cloning and sequence analyses of cDNAs for interferon- and virus-induced human Mx proteins reveal that they contain putative guanine nucleotide-binding sites: functional study of the corresponding gene promoter', 'GBReference_journal': 'J Virol 64 (3), 1171-1181 (1990)', 'GBReference_xref': [{'GBXref_dbname': 'doi', 'GBXref_id': '10.1128/JVI.64.3.1171-1181.1990'}], 'GBReference_pubmed': '2154602'}, {'GBReference_reference': '9', 'GBReference_position': '1..2776', 'GBReference_authors': ['Aebi M', 'Fah J', 'Hurt N', 'Samuel CE', 'Thomis D', 'Bazzigher L', 'Pavlovic J', 'Haller O', 'Staeheli P'], 'GBReference_title': 'cDNA structures and regulation of two interferon-induced human Mx proteins', 'GBReference_journal': 'Mol Cell Biol 9 (11), 5062-5072 (1989)', 'GBReference_xref': [{'GBXref_dbname': 'doi', 'GBXref_id': '10.1128/mcb.9.11.5062-5072.1989'}], 'GBReference_pubmed': '2481229'}, {'GBReference_reference': '10', 'GBReference_position': '1..2776', 'GBReference_authors': ['Horisberger MA', 'Wathelet M', 'Szpirer J', 'Szpirer C', 'Islam Q', 'Levan G', 'Huez G', 'Content J'], 'GBReference_title': 'cDNA cloning and assignment to chromosome 21 of IFI-78K gene, the human equivalent of murine Mx gene', 'GBReference_journal': 'Somat Cell Mol Genet 14 (2), 123-131 (1988)', 'GBReference_xref': [{'GBXref_dbname': 'doi', 'GBXref_id': '10.1007/BF01534397'}], 'GBReference_pubmed': '3162334'}], 'GBSeq_comment': \"REVIEWED REFSEQ: This record has been curated by NCBI staff. The reference sequence was derived from M33882.1, EB388095.1 and BC032602.1.; On Nov 23, 2018 this sequence version replaced NM_002462.4.; ~Summary: This gene encodes a guanosine triphosphate (GTP)-metabolizing protein that participates in the cellular antiviral response. The encoded protein is induced by type I and type II interferons and antagonizes the replication process of several different RNA and DNA viruses. There is a related gene located adjacent to this gene on chromosome 21, and there are multiple pseudogenes located in a cluster on chromosome 4. Alternative splicing results in multiple transcript variants. [provided by RefSeq, Sep 2013].; ~Transcript Variant: This variant (2, also known as T1) lacks three exons and contains an alternate terminal exon in the 5' UTR, compared to variant 1. Variants 1, 2, and 3 encode the same isoform (a).; ~Publication Note: This RefSeq record includes a subset of the publications that are available for this gene. Please see the Gene record to access additional publications.; ; ##Evidence-Data-START## ; Transcript exon combination :: M33882.1, SRR1660809.8607.1 [ECO:0000332] ; RNAseq introns :: single sample supports all introns SAMEA1965299, SAMEA1966682 [ECO:0000348] ; ##Evidence-Data-END##; ; ##RefSeq-Attributes-START## ; MANE Ensembl match :: ENST00000398598.8/ ENSP00000381599.3 ; RefSeq Select criteria :: based on conservation, expression, longest protein ; ##RefSeq-Attributes-END##; COMPLETENESS: full length.\", 'GBSeq_primary': 'REFSEQ_SPAN         PRIMARY_IDENTIFIER PRIMARY_SPAN        COMP~1-1467              M33882.1           13-1479~1468-1811           EB388095.1         475-818~1812-2730           M33882.1           1824-2742~2731-2776           BC032602.1         2689-2734', 'GBSeq_feature-table': [{'GBFeature_key': 'source', 'GBFeature_location': '1..2776', 'GBFeature_intervals': [{'GBInterval_from': '1', 'GBInterval_to': '2776', 'GBInterval_accession': 'NM_002462.5'}], 'GBFeature_quals': [{'GBQualifier_name': 'organism', 'GBQualifier_value': 'Homo sapiens'}, {'GBQualifier_name': 'mol_type', 'GBQualifier_value': 'mRNA'}, {'GBQualifier_name': 'db_xref', 'GBQualifier_value': 'taxon:9606'}, {'GBQualifier_name': 'chromosome', 'GBQualifier_value': '21'}, {'GBQualifier_name': 'map', 'GBQualifier_value': '21q22.3'}]}, {'GBFeature_key': 'gene', 'GBFeature_location': '1..2776', 'GBFeature_intervals': [{'GBInterval_from': '1', 'GBInterval_to': '2776', 'GBInterval_accession': 'NM_002462.5'}], 'GBFeature_quals': [{'GBQualifier_name': 'gene', 'GBQualifier_value': 'MX1'}, {'GBQualifier_name': 'gene_synonym', 'GBQualifier_value': 'IFI-78K; IFI78; lncMX1-215; MX; MxA'}, {'GBQualifier_name': 'note', 'GBQualifier_value': 'MX dynamin like GTPase 1'}, {'GBQualifier_name': 'db_xref', 'GBQualifier_value': 'GeneID:4599'}, {'GBQualifier_name': 'db_xref', 'GBQualifier_value': 'HGNC:HGNC:7532'}, {'GBQualifier_name': 'db_xref', 'GBQualifier_value': 'MIM:147150'}]}, {'GBFeature_key': 'exon', 'GBFeature_location': '1..25', 'GBFeature_intervals': [{'GBInterval_from': '1', 'GBInterval_to': '25', 'GBInterval_accession': 'NM_002462.5'}], 'GBFeature_quals': [{'GBQualifier_name': 'gene', 'GBQualifier_value': 'MX1'}, {'GBQualifier_name': 'gene_synonym', 'GBQualifier_value': 'IFI-78K; IFI78; lncMX1-215; MX; MxA'}, {'GBQualifier_name': 'inference', 'GBQualifier_value': 'alignment:Splign:2.1.0'}]}, {'GBFeature_key': 'exon', 'GBFeature_location': '26..124', 'GBFeature_intervals': [{'GBInterval_from': '26', 'GBInterval_to': '124', 'GBInterval_accession': 'NM_002462.5'}], 'GBFeature_quals': [{'GBQualifier_name': 'gene', 'GBQualifier_value': 'MX1'}, {'GBQualifier_name': 'gene_synonym', 'GBQualifier_value': 'IFI-78K; IFI78; lncMX1-215; MX; MxA'}, {'GBQualifier_name': 'inference', 'GBQualifier_value': 'alignment:Splign:2.1.0'}]}, {'GBFeature_key': 'exon', 'GBFeature_location': '125..236', 'GBFeature_intervals': [{'GBInterval_from': '125', 'GBInterval_to': '236', 'GBInterval_accession': 'NM_002462.5'}], 'GBFeature_quals': [{'GBQualifier_name': 'gene', 'GBQualifier_value': 'MX1'}, {'GBQualifier_name': 'gene_synonym', 'GBQualifier_value': 'IFI-78K; IFI78; lncMX1-215; MX; MxA'}, {'GBQualifier_name': 'inference', 'GBQualifier_value': 'alignment:Splign:2.1.0'}]}, {'GBFeature_key': 'exon', 'GBFeature_location': '237..312', 'GBFeature_intervals': [{'GBInterval_from': '237', 'GBInterval_to': '312', 'GBInterval_accession': 'NM_002462.5'}], 'GBFeature_quals': [{'GBQualifier_name': 'gene', 'GBQualifier_value': 'MX1'}, {'GBQualifier_name': 'gene_synonym', 'GBQualifier_value': 'IFI-78K; IFI78; lncMX1-215; MX; MxA'}, {'GBQualifier_name': 'inference', 'GBQualifier_value': 'alignment:Splign:2.1.0'}]}, {'GBFeature_key': 'misc_feature', 'GBFeature_location': '277..279', 'GBFeature_intervals': [{'GBInterval_from': '277', 'GBInterval_to': '279', 'GBInterval_accession': 'NM_002462.5'}], 'GBFeature_quals': [{'GBQualifier_name': 'gene', 'GBQualifier_value': 'MX1'}, {'GBQualifier_name': 'gene_synonym', 'GBQualifier_value': 'IFI-78K; IFI78; lncMX1-215; MX; MxA'}, {'GBQualifier_name': 'note', 'GBQualifier_value': 'upstream in-frame stop codon'}]}, {'GBFeature_key': 'exon', 'GBFeature_location': '313..438', 'GBFeature_intervals': [{'GBInterval_from': '313', 'GBInterval_to': '438', 'GBInterval_accession': 'NM_002462.5'}], 'GBFeature_quals': [{'GBQualifier_name': 'gene', 'GBQualifier_value': 'MX1'}, {'GBQualifier_name': 'gene_synonym', 'GBQualifier_value': 'IFI-78K; IFI78; lncMX1-215; MX; MxA'}, {'GBQualifier_name': 'inference', 'GBQualifier_value': 'alignment:Splign:2.1.0'}]}, {'GBFeature_key': 'CDS', 'GBFeature_location': '334..2322', 'GBFeature_intervals': [{'GBInterval_from': '334', 'GBInterval_to': '2322', 'GBInterval_accession': 'NM_002462.5'}], 'GBFeature_quals': [{'GBQualifier_name': 'gene', 'GBQualifier_value': 'MX1'}, {'GBQualifier_name': 'gene_synonym', 'GBQualifier_value': 'IFI-78K; IFI78; lncMX1-215; MX; MxA'}, {'GBQualifier_name': 'note', 'GBQualifier_value': 'isoform a is encoded by transcript variant 2; interferon-induced GTP-binding protein Mx1; interferon-induced protein p78; myxovirus (influenza virus) resistance 1, interferon-inducible protein p78; interferon-regulated resistance GTP-binding protein MxA; myxoma resistance protein 1'}, {'GBQualifier_name': 'codon_start', 'GBQualifier_value': '1'}, {'GBQualifier_name': 'transl_table', 'GBQualifier_value': '1'}, {'GBQualifier_name': 'product', 'GBQualifier_value': 'interferon-induced GTP-binding protein Mx1 isoform a'}, {'GBQualifier_name': 'protein_id', 'GBQualifier_value': 'NP_002453.2'}, {'GBQualifier_name': 'db_xref', 'GBQualifier_value': 'CCDS:CCDS13673.1'}, {'GBQualifier_name': 'db_xref', 'GBQualifier_value': 'GeneID:4599'}, {'GBQualifier_name': 'db_xref', 'GBQualifier_value': 'HGNC:HGNC:7532'}, {'GBQualifier_name': 'db_xref', 'GBQualifier_value': 'MIM:147150'}, {'GBQualifier_name': 'translation', 'GBQualifier_value': 'MVVSEVDIAKADPAAASHPLLLNGDATVAQKNPGSVAENNLCSQYEEKVRPCIDLIDSLRALGVEQDLALPAIAVIGDQSSGKSSVLEALSGVALPRGSGIVTRCPLVLKLKKLVNEDKWRGKVSYQDYEIEISDASEVEKEINKAQNAIAGEGMGISHELITLEISSRDVPDLTLIDLPGITRVAVGNQPADIGYKIKTLIKKYIQRQETISLVVVPSNVDIATTEALSMAQEVDPEGDRTIGILTKPDLVDKGTEDKVVDVVRNLVFHLKKGYMIVKCRGQQEIQDQLSLSEALQREKIFFENHPYFRDLLEEGKATVPCLAEKLTSELITHICKSLPLLENQIKETHQRITEELQKYGVDIPEDENEKMFFLIDKVNAFNQDITALMQGEETVGEEDIRLFTRLRHEFHKWSTIIENNFQEGHKILSRKIQKFENQYRGRELPGFVNYRTFETIVKQQIKALEEPAVDMLHTVTDMVRLAFTDVSIKNFEEFFNLHRTAKSKIEDIRAEQEREGEKLIRLHFQMEQIVYCQDQVYRGALQKVREKELEEEKKKKSWDFGAFQSSSATDSSMEEIFQHLMAYHQEASKRISSHIPLIIQFFMLQTYGQQLQKAMLQLLQDKDTYSWLLKERSDTSDKRKFLKERLARLTQARRRLAQFPG'}]}, {'GBFeature_key': 'misc_feature', 'GBFeature_location': '334..336', 'GBFeature_intervals': [{'GBInterval_from': '334', 'GBInterval_to': '336', 'GBInterval_accession': 'NM_002462.5'}], 'GBFeature_quals': [{'GBQualifier_name': 'gene', 'GBQualifier_value': 'MX1'}, {'GBQualifier_name': 'gene_synonym', 'GBQualifier_value': 'IFI-78K; IFI78; lncMX1-215; MX; MxA'}, {'GBQualifier_name': 'note', 'GBQualifier_value': 'N-acetylmethionine, in Interferon-induced GTP-binding protein Mx1, alternate. /evidence=ECO:0000269|Ref.9; propagated from UniProtKB/Swiss-Prot (P20591.4); acetylation site'}]}, {'GBFeature_key': 'misc_feature', 'GBFeature_location': '562..585', 'GBFeature_intervals': [{'GBInterval_from': '562', 'GBInterval_to': '585', 'GBInterval_accession': 'NM_002462.5'}], 'GBFeature_quals': [{'GBQualifier_name': 'gene', 'GBQualifier_value': 'MX1'}, {'GBQualifier_name': 'gene_synonym', 'GBQualifier_value': 'IFI-78K; IFI78; lncMX1-215; MX; MxA'}, {'GBQualifier_name': 'note', 'GBQualifier_value': 'propagated from UniProtKB/Swiss-Prot (P20591.4); Region: G1 motif. /evidence=ECO:0000255|PROSITE-ProRule:PRU01055'}]}, {'GBFeature_key': 'misc_feature', 'GBFeature_location': '637..645', 'GBFeature_intervals': [{'GBInterval_from': '637', 'GBInterval_to': '645', 'GBInterval_accession': 'NM_002462.5'}], 'GBFeature_quals': [{'GBQualifier_name': 'gene', 'GBQualifier_value': 'MX1'}, {'GBQualifier_name': 'gene_synonym', 'GBQualifier_value': 'IFI-78K; IFI78; lncMX1-215; MX; MxA'}, {'GBQualifier_name': 'note', 'GBQualifier_value': 'propagated from UniProtKB/Swiss-Prot (P20591.4); Region: G2 motif. /evidence=ECO:0000255|PROSITE-ProRule:PRU01055'}]}, {'GBFeature_key': 'misc_feature', 'GBFeature_location': '865..876', 'GBFeature_intervals': [{'GBInterval_from': '865', 'GBInterval_to': '876', 'GBInterval_accession': 'NM_002462.5'}], 'GBFeature_quals': [{'GBQualifier_name': 'gene', 'GBQualifier_value': 'MX1'}, {'GBQualifier_name': 'gene_synonym', 'GBQualifier_value': 'IFI-78K; IFI78; lncMX1-215; MX; MxA'}, {'GBQualifier_name': 'note', 'GBQualifier_value': 'propagated from UniProtKB/Swiss-Prot (P20591.4); Region: G3 motif. /evidence=ECO:0000255|PROSITE-ProRule:PRU01055'}]}, {'GBFeature_key': 'misc_feature', 'GBFeature_location': '1072..1083', 'GBFeature_intervals': [{'GBInterval_from': '1072', 'GBInterval_to': '1083', 'GBInterval_accession': 'NM_002462.5'}], 'GBFeature_quals': [{'GBQualifier_name': 'gene', 'GBQualifier_value': 'MX1'}, {'GBQualifier_name': 'gene_synonym', 'GBQualifier_value': 'IFI-78K; IFI78; lncMX1-215; MX; MxA'}, {'GBQualifier_name': 'note', 'GBQualifier_value': 'propagated from UniProtKB/Swiss-Prot (P20591.4); Region: G4 motif. /evidence=ECO:0000255|PROSITE-ProRule:PRU01055'}]}, {'GBFeature_key': 'misc_feature', 'GBFeature_location': '1168..1179', 'GBFeature_intervals': [{'GBInterval_from': '1168', 'GBInterval_to': '1179', 'GBInterval_accession': 'NM_002462.5'}], 'GBFeature_quals': [{'GBQualifier_name': 'gene', 'GBQualifier_value': 'MX1'}, {'GBQualifier_name': 'gene_synonym', 'GBQualifier_value': 'IFI-78K; IFI78; lncMX1-215; MX; MxA'}, {'GBQualifier_name': 'note', 'GBQualifier_value': 'propagated from UniProtKB/Swiss-Prot (P20591.4); Region: G5 motif. /evidence=ECO:0000255|PROSITE-ProRule:PRU01055'}]}, {'GBFeature_key': 'misc_feature', 'GBFeature_location': '1354..1431', 'GBFeature_intervals': [{'GBInterval_from': '1354', 'GBInterval_to': '1431', 'GBInterval_accession': 'NM_002462.5'}], 'GBFeature_quals': [{'GBQualifier_name': 'gene', 'GBQualifier_value': 'MX1'}, {'GBQualifier_name': 'gene_synonym', 'GBQualifier_value': 'IFI-78K; IFI78; lncMX1-215; MX; MxA'}, {'GBQualifier_name': 'note', 'GBQualifier_value': 'propagated from UniProtKB/Swiss-Prot (P20591.4); Region: Bundle signaling element (BSE)'}]}, {'GBFeature_key': 'misc_feature', 'GBFeature_location': '1429..1932', 'GBFeature_intervals': [{'GBInterval_from': '1429', 'GBInterval_to': '1932', 'GBInterval_accession': 'NM_002462.5'}], 'GBFeature_quals': [{'GBQualifier_name': 'gene', 'GBQualifier_value': 'MX1'}, {'GBQualifier_name': 'gene_synonym', 'GBQualifier_value': 'IFI-78K; IFI78; lncMX1-215; MX; MxA'}, {'GBQualifier_name': 'note', 'GBQualifier_value': 'propagated from UniProtKB/Swiss-Prot (P20591.4); Region: Middle domain'}]}, {'GBFeature_key': 'misc_feature', 'GBFeature_location': '1432..2229', 'GBFeature_intervals': [{'GBInterval_from': '1432', 'GBInterval_to': '2229', 'GBInterval_accession': 'NM_002462.5'}], 'GBFeature_quals': [{'GBQualifier_name': 'gene', 'GBQualifier_value': 'MX1'}, {'GBQualifier_name': 'gene_synonym', 'GBQualifier_value': 'IFI-78K; IFI78; lncMX1-215; MX; MxA'}, {'GBQualifier_name': 'note', 'GBQualifier_value': 'propagated from UniProtKB/Swiss-Prot (P20591.4); Region: Stalk'}]}, {'GBFeature_key': 'misc_feature', 'GBFeature_location': '1993..2004', 'GBFeature_intervals': [{'GBInterval_from': '1993', 'GBInterval_to': '2004', 'GBInterval_accession': 'NM_002462.5'}], 'GBFeature_quals': [{'GBQualifier_name': 'gene', 'GBQualifier_value': 'MX1'}, {'GBQualifier_name': 'gene_synonym', 'GBQualifier_value': 'IFI-78K; IFI78; lncMX1-215; MX; MxA'}, {'GBQualifier_name': 'note', 'GBQualifier_value': 'propagated from UniProtKB/Swiss-Prot (P20591.4); Region: Critical for lipid-binding'}]}, {'GBFeature_key': 'exon', 'GBFeature_location': '439..631', 'GBFeature_intervals': [{'GBInterval_from': '439', 'GBInterval_to': '631', 'GBInterval_accession': 'NM_002462.5'}], 'GBFeature_quals': [{'GBQualifier_name': 'gene', 'GBQualifier_value': 'MX1'}, {'GBQualifier_name': 'gene_synonym', 'GBQualifier_value': 'IFI-78K; IFI78; lncMX1-215; MX; MxA'}, {'GBQualifier_name': 'inference', 'GBQualifier_value': 'alignment:Splign:2.1.0'}]}, {'GBFeature_key': 'exon', 'GBFeature_location': '632..769', 'GBFeature_intervals': [{'GBInterval_from': '632', 'GBInterval_to': '769', 'GBInterval_accession': 'NM_002462.5'}], 'GBFeature_quals': [{'GBQualifier_name': 'gene', 'GBQualifier_value': 'MX1'}, {'GBQualifier_name': 'gene_synonym', 'GBQualifier_value': 'IFI-78K; IFI78; lncMX1-215; MX; MxA'}, {'GBQualifier_name': 'inference', 'GBQualifier_value': 'alignment:Splign:2.1.0'}]}, {'GBFeature_key': 'exon', 'GBFeature_location': '770..924', 'GBFeature_intervals': [{'GBInterval_from': '770', 'GBInterval_to': '924', 'GBInterval_accession': 'NM_002462.5'}], 'GBFeature_quals': [{'GBQualifier_name': 'gene', 'GBQualifier_value': 'MX1'}, {'GBQualifier_name': 'gene_synonym', 'GBQualifier_value': 'IFI-78K; IFI78; lncMX1-215; MX; MxA'}, {'GBQualifier_name': 'inference', 'GBQualifier_value': 'alignment:Splign:2.1.0'}]}, {'GBFeature_key': 'exon', 'GBFeature_location': '925..1063', 'GBFeature_intervals': [{'GBInterval_from': '925', 'GBInterval_to': '1063', 'GBInterval_accession': 'NM_002462.5'}], 'GBFeature_quals': [{'GBQualifier_name': 'gene', 'GBQualifier_value': 'MX1'}, {'GBQualifier_name': 'gene_synonym', 'GBQualifier_value': 'IFI-78K; IFI78; lncMX1-215; MX; MxA'}, {'GBQualifier_name': 'inference', 'GBQualifier_value': 'alignment:Splign:2.1.0'}]}, {'GBFeature_key': 'exon', 'GBFeature_location': '1064..1262', 'GBFeature_intervals': [{'GBInterval_from': '1064', 'GBInterval_to': '1262', 'GBInterval_accession': 'NM_002462.5'}], 'GBFeature_quals': [{'GBQualifier_name': 'gene', 'GBQualifier_value': 'MX1'}, {'GBQualifier_name': 'gene_synonym', 'GBQualifier_value': 'IFI-78K; IFI78; lncMX1-215; MX; MxA'}, {'GBQualifier_name': 'inference', 'GBQualifier_value': 'alignment:Splign:2.1.0'}]}, {'GBFeature_key': 'exon', 'GBFeature_location': '1263..1341', 'GBFeature_intervals': [{'GBInterval_from': '1263', 'GBInterval_to': '1341', 'GBInterval_accession': 'NM_002462.5'}], 'GBFeature_quals': [{'GBQualifier_name': 'gene', 'GBQualifier_value': 'MX1'}, {'GBQualifier_name': 'gene_synonym', 'GBQualifier_value': 'IFI-78K; IFI78; lncMX1-215; MX; MxA'}, {'GBQualifier_name': 'inference', 'GBQualifier_value': 'alignment:Splign:2.1.0'}]}, {'GBFeature_key': 'exon', 'GBFeature_location': '1342..1464', 'GBFeature_intervals': [{'GBInterval_from': '1342', 'GBInterval_to': '1464', 'GBInterval_accession': 'NM_002462.5'}], 'GBFeature_quals': [{'GBQualifier_name': 'gene', 'GBQualifier_value': 'MX1'}, {'GBQualifier_name': 'gene_synonym', 'GBQualifier_value': 'IFI-78K; IFI78; lncMX1-215; MX; MxA'}, {'GBQualifier_name': 'inference', 'GBQualifier_value': 'alignment:Splign:2.1.0'}]}, {'GBFeature_key': 'exon', 'GBFeature_location': '1465..1606', 'GBFeature_intervals': [{'GBInterval_from': '1465', 'GBInterval_to': '1606', 'GBInterval_accession': 'NM_002462.5'}], 'GBFeature_quals': [{'GBQualifier_name': 'gene', 'GBQualifier_value': 'MX1'}, {'GBQualifier_name': 'gene_synonym', 'GBQualifier_value': 'IFI-78K; IFI78; lncMX1-215; MX; MxA'}, {'GBQualifier_name': 'inference', 'GBQualifier_value': 'alignment:Splign:2.1.0'}]}, {'GBFeature_key': 'exon', 'GBFeature_location': '1607..1765', 'GBFeature_intervals': [{'GBInterval_from': '1607', 'GBInterval_to': '1765', 'GBInterval_accession': 'NM_002462.5'}], 'GBFeature_quals': [{'GBQualifier_name': 'gene', 'GBQualifier_value': 'MX1'}, {'GBQualifier_name': 'gene_synonym', 'GBQualifier_value': 'IFI-78K; IFI78; lncMX1-215; MX; MxA'}, {'GBQualifier_name': 'inference', 'GBQualifier_value': 'alignment:Splign:2.1.0'}]}, {'GBFeature_key': 'exon', 'GBFeature_location': '1766..1842', 'GBFeature_intervals': [{'GBInterval_from': '1766', 'GBInterval_to': '1842', 'GBInterval_accession': 'NM_002462.5'}], 'GBFeature_quals': [{'GBQualifier_name': 'gene', 'GBQualifier_value': 'MX1'}, {'GBQualifier_name': 'gene_synonym', 'GBQualifier_value': 'IFI-78K; IFI78; lncMX1-215; MX; MxA'}, {'GBQualifier_name': 'inference', 'GBQualifier_value': 'alignment:Splign:2.1.0'}]}, {'GBFeature_key': 'exon', 'GBFeature_location': '1843..2091', 'GBFeature_intervals': [{'GBInterval_from': '1843', 'GBInterval_to': '2091', 'GBInterval_accession': 'NM_002462.5'}], 'GBFeature_quals': [{'GBQualifier_name': 'gene', 'GBQualifier_value': 'MX1'}, {'GBQualifier_name': 'gene_synonym', 'GBQualifier_value': 'IFI-78K; IFI78; lncMX1-215; MX; MxA'}, {'GBQualifier_name': 'inference', 'GBQualifier_value': 'alignment:Splign:2.1.0'}]}, {'GBFeature_key': 'exon', 'GBFeature_location': '2092..2776', 'GBFeature_intervals': [{'GBInterval_from': '2092', 'GBInterval_to': '2776', 'GBInterval_accession': 'NM_002462.5'}], 'GBFeature_quals': [{'GBQualifier_name': 'gene', 'GBQualifier_value': 'MX1'}, {'GBQualifier_name': 'gene_synonym', 'GBQualifier_value': 'IFI-78K; IFI78; lncMX1-215; MX; MxA'}, {'GBQualifier_name': 'inference', 'GBQualifier_value': 'alignment:Splign:2.1.0'}]}, {'GBFeature_key': 'regulatory', 'GBFeature_location': '2756..2761', 'GBFeature_intervals': [{'GBInterval_from': '2756', 'GBInterval_to': '2761', 'GBInterval_accession': 'NM_002462.5'}], 'GBFeature_quals': [{'GBQualifier_name': 'regulatory_class', 'GBQualifier_value': 'polyA_signal_sequence'}, {'GBQualifier_name': 'gene', 'GBQualifier_value': 'MX1'}, {'GBQualifier_name': 'gene_synonym', 'GBQualifier_value': 'IFI-78K; IFI78; lncMX1-215; MX; MxA'}, {'GBQualifier_name': 'note', 'GBQualifier_value': 'hexamer: AATAAA'}]}, {'GBFeature_key': 'polyA_site', 'GBFeature_location': '2776', 'GBFeature_intervals': [{'GBInterval_point': '2776', 'GBInterval_accession': 'NM_002462.5'}], 'GBFeature_quals': [{'GBQualifier_name': 'gene', 'GBQualifier_value': 'MX1'}, {'GBQualifier_name': 'gene_synonym', 'GBQualifier_value': 'IFI-78K; IFI78; lncMX1-215; MX; MxA'}, {'GBQualifier_name': 'note', 'GBQualifier_value': 'major polyA site'}]}], 'GBSeq_sequence': 'gcactccagcactgcgcagggaccgccttggaccgcagttgccggccaggaatcccagtgtcacggtggacacgcctccctcgcgcccttgccgcccacctgctcacccagctcaggggctttggaattctgtggccacactgcgaggagatcggttctgggtcggaggctacaggaagactcccactccctgaaatctggagtgaagaacgccgccatccagccaccattccaaggaggtgcaggagaacagctctgtgataccatttaacttgttgacattacttttatttgaaggaacgtatattagagcttactttgcaaagaaggaagatggttgtttccgaagtggacatcgcaaaagctgatccagctgctgcatcccaccctctattactgaatggagatgctactgtggcccagaaaaatccaggctcggtggctgagaacaacctgtgcagccagtatgaggagaaggtgcgcccctgcatcgacctcattgactccctgcgggctctaggtgtggagcaggacctggccctgccagccatcgccgtcatcggggaccagagctcgggcaagagctccgtgttggaggcactgtcaggagttgcccttcccagaggcagcgggatcgtgaccagatgcccgctggtgctgaaactgaagaaacttgtgaacgaagataagtggagaggcaaggtcagttaccaggactacgagattgagatttcggatgcttcagaggtagaaaaggaaattaataaagcccagaatgccatcgccggggaaggaatgggaatcagtcatgagctaatcaccctggagatcagctcccgagatgtcccggatctgactctaatagaccttcctggcataaccagagtggctgtgggcaatcagcctgctgacattgggtataagatcaagacactcatcaagaagtacatccagaggcaggagacaatcagcctggtggtggtccccagtaatgtggacatcgccaccacagaggctctcagcatggcccaggaggtggaccccgagggagacaggaccatcggaatcttgacgaagcctgatctggtggacaaaggaactgaagacaaggttgtggacgtggtgcggaacctcgtgttccacctgaagaagggttacatgattgtcaagtgccggggccagcaggagatccaggaccagctgagcctgtccgaagccctgcagagagagaagatcttctttgagaaccacccatatttcagggatctgctggaggaaggaaaggccacggttccctgcctggcagaaaaacttaccagcgagctcatcacacatatctgtaaatctctgcccctgttagaaaatcaaatcaaggagactcaccagagaataacagaggagctacaaaagtatggtgtcgacataccggaagacgaaaatgaaaaaatgttcttcctgatagataaagttaatgcctttaatcaggacatcactgctctcatgcaaggagaggaaactgtaggggaggaagacattcggctgtttaccagactccgacacgagttccacaaatggagtacaataattgaaaacaattttcaagaaggccataaaattttgagtagaaaaatccagaaatttgaaaatcagtatcgtggtagagagctgccaggctttgtgaattacaggacatttgagacaatcgtgaaacagcaaatcaaggcactggaagagccggctgtggatatgctacacaccgtgacggatatggtccggcttgctttcacagatgtttcgataaaaaattttgaagagttttttaacctccacagaaccgccaagtccaaaattgaagacattagagcagaacaagagagagaaggtgagaagctgatccgcctccacttccagatggaacagattgtctactgccaggaccaggtatacaggggtgcattgcagaaggtcagagagaaggagctggaagaagaaaagaagaagaaatcctgggattttggggctttccagtccagctcggcaacagactcttccatggaggagatctttcagcacctgatggcctatcaccaggaggccagcaagcgcatctccagccacatccctttgatcatccagttcttcatgctccagacgtacggccagcagcttcagaaggccatgctgcagctcctgcaggacaaggacacctacagctggctcctgaaggagcggagcgacaccagcgacaagcggaagttcctgaaggagcggcttgcacggctgacgcaggctcggcgccggcttgcccagttccccggttaaccacactctgtccagccccgtagacgtgcacgcacactgtctgcccccgttcccgggtagccactggactgacgacttgagtgctcagtagtcagactggatagtccgtctctgcttatccgttagccgtggtgatttagcaggaagctgtgagagcagtttggtttctagcatgaagacagagccccaccctcagatgcacatgagctggcgggattgaaggatgctgtcttcgtactgggaaagggattttcagccctcagaatcgctccaccttgcagctctccccttctctgtattcctagaaactgacacatgctgaacatcacagcttatttcctcatttttataatgtcccttcacaaacccagtgttttaggagcatgagtgccgtgtgtgtgcgtcctgtcggagccctgtctcctctctctgtaataaactcatttctagcaga'}]]\n"
     ]
    }
   ],
   "metadata": {}
  },
  {
   "cell_type": "code",
   "execution_count": 86,
   "source": [
    "#Create a dictionary with the genbank results\n",
    "\n",
    "\n",
    "def find_taxon(list_feature_table):\n",
    "    taxon = ''\n",
    "    for feature in list_feature_table:\n",
    "        if feature['GBFeature_key'] == 'source':\n",
    "            source_wrap = feature['GBFeature_quals']\n",
    "            for qualifier in source_wrap:\n",
    "                if qualifier['GBQualifier_name'] == 'db_xref' and qualifier['GBQualifier_value'].startswith('taxon'):\n",
    "                    taxon += (qualifier['GBQualifier_value'])\n",
    "    return taxon    \n",
    "\n",
    "def find_prot_id(list_feat_table):\n",
    "    prot_id = ''\n",
    "    for feature in list_feat_table:\n",
    "        if feature['GBFeature_key'] == 'CDS':\n",
    "            wrapper = feature['GBFeature_quals']\n",
    "            for qualifier in wrapper:\n",
    "                if qualifier['GBQualifier_name'] == 'protein_id':\n",
    "                    prot_id += qualifier['GBQualifier_value']\n",
    "    return prot_id\n",
    "\n",
    "def find_prot_seq(list_feat_table):\n",
    "    prot_seq = ''\n",
    "    for feature in list_feat_table:\n",
    "        if feature['GBFeature_key'] == 'CDS':\n",
    "            wrapper = feature['GBFeature_quals']\n",
    "            for qualifier in wrapper:\n",
    "                if qualifier['GBQualifier_name'] == 'translation':\n",
    "                    prot_seq += qualifier['GBQualifier_value']\n",
    "    return prot_seq\n",
    "\n",
    "\n",
    "def genbank_to_dictionary(list_of_genbank):\n",
    "    dictionary_gen = {'Primary_accession' : [], 'Accession_version': [], 'Gene_length' : [], 'Strandedness': [], 'Molecule_type':[], 'Organism':[], 'Taxonomy':[],\n",
    "    'Nuc_sequence':[], 'Taxon':[], 'Protein_ID':[], 'Prot_sequence':[]} #'N_of_references':[]\n",
    "    for gen in list_of_genbank:\n",
    "        first_wrapper = gen[0]\n",
    "        dictionary_gen['Primary_accession'].append(first_wrapper['GBSeq_primary-accession'])\n",
    "        dictionary_gen['Accession_version'].append(first_wrapper['GBSeq_accession-version'])\n",
    "        dictionary_gen['Gene_length'].append(first_wrapper['GBSeq_length'])\n",
    "        dictionary_gen['Strandedness'].append(first_wrapper['GBSeq_strandedness'])\n",
    "        dictionary_gen['Molecule_type'].append(first_wrapper['GBSeq_moltype'])\n",
    "        dictionary_gen['Organism'].append(first_wrapper['GBSeq_organism'])\n",
    "        dictionary_gen['Taxonomy'].append(first_wrapper['GBSeq_taxonomy'])\n",
    "        #dictionary_gen['N_of_references'].append(len(first_wrapper['GBSeq_references']))\n",
    "        dictionary_gen['Nuc_sequence'].append(first_wrapper['GBSeq_sequence'])\n",
    "        dictionary_gen['Taxon'].append(find_taxon(first_wrapper['GBSeq_feature-table']))\n",
    "        dictionary_gen['Protein_ID'].append(find_prot_id(first_wrapper['GBSeq_feature-table']))\n",
    "        dictionary_gen['Prot_sequence'].append(find_prot_seq(first_wrapper['GBSeq_feature-table']))\n",
    "    return dictionary_gen\n",
    "\n",
    "\n",
    "genbank_dict = genbank_to_dictionary(genbank_file_stack)\n",
    "print(genbank_dict)\n",
    "        \n"
   ],
   "outputs": [
    {
     "output_type": "stream",
     "name": "stdout",
     "text": [
      "{'Primary_accession': ['JX297238', 'XM_005260982', 'NM_002462'], 'Accession_version': ['JX297238.1', 'XM_005260982.2', 'NM_002462.5'], 'Gene_length': ['1986', '2731', '2776'], 'Strandedness': ['single', 'single', 'single'], 'Molecule_type': ['mRNA', 'mRNA', 'mRNA'], 'Organism': ['Macaca sylvanus', 'Homo sapiens', 'Homo sapiens'], 'Taxonomy': ['Eukaryota; Metazoa; Chordata; Craniata; Vertebrata; Euteleostomi; Mammalia; Eutheria; Euarchontoglires; Primates; Haplorrhini; Catarrhini; Cercopithecidae; Cercopithecinae; Macaca', 'Eukaryota; Metazoa; Chordata; Craniata; Vertebrata; Euteleostomi; Mammalia; Eutheria; Euarchontoglires; Primates; Haplorrhini; Catarrhini; Hominidae; Homo', 'Eukaryota; Metazoa; Chordata; Craniata; Vertebrata; Euteleostomi; Mammalia; Eutheria; Euarchontoglires; Primates; Haplorrhini; Catarrhini; Hominidae; Homo'], 'Nuc_sequence': ['atggttgtttccgaagtggacattgtaaaagctgatccagctgctgcatcccaacctctattactgaatggagatgctgacgtggcccagaaaagtccgggctcggtggctgagaacaacctgtgcagccagtatgaggagaaggtgcgcccctgcatcgacctcatcgactccctgcgggctctgggtgtggagcaggacctggccctgccggccatcgccgtcatcggggaccagagctcgggcaagagctctgtgttggaggcactgtcaggagttgcccttcccagaggcagtgggatcgtgactagatgcccgctggtgctgaaactgaagaaacttgtgaacgaagatgagtggagaggcaaggtcagttaccaggactacgagattgagattttggatgcttcagaggtagaagaggaaattaataaagcccagaataccatcgccggggaaggaatgggaatcagtcatgagctaattaccctggagatcagctcccgagatgtcccagatctgactctaatagaccttcctgggataaccagagtggctgtgggcaatcaacctcctgacattgggtataagatcaagacactcatcaggaagtacatccagaggcaggagacgatcaacctggtggtggtccccagtaatgtggacatcgccaccacagaggcactgagcatggcccaggaggtggaccccgagggagacaggaccatcggaatcttgacgaagcctgatctggtggacaaaggaactgaagacaaggtcgtggatgtggtgcggaacctcgtgttccacctgaagaagggctacatgatcgtcaagtgccgcggccagcaggagatccaggaccagctgagcctgtccgaagccctgcagagagagaagatcttctttgaggtccacccacatttcagggatctgctggaggaaggcaaggccacgattccctgcctggcagagaaacttaccagcgagctcattgcacatatctgtaaatctctgccgctgttagaaaatcaaatcaaggagagtcaccagggaataacagaggagctacaaaagtatggtgtcgacataccggaagatgaaaatgaaaaaatgttctttctgatagacaaaattaatgcctttaatcaggacatcactgctctcatacaaggggaggaaactgtaggggaagatgacagccgactgtttaccagactccgacgtgagttccacaaatggggtataataattgaaaacaatttgcaagaaggccataaaattacgagtagaaaaatgcagaaatttgaaaatcagtatcgtggtagagagctgccaggctttgtgaattacaggacatttgagacaatcgtaaaacagcaaatcaaggcgctggaagagccagctgtgaatatgctacacaccgtgacggatatggtccggcttgctttcacagatgtttcaatgaaaaattttgaagaactttttaatctccacagaaccgccaagtccaaaatcgaagacattagaacagaacaagagagagaaggtgagaagctgatccgcctccacttccagatggagcagattgtctactgccaggaccaggtatacaggggtgccttgcagaaggtcagagagaaggagctggaagaagaaaagaagaagaaatcctgggatgtggggactttccagtcctcctcgacagactcttccatggaggagatctttcagcacctgatggcctatcaccaggaggccagcaagcgcatctccagccacatccctttgatcatccagttcttcatgctccagacatatggccagcagcttcagaaggccatgctgcagctcctgcaggacaaggacacctatagctggctcctgaaggagcggagcgacaccagcgacaagcggaagttcctgaaggagcggcttgcaaggctgacgcaagctcggcgccggctcgcccagttccccggttaa', 'gcggggtgaaagaggcgaagcgagagcggaggccgcactccagcactgcgcagggaccggaattctgtggccacactgcgaggagatcggttctgggtcggaggctacaggaagactcccactccctgaaatctggagtgaagaacgccgccatccagccaccattccaaggaggtgcaggagaacagctctgtgataccatttaacttgttgacattacttttatttgaaggaacgtatattagaggcatctgctttattttaagcttactttgcaaagaaggaagatggttgtttccgaagtggacatcgcaaaagctgatccagctgctgcatcccaccctctattactgaatggagatgctactgtggcccagaaaaatccaggctcggtggctgagaacaacctgtgcagccagtatgaggagaaggtgcgcccctgcatcgacctcattgactccctgcgggctctaggtgtggagcaggacctggccctgccagccatcgccgtcatcggggaccagagctcgggcaagagctccgtgttggaggcactgtcaggagttgcccttcccagaggcagcgggatcgtgaccagatgcccgctggtgctgaaactgaagaaacttgtgaacgaagataagtggagaggcaaggtcagttaccaggactacgagattgagatttcggatgcttcagaggtagaaaaggaaattaataaagcccagaatgccatcgccggggaaggaatgggaatcagtcatgagctaatcaccctggagatcagctcccgagatgtcccggatctgactctaatagaccttcctggcataaccagagtggctgtgggcaatcagcctgctgacattgggtataagatcaagacactcatcaagaagtacatccagaggcaggagacaatcagcctggtggtggtccccagtaatgtggacatcgccaccacagaggctctcagcatggcccaggaggtggaccccgagggagacaggaccatcggaatcttgacgaagcctgatctggtggacaaaggaactgaagacaaggttgtggacgtggtgcggaacctcgtgttccacctgaagaagggttacatgattgtcaagtgccggggccagcaggagatccaggaccagctgagcctgtccgaagccctgcagagagagaagatcttctttgagaaccacccatatttcagggatctgctggaggaaggaaaggccacggttccctgcctggcagaaaaacttaccagcgagctcatcacacatatctgtaaatctctgcccctgttagaaaatcaaatcaaggagactcaccagagaataacagaggagctacaaaagtatggtgtcgacataccggaagacgaaaatgaaaaaatgttcttcctgatagataaagttaatgcctttaatcaggacatcactgctctcatgcaaggagaggaaactgtaggggaggaagacattcggctgtttaccagactccgacacgagttccacaaatggagtacaataattgaaaacaattttcaagaaggccataaaattttgagtagaaaaatccagaaatttgaaaatcagtatcgtggtagagagctgccaggctttgtgaattacaggacatttgagacaatcgtgaaacagcaaatcaaggcactggaagagccggctgtggatatgctacacaccgtgacggatatggtccggcttgctttcacagatgtttcgataaaaaattttgaagagttttttaacctccacagaaccgccaagtccaaaattgaagacattagagcagaacaagagagagaaggtgagaagctgatccgcctccacttccagatggaacagattgtctactgccaggaccaggtatacaggggtgcattgcagaaggtcagagagaaggagctggaagaagaaaagaagaagaaatcctgggattttggggctttccagtccagctcggcaacagactcttccatggaggagatctttcagcacctgatggcctatcaccaggaggccagcaagcgcatctccagccacatccctttgatcatccagttcttcatgctccagacgtacggccagcagcttcagaaggccatgctgcagctcctgcaggacaaggacacctacagctggctcctgaaggagcggagcgacaccagcgacaagcggaagttcctgaaggagcggcttgcacggctgacgcaggctcggcgccggcttgcccagttccccggttaaccacactctgtccagccccgtagacgtgcacgcacactgtctgcccccgttcccgggtagccactggactgacgacttgagtgctcagtagtcagactggatagtccgtctctgcttatccgttagccgtggtgatttagcaggaagctgtgagagcagtttggtttctagcatgaagacagagccccaccctcagatgcacatgagctggcgggattgaaggatgctgtcttcgtactgggaaagggattttcagccctcagaatcgctccaccttgcagctctccccttctctgtattcctagaaactgacacatgctgaacatcacagcttatttcctcatttttataatgtcccttcacaaacccagtgttttaggagcatgagtgccgtgtgtgtgcgtcctgtcggagccctgtctcctctctctgtaataaactcatttctagcagac', 'gcactccagcactgcgcagggaccgccttggaccgcagttgccggccaggaatcccagtgtcacggtggacacgcctccctcgcgcccttgccgcccacctgctcacccagctcaggggctttggaattctgtggccacactgcgaggagatcggttctgggtcggaggctacaggaagactcccactccctgaaatctggagtgaagaacgccgccatccagccaccattccaaggaggtgcaggagaacagctctgtgataccatttaacttgttgacattacttttatttgaaggaacgtatattagagcttactttgcaaagaaggaagatggttgtttccgaagtggacatcgcaaaagctgatccagctgctgcatcccaccctctattactgaatggagatgctactgtggcccagaaaaatccaggctcggtggctgagaacaacctgtgcagccagtatgaggagaaggtgcgcccctgcatcgacctcattgactccctgcgggctctaggtgtggagcaggacctggccctgccagccatcgccgtcatcggggaccagagctcgggcaagagctccgtgttggaggcactgtcaggagttgcccttcccagaggcagcgggatcgtgaccagatgcccgctggtgctgaaactgaagaaacttgtgaacgaagataagtggagaggcaaggtcagttaccaggactacgagattgagatttcggatgcttcagaggtagaaaaggaaattaataaagcccagaatgccatcgccggggaaggaatgggaatcagtcatgagctaatcaccctggagatcagctcccgagatgtcccggatctgactctaatagaccttcctggcataaccagagtggctgtgggcaatcagcctgctgacattgggtataagatcaagacactcatcaagaagtacatccagaggcaggagacaatcagcctggtggtggtccccagtaatgtggacatcgccaccacagaggctctcagcatggcccaggaggtggaccccgagggagacaggaccatcggaatcttgacgaagcctgatctggtggacaaaggaactgaagacaaggttgtggacgtggtgcggaacctcgtgttccacctgaagaagggttacatgattgtcaagtgccggggccagcaggagatccaggaccagctgagcctgtccgaagccctgcagagagagaagatcttctttgagaaccacccatatttcagggatctgctggaggaaggaaaggccacggttccctgcctggcagaaaaacttaccagcgagctcatcacacatatctgtaaatctctgcccctgttagaaaatcaaatcaaggagactcaccagagaataacagaggagctacaaaagtatggtgtcgacataccggaagacgaaaatgaaaaaatgttcttcctgatagataaagttaatgcctttaatcaggacatcactgctctcatgcaaggagaggaaactgtaggggaggaagacattcggctgtttaccagactccgacacgagttccacaaatggagtacaataattgaaaacaattttcaagaaggccataaaattttgagtagaaaaatccagaaatttgaaaatcagtatcgtggtagagagctgccaggctttgtgaattacaggacatttgagacaatcgtgaaacagcaaatcaaggcactggaagagccggctgtggatatgctacacaccgtgacggatatggtccggcttgctttcacagatgtttcgataaaaaattttgaagagttttttaacctccacagaaccgccaagtccaaaattgaagacattagagcagaacaagagagagaaggtgagaagctgatccgcctccacttccagatggaacagattgtctactgccaggaccaggtatacaggggtgcattgcagaaggtcagagagaaggagctggaagaagaaaagaagaagaaatcctgggattttggggctttccagtccagctcggcaacagactcttccatggaggagatctttcagcacctgatggcctatcaccaggaggccagcaagcgcatctccagccacatccctttgatcatccagttcttcatgctccagacgtacggccagcagcttcagaaggccatgctgcagctcctgcaggacaaggacacctacagctggctcctgaaggagcggagcgacaccagcgacaagcggaagttcctgaaggagcggcttgcacggctgacgcaggctcggcgccggcttgcccagttccccggttaaccacactctgtccagccccgtagacgtgcacgcacactgtctgcccccgttcccgggtagccactggactgacgacttgagtgctcagtagtcagactggatagtccgtctctgcttatccgttagccgtggtgatttagcaggaagctgtgagagcagtttggtttctagcatgaagacagagccccaccctcagatgcacatgagctggcgggattgaaggatgctgtcttcgtactgggaaagggattttcagccctcagaatcgctccaccttgcagctctccccttctctgtattcctagaaactgacacatgctgaacatcacagcttatttcctcatttttataatgtcccttcacaaacccagtgttttaggagcatgagtgccgtgtgtgtgcgtcctgtcggagccctgtctcctctctctgtaataaactcatttctagcaga'], 'Taxon': ['taxon:9546', 'taxon:9606', 'taxon:9606'], 'Protein_ID': ['AFU81310.1', 'XP_005261039.1', 'NP_002453.2'], 'Prot_sequence': ['MVVSEVDIVKADPAAASQPLLLNGDADVAQKSPGSVAENNLCSQYEEKVRPCIDLIDSLRALGVEQDLALPAIAVIGDQSSGKSSVLEALSGVALPRGSGIVTRCPLVLKLKKLVNEDEWRGKVSYQDYEIEILDASEVEEEINKAQNTIAGEGMGISHELITLEISSRDVPDLTLIDLPGITRVAVGNQPPDIGYKIKTLIRKYIQRQETINLVVVPSNVDIATTEALSMAQEVDPEGDRTIGILTKPDLVDKGTEDKVVDVVRNLVFHLKKGYMIVKCRGQQEIQDQLSLSEALQREKIFFEVHPHFRDLLEEGKATIPCLAEKLTSELIAHICKSLPLLENQIKESHQGITEELQKYGVDIPEDENEKMFFLIDKINAFNQDITALIQGEETVGEDDSRLFTRLRREFHKWGIIIENNLQEGHKITSRKMQKFENQYRGRELPGFVNYRTFETIVKQQIKALEEPAVNMLHTVTDMVRLAFTDVSMKNFEELFNLHRTAKSKIEDIRTEQEREGEKLIRLHFQMEQIVYCQDQVYRGALQKVREKELEEEKKKKSWDVGTFQSSSTDSSMEEIFQHLMAYHQEASKRISSHIPLIIQFFMLQTYGQQLQKAMLQLLQDKDTYSWLLKERSDTSDKRKFLKERLARLTQARRRLAQFPG', 'MVVSEVDIAKADPAAASHPLLLNGDATVAQKNPGSVAENNLCSQYEEKVRPCIDLIDSLRALGVEQDLALPAIAVIGDQSSGKSSVLEALSGVALPRGSGIVTRCPLVLKLKKLVNEDKWRGKVSYQDYEIEISDASEVEKEINKAQNAIAGEGMGISHELITLEISSRDVPDLTLIDLPGITRVAVGNQPADIGYKIKTLIKKYIQRQETISLVVVPSNVDIATTEALSMAQEVDPEGDRTIGILTKPDLVDKGTEDKVVDVVRNLVFHLKKGYMIVKCRGQQEIQDQLSLSEALQREKIFFENHPYFRDLLEEGKATVPCLAEKLTSELITHICKSLPLLENQIKETHQRITEELQKYGVDIPEDENEKMFFLIDKVNAFNQDITALMQGEETVGEEDIRLFTRLRHEFHKWSTIIENNFQEGHKILSRKIQKFENQYRGRELPGFVNYRTFETIVKQQIKALEEPAVDMLHTVTDMVRLAFTDVSIKNFEEFFNLHRTAKSKIEDIRAEQEREGEKLIRLHFQMEQIVYCQDQVYRGALQKVREKELEEEKKKKSWDFGAFQSSSATDSSMEEIFQHLMAYHQEASKRISSHIPLIIQFFMLQTYGQQLQKAMLQLLQDKDTYSWLLKERSDTSDKRKFLKERLARLTQARRRLAQFPG', 'MVVSEVDIAKADPAAASHPLLLNGDATVAQKNPGSVAENNLCSQYEEKVRPCIDLIDSLRALGVEQDLALPAIAVIGDQSSGKSSVLEALSGVALPRGSGIVTRCPLVLKLKKLVNEDKWRGKVSYQDYEIEISDASEVEKEINKAQNAIAGEGMGISHELITLEISSRDVPDLTLIDLPGITRVAVGNQPADIGYKIKTLIKKYIQRQETISLVVVPSNVDIATTEALSMAQEVDPEGDRTIGILTKPDLVDKGTEDKVVDVVRNLVFHLKKGYMIVKCRGQQEIQDQLSLSEALQREKIFFENHPYFRDLLEEGKATVPCLAEKLTSELITHICKSLPLLENQIKETHQRITEELQKYGVDIPEDENEKMFFLIDKVNAFNQDITALMQGEETVGEEDIRLFTRLRHEFHKWSTIIENNFQEGHKILSRKIQKFENQYRGRELPGFVNYRTFETIVKQQIKALEEPAVDMLHTVTDMVRLAFTDVSIKNFEEFFNLHRTAKSKIEDIRAEQEREGEKLIRLHFQMEQIVYCQDQVYRGALQKVREKELEEEKKKKSWDFGAFQSSSATDSSMEEIFQHLMAYHQEASKRISSHIPLIIQFFMLQTYGQQLQKAMLQLLQDKDTYSWLLKERSDTSDKRKFLKERLARLTQARRRLAQFPG']}\n"
     ]
    }
   ],
   "metadata": {}
  },
  {
   "cell_type": "code",
   "execution_count": 85,
   "source": [
    "print(gb_content[0]['GBSeq_locus'])\n",
    "gb_content1 = gb_content[0]\n",
    "reference_list = gb_content1['GBSeq_references']\n",
    "feature_table = gb_content1['GBSeq_feature-table']\n",
    "\n",
    "def count_n_references(list):    \n",
    "    number_refs = len(reference_list)\n",
    "    return number_refs\n",
    "\n",
    "def find_taxon(list_feature_table):\n",
    "    taxon = ''\n",
    "    for feature in list_feature_table:\n",
    "        if feature['GBFeature_key'] == 'source':\n",
    "            print('x')\n",
    "            source_wrap = feature['GBFeature_quals']\n",
    "            for qualifier in source_wrap:\n",
    "                if qualifier['GBQualifier_name'] == 'db_xref' and qualifier['GBQualifier_value'].startswith('taxon'):\n",
    "                    taxon += (f\"{qualifier['GBQualifier_value']} \")\n",
    "    return taxon    \n",
    "\n",
    "\n",
    "def find_prot_id(list_feat_table):\n",
    "    prot_id = ''\n",
    "    for feature in list_feat_table:\n",
    "        if feature['GBFeature_key'] == 'CDS':\n",
    "            wrapper = feature['GBFeature_quals']\n",
    "            for qualifier in wrapper:\n",
    "                if qualifier['GBQualifier_name'] == 'protein_id':\n",
    "                    prot_id += qualifier['GBQualifier_value']\n",
    "    return prot_id\n",
    "\n",
    "def find_prot_seq(list_feat_table):\n",
    "    prot_seq = ''\n",
    "    for feature in list_feat_table:\n",
    "        if feature['GBFeature_key'] == 'CDS':\n",
    "            wrapper = feature['GBFeature_quals']\n",
    "            for qualifier in wrapper:\n",
    "                if qualifier['GBQualifier_name'] == 'translation':\n",
    "                    prot_seq += qualifier['GBQualifier_value']\n",
    "    return prot_seq\n",
    "\n",
    "\n",
    "print(count_n_references(reference_list))\n",
    "print(reference_list[0]['GBReference_xref'][0]['GBXref_id']) #!!! Not all the files have the dois or are uniformely formatted\n",
    "print(gb_content1['GBSeq_organism'])\n",
    "\n",
    "print(find_taxon(feature_table))\n",
    "print(find_prot_id(feature_table))\n",
    "print(find_prot_seq(feature_table))"
   ],
   "outputs": [
    {
     "output_type": "stream",
     "name": "stdout",
     "text": [
      "JX297238\n",
      "2\n",
      "10.1016/j.chom.2012.09.005\n",
      "Macaca sylvanus\n",
      "x\n",
      "taxon:9546 \n",
      "AFU81310.1\n",
      "MVVSEVDIVKADPAAASQPLLLNGDADVAQKSPGSVAENNLCSQYEEKVRPCIDLIDSLRALGVEQDLALPAIAVIGDQSSGKSSVLEALSGVALPRGSGIVTRCPLVLKLKKLVNEDEWRGKVSYQDYEIEILDASEVEEEINKAQNTIAGEGMGISHELITLEISSRDVPDLTLIDLPGITRVAVGNQPPDIGYKIKTLIRKYIQRQETINLVVVPSNVDIATTEALSMAQEVDPEGDRTIGILTKPDLVDKGTEDKVVDVVRNLVFHLKKGYMIVKCRGQQEIQDQLSLSEALQREKIFFEVHPHFRDLLEEGKATIPCLAEKLTSELIAHICKSLPLLENQIKESHQGITEELQKYGVDIPEDENEKMFFLIDKINAFNQDITALIQGEETVGEDDSRLFTRLRREFHKWGIIIENNLQEGHKITSRKMQKFENQYRGRELPGFVNYRTFETIVKQQIKALEEPAVNMLHTVTDMVRLAFTDVSMKNFEELFNLHRTAKSKIEDIRTEQEREGEKLIRLHFQMEQIVYCQDQVYRGALQKVREKELEEEKKKKSWDVGTFQSSSTDSSMEEIFQHLMAYHQEASKRISSHIPLIIQFFMLQTYGQQLQKAMLQLLQDKDTYSWLLKERSDTSDKRKFLKERLARLTQARRRLAQFPG\n"
     ]
    }
   ],
   "metadata": {}
  },
  {
   "cell_type": "code",
   "execution_count": null,
   "source": [],
   "outputs": [],
   "metadata": {}
  },
  {
   "cell_type": "code",
   "execution_count": null,
   "source": [
    "#\n",
    "#\n",
    "#\n",
    "#Function to find sequences by taxid, Function to deal w multiple hsps, function to align and create a matrix\n",
    "#\n",
    "#\n",
    "#"
   ],
   "outputs": [],
   "metadata": {}
  },
  {
   "cell_type": "code",
   "execution_count": null,
   "source": [
    "#Function to write a 'fasta' file with the sequences to align"
   ],
   "outputs": [],
   "metadata": {}
  },
  {
   "cell_type": "code",
   "execution_count": null,
   "source": [],
   "outputs": [],
   "metadata": {}
  },
  {
   "cell_type": "code",
   "execution_count": null,
   "source": [],
   "outputs": [],
   "metadata": {}
  },
  {
   "cell_type": "code",
   "execution_count": null,
   "source": [
    "#NEXT!!! MULTIPLE ALIGNMENT + PRODUCING PHYLOGENETIC TREE\n",
    "\n",
    "#Probably best uning ClustalW from the command line"
   ],
   "outputs": [],
   "metadata": {}
  },
  {
   "cell_type": "code",
   "execution_count": null,
   "source": [
    "#Multiple alignment \n",
    "import Bio.AlignIO\n"
   ],
   "outputs": [],
   "metadata": {}
  },
  {
   "cell_type": "code",
   "execution_count": null,
   "source": [],
   "outputs": [],
   "metadata": {}
  },
  {
   "cell_type": "code",
   "execution_count": null,
   "source": [],
   "outputs": [],
   "metadata": {}
  },
  {
   "cell_type": "code",
   "execution_count": null,
   "source": [
    "#To retrieve fasta files of the hits? \n",
    "import urllib.request\n",
    "url = 'https://www.uniprot.org/uniprot/Q9LZP9.fasta'\n",
    "urllib.request.urlretrieve(url, \"chain_N.faa\")\n"
   ],
   "outputs": [],
   "metadata": {}
  },
  {
   "cell_type": "code",
   "execution_count": null,
   "source": [],
   "outputs": [],
   "metadata": {}
  },
  {
   "cell_type": "code",
   "execution_count": null,
   "source": [
    "#Entrez read must be open in binary!\n",
    ">>> from Bio import Entrez\n",
    ">>> handle = open(\"Entrez/esearch1.xml\", \"rb\")  # opened in binary mode\n",
    ">>> record = Entrez.read(handle)\n",
    ">>> print(record['QueryTranslation'])\n",
    "biopython[All Fields]\n",
    ">>> handle.close()"
   ],
   "outputs": [],
   "metadata": {}
  }
 ],
 "metadata": {
  "orig_nbformat": 4,
  "language_info": {
   "name": "python",
   "version": "3.9.5",
   "mimetype": "text/x-python",
   "codemirror_mode": {
    "name": "ipython",
    "version": 3
   },
   "pygments_lexer": "ipython3",
   "nbconvert_exporter": "python",
   "file_extension": ".py"
  },
  "kernelspec": {
   "name": "python3",
   "display_name": "Python 3.9.5 64-bit"
  },
  "interpreter": {
   "hash": "aee8b7b246df8f9039afb4144a1f6fd8d2ca17a180786b69acc140d282b71a49"
  }
 },
 "nbformat": 4,
 "nbformat_minor": 2
}