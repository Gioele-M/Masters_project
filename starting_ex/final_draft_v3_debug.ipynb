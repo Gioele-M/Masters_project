{
 "cells": [
  {
   "cell_type": "code",
   "execution_count": 1,
   "source": [
    "import os\n",
    "from sys import stderr, stdout\n",
    "import tempfile\n",
    "import subprocess\n",
    "from warnings import catch_warnings\n",
    "import pandas as pd\n",
    "import numpy as np\n",
    "from Bio import SeqIO, SeqRecord, Seq, SearchIO, AlignIO, Phylo\n",
    "from Bio.Blast import NCBIWWW, NCBIXML\n",
    "import Bio.Entrez\n",
    "from Bio.Phylo.TreeConstruction import DistanceCalculator,DistanceTreeConstructor\n",
    "from pandas.core import construction\n",
    "from pandas.core.frame import DataFrame\n"
   ],
   "outputs": [],
   "metadata": {}
  },
  {
   "cell_type": "code",
   "execution_count": 2,
   "source": [
    "#Function to open fasta file of imput\n",
    "def open_fasta(filename) -> SeqRecord:\n",
    "    with open(filename) as handle:\n",
    "        sequence_record = SeqIO.read(handle, 'fasta')\n",
    "    return sequence_record\n",
    "\n",
    "\n",
    "#Function to run BLAST with taxid list\n",
    "def blastp_with_list(sequence, list_taxid = [], query_size = 200):\n",
    "    result_handler, result_storer = None, None\n",
    "    #If list is empty run query without specific taxid\n",
    "    if len(list_taxid) <1:\n",
    "        result_handler = NCBIWWW.qblast('blastp', 'protein', sequence, hitlist_size=query_size)\n",
    "        result_storer = result_handler.read()\n",
    "    #Prepare string of Entrez and parse it to qblast\n",
    "    else:\n",
    "        entrez_query = ''\n",
    "        for taxid in list_taxid:\n",
    "            entrez_query += f'txid{taxid}[ORGN]'\n",
    "            if taxid != list_taxid[-1]:\n",
    "                entrez_query += ' OR '\n",
    "        result_handler = NCBIWWW.qblast('blastp', 'nr', sequence, entrez_query= entrez_query, hitlist_size=query_size)\n",
    "        result_storer = result_handler.read()\n",
    "    return result_storer"
   ],
   "outputs": [],
   "metadata": {}
  },
  {
   "cell_type": "code",
   "execution_count": 3,
   "source": [
    "fasta_record = open_fasta('sry_protein.fasta')\n",
    "blast_results = blastp_with_list(fasta_record.seq, query_size=100, list_taxid=[])"
   ],
   "outputs": [],
   "metadata": {}
  },
  {
   "cell_type": "code",
   "execution_count": 4,
   "source": [
    "blast_results"
   ],
   "outputs": [
    {
     "output_type": "execute_result",
     "data": {
      "text/plain": [
       "'<?xml version=\"1.0\"?>\\n<!DOCTYPE BlastOutput PUBLIC \"-//NCBI//NCBI BlastOutput/EN\" \"http://www.ncbi.nlm.nih.gov/dtd/NCBI_BlastOutput.dtd\">\\n<BlastOutput>\\n  <BlastOutput_program>blastp</BlastOutput_program>\\n  <BlastOutput_version>BLASTP 2.12.0+</BlastOutput_version>\\n  <BlastOutput_reference>Stephen F. Altschul, Thomas L. Madden, Alejandro A. Sch&amp;auml;ffer, Jinghui Zhang, Zheng Zhang, Webb Miller, and David J. Lipman (1997), &quot;Gapped BLAST and PSI-BLAST: a new generation of protein database search programs&quot;, Nucleic Acids Res. 25:3389-3402.</BlastOutput_reference>\\n  <BlastOutput_db>protein</BlastOutput_db>\\n  <BlastOutput_query-ID>Query_4753</BlastOutput_query-ID>\\n  <BlastOutput_query-def>unnamed protein product</BlastOutput_query-def>\\n  <BlastOutput_query-len>204</BlastOutput_query-len>\\n  <BlastOutput_param>\\n    <Parameters>\\n      <Parameters_matrix>BLOSUM62</Parameters_matrix>\\n      <Parameters_expect>10</Parameters_expect>\\n      <Parameters_gap-open>11</Parameters_gap-open>\\n      <Parameters_gap-extend>1</Parameters_gap-extend>\\n      <Parameters_filter>F</Parameters_filter>\\n    </Parameters>\\n  </BlastOutput_param>\\n<BlastOutput_iterations>\\n<Iteration>\\n  <Iteration_iter-num>1</Iteration_iter-num>\\n  <Iteration_query-ID>Query_4753</Iteration_query-ID>\\n  <Iteration_query-def>unnamed protein product</Iteration_query-def>\\n  <Iteration_query-len>204</Iteration_query-len>\\n<Iteration_hits>\\n</Iteration_hits>\\n  <Iteration_stat>\\n    <Statistics>\\n      <Statistics_db-num>0</Statistics_db-num>\\n      <Statistics_db-len>0</Statistics_db-len>\\n      <Statistics_hsp-len>0</Statistics_hsp-len>\\n      <Statistics_eff-space>0</Statistics_eff-space>\\n      <Statistics_kappa>-1</Statistics_kappa>\\n      <Statistics_lambda>-1</Statistics_lambda>\\n      <Statistics_entropy>-1</Statistics_entropy>\\n    </Statistics>\\n  </Iteration_stat>\\n</Iteration>\\n</BlastOutput_iterations>\\n</BlastOutput>\\n'"
      ]
     },
     "metadata": {},
     "execution_count": 4
    }
   ],
   "metadata": {}
  }
 ],
 "metadata": {
  "orig_nbformat": 4,
  "language_info": {
   "name": "python",
   "version": "3.9.5",
   "mimetype": "text/x-python",
   "codemirror_mode": {
    "name": "ipython",
    "version": 3
   },
   "pygments_lexer": "ipython3",
   "nbconvert_exporter": "python",
   "file_extension": ".py"
  },
  "kernelspec": {
   "name": "python3",
   "display_name": "Python 3.9.5 64-bit"
  },
  "interpreter": {
   "hash": "aee8b7b246df8f9039afb4144a1f6fd8d2ca17a180786b69acc140d282b71a49"
  }
 },
 "nbformat": 4,
 "nbformat_minor": 2
}